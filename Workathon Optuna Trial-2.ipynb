{
 "cells": [
  {
   "cell_type": "code",
   "execution_count": 1,
   "metadata": {},
   "outputs": [],
   "source": [
    "import pandas as pd\n",
    "import numpy as np\n",
    "import seaborn as sns\n",
    "import matplotlib.pyplot as plt\n",
    "import scipy.stats as stats\n",
    "%matplotlib inline"
   ]
  },
  {
   "cell_type": "code",
   "execution_count": 2,
   "metadata": {},
   "outputs": [],
   "source": [
    "df_Train=pd.read_csv('Train_New.csv')\n",
    "df_Test=pd.read_csv('Test_New.csv')"
   ]
  },
  {
   "cell_type": "code",
   "execution_count": 3,
   "metadata": {},
   "outputs": [
    {
     "data": {
      "text/html": [
       "<div>\n",
       "<style scoped>\n",
       "    .dataframe tbody tr th:only-of-type {\n",
       "        vertical-align: middle;\n",
       "    }\n",
       "\n",
       "    .dataframe tbody tr th {\n",
       "        vertical-align: top;\n",
       "    }\n",
       "\n",
       "    .dataframe thead th {\n",
       "        text-align: right;\n",
       "    }\n",
       "</style>\n",
       "<table border=\"1\" class=\"dataframe\">\n",
       "  <thead>\n",
       "    <tr style=\"text-align: right;\">\n",
       "      <th></th>\n",
       "      <th>Package Name</th>\n",
       "      <th>Package Type</th>\n",
       "      <th>D1</th>\n",
       "      <th>D2</th>\n",
       "      <th>D3</th>\n",
       "      <th>D4</th>\n",
       "      <th>D5</th>\n",
       "      <th>N1</th>\n",
       "      <th>N2</th>\n",
       "      <th>N3</th>\n",
       "      <th>...</th>\n",
       "      <th>SP12</th>\n",
       "      <th>SP13</th>\n",
       "      <th>SP14</th>\n",
       "      <th>SP15</th>\n",
       "      <th>SP16</th>\n",
       "      <th>SP17</th>\n",
       "      <th>SP18</th>\n",
       "      <th>SP19</th>\n",
       "      <th>Cancellation Rules</th>\n",
       "      <th>Per Person Price</th>\n",
       "    </tr>\n",
       "  </thead>\n",
       "  <tbody>\n",
       "    <tr>\n",
       "      <th>0</th>\n",
       "      <td>422</td>\n",
       "      <td>4</td>\n",
       "      <td>79</td>\n",
       "      <td>118</td>\n",
       "      <td>54</td>\n",
       "      <td>9</td>\n",
       "      <td>30</td>\n",
       "      <td>1</td>\n",
       "      <td>2</td>\n",
       "      <td>2</td>\n",
       "      <td>...</td>\n",
       "      <td>166</td>\n",
       "      <td>136</td>\n",
       "      <td>108</td>\n",
       "      <td>93</td>\n",
       "      <td>65</td>\n",
       "      <td>46</td>\n",
       "      <td>27</td>\n",
       "      <td>18</td>\n",
       "      <td>5</td>\n",
       "      <td>11509.0</td>\n",
       "    </tr>\n",
       "    <tr>\n",
       "      <th>1</th>\n",
       "      <td>1152</td>\n",
       "      <td>3</td>\n",
       "      <td>107</td>\n",
       "      <td>95</td>\n",
       "      <td>90</td>\n",
       "      <td>49</td>\n",
       "      <td>30</td>\n",
       "      <td>1</td>\n",
       "      <td>2</td>\n",
       "      <td>1</td>\n",
       "      <td>...</td>\n",
       "      <td>166</td>\n",
       "      <td>136</td>\n",
       "      <td>108</td>\n",
       "      <td>93</td>\n",
       "      <td>65</td>\n",
       "      <td>46</td>\n",
       "      <td>27</td>\n",
       "      <td>18</td>\n",
       "      <td>0</td>\n",
       "      <td>22485.5</td>\n",
       "    </tr>\n",
       "    <tr>\n",
       "      <th>2</th>\n",
       "      <td>1437</td>\n",
       "      <td>2</td>\n",
       "      <td>113</td>\n",
       "      <td>24</td>\n",
       "      <td>69</td>\n",
       "      <td>49</td>\n",
       "      <td>30</td>\n",
       "      <td>2</td>\n",
       "      <td>1</td>\n",
       "      <td>0</td>\n",
       "      <td>...</td>\n",
       "      <td>166</td>\n",
       "      <td>136</td>\n",
       "      <td>108</td>\n",
       "      <td>93</td>\n",
       "      <td>65</td>\n",
       "      <td>46</td>\n",
       "      <td>27</td>\n",
       "      <td>18</td>\n",
       "      <td>0</td>\n",
       "      <td>12421.5</td>\n",
       "    </tr>\n",
       "    <tr>\n",
       "      <th>3</th>\n",
       "      <td>487</td>\n",
       "      <td>3</td>\n",
       "      <td>71</td>\n",
       "      <td>68</td>\n",
       "      <td>0</td>\n",
       "      <td>33</td>\n",
       "      <td>30</td>\n",
       "      <td>2</td>\n",
       "      <td>1</td>\n",
       "      <td>1</td>\n",
       "      <td>...</td>\n",
       "      <td>166</td>\n",
       "      <td>136</td>\n",
       "      <td>108</td>\n",
       "      <td>93</td>\n",
       "      <td>65</td>\n",
       "      <td>46</td>\n",
       "      <td>27</td>\n",
       "      <td>18</td>\n",
       "      <td>0</td>\n",
       "      <td>35967.0</td>\n",
       "    </tr>\n",
       "    <tr>\n",
       "      <th>4</th>\n",
       "      <td>196</td>\n",
       "      <td>3</td>\n",
       "      <td>86</td>\n",
       "      <td>13</td>\n",
       "      <td>69</td>\n",
       "      <td>49</td>\n",
       "      <td>30</td>\n",
       "      <td>4</td>\n",
       "      <td>3</td>\n",
       "      <td>0</td>\n",
       "      <td>...</td>\n",
       "      <td>166</td>\n",
       "      <td>136</td>\n",
       "      <td>108</td>\n",
       "      <td>93</td>\n",
       "      <td>65</td>\n",
       "      <td>46</td>\n",
       "      <td>27</td>\n",
       "      <td>18</td>\n",
       "      <td>0</td>\n",
       "      <td>25584.0</td>\n",
       "    </tr>\n",
       "  </tbody>\n",
       "</table>\n",
       "<p>5 rows × 49 columns</p>\n",
       "</div>"
      ],
      "text/plain": [
       "   Package Name  Package Type   D1   D2  D3  D4  D5  N1  N2  N3  ...  SP12  \\\n",
       "0           422             4   79  118  54   9  30   1   2   2  ...   166   \n",
       "1          1152             3  107   95  90  49  30   1   2   1  ...   166   \n",
       "2          1437             2  113   24  69  49  30   2   1   0  ...   166   \n",
       "3           487             3   71   68   0  33  30   2   1   1  ...   166   \n",
       "4           196             3   86   13  69  49  30   4   3   0  ...   166   \n",
       "\n",
       "   SP13  SP14  SP15  SP16  SP17  SP18  SP19  Cancellation Rules  \\\n",
       "0   136   108    93    65    46    27    18                   5   \n",
       "1   136   108    93    65    46    27    18                   0   \n",
       "2   136   108    93    65    46    27    18                   0   \n",
       "3   136   108    93    65    46    27    18                   0   \n",
       "4   136   108    93    65    46    27    18                   0   \n",
       "\n",
       "   Per Person Price  \n",
       "0           11509.0  \n",
       "1           22485.5  \n",
       "2           12421.5  \n",
       "3           35967.0  \n",
       "4           25584.0  \n",
       "\n",
       "[5 rows x 49 columns]"
      ]
     },
     "execution_count": 3,
     "metadata": {},
     "output_type": "execute_result"
    }
   ],
   "source": [
    "df_Train.head()"
   ]
  },
  {
   "cell_type": "code",
   "execution_count": 4,
   "metadata": {},
   "outputs": [
    {
     "data": {
      "text/plain": [
       "Package Name          0\n",
       "Package Type          0\n",
       "D1                    0\n",
       "D2                    0\n",
       "D3                    0\n",
       "D4                    0\n",
       "D5                    0\n",
       "N1                    0\n",
       "N2                    0\n",
       "N3                    0\n",
       "N4                    0\n",
       "N5                    0\n",
       "PC1                   0\n",
       "PC2                   0\n",
       "PC3                   0\n",
       "PC4                   0\n",
       "PC5                   0\n",
       "Month                 0\n",
       "Year                  0\n",
       "Hotel Details         0\n",
       "Start City            0\n",
       "A1                    0\n",
       "A2                    0\n",
       "A3                    0\n",
       "A4                    0\n",
       "A5                    0\n",
       "Flight Stops          0\n",
       "Meals                 0\n",
       "SP1                   0\n",
       "SP2                   0\n",
       "SP3                   0\n",
       "SP4                   0\n",
       "SP5                   0\n",
       "SP6                   0\n",
       "SP7                   0\n",
       "SP8                   0\n",
       "SP9                   0\n",
       "SP10                  0\n",
       "SP11                  0\n",
       "SP12                  0\n",
       "SP13                  0\n",
       "SP14                  0\n",
       "SP15                  0\n",
       "SP16                  0\n",
       "SP17                  0\n",
       "SP18                  0\n",
       "SP19                  0\n",
       "Cancellation Rules    0\n",
       "Per Person Price      0\n",
       "dtype: int64"
      ]
     },
     "execution_count": 4,
     "metadata": {},
     "output_type": "execute_result"
    }
   ],
   "source": [
    "df_Train.isnull().sum()"
   ]
  },
  {
   "cell_type": "code",
   "execution_count": 5,
   "metadata": {},
   "outputs": [
    {
     "data": {
      "text/html": [
       "<div>\n",
       "<style scoped>\n",
       "    .dataframe tbody tr th:only-of-type {\n",
       "        vertical-align: middle;\n",
       "    }\n",
       "\n",
       "    .dataframe tbody tr th {\n",
       "        vertical-align: top;\n",
       "    }\n",
       "\n",
       "    .dataframe thead th {\n",
       "        text-align: right;\n",
       "    }\n",
       "</style>\n",
       "<table border=\"1\" class=\"dataframe\">\n",
       "  <thead>\n",
       "    <tr style=\"text-align: right;\">\n",
       "      <th></th>\n",
       "      <th>Package Name</th>\n",
       "      <th>Package Type</th>\n",
       "      <th>D1</th>\n",
       "      <th>D2</th>\n",
       "      <th>D3</th>\n",
       "      <th>D4</th>\n",
       "      <th>D5</th>\n",
       "      <th>N1</th>\n",
       "      <th>N2</th>\n",
       "      <th>N3</th>\n",
       "      <th>...</th>\n",
       "      <th>SP11</th>\n",
       "      <th>SP12</th>\n",
       "      <th>SP13</th>\n",
       "      <th>SP14</th>\n",
       "      <th>SP15</th>\n",
       "      <th>SP16</th>\n",
       "      <th>SP17</th>\n",
       "      <th>SP18</th>\n",
       "      <th>SP19</th>\n",
       "      <th>Cancellation Rules</th>\n",
       "    </tr>\n",
       "  </thead>\n",
       "  <tbody>\n",
       "    <tr>\n",
       "      <th>0</th>\n",
       "      <td>841</td>\n",
       "      <td>2</td>\n",
       "      <td>35</td>\n",
       "      <td>94</td>\n",
       "      <td>69</td>\n",
       "      <td>49</td>\n",
       "      <td>30</td>\n",
       "      <td>5</td>\n",
       "      <td>0</td>\n",
       "      <td>0</td>\n",
       "      <td>...</td>\n",
       "      <td>194</td>\n",
       "      <td>166</td>\n",
       "      <td>136</td>\n",
       "      <td>108</td>\n",
       "      <td>93</td>\n",
       "      <td>65</td>\n",
       "      <td>46</td>\n",
       "      <td>27</td>\n",
       "      <td>18</td>\n",
       "      <td>0</td>\n",
       "    </tr>\n",
       "    <tr>\n",
       "      <th>1</th>\n",
       "      <td>1061</td>\n",
       "      <td>2</td>\n",
       "      <td>10</td>\n",
       "      <td>94</td>\n",
       "      <td>69</td>\n",
       "      <td>49</td>\n",
       "      <td>30</td>\n",
       "      <td>2</td>\n",
       "      <td>0</td>\n",
       "      <td>0</td>\n",
       "      <td>...</td>\n",
       "      <td>194</td>\n",
       "      <td>166</td>\n",
       "      <td>136</td>\n",
       "      <td>108</td>\n",
       "      <td>93</td>\n",
       "      <td>65</td>\n",
       "      <td>46</td>\n",
       "      <td>27</td>\n",
       "      <td>18</td>\n",
       "      <td>9</td>\n",
       "    </tr>\n",
       "    <tr>\n",
       "      <th>2</th>\n",
       "      <td>2127</td>\n",
       "      <td>4</td>\n",
       "      <td>71</td>\n",
       "      <td>94</td>\n",
       "      <td>69</td>\n",
       "      <td>49</td>\n",
       "      <td>30</td>\n",
       "      <td>3</td>\n",
       "      <td>0</td>\n",
       "      <td>0</td>\n",
       "      <td>...</td>\n",
       "      <td>194</td>\n",
       "      <td>166</td>\n",
       "      <td>136</td>\n",
       "      <td>108</td>\n",
       "      <td>93</td>\n",
       "      <td>65</td>\n",
       "      <td>46</td>\n",
       "      <td>27</td>\n",
       "      <td>18</td>\n",
       "      <td>9</td>\n",
       "    </tr>\n",
       "    <tr>\n",
       "      <th>3</th>\n",
       "      <td>1471</td>\n",
       "      <td>1</td>\n",
       "      <td>71</td>\n",
       "      <td>94</td>\n",
       "      <td>69</td>\n",
       "      <td>49</td>\n",
       "      <td>30</td>\n",
       "      <td>3</td>\n",
       "      <td>0</td>\n",
       "      <td>0</td>\n",
       "      <td>...</td>\n",
       "      <td>194</td>\n",
       "      <td>166</td>\n",
       "      <td>136</td>\n",
       "      <td>108</td>\n",
       "      <td>93</td>\n",
       "      <td>65</td>\n",
       "      <td>46</td>\n",
       "      <td>27</td>\n",
       "      <td>18</td>\n",
       "      <td>9</td>\n",
       "    </tr>\n",
       "    <tr>\n",
       "      <th>4</th>\n",
       "      <td>1938</td>\n",
       "      <td>2</td>\n",
       "      <td>21</td>\n",
       "      <td>83</td>\n",
       "      <td>92</td>\n",
       "      <td>1</td>\n",
       "      <td>30</td>\n",
       "      <td>1</td>\n",
       "      <td>2</td>\n",
       "      <td>1</td>\n",
       "      <td>...</td>\n",
       "      <td>194</td>\n",
       "      <td>166</td>\n",
       "      <td>136</td>\n",
       "      <td>108</td>\n",
       "      <td>93</td>\n",
       "      <td>65</td>\n",
       "      <td>46</td>\n",
       "      <td>27</td>\n",
       "      <td>18</td>\n",
       "      <td>0</td>\n",
       "    </tr>\n",
       "  </tbody>\n",
       "</table>\n",
       "<p>5 rows × 48 columns</p>\n",
       "</div>"
      ],
      "text/plain": [
       "   Package Name  Package Type  D1  D2  D3  D4  D5  N1  N2  N3  ...  SP11  \\\n",
       "0           841             2  35  94  69  49  30   5   0   0  ...   194   \n",
       "1          1061             2  10  94  69  49  30   2   0   0  ...   194   \n",
       "2          2127             4  71  94  69  49  30   3   0   0  ...   194   \n",
       "3          1471             1  71  94  69  49  30   3   0   0  ...   194   \n",
       "4          1938             2  21  83  92   1  30   1   2   1  ...   194   \n",
       "\n",
       "   SP12  SP13  SP14  SP15  SP16  SP17  SP18  SP19  Cancellation Rules  \n",
       "0   166   136   108    93    65    46    27    18                   0  \n",
       "1   166   136   108    93    65    46    27    18                   9  \n",
       "2   166   136   108    93    65    46    27    18                   9  \n",
       "3   166   136   108    93    65    46    27    18                   9  \n",
       "4   166   136   108    93    65    46    27    18                   0  \n",
       "\n",
       "[5 rows x 48 columns]"
      ]
     },
     "execution_count": 5,
     "metadata": {},
     "output_type": "execute_result"
    }
   ],
   "source": [
    "df_Test.head()"
   ]
  },
  {
   "cell_type": "code",
   "execution_count": 6,
   "metadata": {},
   "outputs": [
    {
     "name": "stdout",
     "output_type": "stream",
     "text": [
      "(21000, 49)\n",
      "(9000, 48)\n"
     ]
    }
   ],
   "source": [
    "print(df_Train.shape)\n",
    "print(df_Test.shape)"
   ]
  },
  {
   "cell_type": "code",
   "execution_count": 7,
   "metadata": {},
   "outputs": [
    {
     "data": {
      "text/plain": [
       "<matplotlib.axes._subplots.AxesSubplot at 0x29d9e8b7c48>"
      ]
     },
     "execution_count": 7,
     "metadata": {},
     "output_type": "execute_result"
    },
    {
     "data": {
      "image/png": "[encoded data removed]",
      "text/plain": [
       "<Figure size 1152x1152 with 2 Axes>"
      ]
     },
     "metadata": {
      "needs_background": "light"
     },
     "output_type": "display_data"
    }
   ],
   "source": [
    "plt.figure(figsize=(16, 16))\n",
    "sns.heatmap(df_Train.corr())"
   ]
  },
  {
   "cell_type": "code",
   "execution_count": 8,
   "metadata": {},
   "outputs": [],
   "source": [
    "df_Train.drop('PC1', axis=1, inplace=True)\n",
    "df_Train.drop('PC2', axis=1, inplace=True)\n",
    "df_Train.drop('PC3', axis=1, inplace=True)\n",
    "df_Train.drop('PC4', axis=1, inplace=True)\n",
    "df_Train.drop('PC5', axis=1, inplace=True)\n",
    "df_Train.drop('Meals', axis=1, inplace=True)"
   ]
  },
  {
   "cell_type": "code",
   "execution_count": 9,
   "metadata": {},
   "outputs": [],
   "source": [
    "df_Test.drop('PC1', axis=1, inplace=True)\n",
    "df_Test.drop('PC2', axis=1, inplace=True)\n",
    "df_Test.drop('PC3', axis=1, inplace=True)\n",
    "df_Test.drop('PC4', axis=1, inplace=True)\n",
    "df_Test.drop('PC5', axis=1, inplace=True)\n",
    "df_Test.drop('Meals', axis=1, inplace=True)"
   ]
  },
  {
   "cell_type": "code",
   "execution_count": 10,
   "metadata": {},
   "outputs": [
    {
     "data": {
      "text/plain": [
       "<matplotlib.axes._subplots.AxesSubplot at 0x29d9eabf508>"
      ]
     },
     "execution_count": 10,
     "metadata": {},
     "output_type": "execute_result"
    },
    {
     "data": {
      "image/png": "[encoded data removed]",
      "text/plain": [
       "<Figure size 1152x1152 with 2 Axes>"
      ]
     },
     "metadata": {
      "needs_background": "light"
     },
     "output_type": "display_data"
    }
   ],
   "source": [
    "plt.figure(figsize=(16, 16))\n",
    "sns.heatmap(df_Train.corr())"
   ]
  },
  {
   "cell_type": "code",
   "execution_count": 11,
   "metadata": {},
   "outputs": [],
   "source": [
    "df_Train.drop('N5', axis=1, inplace=True)\n",
    "df_Test.drop('N5', axis=1, inplace=True)"
   ]
  },
  {
   "cell_type": "code",
   "execution_count": 12,
   "metadata": {},
   "outputs": [],
   "source": [
    "df_Train.drop('A5', axis=1, inplace=True)\n",
    "df_Test.drop('A5', axis=1, inplace=True)\n",
    "\n",
    "df_Train.drop('Month', axis=1, inplace=True)\n",
    "df_Test.drop('Month', axis=1, inplace=True)"
   ]
  },
  {
   "cell_type": "code",
   "execution_count": 13,
   "metadata": {},
   "outputs": [
    {
     "data": {
      "text/plain": [
       "<matplotlib.axes._subplots.AxesSubplot at 0x29d9ea41288>"
      ]
     },
     "execution_count": 13,
     "metadata": {},
     "output_type": "execute_result"
    },
    {
     "data": {
      "image/png": "[encoded data removed]",
      "text/plain": [
       "<Figure size 1152x1152 with 2 Axes>"
      ]
     },
     "metadata": {
      "needs_background": "light"
     },
     "output_type": "display_data"
    }
   ],
   "source": [
    "plt.figure(figsize=(16, 16))\n",
    "sns.heatmap(df_Train.corr())"
   ]
  },
  {
   "cell_type": "code",
   "execution_count": 14,
   "metadata": {},
   "outputs": [
    {
     "data": {
      "text/html": [
       "<div>\n",
       "<style scoped>\n",
       "    .dataframe tbody tr th:only-of-type {\n",
       "        vertical-align: middle;\n",
       "    }\n",
       "\n",
       "    .dataframe tbody tr th {\n",
       "        vertical-align: top;\n",
       "    }\n",
       "\n",
       "    .dataframe thead th {\n",
       "        text-align: right;\n",
       "    }\n",
       "</style>\n",
       "<table border=\"1\" class=\"dataframe\">\n",
       "  <thead>\n",
       "    <tr style=\"text-align: right;\">\n",
       "      <th></th>\n",
       "      <th>Package Name</th>\n",
       "      <th>Package Type</th>\n",
       "      <th>D1</th>\n",
       "      <th>D2</th>\n",
       "      <th>D3</th>\n",
       "      <th>D4</th>\n",
       "      <th>D5</th>\n",
       "      <th>N1</th>\n",
       "      <th>N2</th>\n",
       "      <th>N3</th>\n",
       "      <th>...</th>\n",
       "      <th>SP12</th>\n",
       "      <th>SP13</th>\n",
       "      <th>SP14</th>\n",
       "      <th>SP15</th>\n",
       "      <th>SP16</th>\n",
       "      <th>SP17</th>\n",
       "      <th>SP18</th>\n",
       "      <th>SP19</th>\n",
       "      <th>Cancellation Rules</th>\n",
       "      <th>Per Person Price</th>\n",
       "    </tr>\n",
       "  </thead>\n",
       "  <tbody>\n",
       "    <tr>\n",
       "      <th>Package Name</th>\n",
       "      <td>1.000000</td>\n",
       "      <td>-0.011703</td>\n",
       "      <td>0.109350</td>\n",
       "      <td>0.042857</td>\n",
       "      <td>0.075756</td>\n",
       "      <td>-0.009267</td>\n",
       "      <td>0.025082</td>\n",
       "      <td>-0.021486</td>\n",
       "      <td>-0.094357</td>\n",
       "      <td>-0.099504</td>\n",
       "      <td>...</td>\n",
       "      <td>0.074190</td>\n",
       "      <td>0.037023</td>\n",
       "      <td>0.019639</td>\n",
       "      <td>0.030578</td>\n",
       "      <td>0.022351</td>\n",
       "      <td>-0.021826</td>\n",
       "      <td>0.009337</td>\n",
       "      <td>0.042957</td>\n",
       "      <td>0.164479</td>\n",
       "      <td>-0.049182</td>\n",
       "    </tr>\n",
       "    <tr>\n",
       "      <th>Package Type</th>\n",
       "      <td>-0.011703</td>\n",
       "      <td>1.000000</td>\n",
       "      <td>-0.008941</td>\n",
       "      <td>-0.006065</td>\n",
       "      <td>-0.014939</td>\n",
       "      <td>-0.027343</td>\n",
       "      <td>-0.028222</td>\n",
       "      <td>-0.009949</td>\n",
       "      <td>0.010939</td>\n",
       "      <td>0.027797</td>\n",
       "      <td>...</td>\n",
       "      <td>0.004066</td>\n",
       "      <td>0.002780</td>\n",
       "      <td>-0.009503</td>\n",
       "      <td>-0.004484</td>\n",
       "      <td>-0.005238</td>\n",
       "      <td>-0.001252</td>\n",
       "      <td>-0.001818</td>\n",
       "      <td>-0.004844</td>\n",
       "      <td>-0.026267</td>\n",
       "      <td>-0.016043</td>\n",
       "    </tr>\n",
       "    <tr>\n",
       "      <th>D1</th>\n",
       "      <td>0.109350</td>\n",
       "      <td>-0.008941</td>\n",
       "      <td>1.000000</td>\n",
       "      <td>-0.108491</td>\n",
       "      <td>-0.090399</td>\n",
       "      <td>0.077653</td>\n",
       "      <td>0.023524</td>\n",
       "      <td>-0.060403</td>\n",
       "      <td>0.094966</td>\n",
       "      <td>0.034301</td>\n",
       "      <td>...</td>\n",
       "      <td>0.031101</td>\n",
       "      <td>0.053788</td>\n",
       "      <td>0.079346</td>\n",
       "      <td>0.082215</td>\n",
       "      <td>0.092419</td>\n",
       "      <td>0.063520</td>\n",
       "      <td>0.062909</td>\n",
       "      <td>0.092605</td>\n",
       "      <td>0.024812</td>\n",
       "      <td>0.002526</td>\n",
       "    </tr>\n",
       "    <tr>\n",
       "      <th>D2</th>\n",
       "      <td>0.042857</td>\n",
       "      <td>-0.006065</td>\n",
       "      <td>-0.108491</td>\n",
       "      <td>1.000000</td>\n",
       "      <td>-0.085245</td>\n",
       "      <td>-0.097042</td>\n",
       "      <td>-0.027974</td>\n",
       "      <td>0.109044</td>\n",
       "      <td>-0.225015</td>\n",
       "      <td>-0.093592</td>\n",
       "      <td>...</td>\n",
       "      <td>0.175529</td>\n",
       "      <td>0.150281</td>\n",
       "      <td>0.153480</td>\n",
       "      <td>0.124662</td>\n",
       "      <td>0.097638</td>\n",
       "      <td>0.058565</td>\n",
       "      <td>0.056443</td>\n",
       "      <td>0.019979</td>\n",
       "      <td>0.156732</td>\n",
       "      <td>-0.116081</td>\n",
       "    </tr>\n",
       "    <tr>\n",
       "      <th>D3</th>\n",
       "      <td>0.075756</td>\n",
       "      <td>-0.014939</td>\n",
       "      <td>-0.090399</td>\n",
       "      <td>-0.085245</td>\n",
       "      <td>1.000000</td>\n",
       "      <td>0.059658</td>\n",
       "      <td>0.086444</td>\n",
       "      <td>0.116597</td>\n",
       "      <td>-0.233686</td>\n",
       "      <td>-0.419672</td>\n",
       "      <td>...</td>\n",
       "      <td>0.082230</td>\n",
       "      <td>0.044297</td>\n",
       "      <td>0.030587</td>\n",
       "      <td>0.019288</td>\n",
       "      <td>-0.022636</td>\n",
       "      <td>-0.023599</td>\n",
       "      <td>0.030483</td>\n",
       "      <td>0.055045</td>\n",
       "      <td>0.173843</td>\n",
       "      <td>-0.129723</td>\n",
       "    </tr>\n",
       "    <tr>\n",
       "      <th>D4</th>\n",
       "      <td>-0.009267</td>\n",
       "      <td>-0.027343</td>\n",
       "      <td>0.077653</td>\n",
       "      <td>-0.097042</td>\n",
       "      <td>0.059658</td>\n",
       "      <td>1.000000</td>\n",
       "      <td>0.245672</td>\n",
       "      <td>0.198120</td>\n",
       "      <td>-0.179799</td>\n",
       "      <td>-0.306813</td>\n",
       "      <td>...</td>\n",
       "      <td>0.071538</td>\n",
       "      <td>0.085515</td>\n",
       "      <td>0.037153</td>\n",
       "      <td>0.032837</td>\n",
       "      <td>0.015043</td>\n",
       "      <td>0.027812</td>\n",
       "      <td>0.019203</td>\n",
       "      <td>0.033471</td>\n",
       "      <td>0.110939</td>\n",
       "      <td>-0.092898</td>\n",
       "    </tr>\n",
       "    <tr>\n",
       "      <th>D5</th>\n",
       "      <td>0.025082</td>\n",
       "      <td>-0.028222</td>\n",
       "      <td>0.023524</td>\n",
       "      <td>-0.027974</td>\n",
       "      <td>0.086444</td>\n",
       "      <td>0.245672</td>\n",
       "      <td>1.000000</td>\n",
       "      <td>0.150428</td>\n",
       "      <td>-0.086082</td>\n",
       "      <td>-0.168609</td>\n",
       "      <td>...</td>\n",
       "      <td>0.022224</td>\n",
       "      <td>0.069023</td>\n",
       "      <td>0.052132</td>\n",
       "      <td>0.022209</td>\n",
       "      <td>0.002062</td>\n",
       "      <td>-0.024407</td>\n",
       "      <td>-0.017956</td>\n",
       "      <td>0.033316</td>\n",
       "      <td>0.077190</td>\n",
       "      <td>-0.153845</td>\n",
       "    </tr>\n",
       "    <tr>\n",
       "      <th>N1</th>\n",
       "      <td>-0.021486</td>\n",
       "      <td>-0.009949</td>\n",
       "      <td>-0.060403</td>\n",
       "      <td>0.109044</td>\n",
       "      <td>0.116597</td>\n",
       "      <td>0.198120</td>\n",
       "      <td>0.150428</td>\n",
       "      <td>1.000000</td>\n",
       "      <td>-0.402293</td>\n",
       "      <td>-0.400065</td>\n",
       "      <td>...</td>\n",
       "      <td>0.107147</td>\n",
       "      <td>0.106400</td>\n",
       "      <td>0.072086</td>\n",
       "      <td>0.054821</td>\n",
       "      <td>0.031253</td>\n",
       "      <td>0.003259</td>\n",
       "      <td>0.020684</td>\n",
       "      <td>0.019924</td>\n",
       "      <td>0.061920</td>\n",
       "      <td>0.124502</td>\n",
       "    </tr>\n",
       "    <tr>\n",
       "      <th>N2</th>\n",
       "      <td>-0.094357</td>\n",
       "      <td>0.010939</td>\n",
       "      <td>0.094966</td>\n",
       "      <td>-0.225015</td>\n",
       "      <td>-0.233686</td>\n",
       "      <td>-0.179799</td>\n",
       "      <td>-0.086082</td>\n",
       "      <td>-0.402293</td>\n",
       "      <td>1.000000</td>\n",
       "      <td>0.317806</td>\n",
       "      <td>...</td>\n",
       "      <td>-0.225412</td>\n",
       "      <td>-0.193290</td>\n",
       "      <td>-0.139209</td>\n",
       "      <td>-0.131319</td>\n",
       "      <td>-0.126655</td>\n",
       "      <td>-0.103127</td>\n",
       "      <td>-0.082933</td>\n",
       "      <td>-0.062154</td>\n",
       "      <td>-0.374077</td>\n",
       "      <td>0.245148</td>\n",
       "    </tr>\n",
       "    <tr>\n",
       "      <th>N3</th>\n",
       "      <td>-0.099504</td>\n",
       "      <td>0.027797</td>\n",
       "      <td>0.034301</td>\n",
       "      <td>-0.093592</td>\n",
       "      <td>-0.419672</td>\n",
       "      <td>-0.306813</td>\n",
       "      <td>-0.168609</td>\n",
       "      <td>-0.400065</td>\n",
       "      <td>0.317806</td>\n",
       "      <td>1.000000</td>\n",
       "      <td>...</td>\n",
       "      <td>-0.190612</td>\n",
       "      <td>-0.176392</td>\n",
       "      <td>-0.148539</td>\n",
       "      <td>-0.125098</td>\n",
       "      <td>-0.064412</td>\n",
       "      <td>-0.053700</td>\n",
       "      <td>-0.073259</td>\n",
       "      <td>-0.136190</td>\n",
       "      <td>-0.307000</td>\n",
       "      <td>0.286312</td>\n",
       "    </tr>\n",
       "    <tr>\n",
       "      <th>N4</th>\n",
       "      <td>-0.048550</td>\n",
       "      <td>0.025963</td>\n",
       "      <td>0.038056</td>\n",
       "      <td>-0.003841</td>\n",
       "      <td>-0.257069</td>\n",
       "      <td>-0.419244</td>\n",
       "      <td>-0.391532</td>\n",
       "      <td>-0.311066</td>\n",
       "      <td>0.132431</td>\n",
       "      <td>0.420612</td>\n",
       "      <td>...</td>\n",
       "      <td>-0.075393</td>\n",
       "      <td>-0.099471</td>\n",
       "      <td>-0.081430</td>\n",
       "      <td>-0.042400</td>\n",
       "      <td>-0.003675</td>\n",
       "      <td>-0.022684</td>\n",
       "      <td>-0.034825</td>\n",
       "      <td>-0.058567</td>\n",
       "      <td>-0.183995</td>\n",
       "      <td>0.243316</td>\n",
       "    </tr>\n",
       "    <tr>\n",
       "      <th>Year</th>\n",
       "      <td>0.001459</td>\n",
       "      <td>-0.016968</td>\n",
       "      <td>-0.011009</td>\n",
       "      <td>0.016328</td>\n",
       "      <td>-0.003152</td>\n",
       "      <td>0.001803</td>\n",
       "      <td>0.005774</td>\n",
       "      <td>-0.003295</td>\n",
       "      <td>0.005835</td>\n",
       "      <td>0.002348</td>\n",
       "      <td>...</td>\n",
       "      <td>-0.002033</td>\n",
       "      <td>-0.010086</td>\n",
       "      <td>-0.002286</td>\n",
       "      <td>-0.003043</td>\n",
       "      <td>-0.002151</td>\n",
       "      <td>-0.011067</td>\n",
       "      <td>-0.010498</td>\n",
       "      <td>-0.003027</td>\n",
       "      <td>-0.002611</td>\n",
       "      <td>0.006344</td>\n",
       "    </tr>\n",
       "    <tr>\n",
       "      <th>Hotel Details</th>\n",
       "      <td>0.026975</td>\n",
       "      <td>-0.015121</td>\n",
       "      <td>0.032175</td>\n",
       "      <td>0.010245</td>\n",
       "      <td>-0.028232</td>\n",
       "      <td>0.059850</td>\n",
       "      <td>0.017788</td>\n",
       "      <td>0.005596</td>\n",
       "      <td>-0.024314</td>\n",
       "      <td>0.041304</td>\n",
       "      <td>...</td>\n",
       "      <td>-0.009627</td>\n",
       "      <td>-0.042867</td>\n",
       "      <td>-0.048912</td>\n",
       "      <td>-0.047517</td>\n",
       "      <td>-0.058329</td>\n",
       "      <td>-0.050100</td>\n",
       "      <td>-0.037553</td>\n",
       "      <td>-0.042388</td>\n",
       "      <td>-0.027258</td>\n",
       "      <td>0.068165</td>\n",
       "    </tr>\n",
       "    <tr>\n",
       "      <th>Start City</th>\n",
       "      <td>0.020184</td>\n",
       "      <td>-0.002792</td>\n",
       "      <td>-0.006449</td>\n",
       "      <td>0.020560</td>\n",
       "      <td>0.020382</td>\n",
       "      <td>0.022786</td>\n",
       "      <td>0.021089</td>\n",
       "      <td>-0.010329</td>\n",
       "      <td>-0.041886</td>\n",
       "      <td>-0.052873</td>\n",
       "      <td>...</td>\n",
       "      <td>0.038210</td>\n",
       "      <td>0.033003</td>\n",
       "      <td>0.024994</td>\n",
       "      <td>0.016559</td>\n",
       "      <td>0.018818</td>\n",
       "      <td>0.019018</td>\n",
       "      <td>0.010311</td>\n",
       "      <td>0.027659</td>\n",
       "      <td>0.026966</td>\n",
       "      <td>-0.047014</td>\n",
       "    </tr>\n",
       "    <tr>\n",
       "      <th>A1</th>\n",
       "      <td>-0.004896</td>\n",
       "      <td>-0.002398</td>\n",
       "      <td>0.039788</td>\n",
       "      <td>-0.015334</td>\n",
       "      <td>0.017049</td>\n",
       "      <td>-0.010549</td>\n",
       "      <td>0.008008</td>\n",
       "      <td>-0.024554</td>\n",
       "      <td>0.017408</td>\n",
       "      <td>0.004918</td>\n",
       "      <td>...</td>\n",
       "      <td>-0.016384</td>\n",
       "      <td>-0.010868</td>\n",
       "      <td>-0.003487</td>\n",
       "      <td>0.007624</td>\n",
       "      <td>-0.015902</td>\n",
       "      <td>-0.014433</td>\n",
       "      <td>0.001871</td>\n",
       "      <td>-0.013062</td>\n",
       "      <td>0.011036</td>\n",
       "      <td>-0.069849</td>\n",
       "    </tr>\n",
       "    <tr>\n",
       "      <th>A2</th>\n",
       "      <td>-0.016626</td>\n",
       "      <td>0.000185</td>\n",
       "      <td>0.069197</td>\n",
       "      <td>0.051565</td>\n",
       "      <td>0.006125</td>\n",
       "      <td>0.004810</td>\n",
       "      <td>0.021051</td>\n",
       "      <td>-0.082542</td>\n",
       "      <td>0.003199</td>\n",
       "      <td>0.017249</td>\n",
       "      <td>...</td>\n",
       "      <td>-0.001083</td>\n",
       "      <td>0.002332</td>\n",
       "      <td>0.020186</td>\n",
       "      <td>0.007315</td>\n",
       "      <td>-0.008324</td>\n",
       "      <td>-0.015078</td>\n",
       "      <td>0.001621</td>\n",
       "      <td>-0.006253</td>\n",
       "      <td>0.019062</td>\n",
       "      <td>-0.150575</td>\n",
       "    </tr>\n",
       "    <tr>\n",
       "      <th>A3</th>\n",
       "      <td>-0.043160</td>\n",
       "      <td>-0.000445</td>\n",
       "      <td>0.061845</td>\n",
       "      <td>0.034091</td>\n",
       "      <td>0.019042</td>\n",
       "      <td>0.026821</td>\n",
       "      <td>0.031160</td>\n",
       "      <td>-0.043615</td>\n",
       "      <td>-0.024837</td>\n",
       "      <td>0.020356</td>\n",
       "      <td>...</td>\n",
       "      <td>-0.033937</td>\n",
       "      <td>-0.026098</td>\n",
       "      <td>-0.016933</td>\n",
       "      <td>-0.015725</td>\n",
       "      <td>-0.023623</td>\n",
       "      <td>-0.026652</td>\n",
       "      <td>-0.020638</td>\n",
       "      <td>-0.017696</td>\n",
       "      <td>0.044185</td>\n",
       "      <td>-0.175949</td>\n",
       "    </tr>\n",
       "    <tr>\n",
       "      <th>A4</th>\n",
       "      <td>-0.048200</td>\n",
       "      <td>0.000912</td>\n",
       "      <td>0.063571</td>\n",
       "      <td>0.050227</td>\n",
       "      <td>0.028051</td>\n",
       "      <td>0.018179</td>\n",
       "      <td>0.048209</td>\n",
       "      <td>-0.038234</td>\n",
       "      <td>-0.010775</td>\n",
       "      <td>0.015644</td>\n",
       "      <td>...</td>\n",
       "      <td>-0.031971</td>\n",
       "      <td>-0.023306</td>\n",
       "      <td>-0.009974</td>\n",
       "      <td>-0.013591</td>\n",
       "      <td>-0.025071</td>\n",
       "      <td>-0.023906</td>\n",
       "      <td>-0.018808</td>\n",
       "      <td>-0.016197</td>\n",
       "      <td>0.046085</td>\n",
       "      <td>-0.170081</td>\n",
       "    </tr>\n",
       "    <tr>\n",
       "      <th>Flight Stops</th>\n",
       "      <td>-0.009328</td>\n",
       "      <td>0.285496</td>\n",
       "      <td>-0.015413</td>\n",
       "      <td>0.004030</td>\n",
       "      <td>-0.009809</td>\n",
       "      <td>-0.007153</td>\n",
       "      <td>-0.008393</td>\n",
       "      <td>-0.000439</td>\n",
       "      <td>-0.005067</td>\n",
       "      <td>-0.021273</td>\n",
       "      <td>...</td>\n",
       "      <td>0.002207</td>\n",
       "      <td>0.005735</td>\n",
       "      <td>0.005274</td>\n",
       "      <td>0.003335</td>\n",
       "      <td>0.006885</td>\n",
       "      <td>0.005120</td>\n",
       "      <td>0.001463</td>\n",
       "      <td>0.008939</td>\n",
       "      <td>-0.008949</td>\n",
       "      <td>-0.281276</td>\n",
       "    </tr>\n",
       "    <tr>\n",
       "      <th>SP1</th>\n",
       "      <td>0.049905</td>\n",
       "      <td>-0.021751</td>\n",
       "      <td>0.060564</td>\n",
       "      <td>0.066584</td>\n",
       "      <td>-0.102792</td>\n",
       "      <td>-0.021116</td>\n",
       "      <td>0.002499</td>\n",
       "      <td>0.093261</td>\n",
       "      <td>-0.041688</td>\n",
       "      <td>-0.071234</td>\n",
       "      <td>...</td>\n",
       "      <td>0.079273</td>\n",
       "      <td>0.035387</td>\n",
       "      <td>0.009208</td>\n",
       "      <td>-0.006535</td>\n",
       "      <td>-0.028439</td>\n",
       "      <td>0.011034</td>\n",
       "      <td>-0.007963</td>\n",
       "      <td>-0.064555</td>\n",
       "      <td>0.039167</td>\n",
       "      <td>-0.050087</td>\n",
       "    </tr>\n",
       "    <tr>\n",
       "      <th>SP2</th>\n",
       "      <td>0.053344</td>\n",
       "      <td>-0.024994</td>\n",
       "      <td>0.038501</td>\n",
       "      <td>0.097099</td>\n",
       "      <td>0.001411</td>\n",
       "      <td>0.016237</td>\n",
       "      <td>-0.003123</td>\n",
       "      <td>0.150965</td>\n",
       "      <td>-0.126151</td>\n",
       "      <td>-0.163269</td>\n",
       "      <td>...</td>\n",
       "      <td>0.220585</td>\n",
       "      <td>0.125898</td>\n",
       "      <td>0.129632</td>\n",
       "      <td>0.114182</td>\n",
       "      <td>0.078611</td>\n",
       "      <td>0.067579</td>\n",
       "      <td>0.067876</td>\n",
       "      <td>0.059836</td>\n",
       "      <td>0.061049</td>\n",
       "      <td>-0.087354</td>\n",
       "    </tr>\n",
       "    <tr>\n",
       "      <th>SP3</th>\n",
       "      <td>0.021223</td>\n",
       "      <td>-0.009702</td>\n",
       "      <td>-0.057674</td>\n",
       "      <td>0.065517</td>\n",
       "      <td>-0.007448</td>\n",
       "      <td>0.085127</td>\n",
       "      <td>0.022494</td>\n",
       "      <td>0.187220</td>\n",
       "      <td>-0.168957</td>\n",
       "      <td>-0.174964</td>\n",
       "      <td>...</td>\n",
       "      <td>0.151158</td>\n",
       "      <td>0.121951</td>\n",
       "      <td>0.109713</td>\n",
       "      <td>0.138067</td>\n",
       "      <td>0.105757</td>\n",
       "      <td>0.060763</td>\n",
       "      <td>0.071385</td>\n",
       "      <td>0.081113</td>\n",
       "      <td>0.083701</td>\n",
       "      <td>-0.025421</td>\n",
       "    </tr>\n",
       "    <tr>\n",
       "      <th>SP4</th>\n",
       "      <td>0.039814</td>\n",
       "      <td>-0.007094</td>\n",
       "      <td>-0.093094</td>\n",
       "      <td>0.021065</td>\n",
       "      <td>0.104820</td>\n",
       "      <td>0.042632</td>\n",
       "      <td>0.016570</td>\n",
       "      <td>0.183102</td>\n",
       "      <td>-0.135615</td>\n",
       "      <td>-0.228430</td>\n",
       "      <td>...</td>\n",
       "      <td>0.120132</td>\n",
       "      <td>0.085946</td>\n",
       "      <td>0.087325</td>\n",
       "      <td>0.060490</td>\n",
       "      <td>0.049483</td>\n",
       "      <td>0.071859</td>\n",
       "      <td>0.027001</td>\n",
       "      <td>0.032814</td>\n",
       "      <td>0.096696</td>\n",
       "      <td>-0.050862</td>\n",
       "    </tr>\n",
       "    <tr>\n",
       "      <th>SP5</th>\n",
       "      <td>0.051860</td>\n",
       "      <td>-0.007787</td>\n",
       "      <td>0.030848</td>\n",
       "      <td>0.116592</td>\n",
       "      <td>0.041502</td>\n",
       "      <td>0.100788</td>\n",
       "      <td>0.019835</td>\n",
       "      <td>0.250958</td>\n",
       "      <td>-0.209620</td>\n",
       "      <td>-0.213741</td>\n",
       "      <td>...</td>\n",
       "      <td>0.213100</td>\n",
       "      <td>0.158768</td>\n",
       "      <td>0.134397</td>\n",
       "      <td>0.097694</td>\n",
       "      <td>0.072378</td>\n",
       "      <td>0.063977</td>\n",
       "      <td>0.046321</td>\n",
       "      <td>0.035459</td>\n",
       "      <td>0.133578</td>\n",
       "      <td>-0.005381</td>\n",
       "    </tr>\n",
       "    <tr>\n",
       "      <th>SP6</th>\n",
       "      <td>0.029667</td>\n",
       "      <td>-0.011682</td>\n",
       "      <td>0.009004</td>\n",
       "      <td>0.154831</td>\n",
       "      <td>0.158114</td>\n",
       "      <td>0.130772</td>\n",
       "      <td>0.035797</td>\n",
       "      <td>0.212169</td>\n",
       "      <td>-0.238610</td>\n",
       "      <td>-0.262903</td>\n",
       "      <td>...</td>\n",
       "      <td>0.285608</td>\n",
       "      <td>0.231022</td>\n",
       "      <td>0.200687</td>\n",
       "      <td>0.139360</td>\n",
       "      <td>0.104674</td>\n",
       "      <td>0.092523</td>\n",
       "      <td>0.055183</td>\n",
       "      <td>0.054414</td>\n",
       "      <td>0.198904</td>\n",
       "      <td>-0.060124</td>\n",
       "    </tr>\n",
       "    <tr>\n",
       "      <th>SP7</th>\n",
       "      <td>0.021504</td>\n",
       "      <td>-0.026290</td>\n",
       "      <td>0.081402</td>\n",
       "      <td>0.089686</td>\n",
       "      <td>0.135698</td>\n",
       "      <td>0.126983</td>\n",
       "      <td>0.070640</td>\n",
       "      <td>0.204892</td>\n",
       "      <td>-0.215763</td>\n",
       "      <td>-0.274815</td>\n",
       "      <td>...</td>\n",
       "      <td>0.301538</td>\n",
       "      <td>0.262582</td>\n",
       "      <td>0.215389</td>\n",
       "      <td>0.197954</td>\n",
       "      <td>0.189707</td>\n",
       "      <td>0.145332</td>\n",
       "      <td>0.087369</td>\n",
       "      <td>0.079831</td>\n",
       "      <td>0.232705</td>\n",
       "      <td>-0.113212</td>\n",
       "    </tr>\n",
       "    <tr>\n",
       "      <th>SP8</th>\n",
       "      <td>0.032390</td>\n",
       "      <td>-0.008659</td>\n",
       "      <td>0.007687</td>\n",
       "      <td>0.135790</td>\n",
       "      <td>0.111846</td>\n",
       "      <td>0.081606</td>\n",
       "      <td>0.010949</td>\n",
       "      <td>0.167919</td>\n",
       "      <td>-0.189000</td>\n",
       "      <td>-0.244576</td>\n",
       "      <td>...</td>\n",
       "      <td>0.336329</td>\n",
       "      <td>0.284140</td>\n",
       "      <td>0.281219</td>\n",
       "      <td>0.223089</td>\n",
       "      <td>0.176392</td>\n",
       "      <td>0.203124</td>\n",
       "      <td>0.164566</td>\n",
       "      <td>0.130155</td>\n",
       "      <td>0.196841</td>\n",
       "      <td>-0.075516</td>\n",
       "    </tr>\n",
       "    <tr>\n",
       "      <th>SP9</th>\n",
       "      <td>0.041891</td>\n",
       "      <td>-0.007317</td>\n",
       "      <td>0.031745</td>\n",
       "      <td>0.094379</td>\n",
       "      <td>0.103615</td>\n",
       "      <td>0.094870</td>\n",
       "      <td>0.080127</td>\n",
       "      <td>0.193982</td>\n",
       "      <td>-0.246697</td>\n",
       "      <td>-0.222009</td>\n",
       "      <td>...</td>\n",
       "      <td>0.471780</td>\n",
       "      <td>0.391787</td>\n",
       "      <td>0.322509</td>\n",
       "      <td>0.329007</td>\n",
       "      <td>0.227890</td>\n",
       "      <td>0.173109</td>\n",
       "      <td>0.129827</td>\n",
       "      <td>0.108702</td>\n",
       "      <td>0.198674</td>\n",
       "      <td>-0.102413</td>\n",
       "    </tr>\n",
       "    <tr>\n",
       "      <th>SP10</th>\n",
       "      <td>0.057614</td>\n",
       "      <td>-0.004056</td>\n",
       "      <td>0.038255</td>\n",
       "      <td>0.105910</td>\n",
       "      <td>0.107468</td>\n",
       "      <td>0.062317</td>\n",
       "      <td>0.030242</td>\n",
       "      <td>0.141704</td>\n",
       "      <td>-0.182659</td>\n",
       "      <td>-0.158077</td>\n",
       "      <td>...</td>\n",
       "      <td>0.443105</td>\n",
       "      <td>0.375486</td>\n",
       "      <td>0.357725</td>\n",
       "      <td>0.308256</td>\n",
       "      <td>0.262261</td>\n",
       "      <td>0.224734</td>\n",
       "      <td>0.155861</td>\n",
       "      <td>0.098531</td>\n",
       "      <td>0.166119</td>\n",
       "      <td>-0.097780</td>\n",
       "    </tr>\n",
       "    <tr>\n",
       "      <th>SP11</th>\n",
       "      <td>0.081286</td>\n",
       "      <td>-0.000959</td>\n",
       "      <td>-0.020058</td>\n",
       "      <td>0.159287</td>\n",
       "      <td>0.126938</td>\n",
       "      <td>0.019804</td>\n",
       "      <td>0.040743</td>\n",
       "      <td>0.131799</td>\n",
       "      <td>-0.203424</td>\n",
       "      <td>-0.175962</td>\n",
       "      <td>...</td>\n",
       "      <td>0.573697</td>\n",
       "      <td>0.487615</td>\n",
       "      <td>0.433213</td>\n",
       "      <td>0.336668</td>\n",
       "      <td>0.335406</td>\n",
       "      <td>0.252523</td>\n",
       "      <td>0.207788</td>\n",
       "      <td>0.196263</td>\n",
       "      <td>0.170960</td>\n",
       "      <td>-0.102915</td>\n",
       "    </tr>\n",
       "    <tr>\n",
       "      <th>SP12</th>\n",
       "      <td>0.074190</td>\n",
       "      <td>0.004066</td>\n",
       "      <td>0.031101</td>\n",
       "      <td>0.175529</td>\n",
       "      <td>0.082230</td>\n",
       "      <td>0.071538</td>\n",
       "      <td>0.022224</td>\n",
       "      <td>0.107147</td>\n",
       "      <td>-0.225412</td>\n",
       "      <td>-0.190612</td>\n",
       "      <td>...</td>\n",
       "      <td>1.000000</td>\n",
       "      <td>0.665254</td>\n",
       "      <td>0.543525</td>\n",
       "      <td>0.479540</td>\n",
       "      <td>0.426105</td>\n",
       "      <td>0.372400</td>\n",
       "      <td>0.274156</td>\n",
       "      <td>0.229178</td>\n",
       "      <td>0.156734</td>\n",
       "      <td>-0.138614</td>\n",
       "    </tr>\n",
       "    <tr>\n",
       "      <th>SP13</th>\n",
       "      <td>0.037023</td>\n",
       "      <td>0.002780</td>\n",
       "      <td>0.053788</td>\n",
       "      <td>0.150281</td>\n",
       "      <td>0.044297</td>\n",
       "      <td>0.085515</td>\n",
       "      <td>0.069023</td>\n",
       "      <td>0.106400</td>\n",
       "      <td>-0.193290</td>\n",
       "      <td>-0.176392</td>\n",
       "      <td>...</td>\n",
       "      <td>0.665254</td>\n",
       "      <td>1.000000</td>\n",
       "      <td>0.650679</td>\n",
       "      <td>0.578944</td>\n",
       "      <td>0.542622</td>\n",
       "      <td>0.400389</td>\n",
       "      <td>0.305402</td>\n",
       "      <td>0.258663</td>\n",
       "      <td>0.127066</td>\n",
       "      <td>-0.122495</td>\n",
       "    </tr>\n",
       "    <tr>\n",
       "      <th>SP14</th>\n",
       "      <td>0.019639</td>\n",
       "      <td>-0.009503</td>\n",
       "      <td>0.079346</td>\n",
       "      <td>0.153480</td>\n",
       "      <td>0.030587</td>\n",
       "      <td>0.037153</td>\n",
       "      <td>0.052132</td>\n",
       "      <td>0.072086</td>\n",
       "      <td>-0.139209</td>\n",
       "      <td>-0.148539</td>\n",
       "      <td>...</td>\n",
       "      <td>0.543525</td>\n",
       "      <td>0.650679</td>\n",
       "      <td>1.000000</td>\n",
       "      <td>0.701571</td>\n",
       "      <td>0.601992</td>\n",
       "      <td>0.503033</td>\n",
       "      <td>0.354055</td>\n",
       "      <td>0.278565</td>\n",
       "      <td>0.114575</td>\n",
       "      <td>-0.132634</td>\n",
       "    </tr>\n",
       "    <tr>\n",
       "      <th>SP15</th>\n",
       "      <td>0.030578</td>\n",
       "      <td>-0.004484</td>\n",
       "      <td>0.082215</td>\n",
       "      <td>0.124662</td>\n",
       "      <td>0.019288</td>\n",
       "      <td>0.032837</td>\n",
       "      <td>0.022209</td>\n",
       "      <td>0.054821</td>\n",
       "      <td>-0.131319</td>\n",
       "      <td>-0.125098</td>\n",
       "      <td>...</td>\n",
       "      <td>0.479540</td>\n",
       "      <td>0.578944</td>\n",
       "      <td>0.701571</td>\n",
       "      <td>1.000000</td>\n",
       "      <td>0.627978</td>\n",
       "      <td>0.427923</td>\n",
       "      <td>0.349956</td>\n",
       "      <td>0.308019</td>\n",
       "      <td>0.096788</td>\n",
       "      <td>-0.118323</td>\n",
       "    </tr>\n",
       "    <tr>\n",
       "      <th>SP16</th>\n",
       "      <td>0.022351</td>\n",
       "      <td>-0.005238</td>\n",
       "      <td>0.092419</td>\n",
       "      <td>0.097638</td>\n",
       "      <td>-0.022636</td>\n",
       "      <td>0.015043</td>\n",
       "      <td>0.002062</td>\n",
       "      <td>0.031253</td>\n",
       "      <td>-0.126655</td>\n",
       "      <td>-0.064412</td>\n",
       "      <td>...</td>\n",
       "      <td>0.426105</td>\n",
       "      <td>0.542622</td>\n",
       "      <td>0.601992</td>\n",
       "      <td>0.627978</td>\n",
       "      <td>1.000000</td>\n",
       "      <td>0.622616</td>\n",
       "      <td>0.498252</td>\n",
       "      <td>0.418494</td>\n",
       "      <td>0.079199</td>\n",
       "      <td>-0.106912</td>\n",
       "    </tr>\n",
       "    <tr>\n",
       "      <th>SP17</th>\n",
       "      <td>-0.021826</td>\n",
       "      <td>-0.001252</td>\n",
       "      <td>0.063520</td>\n",
       "      <td>0.058565</td>\n",
       "      <td>-0.023599</td>\n",
       "      <td>0.027812</td>\n",
       "      <td>-0.024407</td>\n",
       "      <td>0.003259</td>\n",
       "      <td>-0.103127</td>\n",
       "      <td>-0.053700</td>\n",
       "      <td>...</td>\n",
       "      <td>0.372400</td>\n",
       "      <td>0.400389</td>\n",
       "      <td>0.503033</td>\n",
       "      <td>0.427923</td>\n",
       "      <td>0.622616</td>\n",
       "      <td>1.000000</td>\n",
       "      <td>0.597392</td>\n",
       "      <td>0.445926</td>\n",
       "      <td>0.065036</td>\n",
       "      <td>-0.097678</td>\n",
       "    </tr>\n",
       "    <tr>\n",
       "      <th>SP18</th>\n",
       "      <td>0.009337</td>\n",
       "      <td>-0.001818</td>\n",
       "      <td>0.062909</td>\n",
       "      <td>0.056443</td>\n",
       "      <td>0.030483</td>\n",
       "      <td>0.019203</td>\n",
       "      <td>-0.017956</td>\n",
       "      <td>0.020684</td>\n",
       "      <td>-0.082933</td>\n",
       "      <td>-0.073259</td>\n",
       "      <td>...</td>\n",
       "      <td>0.274156</td>\n",
       "      <td>0.305402</td>\n",
       "      <td>0.354055</td>\n",
       "      <td>0.349956</td>\n",
       "      <td>0.498252</td>\n",
       "      <td>0.597392</td>\n",
       "      <td>1.000000</td>\n",
       "      <td>0.682711</td>\n",
       "      <td>0.050484</td>\n",
       "      <td>-0.108170</td>\n",
       "    </tr>\n",
       "    <tr>\n",
       "      <th>SP19</th>\n",
       "      <td>0.042957</td>\n",
       "      <td>-0.004844</td>\n",
       "      <td>0.092605</td>\n",
       "      <td>0.019979</td>\n",
       "      <td>0.055045</td>\n",
       "      <td>0.033471</td>\n",
       "      <td>0.033316</td>\n",
       "      <td>0.019924</td>\n",
       "      <td>-0.062154</td>\n",
       "      <td>-0.136190</td>\n",
       "      <td>...</td>\n",
       "      <td>0.229178</td>\n",
       "      <td>0.258663</td>\n",
       "      <td>0.278565</td>\n",
       "      <td>0.308019</td>\n",
       "      <td>0.418494</td>\n",
       "      <td>0.445926</td>\n",
       "      <td>0.682711</td>\n",
       "      <td>1.000000</td>\n",
       "      <td>0.040873</td>\n",
       "      <td>-0.099984</td>\n",
       "    </tr>\n",
       "    <tr>\n",
       "      <th>Cancellation Rules</th>\n",
       "      <td>0.164479</td>\n",
       "      <td>-0.026267</td>\n",
       "      <td>0.024812</td>\n",
       "      <td>0.156732</td>\n",
       "      <td>0.173843</td>\n",
       "      <td>0.110939</td>\n",
       "      <td>0.077190</td>\n",
       "      <td>0.061920</td>\n",
       "      <td>-0.374077</td>\n",
       "      <td>-0.307000</td>\n",
       "      <td>...</td>\n",
       "      <td>0.156734</td>\n",
       "      <td>0.127066</td>\n",
       "      <td>0.114575</td>\n",
       "      <td>0.096788</td>\n",
       "      <td>0.079199</td>\n",
       "      <td>0.065036</td>\n",
       "      <td>0.050484</td>\n",
       "      <td>0.040873</td>\n",
       "      <td>1.000000</td>\n",
       "      <td>-0.269586</td>\n",
       "    </tr>\n",
       "    <tr>\n",
       "      <th>Per Person Price</th>\n",
       "      <td>-0.049182</td>\n",
       "      <td>-0.016043</td>\n",
       "      <td>0.002526</td>\n",
       "      <td>-0.116081</td>\n",
       "      <td>-0.129723</td>\n",
       "      <td>-0.092898</td>\n",
       "      <td>-0.153845</td>\n",
       "      <td>0.124502</td>\n",
       "      <td>0.245148</td>\n",
       "      <td>0.286312</td>\n",
       "      <td>...</td>\n",
       "      <td>-0.138614</td>\n",
       "      <td>-0.122495</td>\n",
       "      <td>-0.132634</td>\n",
       "      <td>-0.118323</td>\n",
       "      <td>-0.106912</td>\n",
       "      <td>-0.097678</td>\n",
       "      <td>-0.108170</td>\n",
       "      <td>-0.099984</td>\n",
       "      <td>-0.269586</td>\n",
       "      <td>1.000000</td>\n",
       "    </tr>\n",
       "  </tbody>\n",
       "</table>\n",
       "<p>40 rows × 40 columns</p>\n",
       "</div>"
      ],
      "text/plain": [
       "                    Package Name  Package Type        D1        D2        D3  \\\n",
       "Package Name            1.000000     -0.011703  0.109350  0.042857  0.075756   \n",
       "Package Type           -0.011703      1.000000 -0.008941 -0.006065 -0.014939   \n",
       "D1                      0.109350     -0.008941  1.000000 -0.108491 -0.090399   \n",
       "D2                      0.042857     -0.006065 -0.108491  1.000000 -0.085245   \n",
       "D3                      0.075756     -0.014939 -0.090399 -0.085245  1.000000   \n",
       "D4                     -0.009267     -0.027343  0.077653 -0.097042  0.059658   \n",
       "D5                      0.025082     -0.028222  0.023524 -0.027974  0.086444   \n",
       "N1                     -0.021486     -0.009949 -0.060403  0.109044  0.116597   \n",
       "N2                     -0.094357      0.010939  0.094966 -0.225015 -0.233686   \n",
       "N3                     -0.099504      0.027797  0.034301 -0.093592 -0.419672   \n",
       "N4                     -0.048550      0.025963  0.038056 -0.003841 -0.257069   \n",
       "Year                    0.001459     -0.016968 -0.011009  0.016328 -0.003152   \n",
       "Hotel Details           0.026975     -0.015121  0.032175  0.010245 -0.028232   \n",
       "Start City              0.020184     -0.002792 -0.006449  0.020560  0.020382   \n",
       "A1                     -0.004896     -0.002398  0.039788 -0.015334  0.017049   \n",
       "A2                     -0.016626      0.000185  0.069197  0.051565  0.006125   \n",
       "A3                     -0.043160     -0.000445  0.061845  0.034091  0.019042   \n",
       "A4                     -0.048200      0.000912  0.063571  0.050227  0.028051   \n",
       "Flight Stops           -0.009328      0.285496 -0.015413  0.004030 -0.009809   \n",
       "SP1                     0.049905     -0.021751  0.060564  0.066584 -0.102792   \n",
       "SP2                     0.053344     -0.024994  0.038501  0.097099  0.001411   \n",
       "SP3                     0.021223     -0.009702 -0.057674  0.065517 -0.007448   \n",
       "SP4                     0.039814     -0.007094 -0.093094  0.021065  0.104820   \n",
       "SP5                     0.051860     -0.007787  0.030848  0.116592  0.041502   \n",
       "SP6                     0.029667     -0.011682  0.009004  0.154831  0.158114   \n",
       "SP7                     0.021504     -0.026290  0.081402  0.089686  0.135698   \n",
       "SP8                     0.032390     -0.008659  0.007687  0.135790  0.111846   \n",
       "SP9                     0.041891     -0.007317  0.031745  0.094379  0.103615   \n",
       "SP10                    0.057614     -0.004056  0.038255  0.105910  0.107468   \n",
       "SP11                    0.081286     -0.000959 -0.020058  0.159287  0.126938   \n",
       "SP12                    0.074190      0.004066  0.031101  0.175529  0.082230   \n",
       "SP13                    0.037023      0.002780  0.053788  0.150281  0.044297   \n",
       "SP14                    0.019639     -0.009503  0.079346  0.153480  0.030587   \n",
       "SP15                    0.030578     -0.004484  0.082215  0.124662  0.019288   \n",
       "SP16                    0.022351     -0.005238  0.092419  0.097638 -0.022636   \n",
       "SP17                   -0.021826     -0.001252  0.063520  0.058565 -0.023599   \n",
       "SP18                    0.009337     -0.001818  0.062909  0.056443  0.030483   \n",
       "SP19                    0.042957     -0.004844  0.092605  0.019979  0.055045   \n",
       "Cancellation Rules      0.164479     -0.026267  0.024812  0.156732  0.173843   \n",
       "Per Person Price       -0.049182     -0.016043  0.002526 -0.116081 -0.129723   \n",
       "\n",
       "                          D4        D5        N1        N2        N3  ...  \\\n",
       "Package Name       -0.009267  0.025082 -0.021486 -0.094357 -0.099504  ...   \n",
       "Package Type       -0.027343 -0.028222 -0.009949  0.010939  0.027797  ...   \n",
       "D1                  0.077653  0.023524 -0.060403  0.094966  0.034301  ...   \n",
       "D2                 -0.097042 -0.027974  0.109044 -0.225015 -0.093592  ...   \n",
       "D3                  0.059658  0.086444  0.116597 -0.233686 -0.419672  ...   \n",
       "D4                  1.000000  0.245672  0.198120 -0.179799 -0.306813  ...   \n",
       "D5                  0.245672  1.000000  0.150428 -0.086082 -0.168609  ...   \n",
       "N1                  0.198120  0.150428  1.000000 -0.402293 -0.400065  ...   \n",
       "N2                 -0.179799 -0.086082 -0.402293  1.000000  0.317806  ...   \n",
       "N3                 -0.306813 -0.168609 -0.400065  0.317806  1.000000  ...   \n",
       "N4                 -0.419244 -0.391532 -0.311066  0.132431  0.420612  ...   \n",
       "Year                0.001803  0.005774 -0.003295  0.005835  0.002348  ...   \n",
       "Hotel Details       0.059850  0.017788  0.005596 -0.024314  0.041304  ...   \n",
       "Start City          0.022786  0.021089 -0.010329 -0.041886 -0.052873  ...   \n",
       "A1                 -0.010549  0.008008 -0.024554  0.017408  0.004918  ...   \n",
       "A2                  0.004810  0.021051 -0.082542  0.003199  0.017249  ...   \n",
       "A3                  0.026821  0.031160 -0.043615 -0.024837  0.020356  ...   \n",
       "A4                  0.018179  0.048209 -0.038234 -0.010775  0.015644  ...   \n",
       "Flight Stops       -0.007153 -0.008393 -0.000439 -0.005067 -0.021273  ...   \n",
       "SP1                -0.021116  0.002499  0.093261 -0.041688 -0.071234  ...   \n",
       "SP2                 0.016237 -0.003123  0.150965 -0.126151 -0.163269  ...   \n",
       "SP3                 0.085127  0.022494  0.187220 -0.168957 -0.174964  ...   \n",
       "SP4                 0.042632  0.016570  0.183102 -0.135615 -0.228430  ...   \n",
       "SP5                 0.100788  0.019835  0.250958 -0.209620 -0.213741  ...   \n",
       "SP6                 0.130772  0.035797  0.212169 -0.238610 -0.262903  ...   \n",
       "SP7                 0.126983  0.070640  0.204892 -0.215763 -0.274815  ...   \n",
       "SP8                 0.081606  0.010949  0.167919 -0.189000 -0.244576  ...   \n",
       "SP9                 0.094870  0.080127  0.193982 -0.246697 -0.222009  ...   \n",
       "SP10                0.062317  0.030242  0.141704 -0.182659 -0.158077  ...   \n",
       "SP11                0.019804  0.040743  0.131799 -0.203424 -0.175962  ...   \n",
       "SP12                0.071538  0.022224  0.107147 -0.225412 -0.190612  ...   \n",
       "SP13                0.085515  0.069023  0.106400 -0.193290 -0.176392  ...   \n",
       "SP14                0.037153  0.052132  0.072086 -0.139209 -0.148539  ...   \n",
       "SP15                0.032837  0.022209  0.054821 -0.131319 -0.125098  ...   \n",
       "SP16                0.015043  0.002062  0.031253 -0.126655 -0.064412  ...   \n",
       "SP17                0.027812 -0.024407  0.003259 -0.103127 -0.053700  ...   \n",
       "SP18                0.019203 -0.017956  0.020684 -0.082933 -0.073259  ...   \n",
       "SP19                0.033471  0.033316  0.019924 -0.062154 -0.136190  ...   \n",
       "Cancellation Rules  0.110939  0.077190  0.061920 -0.374077 -0.307000  ...   \n",
       "Per Person Price   -0.092898 -0.153845  0.124502  0.245148  0.286312  ...   \n",
       "\n",
       "                        SP12      SP13      SP14      SP15      SP16  \\\n",
       "Package Name        0.074190  0.037023  0.019639  0.030578  0.022351   \n",
       "Package Type        0.004066  0.002780 -0.009503 -0.004484 -0.005238   \n",
       "D1                  0.031101  0.053788  0.079346  0.082215  0.092419   \n",
       "D2                  0.175529  0.150281  0.153480  0.124662  0.097638   \n",
       "D3                  0.082230  0.044297  0.030587  0.019288 -0.022636   \n",
       "D4                  0.071538  0.085515  0.037153  0.032837  0.015043   \n",
       "D5                  0.022224  0.069023  0.052132  0.022209  0.002062   \n",
       "N1                  0.107147  0.106400  0.072086  0.054821  0.031253   \n",
       "N2                 -0.225412 -0.193290 -0.139209 -0.131319 -0.126655   \n",
       "N3                 -0.190612 -0.176392 -0.148539 -0.125098 -0.064412   \n",
       "N4                 -0.075393 -0.099471 -0.081430 -0.042400 -0.003675   \n",
       "Year               -0.002033 -0.010086 -0.002286 -0.003043 -0.002151   \n",
       "Hotel Details      -0.009627 -0.042867 -0.048912 -0.047517 -0.058329   \n",
       "Start City          0.038210  0.033003  0.024994  0.016559  0.018818   \n",
       "A1                 -0.016384 -0.010868 -0.003487  0.007624 -0.015902   \n",
       "A2                 -0.001083  0.002332  0.020186  0.007315 -0.008324   \n",
       "A3                 -0.033937 -0.026098 -0.016933 -0.015725 -0.023623   \n",
       "A4                 -0.031971 -0.023306 -0.009974 -0.013591 -0.025071   \n",
       "Flight Stops        0.002207  0.005735  0.005274  0.003335  0.006885   \n",
       "SP1                 0.079273  0.035387  0.009208 -0.006535 -0.028439   \n",
       "SP2                 0.220585  0.125898  0.129632  0.114182  0.078611   \n",
       "SP3                 0.151158  0.121951  0.109713  0.138067  0.105757   \n",
       "SP4                 0.120132  0.085946  0.087325  0.060490  0.049483   \n",
       "SP5                 0.213100  0.158768  0.134397  0.097694  0.072378   \n",
       "SP6                 0.285608  0.231022  0.200687  0.139360  0.104674   \n",
       "SP7                 0.301538  0.262582  0.215389  0.197954  0.189707   \n",
       "SP8                 0.336329  0.284140  0.281219  0.223089  0.176392   \n",
       "SP9                 0.471780  0.391787  0.322509  0.329007  0.227890   \n",
       "SP10                0.443105  0.375486  0.357725  0.308256  0.262261   \n",
       "SP11                0.573697  0.487615  0.433213  0.336668  0.335406   \n",
       "SP12                1.000000  0.665254  0.543525  0.479540  0.426105   \n",
       "SP13                0.665254  1.000000  0.650679  0.578944  0.542622   \n",
       "SP14                0.543525  0.650679  1.000000  0.701571  0.601992   \n",
       "SP15                0.479540  0.578944  0.701571  1.000000  0.627978   \n",
       "SP16                0.426105  0.542622  0.601992  0.627978  1.000000   \n",
       "SP17                0.372400  0.400389  0.503033  0.427923  0.622616   \n",
       "SP18                0.274156  0.305402  0.354055  0.349956  0.498252   \n",
       "SP19                0.229178  0.258663  0.278565  0.308019  0.418494   \n",
       "Cancellation Rules  0.156734  0.127066  0.114575  0.096788  0.079199   \n",
       "Per Person Price   -0.138614 -0.122495 -0.132634 -0.118323 -0.106912   \n",
       "\n",
       "                        SP17      SP18      SP19  Cancellation Rules  \\\n",
       "Package Name       -0.021826  0.009337  0.042957            0.164479   \n",
       "Package Type       -0.001252 -0.001818 -0.004844           -0.026267   \n",
       "D1                  0.063520  0.062909  0.092605            0.024812   \n",
       "D2                  0.058565  0.056443  0.019979            0.156732   \n",
       "D3                 -0.023599  0.030483  0.055045            0.173843   \n",
       "D4                  0.027812  0.019203  0.033471            0.110939   \n",
       "D5                 -0.024407 -0.017956  0.033316            0.077190   \n",
       "N1                  0.003259  0.020684  0.019924            0.061920   \n",
       "N2                 -0.103127 -0.082933 -0.062154           -0.374077   \n",
       "N3                 -0.053700 -0.073259 -0.136190           -0.307000   \n",
       "N4                 -0.022684 -0.034825 -0.058567           -0.183995   \n",
       "Year               -0.011067 -0.010498 -0.003027           -0.002611   \n",
       "Hotel Details      -0.050100 -0.037553 -0.042388           -0.027258   \n",
       "Start City          0.019018  0.010311  0.027659            0.026966   \n",
       "A1                 -0.014433  0.001871 -0.013062            0.011036   \n",
       "A2                 -0.015078  0.001621 -0.006253            0.019062   \n",
       "A3                 -0.026652 -0.020638 -0.017696            0.044185   \n",
       "A4                 -0.023906 -0.018808 -0.016197            0.046085   \n",
       "Flight Stops        0.005120  0.001463  0.008939           -0.008949   \n",
       "SP1                 0.011034 -0.007963 -0.064555            0.039167   \n",
       "SP2                 0.067579  0.067876  0.059836            0.061049   \n",
       "SP3                 0.060763  0.071385  0.081113            0.083701   \n",
       "SP4                 0.071859  0.027001  0.032814            0.096696   \n",
       "SP5                 0.063977  0.046321  0.035459            0.133578   \n",
       "SP6                 0.092523  0.055183  0.054414            0.198904   \n",
       "SP7                 0.145332  0.087369  0.079831            0.232705   \n",
       "SP8                 0.203124  0.164566  0.130155            0.196841   \n",
       "SP9                 0.173109  0.129827  0.108702            0.198674   \n",
       "SP10                0.224734  0.155861  0.098531            0.166119   \n",
       "SP11                0.252523  0.207788  0.196263            0.170960   \n",
       "SP12                0.372400  0.274156  0.229178            0.156734   \n",
       "SP13                0.400389  0.305402  0.258663            0.127066   \n",
       "SP14                0.503033  0.354055  0.278565            0.114575   \n",
       "SP15                0.427923  0.349956  0.308019            0.096788   \n",
       "SP16                0.622616  0.498252  0.418494            0.079199   \n",
       "SP17                1.000000  0.597392  0.445926            0.065036   \n",
       "SP18                0.597392  1.000000  0.682711            0.050484   \n",
       "SP19                0.445926  0.682711  1.000000            0.040873   \n",
       "Cancellation Rules  0.065036  0.050484  0.040873            1.000000   \n",
       "Per Person Price   -0.097678 -0.108170 -0.099984           -0.269586   \n",
       "\n",
       "                    Per Person Price  \n",
       "Package Name               -0.049182  \n",
       "Package Type               -0.016043  \n",
       "D1                          0.002526  \n",
       "D2                         -0.116081  \n",
       "D3                         -0.129723  \n",
       "D4                         -0.092898  \n",
       "D5                         -0.153845  \n",
       "N1                          0.124502  \n",
       "N2                          0.245148  \n",
       "N3                          0.286312  \n",
       "N4                          0.243316  \n",
       "Year                        0.006344  \n",
       "Hotel Details               0.068165  \n",
       "Start City                 -0.047014  \n",
       "A1                         -0.069849  \n",
       "A2                         -0.150575  \n",
       "A3                         -0.175949  \n",
       "A4                         -0.170081  \n",
       "Flight Stops               -0.281276  \n",
       "SP1                        -0.050087  \n",
       "SP2                        -0.087354  \n",
       "SP3                        -0.025421  \n",
       "SP4                        -0.050862  \n",
       "SP5                        -0.005381  \n",
       "SP6                        -0.060124  \n",
       "SP7                        -0.113212  \n",
       "SP8                        -0.075516  \n",
       "SP9                        -0.102413  \n",
       "SP10                       -0.097780  \n",
       "SP11                       -0.102915  \n",
       "SP12                       -0.138614  \n",
       "SP13                       -0.122495  \n",
       "SP14                       -0.132634  \n",
       "SP15                       -0.118323  \n",
       "SP16                       -0.106912  \n",
       "SP17                       -0.097678  \n",
       "SP18                       -0.108170  \n",
       "SP19                       -0.099984  \n",
       "Cancellation Rules         -0.269586  \n",
       "Per Person Price            1.000000  \n",
       "\n",
       "[40 rows x 40 columns]"
      ]
     },
     "execution_count": 14,
     "metadata": {},
     "output_type": "execute_result"
    }
   ],
   "source": [
    "df_Train.corr()"
   ]
  },
  {
   "cell_type": "code",
   "execution_count": 15,
   "metadata": {},
   "outputs": [],
   "source": [
    "# df_Train.drop('N2', axis=1, inplace=True)\n",
    "# df_Train.drop('N5', axis=1, inplace=True)\n",
    "# df_Train.drop('N3', axis=1, inplace=True)\n",
    "# df_Train.drop('N4', axis=1, inplace=True)\n",
    "# df_Train.drop('A4', axis=1, inplace=True)\n",
    "# df_Train.drop('SP19', axis=1, inplace=True)"
   ]
  },
  {
   "cell_type": "code",
   "execution_count": 16,
   "metadata": {},
   "outputs": [],
   "source": [
    "# df_Test.drop('N2', axis=1, inplace=True)\n",
    "# df_Test.drop('N5', axis=1, inplace=True)\n",
    "# df_Test.drop('N3', axis=1, inplace=True)\n",
    "# df_Test.drop('N4', axis=1, inplace=True)\n",
    "# df_Test.drop('A4', axis=1, inplace=True)\n",
    "# df_Test.drop('SP19', axis=1, inplace=True)"
   ]
  },
  {
   "cell_type": "code",
   "execution_count": 17,
   "metadata": {},
   "outputs": [],
   "source": [
    "# plt.figure(figsize=(16, 16))\n",
    "# sns.heatmap(df_Train.corr())"
   ]
  },
  {
   "cell_type": "code",
   "execution_count": 18,
   "metadata": {},
   "outputs": [
    {
     "name": "stdout",
     "output_type": "stream",
     "text": [
      "(21000, 40)\n",
      "(9000, 39)\n"
     ]
    }
   ],
   "source": [
    "print(df_Train.shape)\n",
    "print(df_Test.shape)"
   ]
  },
  {
   "cell_type": "code",
   "execution_count": 19,
   "metadata": {},
   "outputs": [],
   "source": [
    "X=df_Train.drop(['Per Person Price'],axis=1)\n",
    "y=df_Train[['Per Person Price']]"
   ]
  },
  {
   "cell_type": "code",
   "execution_count": 20,
   "metadata": {},
   "outputs": [],
   "source": [
    "from sklearn.model_selection import train_test_split\n",
    "X_train,X_test,y_train,y_test=train_test_split(X, y, test_size=0.18,random_state=33)"
   ]
  },
  {
   "cell_type": "code",
   "execution_count": 21,
   "metadata": {},
   "outputs": [],
   "source": [
    "import optuna\n",
    "from math import sqrt\n",
    "import lightgbm as lgb"
   ]
  },
  {
   "cell_type": "code",
   "execution_count": 22,
   "metadata": {},
   "outputs": [],
   "source": [
    "lgb_train = lgb.Dataset(X_train, y_train)\n",
    "lgb_valid = lgb.Dataset(X_test, y_test, reference=lgb_train)"
   ]
  },
  {
   "cell_type": "code",
   "execution_count": 23,
   "metadata": {},
   "outputs": [],
   "source": [
    "from sklearn.metrics import mean_squared_log_error"
   ]
  },
  {
   "cell_type": "code",
   "execution_count": 24,
   "metadata": {},
   "outputs": [],
   "source": [
    "def objective(trial):    \n",
    "    params = {\n",
    "            'num_leaves': trial.suggest_int('num_leaves', 22, 712),\n",
    "            'max_bin': trial.suggest_int('max_bin', 300, 1400),\n",
    "            'objective': 'regression',\n",
    "            'metric': 'RMSE',\n",
    "            'learning_rate': trial.suggest_float('learning_rate',0.005,0.2),\n",
    "            'random_state' : 33,\n",
    "            'max_depth': trial.suggest_int('max_depth', 4, 16),\n",
    "            'min_child_weight': trial.suggest_int('min_child_weight', 1, 21),\n",
    "            'feature_fraction': trial.suggest_uniform('feature_fraction', 0.4, 1.0),\n",
    "            'bagging_fraction': trial.suggest_uniform('bagging_fraction', 0.4, 1.0),\n",
    "            'bagging_freq': trial.suggest_int('bagging_freq', 1, 9),\n",
    "            'min_child_samples': trial.suggest_int('min_child_samples', 3, 100),\n",
    "            'lambda_l1': trial.suggest_loguniform('lambda_l1', 1e-8, 1.0),\n",
    "            'lambda_l2': trial.suggest_loguniform('lambda_l2', 1e-8, 1.0),\n",
    "            'early_stopping_rounds': 10\n",
    "            }\n",
    "    \n",
    "    model = lgb.train(params, lgb_train, valid_sets=[lgb_valid], verbose_eval=100, num_boost_round=800)\n",
    "    y_pred  = model.predict(X_test)\n",
    "    score = np.sqrt(mean_squared_log_error(y_test, y_pred))\n",
    "    print(f\"RMSE = {score}\")\n",
    "    return score"
   ]
  },
  {
   "cell_type": "code",
   "execution_count": 25,
   "metadata": {},
   "outputs": [
    {
     "name": "stderr",
     "output_type": "stream",
     "text": [
      "\u001b[32m[I 2021-04-06 15:41:58,848]\u001b[0m A new study created in memory with name: no-name-0cb47f26-a66d-46db-8930-de03b14ad3af\u001b[0m\n",
      "D:\\anaconda\\lib\\site-packages\\lightgbm\\engine.py:153: UserWarning: Found `early_stopping_rounds` in params. Will use it instead of argument\n",
      "  warnings.warn(\"Found `{}` in params. Will use it instead of argument\".format(alias))\n"
     ]
    },
    {
     "name": "stdout",
     "output_type": "stream",
     "text": [
      "Training until validation scores don't improve for 10 rounds\n",
      "[100]\tvalid_0's rmse: 6656.39\n",
      "[200]\tvalid_0's rmse: 6217.08\n",
      "[300]\tvalid_0's rmse: 6006.31\n",
      "[400]\tvalid_0's rmse: 5880.69\n",
      "Early stopping, best iteration is:\n",
      "[472]\tvalid_0's rmse: 5805.64"
     ]
    },
    {
     "name": "stderr",
     "output_type": "stream",
     "text": [
      "\u001b[32m[I 2021-04-06 15:42:00,654]\u001b[0m Trial 0 finished with value: 0.23066494119455255 and parameters: {'num_leaves': 236, 'max_bin': 1272, 'learning_rate': 0.06573517059999674, 'max_depth': 5, 'min_child_weight': 3, 'feature_fraction': 0.8138973914457368, 'bagging_fraction': 0.8601983350473927, 'bagging_freq': 2, 'min_child_samples': 67, 'lambda_l1': 2.916841824138251e-07, 'lambda_l2': 6.023051964038117e-07}. Best is trial 0 with value: 0.23066494119455255.\u001b[0m\n"
     ]
    },
    {
     "name": "stdout",
     "output_type": "stream",
     "text": [
      "\n",
      "RMSE = 0.23066494119455255\n",
      "Training until validation scores don't improve for 10 rounds\n"
     ]
    },
    {
     "name": "stderr",
     "output_type": "stream",
     "text": [
      "D:\\anaconda\\lib\\site-packages\\lightgbm\\engine.py:153: UserWarning: Found `early_stopping_rounds` in params. Will use it instead of argument\n",
      "  warnings.warn(\"Found `{}` in params. Will use it instead of argument\".format(alias))\n"
     ]
    },
    {
     "name": "stdout",
     "output_type": "stream",
     "text": [
      "[100]\tvalid_0's rmse: 5770.88\n",
      "[200]\tvalid_0's rmse: 5555.97\n",
      "Early stopping, best iteration is:\n",
      "[213]\tvalid_0's rmse: 5530.51\n"
     ]
    },
    {
     "name": "stderr",
     "output_type": "stream",
     "text": [
      "\u001b[32m[I 2021-04-06 15:42:02,362]\u001b[0m Trial 1 finished with value: 0.22240213004033887 and parameters: {'num_leaves': 175, 'max_bin': 834, 'learning_rate': 0.18402621736170566, 'max_depth': 15, 'min_child_weight': 17, 'feature_fraction': 0.8899632764990166, 'bagging_fraction': 0.5104050489005291, 'bagging_freq': 4, 'min_child_samples': 72, 'lambda_l1': 4.5717609286350666e-07, 'lambda_l2': 0.0003663050493307322}. Best is trial 1 with value: 0.22240213004033887.\u001b[0m\n"
     ]
    },
    {
     "name": "stdout",
     "output_type": "stream",
     "text": [
      "RMSE = 0.22240213004033887\n",
      "Training until validation scores don't improve for 10 rounds\n"
     ]
    },
    {
     "name": "stderr",
     "output_type": "stream",
     "text": [
      "D:\\anaconda\\lib\\site-packages\\lightgbm\\engine.py:153: UserWarning: Found `early_stopping_rounds` in params. Will use it instead of argument\n",
      "  warnings.warn(\"Found `{}` in params. Will use it instead of argument\".format(alias))\n"
     ]
    },
    {
     "name": "stdout",
     "output_type": "stream",
     "text": [
      "[100]\tvalid_0's rmse: 7089.25\n",
      "[200]\tvalid_0's rmse: 6483.66\n",
      "[300]\tvalid_0's rmse: 6261.81\n",
      "[400]\tvalid_0's rmse: 6130.79\n",
      "[500]\tvalid_0's rmse: 6000.06\n",
      "[600]\tvalid_0's rmse: 5905.47\n",
      "[700]\tvalid_0's rmse: 5826.64\n",
      "[800]\tvalid_0's rmse: 5771.6\n",
      "Did not meet early stopping. Best iteration is:\n",
      "[800]\tvalid_0's rmse: 5771.6\n"
     ]
    },
    {
     "name": "stderr",
     "output_type": "stream",
     "text": [
      "\u001b[32m[I 2021-04-06 15:42:04,095]\u001b[0m Trial 2 finished with value: 0.23067974452504433 and parameters: {'num_leaves': 143, 'max_bin': 430, 'learning_rate': 0.054979921185330134, 'max_depth': 4, 'min_child_weight': 8, 'feature_fraction': 0.6760442764220225, 'bagging_fraction': 0.8365265756731871, 'bagging_freq': 8, 'min_child_samples': 51, 'lambda_l1': 6.59371316075839e-08, 'lambda_l2': 1.4626381199795388e-07}. Best is trial 1 with value: 0.22240213004033887.\u001b[0m\n"
     ]
    },
    {
     "name": "stdout",
     "output_type": "stream",
     "text": [
      "RMSE = 0.23067974452504433\n",
      "Training until validation scores don't improve for 10 rounds\n"
     ]
    },
    {
     "name": "stderr",
     "output_type": "stream",
     "text": [
      "D:\\anaconda\\lib\\site-packages\\lightgbm\\engine.py:153: UserWarning: Found `early_stopping_rounds` in params. Will use it instead of argument\n",
      "  warnings.warn(\"Found `{}` in params. Will use it instead of argument\".format(alias))\n"
     ]
    },
    {
     "name": "stdout",
     "output_type": "stream",
     "text": [
      "[100]\tvalid_0's rmse: 5622.1\n",
      "[200]\tvalid_0's rmse: 5458.91\n"
     ]
    },
    {
     "name": "stderr",
     "output_type": "stream",
     "text": [
      "\u001b[32m[I 2021-04-06 15:42:06,176]\u001b[0m Trial 3 finished with value: 0.20737125925265162 and parameters: {'num_leaves': 247, 'max_bin': 689, 'learning_rate': 0.16009642510589028, 'max_depth': 12, 'min_child_weight': 18, 'feature_fraction': 0.8234197640400139, 'bagging_fraction': 0.9490522493323241, 'bagging_freq': 7, 'min_child_samples': 79, 'lambda_l1': 0.00036377444368232203, 'lambda_l2': 0.001203294491850863}. Best is trial 3 with value: 0.20737125925265162.\u001b[0m\n"
     ]
    },
    {
     "name": "stdout",
     "output_type": "stream",
     "text": [
      "Early stopping, best iteration is:\n",
      "[286]\tvalid_0's rmse: 5365.57\n",
      "RMSE = 0.20737125925265162\n",
      "Training until validation scores don't improve for 10 rounds\n"
     ]
    },
    {
     "name": "stderr",
     "output_type": "stream",
     "text": [
      "D:\\anaconda\\lib\\site-packages\\lightgbm\\engine.py:153: UserWarning: Found `early_stopping_rounds` in params. Will use it instead of argument\n",
      "  warnings.warn(\"Found `{}` in params. Will use it instead of argument\".format(alias))\n"
     ]
    },
    {
     "name": "stdout",
     "output_type": "stream",
     "text": [
      "[100]\tvalid_0's rmse: 6693.02\n",
      "[200]\tvalid_0's rmse: 6351.9\n",
      "[300]\tvalid_0's rmse: 6132.33\n",
      "[400]\tvalid_0's rmse: 6000.16\n",
      "[500]\tvalid_0's rmse: 5881.94\n",
      "[600]\tvalid_0's rmse: 5811.21\n",
      "[700]\tvalid_0's rmse: 5750.09\n",
      "[800]\tvalid_0's rmse: 5688.68\n",
      "Did not meet early stopping. Best iteration is:\n",
      "[800]\tvalid_0's rmse: 5688.68\n"
     ]
    },
    {
     "name": "stderr",
     "output_type": "stream",
     "text": [
      "\u001b[32m[I 2021-04-06 15:42:07,820]\u001b[0m Trial 4 finished with value: 0.2289087992502713 and parameters: {'num_leaves': 543, 'max_bin': 638, 'learning_rate': 0.10866138805111754, 'max_depth': 4, 'min_child_weight': 7, 'feature_fraction': 0.7012014957793447, 'bagging_fraction': 0.8373290203003145, 'bagging_freq': 2, 'min_child_samples': 88, 'lambda_l1': 0.0004396530560317554, 'lambda_l2': 4.115813073556097e-05}. Best is trial 3 with value: 0.20737125925265162.\u001b[0m\n"
     ]
    },
    {
     "name": "stdout",
     "output_type": "stream",
     "text": [
      "RMSE = 0.2289087992502713\n",
      "Training until validation scores don't improve for 10 rounds\n"
     ]
    },
    {
     "name": "stderr",
     "output_type": "stream",
     "text": [
      "D:\\anaconda\\lib\\site-packages\\lightgbm\\engine.py:153: UserWarning: Found `early_stopping_rounds` in params. Will use it instead of argument\n",
      "  warnings.warn(\"Found `{}` in params. Will use it instead of argument\".format(alias))\n"
     ]
    },
    {
     "name": "stdout",
     "output_type": "stream",
     "text": [
      "[100]\tvalid_0's rmse: 5676\n",
      "[200]\tvalid_0's rmse: 5448.32\n",
      "[300]\tvalid_0's rmse: 5331.27\n",
      "Early stopping, best iteration is:\n",
      "[294]\tvalid_0's rmse: 5320.62\n"
     ]
    },
    {
     "name": "stderr",
     "output_type": "stream",
     "text": [
      "\u001b[32m[I 2021-04-06 15:42:10,477]\u001b[0m Trial 5 finished with value: 0.20474710750450592 and parameters: {'num_leaves': 218, 'max_bin': 800, 'learning_rate': 0.13275993322761806, 'max_depth': 13, 'min_child_weight': 5, 'feature_fraction': 0.832059690120202, 'bagging_fraction': 0.5061503937992006, 'bagging_freq': 1, 'min_child_samples': 40, 'lambda_l1': 2.7198239992601746e-05, 'lambda_l2': 0.15087057466183645}. Best is trial 5 with value: 0.20474710750450592.\u001b[0m\n"
     ]
    },
    {
     "name": "stdout",
     "output_type": "stream",
     "text": [
      "RMSE = 0.20474710750450592\n",
      "Training until validation scores don't improve for 10 rounds\n"
     ]
    },
    {
     "name": "stderr",
     "output_type": "stream",
     "text": [
      "D:\\anaconda\\lib\\site-packages\\lightgbm\\engine.py:153: UserWarning: Found `early_stopping_rounds` in params. Will use it instead of argument\n",
      "  warnings.warn(\"Found `{}` in params. Will use it instead of argument\".format(alias))\n"
     ]
    },
    {
     "name": "stdout",
     "output_type": "stream",
     "text": [
      "[100]\tvalid_0's rmse: 5383.68\n"
     ]
    },
    {
     "name": "stderr",
     "output_type": "stream",
     "text": [
      "\u001b[32m[I 2021-04-06 15:42:12,337]\u001b[0m Trial 6 finished with value: 0.2055101876380995 and parameters: {'num_leaves': 401, 'max_bin': 1197, 'learning_rate': 0.19708666384274368, 'max_depth': 13, 'min_child_weight': 7, 'feature_fraction': 0.9288918549533742, 'bagging_fraction': 0.6573814831341516, 'bagging_freq': 4, 'min_child_samples': 23, 'lambda_l1': 0.25899337051954413, 'lambda_l2': 1.1847931522676633e-08}. Best is trial 5 with value: 0.20474710750450592.\u001b[0m\n"
     ]
    },
    {
     "name": "stdout",
     "output_type": "stream",
     "text": [
      "Early stopping, best iteration is:\n",
      "[127]\tvalid_0's rmse: 5342.98\n",
      "RMSE = 0.2055101876380995\n"
     ]
    },
    {
     "name": "stderr",
     "output_type": "stream",
     "text": [
      "D:\\anaconda\\lib\\site-packages\\lightgbm\\engine.py:153: UserWarning: Found `early_stopping_rounds` in params. Will use it instead of argument\n",
      "  warnings.warn(\"Found `{}` in params. Will use it instead of argument\".format(alias))\n"
     ]
    },
    {
     "name": "stdout",
     "output_type": "stream",
     "text": [
      "Training until validation scores don't improve for 10 rounds\n",
      "[100]\tvalid_0's rmse: 5945.03\n",
      "[200]\tvalid_0's rmse: 5544.57\n",
      "[300]\tvalid_0's rmse: 5372.79\n",
      "[400]\tvalid_0's rmse: 5267.95\n",
      "[500]\tvalid_0's rmse: 5183.41\n",
      "[600]\tvalid_0's rmse: 5139.42\n",
      "Early stopping, best iteration is:\n",
      "[633]\tvalid_0's rmse: 5125.15\n"
     ]
    },
    {
     "name": "stderr",
     "output_type": "stream",
     "text": [
      "\u001b[32m[I 2021-04-06 15:42:15,496]\u001b[0m Trial 7 finished with value: 0.19914517077796684 and parameters: {'num_leaves': 417, 'max_bin': 917, 'learning_rate': 0.07079241594773729, 'max_depth': 7, 'min_child_weight': 14, 'feature_fraction': 0.5867097557097539, 'bagging_fraction': 0.817227788224222, 'bagging_freq': 4, 'min_child_samples': 29, 'lambda_l1': 0.4375159294447739, 'lambda_l2': 0.02685622607324619}. Best is trial 7 with value: 0.19914517077796684.\u001b[0m\n"
     ]
    },
    {
     "name": "stdout",
     "output_type": "stream",
     "text": [
      "RMSE = 0.19914517077796684\n",
      "Training until validation scores don't improve for 10 rounds\n"
     ]
    },
    {
     "name": "stderr",
     "output_type": "stream",
     "text": [
      "D:\\anaconda\\lib\\site-packages\\lightgbm\\engine.py:153: UserWarning: Found `early_stopping_rounds` in params. Will use it instead of argument\n",
      "  warnings.warn(\"Found `{}` in params. Will use it instead of argument\".format(alias))\n"
     ]
    },
    {
     "name": "stdout",
     "output_type": "stream",
     "text": [
      "[100]\tvalid_0's rmse: 6643.39\n",
      "[200]\tvalid_0's rmse: 6001.01\n",
      "[300]\tvalid_0's rmse: 5756.23\n",
      "[400]\tvalid_0's rmse: 5625\n",
      "[500]\tvalid_0's rmse: 5531.17\n",
      "[600]\tvalid_0's rmse: 5459.58\n",
      "[700]\tvalid_0's rmse: 5406.46\n",
      "[800]\tvalid_0's rmse: 5365.1\n",
      "Did not meet early stopping. Best iteration is:\n",
      "[800]\tvalid_0's rmse: 5365.1\n"
     ]
    },
    {
     "name": "stderr",
     "output_type": "stream",
     "text": [
      "\u001b[32m[I 2021-04-06 15:42:21,793]\u001b[0m Trial 8 finished with value: 0.20157780490990504 and parameters: {'num_leaves': 326, 'max_bin': 1223, 'learning_rate': 0.02866569877585295, 'max_depth': 13, 'min_child_weight': 18, 'feature_fraction': 0.4370123346122251, 'bagging_fraction': 0.9301780099861904, 'bagging_freq': 9, 'min_child_samples': 76, 'lambda_l1': 0.00043613756674054736, 'lambda_l2': 1.930451218845592e-08}. Best is trial 7 with value: 0.19914517077796684.\u001b[0m\n"
     ]
    },
    {
     "name": "stdout",
     "output_type": "stream",
     "text": [
      "RMSE = 0.20157780490990504\n",
      "Training until validation scores don't improve for 10 rounds\n"
     ]
    },
    {
     "name": "stderr",
     "output_type": "stream",
     "text": [
      "D:\\anaconda\\lib\\site-packages\\lightgbm\\engine.py:153: UserWarning: Found `early_stopping_rounds` in params. Will use it instead of argument\n",
      "  warnings.warn(\"Found `{}` in params. Will use it instead of argument\".format(alias))\n"
     ]
    },
    {
     "name": "stdout",
     "output_type": "stream",
     "text": [
      "[100]\tvalid_0's rmse: 7322.29\n",
      "[200]\tvalid_0's rmse: 6618.04\n",
      "[300]\tvalid_0's rmse: 6332.95\n",
      "[400]\tvalid_0's rmse: 6166.3\n",
      "[500]\tvalid_0's rmse: 6041.49\n",
      "[600]\tvalid_0's rmse: 5964\n",
      "[700]\tvalid_0's rmse: 5900.2\n",
      "[800]\tvalid_0's rmse: 5830.36\n",
      "Did not meet early stopping. Best iteration is:\n",
      "[800]\tvalid_0's rmse: 5830.36\n"
     ]
    },
    {
     "name": "stderr",
     "output_type": "stream",
     "text": [
      "\u001b[32m[I 2021-04-06 15:42:26,551]\u001b[0m Trial 9 finished with value: 0.21770855379332987 and parameters: {'num_leaves': 412, 'max_bin': 713, 'learning_rate': 0.022477783641300552, 'max_depth': 11, 'min_child_weight': 15, 'feature_fraction': 0.8250744219378188, 'bagging_fraction': 0.5939805576765965, 'bagging_freq': 7, 'min_child_samples': 88, 'lambda_l1': 0.02010712139664995, 'lambda_l2': 0.00027248557794860287}. Best is trial 7 with value: 0.19914517077796684.\u001b[0m\n"
     ]
    },
    {
     "name": "stdout",
     "output_type": "stream",
     "text": [
      "RMSE = 0.21770855379332987\n"
     ]
    },
    {
     "name": "stderr",
     "output_type": "stream",
     "text": [
      "D:\\anaconda\\lib\\site-packages\\lightgbm\\engine.py:153: UserWarning: Found `early_stopping_rounds` in params. Will use it instead of argument\n",
      "  warnings.warn(\"Found `{}` in params. Will use it instead of argument\".format(alias))\n"
     ]
    },
    {
     "name": "stdout",
     "output_type": "stream",
     "text": [
      "Training until validation scores don't improve for 10 rounds\n",
      "[100]\tvalid_0's rmse: 5520.81\n",
      "[200]\tvalid_0's rmse: 5226.52\n",
      "[300]\tvalid_0's rmse: 5097.39\n",
      "Early stopping, best iteration is:\n",
      "[352]\tvalid_0's rmse: 5051.23\n"
     ]
    },
    {
     "name": "stderr",
     "output_type": "stream",
     "text": [
      "\u001b[32m[I 2021-04-06 15:42:29,549]\u001b[0m Trial 10 finished with value: 0.19679763980746207 and parameters: {'num_leaves': 691, 'max_bin': 1043, 'learning_rate': 0.07815407308642751, 'max_depth': 8, 'min_child_weight': 12, 'feature_fraction': 0.4443238265855757, 'bagging_fraction': 0.7308496163551783, 'bagging_freq': 5, 'min_child_samples': 3, 'lambda_l1': 0.7469213112402626, 'lambda_l2': 0.24772108626908224}. Best is trial 10 with value: 0.19679763980746207.\u001b[0m\n"
     ]
    },
    {
     "name": "stdout",
     "output_type": "stream",
     "text": [
      "RMSE = 0.19679763980746207\n",
      "Training until validation scores don't improve for 10 rounds\n"
     ]
    },
    {
     "name": "stderr",
     "output_type": "stream",
     "text": [
      "D:\\anaconda\\lib\\site-packages\\lightgbm\\engine.py:153: UserWarning: Found `early_stopping_rounds` in params. Will use it instead of argument\n",
      "  warnings.warn(\"Found `{}` in params. Will use it instead of argument\".format(alias))\n"
     ]
    },
    {
     "name": "stdout",
     "output_type": "stream",
     "text": [
      "[100]\tvalid_0's rmse: 5557.31\n",
      "[200]\tvalid_0's rmse: 5242.75\n",
      "[300]\tvalid_0's rmse: 5127.41\n",
      "Early stopping, best iteration is:\n",
      "[351]\tvalid_0's rmse: 5093.3\n"
     ]
    },
    {
     "name": "stderr",
     "output_type": "stream",
     "text": [
      "\u001b[32m[I 2021-04-06 15:42:32,173]\u001b[0m Trial 11 finished with value: 0.19632381636108387 and parameters: {'num_leaves': 700, 'max_bin': 1010, 'learning_rate': 0.07560099494131178, 'max_depth': 8, 'min_child_weight': 12, 'feature_fraction': 0.41719037172115975, 'bagging_fraction': 0.7415626810792684, 'bagging_freq': 5, 'min_child_samples': 3, 'lambda_l1': 0.49472418815658026, 'lambda_l2': 0.314158741192748}. Best is trial 11 with value: 0.19632381636108387.\u001b[0m\n"
     ]
    },
    {
     "name": "stdout",
     "output_type": "stream",
     "text": [
      "RMSE = 0.19632381636108387\n",
      "Training until validation scores don't improve for 10 rounds\n"
     ]
    },
    {
     "name": "stderr",
     "output_type": "stream",
     "text": [
      "D:\\anaconda\\lib\\site-packages\\lightgbm\\engine.py:153: UserWarning: Found `early_stopping_rounds` in params. Will use it instead of argument\n",
      "  warnings.warn(\"Found `{}` in params. Will use it instead of argument\".format(alias))\n"
     ]
    },
    {
     "name": "stdout",
     "output_type": "stream",
     "text": [
      "[100]\tvalid_0's rmse: 5362.02\n",
      "[200]\tvalid_0's rmse: 5153.51\n",
      "Early stopping, best iteration is:\n",
      "[284]\tvalid_0's rmse: 5090.11\n",
      "RMSE = 0.19894792695305155"
     ]
    },
    {
     "name": "stderr",
     "output_type": "stream",
     "text": [
      "\u001b[32m[I 2021-04-06 15:42:34,354]\u001b[0m Trial 12 finished with value: 0.19894792695305155 and parameters: {'num_leaves': 693, 'max_bin': 1078, 'learning_rate': 0.09985855212593633, 'max_depth': 8, 'min_child_weight': 11, 'feature_fraction': 0.42112485717590453, 'bagging_fraction': 0.7325571861059058, 'bagging_freq': 6, 'min_child_samples': 7, 'lambda_l1': 0.03771121178637054, 'lambda_l2': 0.7873044057894787}. Best is trial 11 with value: 0.19632381636108387.\u001b[0m\n"
     ]
    },
    {
     "name": "stdout",
     "output_type": "stream",
     "text": [
      "\n",
      "Training until validation scores don't improve for 10 rounds\n"
     ]
    },
    {
     "name": "stderr",
     "output_type": "stream",
     "text": [
      "D:\\anaconda\\lib\\site-packages\\lightgbm\\engine.py:153: UserWarning: Found `early_stopping_rounds` in params. Will use it instead of argument\n",
      "  warnings.warn(\"Found `{}` in params. Will use it instead of argument\".format(alias))\n"
     ]
    },
    {
     "name": "stdout",
     "output_type": "stream",
     "text": [
      "[100]\tvalid_0's rmse: 5283.72\n",
      "[200]\tvalid_0's rmse: 5056.97\n",
      "Early stopping, best iteration is:\n",
      "[205]\tvalid_0's rmse: 5046.31\n"
     ]
    },
    {
     "name": "stderr",
     "output_type": "stream",
     "text": [
      "\u001b[32m[I 2021-04-06 15:42:36,720]\u001b[0m Trial 13 finished with value: 0.1961326441387272 and parameters: {'num_leaves': 704, 'max_bin': 1019, 'learning_rate': 0.0933193519096507, 'max_depth': 9, 'min_child_weight': 11, 'feature_fraction': 0.5269853912357886, 'bagging_fraction': 0.7351791842332289, 'bagging_freq': 5, 'min_child_samples': 4, 'lambda_l1': 0.9809635565623924, 'lambda_l2': 0.01447730127934037}. Best is trial 13 with value: 0.1961326441387272.\u001b[0m\n"
     ]
    },
    {
     "name": "stdout",
     "output_type": "stream",
     "text": [
      "RMSE = 0.1961326441387272\n",
      "Training until validation scores don't improve for 10 rounds\n"
     ]
    },
    {
     "name": "stderr",
     "output_type": "stream",
     "text": [
      "D:\\anaconda\\lib\\site-packages\\lightgbm\\engine.py:153: UserWarning: Found `early_stopping_rounds` in params. Will use it instead of argument\n",
      "  warnings.warn(\"Found `{}` in params. Will use it instead of argument\".format(alias))\n"
     ]
    },
    {
     "name": "stdout",
     "output_type": "stream",
     "text": [
      "[100]\tvalid_0's rmse: 5388.24\n",
      "Early stopping, best iteration is:\n",
      "[172]\tvalid_0's rmse: 5203.14\n",
      "RMSE = 0.2040686231640092\n"
     ]
    },
    {
     "name": "stderr",
     "output_type": "stream",
     "text": [
      "\u001b[32m[I 2021-04-06 15:42:38,385]\u001b[0m Trial 14 finished with value: 0.2040686231640092 and parameters: {'num_leaves': 589, 'max_bin': 1015, 'learning_rate': 0.11064938686306033, 'max_depth': 9, 'min_child_weight': 10, 'feature_fraction': 0.5252286100930861, 'bagging_fraction': 0.633506286860755, 'bagging_freq': 5, 'min_child_samples': 15, 'lambda_l1': 0.0088324815469363, 'lambda_l2': 0.022947806018573543}. Best is trial 13 with value: 0.1961326441387272.\u001b[0m\n",
      "D:\\anaconda\\lib\\site-packages\\lightgbm\\engine.py:153: UserWarning: Found `early_stopping_rounds` in params. Will use it instead of argument\n",
      "  warnings.warn(\"Found `{}` in params. Will use it instead of argument\".format(alias))\n"
     ]
    },
    {
     "name": "stdout",
     "output_type": "stream",
     "text": [
      "Training until validation scores don't improve for 10 rounds\n",
      "[100]\tvalid_0's rmse: 6366.07\n",
      "[200]\tvalid_0's rmse: 5799.16\n",
      "[300]\tvalid_0's rmse: 5587.91\n",
      "[400]\tvalid_0's rmse: 5426.11\n",
      "[500]\tvalid_0's rmse: 5347.78\n",
      "[600]\tvalid_0's rmse: 5283.29\n",
      "[700]\tvalid_0's rmse: 5218.22\n",
      "[800]\tvalid_0's rmse: 5178.32\n",
      "Did not meet early stopping. Best iteration is:\n",
      "[800]\tvalid_0's rmse: 5178.32\n"
     ]
    },
    {
     "name": "stderr",
     "output_type": "stream",
     "text": [
      "\u001b[32m[I 2021-04-06 15:42:41,863]\u001b[0m Trial 15 finished with value: 0.20225658142843891 and parameters: {'num_leaves': 565, 'max_bin': 1116, 'learning_rate': 0.0417261389085157, 'max_depth': 6, 'min_child_weight': 14, 'feature_fraction': 0.5460159983415118, 'bagging_fraction': 0.7472179210995216, 'bagging_freq': 3, 'min_child_samples': 7, 'lambda_l1': 1.1419802752734669e-05, 'lambda_l2': 0.006371714907212089}. Best is trial 13 with value: 0.1961326441387272.\u001b[0m\n"
     ]
    },
    {
     "name": "stdout",
     "output_type": "stream",
     "text": [
      "RMSE = 0.20225658142843891\n",
      "Training until validation scores don't improve for 10 rounds\n"
     ]
    },
    {
     "name": "stderr",
     "output_type": "stream",
     "text": [
      "D:\\anaconda\\lib\\site-packages\\lightgbm\\engine.py:153: UserWarning: Found `early_stopping_rounds` in params. Will use it instead of argument\n",
      "  warnings.warn(\"Found `{}` in params. Will use it instead of argument\".format(alias))\n"
     ]
    },
    {
     "name": "stdout",
     "output_type": "stream",
     "text": [
      "[100]\tvalid_0's rmse: 5567.56\n"
     ]
    },
    {
     "name": "stderr",
     "output_type": "stream",
     "text": [
      "\u001b[32m[I 2021-04-06 15:42:43,160]\u001b[0m Trial 16 finished with value: 0.21199353316117883 and parameters: {'num_leaves': 712, 'max_bin': 1329, 'learning_rate': 0.1326667793158213, 'max_depth': 10, 'min_child_weight': 1, 'feature_fraction': 0.4924045562104344, 'bagging_fraction': 0.4220794686526291, 'bagging_freq': 6, 'min_child_samples': 25, 'lambda_l1': 0.06717164429385811, 'lambda_l2': 0.8143989095560158}. Best is trial 13 with value: 0.1961326441387272.\u001b[0m\n"
     ]
    },
    {
     "name": "stdout",
     "output_type": "stream",
     "text": [
      "Early stopping, best iteration is:\n",
      "[168]\tvalid_0's rmse: 5368.87\n",
      "RMSE = 0.21199353316117883\n"
     ]
    },
    {
     "name": "stderr",
     "output_type": "stream",
     "text": [
      "D:\\anaconda\\lib\\site-packages\\lightgbm\\engine.py:153: UserWarning: Found `early_stopping_rounds` in params. Will use it instead of argument\n",
      "  warnings.warn(\"Found `{}` in params. Will use it instead of argument\".format(alias))\n"
     ]
    },
    {
     "name": "stdout",
     "output_type": "stream",
     "text": [
      "Training until validation scores don't improve for 10 rounds\n",
      "[100]\tvalid_0's rmse: 5765.65\n",
      "[200]\tvalid_0's rmse: 5502\n",
      "Early stopping, best iteration is:\n",
      "[286]\tvalid_0's rmse: 5370.31\n",
      "RMSE = 0.20462582469191426"
     ]
    },
    {
     "name": "stderr",
     "output_type": "stream",
     "text": [
      "\u001b[32m[I 2021-04-06 15:42:45,286]\u001b[0m Trial 17 finished with value: 0.20462582469191426 and parameters: {'num_leaves': 630, 'max_bin': 928, 'learning_rate': 0.08479931885479669, 'max_depth': 10, 'min_child_weight': 21, 'feature_fraction': 0.6207630282050038, 'bagging_fraction': 0.6797753070181042, 'bagging_freq': 6, 'min_child_samples': 39, 'lambda_l1': 0.0025613614322410024, 'lambda_l2': 2.804117608510068e-05}. Best is trial 13 with value: 0.1961326441387272.\u001b[0m\n"
     ]
    },
    {
     "name": "stdout",
     "output_type": "stream",
     "text": [
      "\n",
      "Training until validation scores don't improve for 10 rounds\n"
     ]
    },
    {
     "name": "stderr",
     "output_type": "stream",
     "text": [
      "D:\\anaconda\\lib\\site-packages\\lightgbm\\engine.py:153: UserWarning: Found `early_stopping_rounds` in params. Will use it instead of argument\n",
      "  warnings.warn(\"Found `{}` in params. Will use it instead of argument\".format(alias))\n"
     ]
    },
    {
     "name": "stdout",
     "output_type": "stream",
     "text": [
      "[100]\tvalid_0's rmse: 5693.36\n"
     ]
    },
    {
     "name": "stderr",
     "output_type": "stream",
     "text": [
      "\u001b[32m[I 2021-04-06 15:42:46,022]\u001b[0m Trial 18 finished with value: 0.21712066725354776 and parameters: {'num_leaves': 36, 'max_bin': 1381, 'learning_rate': 0.13798458366895078, 'max_depth': 7, 'min_child_weight': 9, 'feature_fraction': 0.40814481898702026, 'bagging_fraction': 0.5645357737575447, 'bagging_freq': 3, 'min_child_samples': 16, 'lambda_l1': 0.6533986678440684, 'lambda_l2': 0.004557686159087543}. Best is trial 13 with value: 0.1961326441387272.\u001b[0m\n"
     ]
    },
    {
     "name": "stdout",
     "output_type": "stream",
     "text": [
      "Early stopping, best iteration is:\n",
      "[164]\tvalid_0's rmse: 5439.71\n",
      "RMSE = 0.21712066725354776\n",
      "Training until validation scores don't improve for 10 rounds\n"
     ]
    },
    {
     "name": "stderr",
     "output_type": "stream",
     "text": [
      "D:\\anaconda\\lib\\site-packages\\lightgbm\\engine.py:153: UserWarning: Found `early_stopping_rounds` in params. Will use it instead of argument\n",
      "  warnings.warn(\"Found `{}` in params. Will use it instead of argument\".format(alias))\n"
     ]
    },
    {
     "name": "stdout",
     "output_type": "stream",
     "text": [
      "[100]\tvalid_0's rmse: 8118.85\n",
      "[200]\tvalid_0's rmse: 6969.65\n",
      "[300]\tvalid_0's rmse: 6508.13\n",
      "[400]\tvalid_0's rmse: 6289.15\n",
      "[500]\tvalid_0's rmse: 6119.48\n",
      "[600]\tvalid_0's rmse: 6005.21\n",
      "[700]\tvalid_0's rmse: 5934.95\n",
      "[800]\tvalid_0's rmse: 5871.77\n",
      "Did not meet early stopping. Best iteration is:\n",
      "[800]\tvalid_0's rmse: 5871.77\n"
     ]
    },
    {
     "name": "stderr",
     "output_type": "stream",
     "text": [
      "\u001b[32m[I 2021-04-06 15:42:51,199]\u001b[0m Trial 19 finished with value: 0.22336658911866913 and parameters: {'num_leaves': 501, 'max_bin': 539, 'learning_rate': 0.011723180864443683, 'max_depth': 9, 'min_child_weight': 12, 'feature_fraction': 0.7021717589141873, 'bagging_fraction': 0.784158606315266, 'bagging_freq': 7, 'min_child_samples': 59, 'lambda_l1': 0.9966114398885194, 'lambda_l2': 0.02764192607876656}. Best is trial 13 with value: 0.1961326441387272.\u001b[0m\n"
     ]
    },
    {
     "name": "stdout",
     "output_type": "stream",
     "text": [
      "RMSE = 0.22336658911866913\n",
      "Training until validation scores don't improve for 10 rounds\n"
     ]
    },
    {
     "name": "stderr",
     "output_type": "stream",
     "text": [
      "D:\\anaconda\\lib\\site-packages\\lightgbm\\engine.py:153: UserWarning: Found `early_stopping_rounds` in params. Will use it instead of argument\n",
      "  warnings.warn(\"Found `{}` in params. Will use it instead of argument\".format(alias))\n"
     ]
    },
    {
     "name": "stdout",
     "output_type": "stream",
     "text": [
      "[100]\tvalid_0's rmse: 5248.24\n",
      "[200]\tvalid_0's rmse: 5061.57\n",
      "[300]\tvalid_0's rmse: 5007.08\n",
      "Early stopping, best iteration is:\n",
      "[293]\tvalid_0's rmse: 5005.83\n"
     ]
    },
    {
     "name": "stderr",
     "output_type": "stream",
     "text": [
      "\u001b[32m[I 2021-04-06 15:43:00,288]\u001b[0m Trial 20 finished with value: 0.18843031463956608 and parameters: {'num_leaves': 638, 'max_bin': 948, 'learning_rate': 0.04904104878287835, 'max_depth': 16, 'min_child_weight': 15, 'feature_fraction': 0.5033230474243824, 'bagging_fraction': 0.9021584241676965, 'bagging_freq': 5, 'min_child_samples': 4, 'lambda_l1': 0.10159491808662527, 'lambda_l2': 5.196666635573145e-06}. Best is trial 20 with value: 0.18843031463956608.\u001b[0m\n"
     ]
    },
    {
     "name": "stdout",
     "output_type": "stream",
     "text": [
      "RMSE = 0.18843031463956608\n",
      "Training until validation scores don't improve for 10 rounds\n"
     ]
    },
    {
     "name": "stderr",
     "output_type": "stream",
     "text": [
      "D:\\anaconda\\lib\\site-packages\\lightgbm\\engine.py:153: UserWarning: Found `early_stopping_rounds` in params. Will use it instead of argument\n",
      "  warnings.warn(\"Found `{}` in params. Will use it instead of argument\".format(alias))\n"
     ]
    },
    {
     "name": "stdout",
     "output_type": "stream",
     "text": [
      "[100]\tvalid_0's rmse: 5254.69\n",
      "[200]\tvalid_0's rmse: 5042.82\n",
      "[300]\tvalid_0's rmse: 4977.75\n",
      "Early stopping, best iteration is:\n",
      "[291]\tvalid_0's rmse: 4976.04\n"
     ]
    },
    {
     "name": "stderr",
     "output_type": "stream",
     "text": [
      "\u001b[32m[I 2021-04-06 15:43:08,770]\u001b[0m Trial 21 finished with value: 0.18846328566486423 and parameters: {'num_leaves': 644, 'max_bin': 948, 'learning_rate': 0.04696520015256934, 'max_depth': 16, 'min_child_weight': 15, 'feature_fraction': 0.48555204725843165, 'bagging_fraction': 0.8990646109603083, 'bagging_freq': 5, 'min_child_samples': 13, 'lambda_l1': 0.1361598894301957, 'lambda_l2': 3.5838780975512657e-06}. Best is trial 20 with value: 0.18843031463956608.\u001b[0m\n"
     ]
    },
    {
     "name": "stdout",
     "output_type": "stream",
     "text": [
      "RMSE = 0.18846328566486423\n",
      "Training until validation scores don't improve for 10 rounds\n"
     ]
    },
    {
     "name": "stderr",
     "output_type": "stream",
     "text": [
      "D:\\anaconda\\lib\\site-packages\\lightgbm\\engine.py:153: UserWarning: Found `early_stopping_rounds` in params. Will use it instead of argument\n",
      "  warnings.warn(\"Found `{}` in params. Will use it instead of argument\".format(alias))\n"
     ]
    },
    {
     "name": "stdout",
     "output_type": "stream",
     "text": [
      "[100]\tvalid_0's rmse: 5361.18\n",
      "[200]\tvalid_0's rmse: 5106.43\n",
      "[300]\tvalid_0's rmse: 5037.6\n",
      "Early stopping, best iteration is:\n",
      "[294]\tvalid_0's rmse: 5034.44\n"
     ]
    },
    {
     "name": "stderr",
     "output_type": "stream",
     "text": [
      "\u001b[32m[I 2021-04-06 15:43:15,532]\u001b[0m Trial 22 finished with value: 0.19076659814733377 and parameters: {'num_leaves': 633, 'max_bin': 920, 'learning_rate': 0.04953422106476948, 'max_depth': 15, 'min_child_weight': 21, 'feature_fraction': 0.49354734438585873, 'bagging_fraction': 0.9897294360128258, 'bagging_freq': 4, 'min_child_samples': 14, 'lambda_l1': 0.10962133180017411, 'lambda_l2': 3.9985786998614605e-06}. Best is trial 20 with value: 0.18843031463956608.\u001b[0m\n"
     ]
    },
    {
     "name": "stdout",
     "output_type": "stream",
     "text": [
      "RMSE = 0.19076659814733377\n",
      "Training until validation scores don't improve for 10 rounds\n"
     ]
    },
    {
     "name": "stderr",
     "output_type": "stream",
     "text": [
      "D:\\anaconda\\lib\\site-packages\\lightgbm\\engine.py:153: UserWarning: Found `early_stopping_rounds` in params. Will use it instead of argument\n",
      "  warnings.warn(\"Found `{}` in params. Will use it instead of argument\".format(alias))\n"
     ]
    },
    {
     "name": "stdout",
     "output_type": "stream",
     "text": [
      "[100]\tvalid_0's rmse: 5451.69\n",
      "[200]\tvalid_0's rmse: 5171.25\n",
      "[300]\tvalid_0's rmse: 5087.15\n",
      "Early stopping, best iteration is:\n",
      "[304]\tvalid_0's rmse: 5084.34\n"
     ]
    },
    {
     "name": "stderr",
     "output_type": "stream",
     "text": [
      "\u001b[32m[I 2021-04-06 15:43:22,439]\u001b[0m Trial 23 finished with value: 0.1906585411138126 and parameters: {'num_leaves': 488, 'max_bin': 913, 'learning_rate': 0.0440082858884655, 'max_depth': 16, 'min_child_weight': 21, 'feature_fraction': 0.48538129562925636, 'bagging_fraction': 0.901087819040518, 'bagging_freq': 3, 'min_child_samples': 15, 'lambda_l1': 0.002930696494456457, 'lambda_l2': 3.7700312840629166e-06}. Best is trial 20 with value: 0.18843031463956608.\u001b[0m\n"
     ]
    },
    {
     "name": "stdout",
     "output_type": "stream",
     "text": [
      "RMSE = 0.1906585411138126\n",
      "Training until validation scores don't improve for 10 rounds\n"
     ]
    },
    {
     "name": "stderr",
     "output_type": "stream",
     "text": [
      "D:\\anaconda\\lib\\site-packages\\lightgbm\\engine.py:153: UserWarning: Found `early_stopping_rounds` in params. Will use it instead of argument\n",
      "  warnings.warn(\"Found `{}` in params. Will use it instead of argument\".format(alias))\n"
     ]
    },
    {
     "name": "stdout",
     "output_type": "stream",
     "text": [
      "[100]\tvalid_0's rmse: 5859.75\n",
      "[200]\tvalid_0's rmse: 5467.56\n",
      "[300]\tvalid_0's rmse: 5341.66\n",
      "[400]\tvalid_0's rmse: 5252.7\n",
      "[500]\tvalid_0's rmse: 5203.66\n",
      "[600]\tvalid_0's rmse: 5159.23\n",
      "Early stopping, best iteration is:\n",
      "[668]\tvalid_0's rmse: 5131.61\n"
     ]
    },
    {
     "name": "stderr",
     "output_type": "stream",
     "text": [
      "\u001b[32m[I 2021-04-06 15:43:31,949]\u001b[0m Trial 24 finished with value: 0.19148467436686817 and parameters: {'num_leaves': 482, 'max_bin': 795, 'learning_rate': 0.03803713952533026, 'max_depth': 16, 'min_child_weight': 16, 'feature_fraction': 0.6045366508149977, 'bagging_fraction': 0.9054721976973379, 'bagging_freq': 3, 'min_child_samples': 35, 'lambda_l1': 0.004333787608692368, 'lambda_l2': 4.0423854376201095e-06}. Best is trial 20 with value: 0.18843031463956608.\u001b[0m\n"
     ]
    },
    {
     "name": "stdout",
     "output_type": "stream",
     "text": [
      "RMSE = 0.19148467436686817\n",
      "Training until validation scores don't improve for 10 rounds\n"
     ]
    },
    {
     "name": "stderr",
     "output_type": "stream",
     "text": [
      "D:\\anaconda\\lib\\site-packages\\lightgbm\\engine.py:153: UserWarning: Found `early_stopping_rounds` in params. Will use it instead of argument\n",
      "  warnings.warn(\"Found `{}` in params. Will use it instead of argument\".format(alias))\n"
     ]
    },
    {
     "name": "stdout",
     "output_type": "stream",
     "text": [
      "[100]\tvalid_0's rmse: 7083.62\n",
      "[200]\tvalid_0's rmse: 5859.46\n",
      "[300]\tvalid_0's rmse: 5436.3\n",
      "[400]\tvalid_0's rmse: 5263.12\n",
      "[500]\tvalid_0's rmse: 5166.31\n",
      "[600]\tvalid_0's rmse: 5097.22\n",
      "[700]\tvalid_0's rmse: 5058.61\n",
      "[800]\tvalid_0's rmse: 5032.34\n",
      "Did not meet early stopping. Best iteration is:\n",
      "[800]\tvalid_0's rmse: 5032.34\n"
     ]
    },
    {
     "name": "stderr",
     "output_type": "stream",
     "text": [
      "\u001b[32m[I 2021-04-06 15:43:53,084]\u001b[0m Trial 25 finished with value: 0.1889975652479758 and parameters: {'num_leaves': 491, 'max_bin': 1132, 'learning_rate': 0.012249823109435148, 'max_depth': 16, 'min_child_weight': 19, 'feature_fraction': 0.45943576086275145, 'bagging_fraction': 0.998631891847936, 'bagging_freq': 1, 'min_child_samples': 15, 'lambda_l1': 0.003589408417363699, 'lambda_l2': 2.77371384542926e-06}. Best is trial 20 with value: 0.18843031463956608.\u001b[0m\n"
     ]
    },
    {
     "name": "stdout",
     "output_type": "stream",
     "text": [
      "RMSE = 0.1889975652479758\n",
      "Training until validation scores don't improve for 10 rounds\n"
     ]
    },
    {
     "name": "stderr",
     "output_type": "stream",
     "text": [
      "D:\\anaconda\\lib\\site-packages\\lightgbm\\engine.py:153: UserWarning: Found `early_stopping_rounds` in params. Will use it instead of argument\n",
      "  warnings.warn(\"Found `{}` in params. Will use it instead of argument\".format(alias))\n"
     ]
    },
    {
     "name": "stdout",
     "output_type": "stream",
     "text": [
      "[100]\tvalid_0's rmse: 6945.34\n",
      "[200]\tvalid_0's rmse: 5844.83\n",
      "[300]\tvalid_0's rmse: 5460.65\n",
      "[400]\tvalid_0's rmse: 5289.16\n",
      "[500]\tvalid_0's rmse: 5197.61\n",
      "[600]\tvalid_0's rmse: 5130.53\n",
      "[700]\tvalid_0's rmse: 5092.83\n",
      "[800]\tvalid_0's rmse: 5062.1\n",
      "Did not meet early stopping. Best iteration is:\n",
      "[800]\tvalid_0's rmse: 5062.1\n"
     ]
    },
    {
     "name": "stderr",
     "output_type": "stream",
     "text": [
      "\u001b[32m[I 2021-04-06 15:44:10,014]\u001b[0m Trial 26 finished with value: 0.18977002122919792 and parameters: {'num_leaves': 629, 'max_bin': 1201, 'learning_rate': 0.013755601030388238, 'max_depth': 15, 'min_child_weight': 19, 'feature_fraction': 0.4645399747534578, 'bagging_fraction': 0.9822735825677387, 'bagging_freq': 1, 'min_child_samples': 22, 'lambda_l1': 0.017684485001182946, 'lambda_l2': 3.8819987394105954e-07}. Best is trial 20 with value: 0.18843031463956608.\u001b[0m\n"
     ]
    },
    {
     "name": "stdout",
     "output_type": "stream",
     "text": [
      "RMSE = 0.18977002122919792\n",
      "Training until validation scores don't improve for 10 rounds\n"
     ]
    },
    {
     "name": "stderr",
     "output_type": "stream",
     "text": [
      "D:\\anaconda\\lib\\site-packages\\lightgbm\\engine.py:153: UserWarning: Found `early_stopping_rounds` in params. Will use it instead of argument\n",
      "  warnings.warn(\"Found `{}` in params. Will use it instead of argument\".format(alias))\n"
     ]
    },
    {
     "name": "stdout",
     "output_type": "stream",
     "text": [
      "[100]\tvalid_0's rmse: 6156.18\n",
      "[200]\tvalid_0's rmse: 5563.46\n",
      "[300]\tvalid_0's rmse: 5404.45\n",
      "[400]\tvalid_0's rmse: 5313.65\n",
      "[500]\tvalid_0's rmse: 5250.92\n",
      "[600]\tvalid_0's rmse: 5196.32\n",
      "[700]\tvalid_0's rmse: 5164\n",
      "[800]\tvalid_0's rmse: 5135.38\n",
      "Did not meet early stopping. Best iteration is:\n",
      "[800]\tvalid_0's rmse: 5135.38\n"
     ]
    },
    {
     "name": "stderr",
     "output_type": "stream",
     "text": [
      "\u001b[32m[I 2021-04-06 15:44:20,451]\u001b[0m Trial 27 finished with value: 0.19194594459423725 and parameters: {'num_leaves': 518, 'max_bin': 1154, 'learning_rate': 0.02455859650244331, 'max_depth': 14, 'min_child_weight': 19, 'feature_fraction': 0.5663218847257463, 'bagging_fraction': 0.987293653873893, 'bagging_freq': 6, 'min_child_samples': 31, 'lambda_l1': 0.0012277297723034901, 'lambda_l2': 6.510414181666387e-08}. Best is trial 20 with value: 0.18843031463956608.\u001b[0m\n"
     ]
    },
    {
     "name": "stdout",
     "output_type": "stream",
     "text": [
      "RMSE = 0.19194594459423725\n",
      "Training until validation scores don't improve for 10 rounds\n"
     ]
    },
    {
     "name": "stderr",
     "output_type": "stream",
     "text": [
      "D:\\anaconda\\lib\\site-packages\\lightgbm\\engine.py:153: UserWarning: Found `early_stopping_rounds` in params. Will use it instead of argument\n",
      "  warnings.warn(\"Found `{}` in params. Will use it instead of argument\".format(alias))\n"
     ]
    },
    {
     "name": "stdout",
     "output_type": "stream",
     "text": [
      "[100]\tvalid_0's rmse: 5754.14\n",
      "[200]\tvalid_0's rmse: 5444.99\n",
      "[300]\tvalid_0's rmse: 5304.67\n",
      "[400]\tvalid_0's rmse: 5223.88\n",
      "[500]\tvalid_0's rmse: 5176.29\n",
      "Early stopping, best iteration is:\n",
      "[549]\tvalid_0's rmse: 5158.73\n"
     ]
    },
    {
     "name": "stderr",
     "output_type": "stream",
     "text": [
      "\u001b[32m[I 2021-04-06 15:44:27,006]\u001b[0m Trial 28 finished with value: 0.19584402889446953 and parameters: {'num_leaves': 594, 'max_bin': 970, 'learning_rate': 0.05959727210930094, 'max_depth': 16, 'min_child_weight': 14, 'feature_fraction': 0.6650142324887659, 'bagging_fraction': 0.8898141194445902, 'bagging_freq': 2, 'min_child_samples': 48, 'lambda_l1': 0.16188328164549765, 'lambda_l2': 9.586454467284331e-06}. Best is trial 20 with value: 0.18843031463956608.\u001b[0m\n"
     ]
    },
    {
     "name": "stdout",
     "output_type": "stream",
     "text": [
      "RMSE = 0.19584402889446953\n",
      "Training until validation scores don't improve for 10 rounds\n"
     ]
    },
    {
     "name": "stderr",
     "output_type": "stream",
     "text": [
      "D:\\anaconda\\lib\\site-packages\\lightgbm\\engine.py:153: UserWarning: Found `early_stopping_rounds` in params. Will use it instead of argument\n",
      "  warnings.warn(\"Found `{}` in params. Will use it instead of argument\".format(alias))\n"
     ]
    },
    {
     "name": "stdout",
     "output_type": "stream",
     "text": [
      "[100]\tvalid_0's rmse: 5225.89\n",
      "[200]\tvalid_0's rmse: 5092.91\n",
      "Early stopping, best iteration is:\n",
      "[203]\tvalid_0's rmse: 5090.44\n"
     ]
    },
    {
     "name": "stderr",
     "output_type": "stream",
     "text": [
      "\u001b[32m[I 2021-04-06 15:44:32,470]\u001b[0m Trial 29 finished with value: 0.19224320069134884 and parameters: {'num_leaves': 449, 'max_bin': 1328, 'learning_rate': 0.06246005477382194, 'max_depth': 14, 'min_child_weight': 16, 'feature_fraction': 0.7586320872476509, 'bagging_fraction': 0.9345208747765491, 'bagging_freq': 8, 'min_child_samples': 11, 'lambda_l1': 8.432792538000531e-05, 'lambda_l2': 1.1152520455379662e-06}. Best is trial 20 with value: 0.18843031463956608.\u001b[0m\n"
     ]
    },
    {
     "name": "stdout",
     "output_type": "stream",
     "text": [
      "RMSE = 0.19224320069134884\n",
      "Training until validation scores don't improve for 10 rounds\n"
     ]
    },
    {
     "name": "stderr",
     "output_type": "stream",
     "text": [
      "D:\\anaconda\\lib\\site-packages\\lightgbm\\engine.py:153: UserWarning: Found `early_stopping_rounds` in params. Will use it instead of argument\n",
      "  warnings.warn(\"Found `{}` in params. Will use it instead of argument\".format(alias))\n"
     ]
    },
    {
     "name": "stdout",
     "output_type": "stream",
     "text": [
      "[100]\tvalid_0's rmse: 9234.38\n",
      "[200]\tvalid_0's rmse: 7927.52\n",
      "[300]\tvalid_0's rmse: 7181.95\n",
      "[400]\tvalid_0's rmse: 6732.12\n",
      "[500]\tvalid_0's rmse: 6443.41\n",
      "[600]\tvalid_0's rmse: 6251.65\n",
      "[700]\tvalid_0's rmse: 6106.61\n",
      "[800]\tvalid_0's rmse: 5996.79\n",
      "Did not meet early stopping. Best iteration is:\n",
      "[800]\tvalid_0's rmse: 5996.79\n"
     ]
    },
    {
     "name": "stderr",
     "output_type": "stream",
     "text": [
      "\u001b[32m[I 2021-04-06 15:44:44,268]\u001b[0m Trial 30 finished with value: 0.21849510972794317 and parameters: {'num_leaves': 329, 'max_bin': 1103, 'learning_rate': 0.005777758174589701, 'max_depth': 16, 'min_child_weight': 19, 'feature_fraction': 0.6375678960110126, 'bagging_fraction': 0.8676209384158363, 'bagging_freq': 4, 'min_child_samples': 60, 'lambda_l1': 0.06018122450316928, 'lambda_l2': 9.456348444970313e-07}. Best is trial 20 with value: 0.18843031463956608.\u001b[0m\n"
     ]
    },
    {
     "name": "stdout",
     "output_type": "stream",
     "text": [
      "RMSE = 0.21849510972794317\n",
      "Training until validation scores don't improve for 10 rounds\n"
     ]
    },
    {
     "name": "stderr",
     "output_type": "stream",
     "text": [
      "D:\\anaconda\\lib\\site-packages\\lightgbm\\engine.py:153: UserWarning: Found `early_stopping_rounds` in params. Will use it instead of argument\n",
      "  warnings.warn(\"Found `{}` in params. Will use it instead of argument\".format(alias))\n"
     ]
    },
    {
     "name": "stdout",
     "output_type": "stream",
     "text": [
      "[100]\tvalid_0's rmse: 7560.67\n",
      "[200]\tvalid_0's rmse: 6206.05\n",
      "[300]\tvalid_0's rmse: 5680.91\n",
      "[400]\tvalid_0's rmse: 5440.93\n",
      "[500]\tvalid_0's rmse: 5312.11\n",
      "[600]\tvalid_0's rmse: 5232.23\n",
      "[700]\tvalid_0's rmse: 5178.45\n",
      "[800]\tvalid_0's rmse: 5137.52\n",
      "Did not meet early stopping. Best iteration is:\n",
      "[800]\tvalid_0's rmse: 5137.52\n"
     ]
    },
    {
     "name": "stderr",
     "output_type": "stream",
     "text": [
      "\u001b[32m[I 2021-04-06 15:45:04,616]\u001b[0m Trial 31 finished with value: 0.19149916922017904 and parameters: {'num_leaves': 647, 'max_bin': 1263, 'learning_rate': 0.010265548946830544, 'max_depth': 15, 'min_child_weight': 19, 'feature_fraction': 0.4679141813151282, 'bagging_fraction': 0.9901733775982843, 'bagging_freq': 1, 'min_child_samples': 21, 'lambda_l1': 0.01758076885452565, 'lambda_l2': 2.3599244068497862e-07}. Best is trial 20 with value: 0.18843031463956608.\u001b[0m\n"
     ]
    },
    {
     "name": "stdout",
     "output_type": "stream",
     "text": [
      "RMSE = 0.19149916922017904\n",
      "Training until validation scores don't improve for 10 rounds\n"
     ]
    },
    {
     "name": "stderr",
     "output_type": "stream",
     "text": [
      "D:\\anaconda\\lib\\site-packages\\lightgbm\\engine.py:153: UserWarning: Found `early_stopping_rounds` in params. Will use it instead of argument\n",
      "  warnings.warn(\"Found `{}` in params. Will use it instead of argument\".format(alias))\n"
     ]
    },
    {
     "name": "stdout",
     "output_type": "stream",
     "text": [
      "[100]\tvalid_0's rmse: 6425.08\n",
      "[200]\tvalid_0's rmse: 5521.68\n",
      "[300]\tvalid_0's rmse: 5247.59\n",
      "[400]\tvalid_0's rmse: 5128.68\n",
      "[500]\tvalid_0's rmse: 5061.91\n",
      "[600]\tvalid_0's rmse: 5019.12\n",
      "[700]\tvalid_0's rmse: 4993.54\n",
      "[800]\tvalid_0's rmse: 4972.16\n",
      "Did not meet early stopping. Best iteration is:\n",
      "[800]\tvalid_0's rmse: 4972.16\n"
     ]
    },
    {
     "name": "stderr",
     "output_type": "stream",
     "text": [
      "\u001b[32m[I 2021-04-06 15:45:21,699]\u001b[0m Trial 32 finished with value: 0.18790013845148495 and parameters: {'num_leaves': 658, 'max_bin': 1149, 'learning_rate': 0.017793694714559216, 'max_depth': 15, 'min_child_weight': 17, 'feature_fraction': 0.4004566104758155, 'bagging_fraction': 0.9630272807709481, 'bagging_freq': 1, 'min_child_samples': 19, 'lambda_l1': 0.012812644181387898, 'lambda_l2': 2.9526573266505236e-07}. Best is trial 32 with value: 0.18790013845148495.\u001b[0m\n"
     ]
    },
    {
     "name": "stdout",
     "output_type": "stream",
     "text": [
      "RMSE = 0.18790013845148495\n",
      "Training until validation scores don't improve for 10 rounds\n"
     ]
    },
    {
     "name": "stderr",
     "output_type": "stream",
     "text": [
      "D:\\anaconda\\lib\\site-packages\\lightgbm\\engine.py:153: UserWarning: Found `early_stopping_rounds` in params. Will use it instead of argument\n",
      "  warnings.warn(\"Found `{}` in params. Will use it instead of argument\".format(alias))\n"
     ]
    },
    {
     "name": "stdout",
     "output_type": "stream",
     "text": [
      "[100]\tvalid_0's rmse: 5602.18\n",
      "[200]\tvalid_0's rmse: 5182.58\n",
      "[300]\tvalid_0's rmse: 5054.24\n",
      "[400]\tvalid_0's rmse: 4994.23\n",
      "[500]\tvalid_0's rmse: 4963.59\n",
      "Early stopping, best iteration is:\n",
      "[576]\tvalid_0's rmse: 4949.7\n"
     ]
    },
    {
     "name": "stderr",
     "output_type": "stream",
     "text": [
      "\u001b[32m[I 2021-04-06 15:45:33,492]\u001b[0m Trial 33 finished with value: 0.18710946943561013 and parameters: {'num_leaves': 654, 'max_bin': 850, 'learning_rate': 0.031399475116059575, 'max_depth': 14, 'min_child_weight': 17, 'feature_fraction': 0.40310405873676175, 'bagging_fraction': 0.9557861460046658, 'bagging_freq': 2, 'min_child_samples': 11, 'lambda_l1': 0.005793956918135132, 'lambda_l2': 1.604975358576464e-05}. Best is trial 33 with value: 0.18710946943561013.\u001b[0m\n"
     ]
    },
    {
     "name": "stdout",
     "output_type": "stream",
     "text": [
      "RMSE = 0.18710946943561013\n",
      "Training until validation scores don't improve for 10 rounds\n"
     ]
    },
    {
     "name": "stderr",
     "output_type": "stream",
     "text": [
      "D:\\anaconda\\lib\\site-packages\\lightgbm\\engine.py:153: UserWarning: Found `early_stopping_rounds` in params. Will use it instead of argument\n",
      "  warnings.warn(\"Found `{}` in params. Will use it instead of argument\".format(alias))\n"
     ]
    },
    {
     "name": "stdout",
     "output_type": "stream",
     "text": [
      "[100]\tvalid_0's rmse: 5518.76\n",
      "[200]\tvalid_0's rmse: 5162.98\n",
      "[300]\tvalid_0's rmse: 5048.33\n",
      "[400]\tvalid_0's rmse: 4998.54\n",
      "Early stopping, best iteration is:\n",
      "[453]\tvalid_0's rmse: 4975.55\n"
     ]
    },
    {
     "name": "stderr",
     "output_type": "stream",
     "text": [
      "\u001b[32m[I 2021-04-06 15:45:43,285]\u001b[0m Trial 34 finished with value: 0.18839487041364278 and parameters: {'num_leaves': 657, 'max_bin': 838, 'learning_rate': 0.03468323676992409, 'max_depth': 14, 'min_child_weight': 17, 'feature_fraction': 0.4038966653658282, 'bagging_fraction': 0.9449300506505888, 'bagging_freq': 2, 'min_child_samples': 10, 'lambda_l1': 0.010176781551261225, 'lambda_l2': 2.269374119814408e-05}. Best is trial 33 with value: 0.18710946943561013.\u001b[0m\n"
     ]
    },
    {
     "name": "stdout",
     "output_type": "stream",
     "text": [
      "RMSE = 0.18839487041364278\n",
      "Training until validation scores don't improve for 10 rounds\n"
     ]
    },
    {
     "name": "stderr",
     "output_type": "stream",
     "text": [
      "D:\\anaconda\\lib\\site-packages\\lightgbm\\engine.py:153: UserWarning: Found `early_stopping_rounds` in params. Will use it instead of argument\n",
      "  warnings.warn(\"Found `{}` in params. Will use it instead of argument\".format(alias))\n"
     ]
    },
    {
     "name": "stdout",
     "output_type": "stream",
     "text": [
      "[100]\tvalid_0's rmse: 5626.86\n",
      "[200]\tvalid_0's rmse: 5189.48\n",
      "[300]\tvalid_0's rmse: 5060.04\n",
      "[400]\tvalid_0's rmse: 5005.24\n",
      "Early stopping, best iteration is:\n",
      "[459]\tvalid_0's rmse: 4982.49\n"
     ]
    },
    {
     "name": "stderr",
     "output_type": "stream",
     "text": [
      "\u001b[32m[I 2021-04-06 15:45:53,883]\u001b[0m Trial 35 finished with value: 0.18821396352850261 and parameters: {'num_leaves': 661, 'max_bin': 863, 'learning_rate': 0.03070645314324405, 'max_depth': 14, 'min_child_weight': 17, 'feature_fraction': 0.43321350684254656, 'bagging_fraction': 0.9468985875984365, 'bagging_freq': 2, 'min_child_samples': 7, 'lambda_l1': 0.0008134898663065685, 'lambda_l2': 8.19360789111021e-05}. Best is trial 33 with value: 0.18710946943561013.\u001b[0m\n"
     ]
    },
    {
     "name": "stdout",
     "output_type": "stream",
     "text": [
      "RMSE = 0.18821396352850261\n",
      "Training until validation scores don't improve for 10 rounds\n"
     ]
    },
    {
     "name": "stderr",
     "output_type": "stream",
     "text": [
      "D:\\anaconda\\lib\\site-packages\\lightgbm\\engine.py:153: UserWarning: Found `early_stopping_rounds` in params. Will use it instead of argument\n",
      "  warnings.warn(\"Found `{}` in params. Will use it instead of argument\".format(alias))\n"
     ]
    },
    {
     "name": "stdout",
     "output_type": "stream",
     "text": [
      "[100]\tvalid_0's rmse: 5670.82\n",
      "[200]\tvalid_0's rmse: 5235.17\n",
      "[300]\tvalid_0's rmse: 5097.22\n",
      "[400]\tvalid_0's rmse: 5028.52\n",
      "Early stopping, best iteration is:\n",
      "[465]\tvalid_0's rmse: 4998.78\n"
     ]
    },
    {
     "name": "stderr",
     "output_type": "stream",
     "text": [
      "\u001b[32m[I 2021-04-06 15:46:01,874]\u001b[0m Trial 36 finished with value: 0.19023564202001345 and parameters: {'num_leaves': 581, 'max_bin': 732, 'learning_rate': 0.031683871708956424, 'max_depth': 12, 'min_child_weight': 17, 'feature_fraction': 0.40845214573719013, 'bagging_fraction': 0.9599781826654828, 'bagging_freq': 2, 'min_child_samples': 9, 'lambda_l1': 0.00011517391411275664, 'lambda_l2': 0.00012099790710206197}. Best is trial 33 with value: 0.18710946943561013.\u001b[0m\n"
     ]
    },
    {
     "name": "stdout",
     "output_type": "stream",
     "text": [
      "RMSE = 0.19023564202001345\n",
      "Training until validation scores don't improve for 10 rounds\n"
     ]
    },
    {
     "name": "stderr",
     "output_type": "stream",
     "text": [
      "D:\\anaconda\\lib\\site-packages\\lightgbm\\engine.py:153: UserWarning: Found `early_stopping_rounds` in params. Will use it instead of argument\n",
      "  warnings.warn(\"Found `{}` in params. Will use it instead of argument\".format(alias))\n"
     ]
    },
    {
     "name": "stdout",
     "output_type": "stream",
     "text": [
      "[100]\tvalid_0's rmse: 6253.16\n",
      "[200]\tvalid_0's rmse: 5680.87\n",
      "[300]\tvalid_0's rmse: 5512.21\n",
      "[400]\tvalid_0's rmse: 5413.6\n",
      "[500]\tvalid_0's rmse: 5344.35\n",
      "[600]\tvalid_0's rmse: 5292.82\n",
      "[700]\tvalid_0's rmse: 5257.1\n",
      "Early stopping, best iteration is:\n",
      "[691]\tvalid_0's rmse: 5256.52\n"
     ]
    },
    {
     "name": "stderr",
     "output_type": "stream",
     "text": [
      "\u001b[32m[I 2021-04-06 15:46:13,029]\u001b[0m Trial 37 finished with value: 0.19739005102734183 and parameters: {'num_leaves': 670, 'max_bin': 590, 'learning_rate': 0.023234338012704886, 'max_depth': 14, 'min_child_weight': 17, 'feature_fraction': 0.9993460431395199, 'bagging_fraction': 0.8524530104061934, 'bagging_freq': 2, 'min_child_samples': 27, 'lambda_l1': 0.001039060614308185, 'lambda_l2': 2.174258463845627e-05}. Best is trial 33 with value: 0.18710946943561013.\u001b[0m\n"
     ]
    },
    {
     "name": "stdout",
     "output_type": "stream",
     "text": [
      "RMSE = 0.19739005102734183\n",
      "Training until validation scores don't improve for 10 rounds\n"
     ]
    },
    {
     "name": "stderr",
     "output_type": "stream",
     "text": [
      "D:\\anaconda\\lib\\site-packages\\lightgbm\\engine.py:153: UserWarning: Found `early_stopping_rounds` in params. Will use it instead of argument\n",
      "  warnings.warn(\"Found `{}` in params. Will use it instead of argument\".format(alias))\n"
     ]
    },
    {
     "name": "stdout",
     "output_type": "stream",
     "text": [
      "[100]\tvalid_0's rmse: 6633.75\n",
      "[200]\tvalid_0's rmse: 6102\n",
      "[300]\tvalid_0's rmse: 5864.39\n",
      "[400]\tvalid_0's rmse: 5728.42\n",
      "[500]\tvalid_0's rmse: 5625.31\n",
      "[600]\tvalid_0's rmse: 5540.05\n",
      "[700]\tvalid_0's rmse: 5478.34\n",
      "[800]\tvalid_0's rmse: 5433.04\n",
      "Did not meet early stopping. Best iteration is:\n",
      "[800]\tvalid_0's rmse: 5433.04\n"
     ]
    },
    {
     "name": "stderr",
     "output_type": "stream",
     "text": [
      "\u001b[32m[I 2021-04-06 15:46:18,258]\u001b[0m Trial 38 finished with value: 0.20499286701374525 and parameters: {'num_leaves': 538, 'max_bin': 850, 'learning_rate': 0.03461390524644749, 'max_depth': 12, 'min_child_weight': 20, 'feature_fraction': 0.4071420418322396, 'bagging_fraction': 0.9512568657361976, 'bagging_freq': 1, 'min_child_samples': 100, 'lambda_l1': 9.326749039673728e-06, 'lambda_l2': 0.0010643247321364805}. Best is trial 33 with value: 0.18710946943561013.\u001b[0m\n"
     ]
    },
    {
     "name": "stdout",
     "output_type": "stream",
     "text": [
      "RMSE = 0.20499286701374525\n",
      "Training until validation scores don't improve for 10 rounds\n"
     ]
    },
    {
     "name": "stderr",
     "output_type": "stream",
     "text": [
      "D:\\anaconda\\lib\\site-packages\\lightgbm\\engine.py:153: UserWarning: Found `early_stopping_rounds` in params. Will use it instead of argument\n",
      "  warnings.warn(\"Found `{}` in params. Will use it instead of argument\".format(alias))\n"
     ]
    },
    {
     "name": "stdout",
     "output_type": "stream",
     "text": [
      "[100]\tvalid_0's rmse: 6330.96\n",
      "[200]\tvalid_0's rmse: 5559.6\n",
      "[300]\tvalid_0's rmse: 5336.32\n",
      "[400]\tvalid_0's rmse: 5220.55\n",
      "[500]\tvalid_0's rmse: 5152.85\n",
      "[600]\tvalid_0's rmse: 5101.89\n",
      "[700]\tvalid_0's rmse: 5062.97\n",
      "Early stopping, best iteration is:\n",
      "[736]\tvalid_0's rmse: 5054.63\n"
     ]
    },
    {
     "name": "stderr",
     "output_type": "stream",
     "text": [
      "\u001b[32m[I 2021-04-06 15:46:29,759]\u001b[0m Trial 39 finished with value: 0.19018301475271576 and parameters: {'num_leaves': 596, 'max_bin': 353, 'learning_rate': 0.02051963573702699, 'max_depth': 13, 'min_child_weight': 17, 'feature_fraction': 0.40254687654550414, 'bagging_fraction': 0.7996419689930847, 'bagging_freq': 2, 'min_child_samples': 19, 'lambda_l1': 0.00011877907660874507, 'lambda_l2': 0.00010897812189669349}. Best is trial 33 with value: 0.18710946943561013.\u001b[0m\n"
     ]
    },
    {
     "name": "stdout",
     "output_type": "stream",
     "text": [
      "RMSE = 0.19018301475271576\n",
      "Training until validation scores don't improve for 10 rounds\n"
     ]
    },
    {
     "name": "stderr",
     "output_type": "stream",
     "text": [
      "D:\\anaconda\\lib\\site-packages\\lightgbm\\engine.py:153: UserWarning: Found `early_stopping_rounds` in params. Will use it instead of argument\n",
      "  warnings.warn(\"Found `{}` in params. Will use it instead of argument\".format(alias))\n"
     ]
    },
    {
     "name": "stdout",
     "output_type": "stream",
     "text": [
      "[100]\tvalid_0's rmse: 5697.54\n",
      "[200]\tvalid_0's rmse: 5326.18\n",
      "[300]\tvalid_0's rmse: 5173.67\n",
      "[400]\tvalid_0's rmse: 5095.8\n",
      "[500]\tvalid_0's rmse: 5052.6\n",
      "[600]\tvalid_0's rmse: 5017.48\n",
      "Early stopping, best iteration is:\n",
      "[677]\tvalid_0's rmse: 4996.12\n"
     ]
    },
    {
     "name": "stderr",
     "output_type": "stream",
     "text": [
      "\u001b[32m[I 2021-04-06 15:46:35,240]\u001b[0m Trial 40 finished with value: 0.1911607265962886 and parameters: {'num_leaves': 82, 'max_bin': 848, 'learning_rate': 0.05800504044475166, 'max_depth': 14, 'min_child_weight': 13, 'feature_fraction': 0.43257115633767906, 'bagging_fraction': 0.8653438653900263, 'bagging_freq': 1, 'min_child_samples': 32, 'lambda_l1': 0.008944012275568602, 'lambda_l2': 0.0006515685522692039}. Best is trial 33 with value: 0.18710946943561013.\u001b[0m\n"
     ]
    },
    {
     "name": "stdout",
     "output_type": "stream",
     "text": [
      "RMSE = 0.1911607265962886\n",
      "Training until validation scores don't improve for 10 rounds\n"
     ]
    },
    {
     "name": "stderr",
     "output_type": "stream",
     "text": [
      "D:\\anaconda\\lib\\site-packages\\lightgbm\\engine.py:153: UserWarning: Found `early_stopping_rounds` in params. Will use it instead of argument\n",
      "  warnings.warn(\"Found `{}` in params. Will use it instead of argument\".format(alias))\n"
     ]
    },
    {
     "name": "stdout",
     "output_type": "stream",
     "text": [
      "[100]\tvalid_0's rmse: 5234.79\n",
      "[200]\tvalid_0's rmse: 5029.24\n",
      "[300]\tvalid_0's rmse: 4982.3\n",
      "Early stopping, best iteration is:\n",
      "[330]\tvalid_0's rmse: 4977.45\n"
     ]
    },
    {
     "name": "stderr",
     "output_type": "stream",
     "text": [
      "\u001b[32m[I 2021-04-06 15:46:44,135]\u001b[0m Trial 41 finished with value: 0.18685479349153214 and parameters: {'num_leaves': 663, 'max_bin': 772, 'learning_rate': 0.05364690922904038, 'max_depth': 15, 'min_child_weight': 16, 'feature_fraction': 0.5158725304733791, 'bagging_fraction': 0.9605156946921354, 'bagging_freq': 2, 'min_child_samples': 3, 'lambda_l1': 0.0009722638339694185, 'lambda_l2': 1.3560862848213769e-05}. Best is trial 41 with value: 0.18685479349153214.\u001b[0m\n"
     ]
    },
    {
     "name": "stdout",
     "output_type": "stream",
     "text": [
      "RMSE = 0.18685479349153214\n",
      "Training until validation scores don't improve for 10 rounds\n"
     ]
    },
    {
     "name": "stderr",
     "output_type": "stream",
     "text": [
      "D:\\anaconda\\lib\\site-packages\\lightgbm\\engine.py:153: UserWarning: Found `early_stopping_rounds` in params. Will use it instead of argument\n",
      "  warnings.warn(\"Found `{}` in params. Will use it instead of argument\".format(alias))\n"
     ]
    },
    {
     "name": "stdout",
     "output_type": "stream",
     "text": [
      "[100]\tvalid_0's rmse: 5556.83\n",
      "[200]\tvalid_0's rmse: 5161.55\n",
      "[300]\tvalid_0's rmse: 5040.23\n",
      "[400]\tvalid_0's rmse: 4983.16\n",
      "Early stopping, best iteration is:\n",
      "[484]\tvalid_0's rmse: 4963.54\n"
     ]
    },
    {
     "name": "stderr",
     "output_type": "stream",
     "text": [
      "\u001b[32m[I 2021-04-06 15:46:55,471]\u001b[0m Trial 42 finished with value: 0.18800395673369075 and parameters: {'num_leaves': 670, 'max_bin': 814, 'learning_rate': 0.03182943278859135, 'max_depth': 14, 'min_child_weight': 16, 'feature_fraction': 0.4479142475914105, 'bagging_fraction': 0.9636003069732998, 'bagging_freq': 2, 'min_child_samples': 9, 'lambda_l1': 0.0006827923679909998, 'lambda_l2': 5.305381296851192e-05}. Best is trial 41 with value: 0.18685479349153214.\u001b[0m\n"
     ]
    },
    {
     "name": "stdout",
     "output_type": "stream",
     "text": [
      "RMSE = 0.18800395673369075\n",
      "Training until validation scores don't improve for 10 rounds\n"
     ]
    },
    {
     "name": "stderr",
     "output_type": "stream",
     "text": [
      "D:\\anaconda\\lib\\site-packages\\lightgbm\\engine.py:153: UserWarning: Found `early_stopping_rounds` in params. Will use it instead of argument\n",
      "  warnings.warn(\"Found `{}` in params. Will use it instead of argument\".format(alias))\n"
     ]
    },
    {
     "name": "stdout",
     "output_type": "stream",
     "text": [
      "[100]\tvalid_0's rmse: 6047.35\n",
      "[200]\tvalid_0's rmse: 5335.7\n",
      "[300]\tvalid_0's rmse: 5146.13\n",
      "[400]\tvalid_0's rmse: 5060.19\n",
      "[500]\tvalid_0's rmse: 5019.53\n",
      "Early stopping, best iteration is:\n",
      "[571]\tvalid_0's rmse: 4996.57\n"
     ]
    },
    {
     "name": "stderr",
     "output_type": "stream",
     "text": [
      "\u001b[32m[I 2021-04-06 15:47:11,867]\u001b[0m Trial 43 finished with value: 0.1882861884130122 and parameters: {'num_leaves': 672, 'max_bin': 765, 'learning_rate': 0.020186817664152562, 'max_depth': 15, 'min_child_weight': 16, 'feature_fraction': 0.4558662739061021, 'bagging_fraction': 0.9694652485004767, 'bagging_freq': 3, 'min_child_samples': 3, 'lambda_l1': 0.0007802047731568034, 'lambda_l2': 6.317061535106257e-05}. Best is trial 41 with value: 0.18685479349153214.\u001b[0m\n"
     ]
    },
    {
     "name": "stdout",
     "output_type": "stream",
     "text": [
      "RMSE = 0.1882861884130122\n",
      "Training until validation scores don't improve for 10 rounds\n"
     ]
    },
    {
     "name": "stderr",
     "output_type": "stream",
     "text": [
      "D:\\anaconda\\lib\\site-packages\\lightgbm\\engine.py:153: UserWarning: Found `early_stopping_rounds` in params. Will use it instead of argument\n",
      "  warnings.warn(\"Found `{}` in params. Will use it instead of argument\".format(alias))\n"
     ]
    },
    {
     "name": "stdout",
     "output_type": "stream",
     "text": [
      "[100]\tvalid_0's rmse: 5706.88\n",
      "[200]\tvalid_0's rmse: 5280.08\n",
      "[300]\tvalid_0's rmse: 5151.15\n",
      "[400]\tvalid_0's rmse: 5079.27\n",
      "[500]\tvalid_0's rmse: 5036.09\n",
      "[600]\tvalid_0's rmse: 5011.94\n",
      "[700]\tvalid_0's rmse: 4993.51\n",
      "Early stopping, best iteration is:\n",
      "[692]\tvalid_0's rmse: 4992.73\n"
     ]
    },
    {
     "name": "stderr",
     "output_type": "stream",
     "text": [
      "\u001b[32m[I 2021-04-06 15:47:23,124]\u001b[0m Trial 44 finished with value: 0.18881243041122145 and parameters: {'num_leaves': 557, 'max_bin': 641, 'learning_rate': 0.030289972210457015, 'max_depth': 13, 'min_child_weight': 18, 'feature_fraction': 0.5235355593592788, 'bagging_fraction': 0.9309294807300811, 'bagging_freq': 2, 'min_child_samples': 19, 'lambda_l1': 0.00026797261656068294, 'lambda_l2': 0.00029425847919269143}. Best is trial 41 with value: 0.18685479349153214.\u001b[0m\n"
     ]
    },
    {
     "name": "stdout",
     "output_type": "stream",
     "text": [
      "RMSE = 0.18881243041122145\n",
      "Training until validation scores don't improve for 10 rounds\n"
     ]
    },
    {
     "name": "stderr",
     "output_type": "stream",
     "text": [
      "D:\\anaconda\\lib\\site-packages\\lightgbm\\engine.py:153: UserWarning: Found `early_stopping_rounds` in params. Will use it instead of argument\n",
      "  warnings.warn(\"Found `{}` in params. Will use it instead of argument\".format(alias))\n"
     ]
    },
    {
     "name": "stdout",
     "output_type": "stream",
     "text": [
      "[100]\tvalid_0's rmse: 5281.5\n",
      "[200]\tvalid_0's rmse: 5079.08\n",
      "[300]\tvalid_0's rmse: 5011.89\n",
      "Early stopping, best iteration is:\n",
      "[381]\tvalid_0's rmse: 4988.04\n"
     ]
    },
    {
     "name": "stderr",
     "output_type": "stream",
     "text": [
      "\u001b[32m[I 2021-04-06 15:47:28,987]\u001b[0m Trial 45 finished with value: 0.19036952022438938 and parameters: {'num_leaves': 611, 'max_bin': 474, 'learning_rate': 0.06710715700403791, 'max_depth': 12, 'min_child_weight': 18, 'feature_fraction': 0.44708015676870727, 'bagging_fraction': 0.9233745318306313, 'bagging_freq': 1, 'min_child_samples': 8, 'lambda_l1': 0.00020830794321957343, 'lambda_l2': 3.609466837069002e-08}. Best is trial 41 with value: 0.18685479349153214.\u001b[0m\n"
     ]
    },
    {
     "name": "stdout",
     "output_type": "stream",
     "text": [
      "RMSE = 0.19036952022438938\n",
      "Training until validation scores don't improve for 10 rounds\n"
     ]
    },
    {
     "name": "stderr",
     "output_type": "stream",
     "text": [
      "D:\\anaconda\\lib\\site-packages\\lightgbm\\engine.py:153: UserWarning: Found `early_stopping_rounds` in params. Will use it instead of argument\n",
      "  warnings.warn(\"Found `{}` in params. Will use it instead of argument\".format(alias))\n"
     ]
    },
    {
     "name": "stdout",
     "output_type": "stream",
     "text": [
      "[100]\tvalid_0's rmse: 8862.33\n",
      "[200]\tvalid_0's rmse: 7276.15\n",
      "[300]\tvalid_0's rmse: 6432.65\n",
      "[400]\tvalid_0's rmse: 5965.91\n",
      "[500]\tvalid_0's rmse: 5674.68\n",
      "[600]\tvalid_0's rmse: 5492.62\n",
      "[700]\tvalid_0's rmse: 5375.74\n",
      "[800]\tvalid_0's rmse: 5295.5\n",
      "Did not meet early stopping. Best iteration is:\n",
      "[800]\tvalid_0's rmse: 5295.5\n"
     ]
    },
    {
     "name": "stderr",
     "output_type": "stream",
     "text": [
      "\u001b[32m[I 2021-04-06 15:48:06,826]\u001b[0m Trial 46 finished with value: 0.1976976871048689 and parameters: {'num_leaves': 681, 'max_bin': 682, 'learning_rate': 0.005303465857150837, 'max_depth': 15, 'min_child_weight': 16, 'feature_fraction': 0.5747361523303339, 'bagging_fraction': 0.9622445389808204, 'bagging_freq': 3, 'min_child_samples': 4, 'lambda_l1': 5.24623323868103e-05, 'lambda_l2': 1.577535609103535e-05}. Best is trial 41 with value: 0.18685479349153214.\u001b[0m\n"
     ]
    },
    {
     "name": "stdout",
     "output_type": "stream",
     "text": [
      "RMSE = 0.1976976871048689\n",
      "Training until validation scores don't improve for 10 rounds\n"
     ]
    },
    {
     "name": "stderr",
     "output_type": "stream",
     "text": [
      "D:\\anaconda\\lib\\site-packages\\lightgbm\\engine.py:153: UserWarning: Found `early_stopping_rounds` in params. Will use it instead of argument\n",
      "  warnings.warn(\"Found `{}` in params. Will use it instead of argument\".format(alias))\n"
     ]
    },
    {
     "name": "stdout",
     "output_type": "stream",
     "text": [
      "[100]\tvalid_0's rmse: 5442.53\n",
      "[200]\tvalid_0's rmse: 5181.94\n",
      "[300]\tvalid_0's rmse: 5082.25\n",
      "[400]\tvalid_0's rmse: 5032.84\n",
      "Early stopping, best iteration is:\n",
      "[453]\tvalid_0's rmse: 5012.3\n"
     ]
    },
    {
     "name": "stderr",
     "output_type": "stream",
     "text": [
      "\u001b[32m[I 2021-04-06 15:48:12,412]\u001b[0m Trial 47 finished with value: 0.19141530077800084 and parameters: {'num_leaves': 710, 'max_bin': 879, 'learning_rate': 0.0544962421359883, 'max_depth': 11, 'min_child_weight': 14, 'feature_fraction': 0.43874088736458877, 'bagging_fraction': 0.8723132821325181, 'bagging_freq': 2, 'min_child_samples': 19, 'lambda_l1': 1.7984772009995161e-06, 'lambda_l2': 0.00016601790412891658}. Best is trial 41 with value: 0.18685479349153214.\u001b[0m\n"
     ]
    },
    {
     "name": "stdout",
     "output_type": "stream",
     "text": [
      "RMSE = 0.19141530077800084\n",
      "Training until validation scores don't improve for 10 rounds\n"
     ]
    },
    {
     "name": "stderr",
     "output_type": "stream",
     "text": [
      "D:\\anaconda\\lib\\site-packages\\lightgbm\\engine.py:153: UserWarning: Found `early_stopping_rounds` in params. Will use it instead of argument\n",
      "  warnings.warn(\"Found `{}` in params. Will use it instead of argument\".format(alias))\n"
     ]
    },
    {
     "name": "stdout",
     "output_type": "stream",
     "text": [
      "[100]\tvalid_0's rmse: 5412.54\n",
      "[200]\tvalid_0's rmse: 5181.71\n",
      "[300]\tvalid_0's rmse: 5100.3\n",
      "Early stopping, best iteration is:\n",
      "[340]\tvalid_0's rmse: 5080.73\n"
     ]
    },
    {
     "name": "stderr",
     "output_type": "stream",
     "text": [
      "\u001b[32m[I 2021-04-06 15:48:21,378]\u001b[0m Trial 48 finished with value: 0.19246215972322114 and parameters: {'num_leaves': 710, 'max_bin': 777, 'learning_rate': 0.03900233139105563, 'max_depth': 13, 'min_child_weight': 13, 'feature_fraction': 0.8674090249682651, 'bagging_fraction': 0.8303088140595665, 'bagging_freq': 1, 'min_child_samples': 7, 'lambda_l1': 2.200780901148163e-08, 'lambda_l2': 1.0349415075272466e-05}. Best is trial 41 with value: 0.18685479349153214.\u001b[0m\n"
     ]
    },
    {
     "name": "stdout",
     "output_type": "stream",
     "text": [
      "RMSE = 0.19246215972322114\n",
      "Training until validation scores don't improve for 10 rounds\n"
     ]
    },
    {
     "name": "stderr",
     "output_type": "stream",
     "text": [
      "D:\\anaconda\\lib\\site-packages\\lightgbm\\engine.py:153: UserWarning: Found `early_stopping_rounds` in params. Will use it instead of argument\n",
      "  warnings.warn(\"Found `{}` in params. Will use it instead of argument\".format(alias))\n"
     ]
    },
    {
     "name": "stdout",
     "output_type": "stream",
     "text": [
      "[100]\tvalid_0's rmse: 7067.75\n",
      "[200]\tvalid_0's rmse: 6143.71\n",
      "[300]\tvalid_0's rmse: 5832.41\n",
      "[400]\tvalid_0's rmse: 5670.45\n",
      "[500]\tvalid_0's rmse: 5565.52\n",
      "[600]\tvalid_0's rmse: 5484.76\n",
      "[700]\tvalid_0's rmse: 5424.97\n",
      "[800]\tvalid_0's rmse: 5383.19\n",
      "Did not meet early stopping. Best iteration is:\n",
      "[800]\tvalid_0's rmse: 5383.19\n"
     ]
    },
    {
     "name": "stderr",
     "output_type": "stream",
     "text": [
      "\u001b[32m[I 2021-04-06 15:48:30,746]\u001b[0m Trial 49 finished with value: 0.19991665841114054 and parameters: {'num_leaves': 612, 'max_bin': 681, 'learning_rate': 0.016531853045897923, 'max_depth': 14, 'min_child_weight': 20, 'feature_fraction': 0.5425106728465982, 'bagging_fraction': 0.9158005614830623, 'bagging_freq': 2, 'min_child_samples': 46, 'lambda_l1': 0.0014427097395319083, 'lambda_l2': 1.2757385986077459e-06}. Best is trial 41 with value: 0.18685479349153214.\u001b[0m\n"
     ]
    },
    {
     "name": "stdout",
     "output_type": "stream",
     "text": [
      "RMSE = 0.19991665841114054\n"
     ]
    }
   ],
   "source": [
    "study = optuna.create_study(direction = 'minimize')\n",
    "study.optimize(objective, n_trials = 50)"
   ]
  },
  {
   "cell_type": "code",
   "execution_count": 26,
   "metadata": {},
   "outputs": [
    {
     "name": "stdout",
     "output_type": "stream",
     "text": [
      "Trials : 50\n",
      "Best Trial : FrozenTrial(number=41, values=[0.18685479349153214], datetime_start=datetime.datetime(2021, 4, 6, 15, 46, 35, 241752), datetime_complete=datetime.datetime(2021, 4, 6, 15, 46, 44, 133711), params={'num_leaves': 663, 'max_bin': 772, 'learning_rate': 0.05364690922904038, 'max_depth': 15, 'min_child_weight': 16, 'feature_fraction': 0.5158725304733791, 'bagging_fraction': 0.9605156946921354, 'bagging_freq': 2, 'min_child_samples': 3, 'lambda_l1': 0.0009722638339694185, 'lambda_l2': 1.3560862848213769e-05}, distributions={'num_leaves': IntUniformDistribution(high=712, low=22, step=1), 'max_bin': IntUniformDistribution(high=1400, low=300, step=1), 'learning_rate': UniformDistribution(high=0.2, low=0.005), 'max_depth': IntUniformDistribution(high=16, low=4, step=1), 'min_child_weight': IntUniformDistribution(high=21, low=1, step=1), 'feature_fraction': UniformDistribution(high=1.0, low=0.4), 'bagging_fraction': UniformDistribution(high=1.0, low=0.4), 'bagging_freq': IntUniformDistribution(high=9, low=1, step=1), 'min_child_samples': IntUniformDistribution(high=100, low=3, step=1), 'lambda_l1': LogUniformDistribution(high=1.0, low=1e-08), 'lambda_l2': LogUniformDistribution(high=1.0, low=1e-08)}, user_attrs={}, system_attrs={}, intermediate_values={}, trial_id=41, state=TrialState.COMPLETE, value=None)\n",
      "num_leaves : 663\n",
      "max_bin : 772\n",
      "learning_rate : 0.05364690922904038\n",
      "max_depth : 15\n",
      "min_child_weight : 16\n",
      "feature_fraction : 0.5158725304733791\n",
      "bagging_fraction : 0.9605156946921354\n",
      "bagging_freq : 2\n",
      "min_child_samples : 3\n",
      "lambda_l1 : 0.0009722638339694185\n",
      "lambda_l2 : 1.3560862848213769e-05\n",
      "0.18685479349153214\n"
     ]
    }
   ],
   "source": [
    "print(f\"Trials : {len(study.trials)}\")\n",
    "print(f\"Best Trial : {study.best_trial}\")\n",
    "best = study.best_trial\n",
    "for i, j in best.params.items():\n",
    "    print(f\"{i} : {j}\")\n",
    "print(f\"{best.value}\")"
   ]
  },
  {
   "cell_type": "code",
   "execution_count": 27,
   "metadata": {},
   "outputs": [],
   "source": [
    "best_params = best.params"
   ]
  },
  {
   "cell_type": "code",
   "execution_count": 108,
   "metadata": {},
   "outputs": [
    {
     "data": {
      "text/plain": [
       "LGBMRegressor(bagging_fraction=0.9605156946921354, bagging_freq=2,\n",
       "              feature_fraction=0.5158725304733791,\n",
       "              lambda_l1=0.0009722638339694185, lambda_l2=1.3560862848213769e-05,\n",
       "              learning_rate=0.09665690922904038, max_bin=772, max_depth=16,\n",
       "              min_child_samples=3, min_child_weight=16, num_leaves=662)"
      ]
     },
     "execution_count": 108,
     "metadata": {},
     "output_type": "execute_result"
    }
   ],
   "source": [
    "import lightgbm as lgb\n",
    "clf = lgb.LGBMRegressor(num_leaves=662, max_bin=772, learning_rate=0.09665690922904038, max_depth=16,\n",
    "min_child_weight=16, feature_fraction=0.5158725304733791, bagging_fraction=0.9605156946921354, bagging_freq=2,\n",
    "min_child_samples=3, lambda_l1=0.0009722638339694185, lambda_l2=1.3560862848213769e-05)\n",
    "clf.fit(X_train, y_train)"
   ]
  },
  {
   "cell_type": "code",
   "execution_count": 109,
   "metadata": {},
   "outputs": [
    {
     "name": "stdout",
     "output_type": "stream",
     "text": [
      "0.8104964580456719\n"
     ]
    }
   ],
   "source": [
    "pred = clf.predict(X_test)\n",
    "\n",
    "from sklearn.metrics import r2_score\n",
    "print(r2_score(y_test, pred))"
   ]
  },
  {
   "cell_type": "code",
   "execution_count": 110,
   "metadata": {},
   "outputs": [
    {
     "data": {
      "text/plain": [
       "0.1940748790961101"
      ]
     },
     "execution_count": 110,
     "metadata": {},
     "output_type": "execute_result"
    }
   ],
   "source": [
    "from sklearn.metrics import mean_squared_log_error\n",
    "np.sqrt(mean_squared_log_error(y_test, pred))"
   ]
  },
  {
   "cell_type": "code",
   "execution_count": 111,
   "metadata": {},
   "outputs": [
    {
     "data": {
      "text/plain": [
       "array([19550.52683338, 12156.05481956,  5354.4795713 , ...,\n",
       "       18065.42546984, 21042.23298837, 12641.71211695])"
      ]
     },
     "execution_count": 111,
     "metadata": {},
     "output_type": "execute_result"
    }
   ],
   "source": [
    "prediction = clf.predict(df_Test)\n",
    "prediction"
   ]
  },
  {
   "cell_type": "code",
   "execution_count": 112,
   "metadata": {},
   "outputs": [],
   "source": [
    "output = pd.DataFrame({'Per Person Price': prediction})\n",
    "output.to_csv('WorkathonStarterSubmission_06_V2.csv', index=False)"
   ]
  },
  {
   "cell_type": "code",
   "execution_count": null,
   "metadata": {},
   "outputs": [],
   "source": []
  }
 ],
 "metadata": {
  "kernelspec": {
   "display_name": "Python 3",
   "language": "python",
   "name": "python3"
  },
  "language_info": {
   "codemirror_mode": {
    "name": "ipython",
    "version": 3
   },
   "file_extension": ".py",
   "mimetype": "text/x-python",
   "name": "python",
   "nbconvert_exporter": "python",
   "pygments_lexer": "ipython3",
   "version": "3.7.6"
  }
 },
 "nbformat": 4,
 "nbformat_minor": 4
}
