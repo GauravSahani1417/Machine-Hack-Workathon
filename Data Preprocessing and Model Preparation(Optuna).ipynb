{
 "cells": [
  {
   "cell_type": "code",
   "execution_count": 1,
   "metadata": {},
   "outputs": [],
   "source": [
    "import pandas as pd\n",
    "import numpy as np\n",
    "import seaborn as sns\n",
    "import matplotlib.pyplot as plt\n",
    "import scipy.stats as stats\n",
    "%matplotlib inline"
   ]
  },
  {
   "cell_type": "code",
   "execution_count": 2,
   "metadata": {},
   "outputs": [],
   "source": [
    "df_Train=pd.read_csv('Train_New.csv')\n",
    "df_Test=pd.read_csv('Test_New.csv')"
   ]
  },
  {
   "cell_type": "code",
   "execution_count": 3,
   "metadata": {},
   "outputs": [
    {
     "data": {
      "text/html": [
       "<div>\n",
       "<style scoped>\n",
       "    .dataframe tbody tr th:only-of-type {\n",
       "        vertical-align: middle;\n",
       "    }\n",
       "\n",
       "    .dataframe tbody tr th {\n",
       "        vertical-align: top;\n",
       "    }\n",
       "\n",
       "    .dataframe thead th {\n",
       "        text-align: right;\n",
       "    }\n",
       "</style>\n",
       "<table border=\"1\" class=\"dataframe\">\n",
       "  <thead>\n",
       "    <tr style=\"text-align: right;\">\n",
       "      <th></th>\n",
       "      <th>Package Name</th>\n",
       "      <th>Package Type</th>\n",
       "      <th>D1</th>\n",
       "      <th>D2</th>\n",
       "      <th>D3</th>\n",
       "      <th>D4</th>\n",
       "      <th>D5</th>\n",
       "      <th>N1</th>\n",
       "      <th>N2</th>\n",
       "      <th>N3</th>\n",
       "      <th>...</th>\n",
       "      <th>SP12</th>\n",
       "      <th>SP13</th>\n",
       "      <th>SP14</th>\n",
       "      <th>SP15</th>\n",
       "      <th>SP16</th>\n",
       "      <th>SP17</th>\n",
       "      <th>SP18</th>\n",
       "      <th>SP19</th>\n",
       "      <th>Cancellation Rules</th>\n",
       "      <th>Per Person Price</th>\n",
       "    </tr>\n",
       "  </thead>\n",
       "  <tbody>\n",
       "    <tr>\n",
       "      <th>0</th>\n",
       "      <td>422</td>\n",
       "      <td>4</td>\n",
       "      <td>79</td>\n",
       "      <td>118</td>\n",
       "      <td>54</td>\n",
       "      <td>9</td>\n",
       "      <td>30</td>\n",
       "      <td>1</td>\n",
       "      <td>2</td>\n",
       "      <td>2</td>\n",
       "      <td>...</td>\n",
       "      <td>166</td>\n",
       "      <td>136</td>\n",
       "      <td>108</td>\n",
       "      <td>93</td>\n",
       "      <td>65</td>\n",
       "      <td>46</td>\n",
       "      <td>27</td>\n",
       "      <td>18</td>\n",
       "      <td>5</td>\n",
       "      <td>11509.0</td>\n",
       "    </tr>\n",
       "    <tr>\n",
       "      <th>1</th>\n",
       "      <td>1152</td>\n",
       "      <td>3</td>\n",
       "      <td>107</td>\n",
       "      <td>95</td>\n",
       "      <td>90</td>\n",
       "      <td>49</td>\n",
       "      <td>30</td>\n",
       "      <td>1</td>\n",
       "      <td>2</td>\n",
       "      <td>1</td>\n",
       "      <td>...</td>\n",
       "      <td>166</td>\n",
       "      <td>136</td>\n",
       "      <td>108</td>\n",
       "      <td>93</td>\n",
       "      <td>65</td>\n",
       "      <td>46</td>\n",
       "      <td>27</td>\n",
       "      <td>18</td>\n",
       "      <td>0</td>\n",
       "      <td>22485.5</td>\n",
       "    </tr>\n",
       "    <tr>\n",
       "      <th>2</th>\n",
       "      <td>1437</td>\n",
       "      <td>2</td>\n",
       "      <td>113</td>\n",
       "      <td>24</td>\n",
       "      <td>69</td>\n",
       "      <td>49</td>\n",
       "      <td>30</td>\n",
       "      <td>2</td>\n",
       "      <td>1</td>\n",
       "      <td>0</td>\n",
       "      <td>...</td>\n",
       "      <td>166</td>\n",
       "      <td>136</td>\n",
       "      <td>108</td>\n",
       "      <td>93</td>\n",
       "      <td>65</td>\n",
       "      <td>46</td>\n",
       "      <td>27</td>\n",
       "      <td>18</td>\n",
       "      <td>0</td>\n",
       "      <td>12421.5</td>\n",
       "    </tr>\n",
       "    <tr>\n",
       "      <th>3</th>\n",
       "      <td>487</td>\n",
       "      <td>3</td>\n",
       "      <td>71</td>\n",
       "      <td>68</td>\n",
       "      <td>0</td>\n",
       "      <td>33</td>\n",
       "      <td>30</td>\n",
       "      <td>2</td>\n",
       "      <td>1</td>\n",
       "      <td>1</td>\n",
       "      <td>...</td>\n",
       "      <td>166</td>\n",
       "      <td>136</td>\n",
       "      <td>108</td>\n",
       "      <td>93</td>\n",
       "      <td>65</td>\n",
       "      <td>46</td>\n",
       "      <td>27</td>\n",
       "      <td>18</td>\n",
       "      <td>0</td>\n",
       "      <td>35967.0</td>\n",
       "    </tr>\n",
       "    <tr>\n",
       "      <th>4</th>\n",
       "      <td>196</td>\n",
       "      <td>3</td>\n",
       "      <td>86</td>\n",
       "      <td>13</td>\n",
       "      <td>69</td>\n",
       "      <td>49</td>\n",
       "      <td>30</td>\n",
       "      <td>4</td>\n",
       "      <td>3</td>\n",
       "      <td>0</td>\n",
       "      <td>...</td>\n",
       "      <td>166</td>\n",
       "      <td>136</td>\n",
       "      <td>108</td>\n",
       "      <td>93</td>\n",
       "      <td>65</td>\n",
       "      <td>46</td>\n",
       "      <td>27</td>\n",
       "      <td>18</td>\n",
       "      <td>0</td>\n",
       "      <td>25584.0</td>\n",
       "    </tr>\n",
       "  </tbody>\n",
       "</table>\n",
       "<p>5 rows × 49 columns</p>\n",
       "</div>"
      ],
      "text/plain": [
       "   Package Name  Package Type   D1   D2  D3  D4  D5  N1  N2  N3  ...  SP12  \\\n",
       "0           422             4   79  118  54   9  30   1   2   2  ...   166   \n",
       "1          1152             3  107   95  90  49  30   1   2   1  ...   166   \n",
       "2          1437             2  113   24  69  49  30   2   1   0  ...   166   \n",
       "3           487             3   71   68   0  33  30   2   1   1  ...   166   \n",
       "4           196             3   86   13  69  49  30   4   3   0  ...   166   \n",
       "\n",
       "   SP13  SP14  SP15  SP16  SP17  SP18  SP19  Cancellation Rules  \\\n",
       "0   136   108    93    65    46    27    18                   5   \n",
       "1   136   108    93    65    46    27    18                   0   \n",
       "2   136   108    93    65    46    27    18                   0   \n",
       "3   136   108    93    65    46    27    18                   0   \n",
       "4   136   108    93    65    46    27    18                   0   \n",
       "\n",
       "   Per Person Price  \n",
       "0           11509.0  \n",
       "1           22485.5  \n",
       "2           12421.5  \n",
       "3           35967.0  \n",
       "4           25584.0  \n",
       "\n",
       "[5 rows x 49 columns]"
      ]
     },
     "execution_count": 3,
     "metadata": {},
     "output_type": "execute_result"
    }
   ],
   "source": [
    "df_Train.head()"
   ]
  },
  {
   "cell_type": "code",
   "execution_count": 4,
   "metadata": {},
   "outputs": [
    {
     "data": {
      "text/html": [
       "<div>\n",
       "<style scoped>\n",
       "    .dataframe tbody tr th:only-of-type {\n",
       "        vertical-align: middle;\n",
       "    }\n",
       "\n",
       "    .dataframe tbody tr th {\n",
       "        vertical-align: top;\n",
       "    }\n",
       "\n",
       "    .dataframe thead th {\n",
       "        text-align: right;\n",
       "    }\n",
       "</style>\n",
       "<table border=\"1\" class=\"dataframe\">\n",
       "  <thead>\n",
       "    <tr style=\"text-align: right;\">\n",
       "      <th></th>\n",
       "      <th>Package Name</th>\n",
       "      <th>Package Type</th>\n",
       "      <th>D1</th>\n",
       "      <th>D2</th>\n",
       "      <th>D3</th>\n",
       "      <th>D4</th>\n",
       "      <th>D5</th>\n",
       "      <th>N1</th>\n",
       "      <th>N2</th>\n",
       "      <th>N3</th>\n",
       "      <th>...</th>\n",
       "      <th>SP11</th>\n",
       "      <th>SP12</th>\n",
       "      <th>SP13</th>\n",
       "      <th>SP14</th>\n",
       "      <th>SP15</th>\n",
       "      <th>SP16</th>\n",
       "      <th>SP17</th>\n",
       "      <th>SP18</th>\n",
       "      <th>SP19</th>\n",
       "      <th>Cancellation Rules</th>\n",
       "    </tr>\n",
       "  </thead>\n",
       "  <tbody>\n",
       "    <tr>\n",
       "      <th>0</th>\n",
       "      <td>841</td>\n",
       "      <td>2</td>\n",
       "      <td>35</td>\n",
       "      <td>94</td>\n",
       "      <td>69</td>\n",
       "      <td>49</td>\n",
       "      <td>30</td>\n",
       "      <td>5</td>\n",
       "      <td>0</td>\n",
       "      <td>0</td>\n",
       "      <td>...</td>\n",
       "      <td>194</td>\n",
       "      <td>166</td>\n",
       "      <td>136</td>\n",
       "      <td>108</td>\n",
       "      <td>93</td>\n",
       "      <td>65</td>\n",
       "      <td>46</td>\n",
       "      <td>27</td>\n",
       "      <td>18</td>\n",
       "      <td>0</td>\n",
       "    </tr>\n",
       "    <tr>\n",
       "      <th>1</th>\n",
       "      <td>1061</td>\n",
       "      <td>2</td>\n",
       "      <td>10</td>\n",
       "      <td>94</td>\n",
       "      <td>69</td>\n",
       "      <td>49</td>\n",
       "      <td>30</td>\n",
       "      <td>2</td>\n",
       "      <td>0</td>\n",
       "      <td>0</td>\n",
       "      <td>...</td>\n",
       "      <td>194</td>\n",
       "      <td>166</td>\n",
       "      <td>136</td>\n",
       "      <td>108</td>\n",
       "      <td>93</td>\n",
       "      <td>65</td>\n",
       "      <td>46</td>\n",
       "      <td>27</td>\n",
       "      <td>18</td>\n",
       "      <td>9</td>\n",
       "    </tr>\n",
       "    <tr>\n",
       "      <th>2</th>\n",
       "      <td>2127</td>\n",
       "      <td>4</td>\n",
       "      <td>71</td>\n",
       "      <td>94</td>\n",
       "      <td>69</td>\n",
       "      <td>49</td>\n",
       "      <td>30</td>\n",
       "      <td>3</td>\n",
       "      <td>0</td>\n",
       "      <td>0</td>\n",
       "      <td>...</td>\n",
       "      <td>194</td>\n",
       "      <td>166</td>\n",
       "      <td>136</td>\n",
       "      <td>108</td>\n",
       "      <td>93</td>\n",
       "      <td>65</td>\n",
       "      <td>46</td>\n",
       "      <td>27</td>\n",
       "      <td>18</td>\n",
       "      <td>9</td>\n",
       "    </tr>\n",
       "    <tr>\n",
       "      <th>3</th>\n",
       "      <td>1471</td>\n",
       "      <td>1</td>\n",
       "      <td>71</td>\n",
       "      <td>94</td>\n",
       "      <td>69</td>\n",
       "      <td>49</td>\n",
       "      <td>30</td>\n",
       "      <td>3</td>\n",
       "      <td>0</td>\n",
       "      <td>0</td>\n",
       "      <td>...</td>\n",
       "      <td>194</td>\n",
       "      <td>166</td>\n",
       "      <td>136</td>\n",
       "      <td>108</td>\n",
       "      <td>93</td>\n",
       "      <td>65</td>\n",
       "      <td>46</td>\n",
       "      <td>27</td>\n",
       "      <td>18</td>\n",
       "      <td>9</td>\n",
       "    </tr>\n",
       "    <tr>\n",
       "      <th>4</th>\n",
       "      <td>1938</td>\n",
       "      <td>2</td>\n",
       "      <td>21</td>\n",
       "      <td>83</td>\n",
       "      <td>92</td>\n",
       "      <td>1</td>\n",
       "      <td>30</td>\n",
       "      <td>1</td>\n",
       "      <td>2</td>\n",
       "      <td>1</td>\n",
       "      <td>...</td>\n",
       "      <td>194</td>\n",
       "      <td>166</td>\n",
       "      <td>136</td>\n",
       "      <td>108</td>\n",
       "      <td>93</td>\n",
       "      <td>65</td>\n",
       "      <td>46</td>\n",
       "      <td>27</td>\n",
       "      <td>18</td>\n",
       "      <td>0</td>\n",
       "    </tr>\n",
       "  </tbody>\n",
       "</table>\n",
       "<p>5 rows × 48 columns</p>\n",
       "</div>"
      ],
      "text/plain": [
       "   Package Name  Package Type  D1  D2  D3  D4  D5  N1  N2  N3  ...  SP11  \\\n",
       "0           841             2  35  94  69  49  30   5   0   0  ...   194   \n",
       "1          1061             2  10  94  69  49  30   2   0   0  ...   194   \n",
       "2          2127             4  71  94  69  49  30   3   0   0  ...   194   \n",
       "3          1471             1  71  94  69  49  30   3   0   0  ...   194   \n",
       "4          1938             2  21  83  92   1  30   1   2   1  ...   194   \n",
       "\n",
       "   SP12  SP13  SP14  SP15  SP16  SP17  SP18  SP19  Cancellation Rules  \n",
       "0   166   136   108    93    65    46    27    18                   0  \n",
       "1   166   136   108    93    65    46    27    18                   9  \n",
       "2   166   136   108    93    65    46    27    18                   9  \n",
       "3   166   136   108    93    65    46    27    18                   9  \n",
       "4   166   136   108    93    65    46    27    18                   0  \n",
       "\n",
       "[5 rows x 48 columns]"
      ]
     },
     "execution_count": 4,
     "metadata": {},
     "output_type": "execute_result"
    }
   ],
   "source": [
    "df_Test.head()"
   ]
  },
  {
   "cell_type": "code",
   "execution_count": 5,
   "metadata": {},
   "outputs": [
    {
     "name": "stdout",
     "output_type": "stream",
     "text": [
      "(21000, 49)\n",
      "(9000, 48)\n"
     ]
    }
   ],
   "source": [
    "print(df_Train.shape)\n",
    "print(df_Test.shape)"
   ]
  },
  {
   "cell_type": "code",
   "execution_count": 8,
   "metadata": {},
   "outputs": [],
   "source": [
    "## Removing Uncesseary features!"
   ]
  },
  {
   "cell_type": "code",
   "execution_count": 6,
   "metadata": {},
   "outputs": [],
   "source": [
    "df_Train.drop('D1', axis=1, inplace=True)\n",
    "df_Train.drop('PC1', axis=1, inplace=True)\n",
    "df_Train.drop('Year', axis=1, inplace=True)\n",
    "df_Train.drop('Month', axis=1, inplace=True)\n",
    "df_Train.drop('SP5', axis=1, inplace=True)\n",
    "df_Train.drop('Package Type', axis=1, inplace=True)\n",
    "df_Train.drop('SP3', axis=1, inplace=True)\n",
    "df_Train.drop('Start City', axis=1, inplace=True)\n",
    "df_Train.drop('Package Name', axis=1, inplace=True)\n",
    "df_Train.drop('SP1', axis=1, inplace=True)\n",
    "df_Train.drop('SP4', axis=1, inplace=True)\n",
    "df_Train.drop('SP6', axis=1, inplace=True)\n",
    "df_Train.drop('Hotel Details', axis=1, inplace=True)\n",
    "df_Train.drop('A1', axis=1, inplace=True)"
   ]
  },
  {
   "cell_type": "code",
   "execution_count": 7,
   "metadata": {},
   "outputs": [],
   "source": [
    "df_Test.drop('D1', axis=1, inplace=True)\n",
    "df_Test.drop('PC1', axis=1, inplace=True)\n",
    "df_Test.drop('Year', axis=1, inplace=True)\n",
    "df_Test.drop('Month', axis=1, inplace=True)\n",
    "df_Test.drop('SP5', axis=1, inplace=True)\n",
    "df_Test.drop('Package Type', axis=1, inplace=True)\n",
    "df_Test.drop('SP3', axis=1, inplace=True)\n",
    "df_Test.drop('Start City', axis=1, inplace=True)\n",
    "df_Test.drop('Package Name', axis=1, inplace=True)\n",
    "df_Test.drop('SP1', axis=1, inplace=True)\n",
    "df_Test.drop('SP4', axis=1, inplace=True)\n",
    "df_Test.drop('SP6', axis=1, inplace=True)\n",
    "df_Test.drop('Hotel Details', axis=1, inplace=True)\n",
    "df_Test.drop('A1', axis=1, inplace=True)"
   ]
  },
  {
   "cell_type": "code",
   "execution_count": 10,
   "metadata": {},
   "outputs": [
    {
     "data": {
      "text/plain": [
       "<matplotlib.axes._subplots.AxesSubplot at 0x278a61d3508>"
      ]
     },
     "execution_count": 10,
     "metadata": {},
     "output_type": "execute_result"
    },
    {
     "data": {
      "image/png": "[encoded data removed]",
      "text/plain": [
       "<Figure size 1080x1080 with 2 Axes>"
      ]
     },
     "metadata": {
      "needs_background": "light"
     },
     "output_type": "display_data"
    }
   ],
   "source": [
    "plt.figure(figsize=(15, 15))\n",
    "sns.heatmap(df_Train.corr())"
   ]
  },
  {
   "cell_type": "code",
   "execution_count": 12,
   "metadata": {},
   "outputs": [],
   "source": [
    "df_Train.drop('PC2', axis=1, inplace=True)\n",
    "df_Train.drop('PC3', axis=1, inplace=True)\n",
    "df_Train.drop('PC4', axis=1, inplace=True)\n",
    "df_Train.drop('PC5', axis=1, inplace=True)\n",
    "df_Train.drop('Meals', axis=1, inplace=True)"
   ]
  },
  {
   "cell_type": "code",
   "execution_count": 13,
   "metadata": {},
   "outputs": [],
   "source": [
    "df_Test.drop('PC2', axis=1, inplace=True)\n",
    "df_Test.drop('PC3', axis=1, inplace=True)\n",
    "df_Test.drop('PC4', axis=1, inplace=True)\n",
    "df_Test.drop('PC5', axis=1, inplace=True)\n",
    "df_Test.drop('Meals', axis=1, inplace=True)"
   ]
  },
  {
   "cell_type": "code",
   "execution_count": 14,
   "metadata": {},
   "outputs": [
    {
     "data": {
      "text/plain": [
       "<matplotlib.axes._subplots.AxesSubplot at 0x278a6de2c48>"
      ]
     },
     "execution_count": 14,
     "metadata": {},
     "output_type": "execute_result"
    },
    {
     "data": {
      "image/png": "[encoded data removed]",
      "text/plain": [
       "<Figure size 1080x1080 with 2 Axes>"
      ]
     },
     "metadata": {
      "needs_background": "light"
     },
     "output_type": "display_data"
    }
   ],
   "source": [
    "plt.figure(figsize=(15, 15))\n",
    "sns.heatmap(df_Train.corr())"
   ]
  },
  {
   "cell_type": "code",
   "execution_count": 15,
   "metadata": {},
   "outputs": [],
   "source": [
    "df_Train.drop('N5', axis=1, inplace=True)\n",
    "df_Test.drop('N5', axis=1, inplace=True)"
   ]
  },
  {
   "cell_type": "code",
   "execution_count": 16,
   "metadata": {},
   "outputs": [],
   "source": [
    "df_Train.drop('A4', axis=1, inplace=True)\n",
    "df_Test.drop('A4', axis=1, inplace=True)"
   ]
  },
  {
   "cell_type": "code",
   "execution_count": 17,
   "metadata": {},
   "outputs": [
    {
     "data": {
      "text/plain": [
       "<matplotlib.axes._subplots.AxesSubplot at 0x278a6864dc8>"
      ]
     },
     "execution_count": 17,
     "metadata": {},
     "output_type": "execute_result"
    },
    {
     "data": {
      "image/png": "[encoded data removed]",
      "text/plain": [
       "<Figure size 1080x1080 with 2 Axes>"
      ]
     },
     "metadata": {
      "needs_background": "light"
     },
     "output_type": "display_data"
    }
   ],
   "source": [
    "plt.figure(figsize=(15, 15))\n",
    "sns.heatmap(df_Train.corr())"
   ]
  },
  {
   "cell_type": "code",
   "execution_count": 18,
   "metadata": {},
   "outputs": [
    {
     "name": "stdout",
     "output_type": "stream",
     "text": [
      "(21000, 28)\n",
      "(9000, 27)\n"
     ]
    }
   ],
   "source": [
    "print(df_Train.shape)\n",
    "print(df_Test.shape)"
   ]
  },
  {
   "cell_type": "code",
   "execution_count": 19,
   "metadata": {},
   "outputs": [],
   "source": [
    "X=df_Train.drop(['Per Person Price'],axis=1)\n",
    "y=df_Train[['Per Person Price']]"
   ]
  },
  {
   "cell_type": "code",
   "execution_count": 20,
   "metadata": {},
   "outputs": [],
   "source": [
    "from sklearn.model_selection import train_test_split\n",
    "X_train,X_test,y_train,y_test=train_test_split(X, y, test_size=0.176,random_state=33)"
   ]
  },
  {
   "cell_type": "code",
   "execution_count": 21,
   "metadata": {},
   "outputs": [],
   "source": [
    "import optuna\n",
    "from math import sqrt\n",
    "import lightgbm as lgb"
   ]
  },
  {
   "cell_type": "code",
   "execution_count": 22,
   "metadata": {},
   "outputs": [],
   "source": [
    "lgb_train = lgb.Dataset(X_train, y_train)\n",
    "lgb_valid = lgb.Dataset(X_test, y_test, reference=lgb_train)"
   ]
  },
  {
   "cell_type": "code",
   "execution_count": 23,
   "metadata": {},
   "outputs": [],
   "source": [
    "from sklearn.metrics import mean_squared_log_error"
   ]
  },
  {
   "cell_type": "code",
   "execution_count": 24,
   "metadata": {},
   "outputs": [],
   "source": [
    "def objective(trial):    \n",
    "    params = {\n",
    "            'num_leaves': trial.suggest_int('num_leaves', 22, 1012),\n",
    "            'max_bin': trial.suggest_int('max_bin', 300, 1300),\n",
    "            'objective': 'regression',\n",
    "            'metric': 'RMSE',\n",
    "            'learning_rate': trial.suggest_float('learning_rate',0.001,0.2),\n",
    "            'random_state' : 33,\n",
    "            'max_depth': trial.suggest_int('max_depth', 2, 22),\n",
    "            'min_child_weight': trial.suggest_int('min_child_weight', 1, 52),\n",
    "            'feature_fraction': trial.suggest_uniform('feature_fraction', 0.1, 1.0),\n",
    "            'bagging_fraction': trial.suggest_uniform('bagging_fraction', 0.1, 1.0),\n",
    "            'bagging_freq': trial.suggest_int('bagging_freq', 1, 20),\n",
    "            'min_child_samples': trial.suggest_int('min_child_samples', 3, 200),\n",
    "            'lambda_l1': trial.suggest_loguniform('lambda_l1', 1e-8, 1.0),\n",
    "            'lambda_l2': trial.suggest_loguniform('lambda_l2', 1e-8, 1.0),\n",
    "            'early_stopping_rounds': 50\n",
    "            }\n",
    "    \n",
    "    model = lgb.train(params, lgb_train, valid_sets=[lgb_valid], verbose_eval=100, num_boost_round=800)\n",
    "    y_pred  = model.predict(X_test)\n",
    "    score = np.sqrt(mean_squared_log_error(y_test, y_pred))\n",
    "    print(f\"RMSE = {score}\")\n",
    "    return score"
   ]
  },
  {
   "cell_type": "code",
   "execution_count": 25,
   "metadata": {},
   "outputs": [
    {
     "name": "stderr",
     "output_type": "stream",
     "text": [
      "\u001b[32m[I 2021-04-07 20:21:29,968]\u001b[0m A new study created in memory with name: no-name-f67deb0a-a359-4889-af5c-cd9f455f5149\u001b[0m\n",
      "D:\\anaconda\\lib\\site-packages\\lightgbm\\engine.py:153: UserWarning: Found `early_stopping_rounds` in params. Will use it instead of argument\n",
      "  warnings.warn(\"Found `{}` in params. Will use it instead of argument\".format(alias))\n"
     ]
    },
    {
     "name": "stdout",
     "output_type": "stream",
     "text": [
      "Training until validation scores don't improve for 50 rounds\n",
      "[100]\tvalid_0's rmse: 6444.55\n",
      "[200]\tvalid_0's rmse: 6214.87\n",
      "[300]\tvalid_0's rmse: 6096.67\n",
      "[400]\tvalid_0's rmse: 6044.09\n",
      "[500]\tvalid_0's rmse: 6011.89\n",
      "[600]\tvalid_0's rmse: 5965.84\n",
      "[700]\tvalid_0's rmse: 5949.34\n",
      "[800]\tvalid_0's rmse: 5926.54\n",
      "Did not meet early stopping. Best iteration is:\n",
      "[800]\tvalid_0's rmse: 5926.54\n"
     ]
    },
    {
     "name": "stderr",
     "output_type": "stream",
     "text": [
      "\u001b[32m[I 2021-04-07 20:21:33,521]\u001b[0m Trial 0 finished with value: 0.2548812353150762 and parameters: {'num_leaves': 127, 'max_bin': 731, 'learning_rate': 0.11815939863803882, 'max_depth': 10, 'min_child_weight': 44, 'feature_fraction': 0.6445119591505375, 'bagging_fraction': 0.8438616743448304, 'bagging_freq': 14, 'min_child_samples': 3, 'lambda_l1': 1.1709001803482225e-08, 'lambda_l2': 4.414609571214226e-05}. Best is trial 0 with value: 0.2548812353150762.\u001b[0m\n"
     ]
    },
    {
     "name": "stdout",
     "output_type": "stream",
     "text": [
      "RMSE = 0.2548812353150762\n",
      "Training until validation scores don't improve for 50 rounds\n",
      "[100]\tvalid_0's rmse: 7812.62\n",
      "[200]\tvalid_0's rmse: 7458.15\n",
      "[300]\tvalid_0's rmse: 7299.91"
     ]
    },
    {
     "name": "stderr",
     "output_type": "stream",
     "text": [
      "D:\\anaconda\\lib\\site-packages\\lightgbm\\engine.py:153: UserWarning: Found `early_stopping_rounds` in params. Will use it instead of argument\n",
      "  warnings.warn(\"Found `{}` in params. Will use it instead of argument\".format(alias))\n"
     ]
    },
    {
     "name": "stdout",
     "output_type": "stream",
     "text": [
      "\n",
      "[400]\tvalid_0's rmse: 7200.08\n",
      "[500]\tvalid_0's rmse: 7115.03\n",
      "[600]\tvalid_0's rmse: 7061.09\n"
     ]
    },
    {
     "name": "stderr",
     "output_type": "stream",
     "text": [
      "\u001b[32m[I 2021-04-07 20:21:34,103]\u001b[0m Trial 1 finished with value: 0.30351124259175 and parameters: {'num_leaves': 715, 'max_bin': 577, 'learning_rate': 0.17805292431271322, 'max_depth': 2, 'min_child_weight': 26, 'feature_fraction': 0.13683122636765271, 'bagging_fraction': 0.9340703818071251, 'bagging_freq': 16, 'min_child_samples': 121, 'lambda_l1': 1.7940839596009833e-08, 'lambda_l2': 4.9299960045328034e-08}. Best is trial 0 with value: 0.2548812353150762.\u001b[0m\n"
     ]
    },
    {
     "name": "stdout",
     "output_type": "stream",
     "text": [
      "[700]\tvalid_0's rmse: 7032.52\n",
      "[800]\tvalid_0's rmse: 6994.95\n",
      "Did not meet early stopping. Best iteration is:\n",
      "[799]\tvalid_0's rmse: 6994.87\n",
      "RMSE = 0.30351124259175\n",
      "Training until validation scores don't improve for 50 rounds\n"
     ]
    },
    {
     "name": "stderr",
     "output_type": "stream",
     "text": [
      "D:\\anaconda\\lib\\site-packages\\lightgbm\\engine.py:153: UserWarning: Found `early_stopping_rounds` in params. Will use it instead of argument\n",
      "  warnings.warn(\"Found `{}` in params. Will use it instead of argument\".format(alias))\n"
     ]
    },
    {
     "name": "stdout",
     "output_type": "stream",
     "text": [
      "[100]\tvalid_0's rmse: 7103.44\n",
      "[200]\tvalid_0's rmse: 6664.13\n",
      "[300]\tvalid_0's rmse: 6467.85\n",
      "[400]\tvalid_0's rmse: 6373.82\n",
      "[500]\tvalid_0's rmse: 6281.8\n",
      "[600]\tvalid_0's rmse: 6220.36\n",
      "[700]\tvalid_0's rmse: 6182.28\n",
      "[800]\tvalid_0's rmse: 6135.67\n",
      "Did not meet early stopping. Best iteration is:\n",
      "[800]\tvalid_0's rmse: 6135.67\n"
     ]
    },
    {
     "name": "stderr",
     "output_type": "stream",
     "text": [
      "\u001b[32m[I 2021-04-07 20:21:38,340]\u001b[0m Trial 2 finished with value: 0.2590777330915197 and parameters: {'num_leaves': 356, 'max_bin': 722, 'learning_rate': 0.043308492882444746, 'max_depth': 20, 'min_child_weight': 52, 'feature_fraction': 0.47724684589002553, 'bagging_fraction': 0.4080478240620484, 'bagging_freq': 7, 'min_child_samples': 21, 'lambda_l1': 0.020298722054075204, 'lambda_l2': 1.8867766056969897e-05}. Best is trial 0 with value: 0.2548812353150762.\u001b[0m\n"
     ]
    },
    {
     "name": "stdout",
     "output_type": "stream",
     "text": [
      "RMSE = 0.2590777330915197\n",
      "Training until validation scores don't improve for 50 rounds\n"
     ]
    },
    {
     "name": "stderr",
     "output_type": "stream",
     "text": [
      "D:\\anaconda\\lib\\site-packages\\lightgbm\\engine.py:153: UserWarning: Found `early_stopping_rounds` in params. Will use it instead of argument\n",
      "  warnings.warn(\"Found `{}` in params. Will use it instead of argument\".format(alias))\n"
     ]
    },
    {
     "name": "stdout",
     "output_type": "stream",
     "text": [
      "[100]\tvalid_0's rmse: 6710.98\n",
      "[200]\tvalid_0's rmse: 6440.8\n",
      "[300]\tvalid_0's rmse: 6316.88\n",
      "[400]\tvalid_0's rmse: 6224.69\n",
      "[500]\tvalid_0's rmse: 6163.87\n",
      "[600]\tvalid_0's rmse: 6134.32\n",
      "[700]\tvalid_0's rmse: 6093.42\n",
      "[800]\tvalid_0's rmse: 6056.33\n",
      "Did not meet early stopping. Best iteration is:\n",
      "[798]\tvalid_0's rmse: 6055.67\n"
     ]
    },
    {
     "name": "stderr",
     "output_type": "stream",
     "text": [
      "\u001b[32m[I 2021-04-07 20:21:41,792]\u001b[0m Trial 3 finished with value: 0.25790129752580027 and parameters: {'num_leaves': 540, 'max_bin': 1267, 'learning_rate': 0.13556173877085823, 'max_depth': 22, 'min_child_weight': 2, 'feature_fraction': 0.3478246127236978, 'bagging_fraction': 0.6508610393161353, 'bagging_freq': 1, 'min_child_samples': 120, 'lambda_l1': 3.2816675550899966e-08, 'lambda_l2': 0.2517501850308311}. Best is trial 0 with value: 0.2548812353150762.\u001b[0m\n"
     ]
    },
    {
     "name": "stdout",
     "output_type": "stream",
     "text": [
      "RMSE = 0.25790129752580027\n",
      "Training until validation scores don't improve for 50 rounds\n",
      "[100]\tvalid_0's rmse: 7317.79"
     ]
    },
    {
     "name": "stderr",
     "output_type": "stream",
     "text": [
      "D:\\anaconda\\lib\\site-packages\\lightgbm\\engine.py:153: UserWarning: Found `early_stopping_rounds` in params. Will use it instead of argument\n",
      "  warnings.warn(\"Found `{}` in params. Will use it instead of argument\".format(alias))\n"
     ]
    },
    {
     "name": "stdout",
     "output_type": "stream",
     "text": [
      "\n",
      "[200]\tvalid_0's rmse: 6950.46\n",
      "[300]\tvalid_0's rmse: 6781.4\n",
      "[400]\tvalid_0's rmse: 6649.74\n",
      "[500]\tvalid_0's rmse: 6575.02\n",
      "[600]\tvalid_0's rmse: 6506.47\n",
      "[700]\tvalid_0's rmse: 6448.54\n",
      "[800]\tvalid_0's rmse: 6409.93\n",
      "Did not meet early stopping. Best iteration is:\n",
      "[800]\tvalid_0's rmse: 6409.93\n"
     ]
    },
    {
     "name": "stderr",
     "output_type": "stream",
     "text": [
      "\u001b[32m[I 2021-04-07 20:21:43,319]\u001b[0m Trial 4 finished with value: 0.2746500868769262 and parameters: {'num_leaves': 71, 'max_bin': 738, 'learning_rate': 0.09519187009156203, 'max_depth': 7, 'min_child_weight': 25, 'feature_fraction': 0.20326683036370707, 'bagging_fraction': 0.35051130512022555, 'bagging_freq': 4, 'min_child_samples': 59, 'lambda_l1': 0.050601697611947175, 'lambda_l2': 0.10072149497529949}. Best is trial 0 with value: 0.2548812353150762.\u001b[0m\n"
     ]
    },
    {
     "name": "stdout",
     "output_type": "stream",
     "text": [
      "RMSE = 0.2746500868769262\n",
      "Training until validation scores don't improve for 50 rounds\n",
      "[100]\tvalid_0's rmse: 7310.96\n"
     ]
    },
    {
     "name": "stderr",
     "output_type": "stream",
     "text": [
      "D:\\anaconda\\lib\\site-packages\\lightgbm\\engine.py:153: UserWarning: Found `early_stopping_rounds` in params. Will use it instead of argument\n",
      "  warnings.warn(\"Found `{}` in params. Will use it instead of argument\".format(alias))\n"
     ]
    },
    {
     "name": "stdout",
     "output_type": "stream",
     "text": [
      "[200]\tvalid_0's rmse: 6936.3\n",
      "[300]\tvalid_0's rmse: 6786.24\n",
      "[400]\tvalid_0's rmse: 6720.3\n",
      "[500]\tvalid_0's rmse: 6619.16\n",
      "[600]\tvalid_0's rmse: 6578.3\n",
      "[700]\tvalid_0's rmse: 6534.84\n"
     ]
    },
    {
     "name": "stderr",
     "output_type": "stream",
     "text": [
      "\u001b[32m[I 2021-04-07 20:21:44,353]\u001b[0m Trial 5 finished with value: 0.28002552917727136 and parameters: {'num_leaves': 55, 'max_bin': 1103, 'learning_rate': 0.0970129495120434, 'max_depth': 4, 'min_child_weight': 10, 'feature_fraction': 0.43050013043740454, 'bagging_fraction': 0.5835195989776271, 'bagging_freq': 13, 'min_child_samples': 42, 'lambda_l1': 2.506580696236172e-05, 'lambda_l2': 5.5023122730307686e-08}. Best is trial 0 with value: 0.2548812353150762.\u001b[0m\n"
     ]
    },
    {
     "name": "stdout",
     "output_type": "stream",
     "text": [
      "[800]\tvalid_0's rmse: 6480.91\n",
      "Did not meet early stopping. Best iteration is:\n",
      "[800]\tvalid_0's rmse: 6480.91\n",
      "RMSE = 0.28002552917727136\n",
      "Training until validation scores don't improve for 50 rounds\n"
     ]
    },
    {
     "name": "stderr",
     "output_type": "stream",
     "text": [
      "D:\\anaconda\\lib\\site-packages\\lightgbm\\engine.py:153: UserWarning: Found `early_stopping_rounds` in params. Will use it instead of argument\n",
      "  warnings.warn(\"Found `{}` in params. Will use it instead of argument\".format(alias))\n"
     ]
    },
    {
     "name": "stdout",
     "output_type": "stream",
     "text": [
      "[100]\tvalid_0's rmse: 6690.99\n",
      "[200]\tvalid_0's rmse: 6443.42\n",
      "[300]\tvalid_0's rmse: 6329.41\n",
      "[400]\tvalid_0's rmse: 6244.66\n",
      "[500]\tvalid_0's rmse: 6177.05\n",
      "[600]\tvalid_0's rmse: 6118.14\n",
      "Early stopping, best iteration is:\n",
      "[600]\tvalid_0's rmse: 6118.14\n"
     ]
    },
    {
     "name": "stderr",
     "output_type": "stream",
     "text": [
      "\u001b[32m[I 2021-04-07 20:21:47,111]\u001b[0m Trial 6 finished with value: 0.2600188815311495 and parameters: {'num_leaves': 999, 'max_bin': 584, 'learning_rate': 0.16936699858078846, 'max_depth': 20, 'min_child_weight': 33, 'feature_fraction': 0.3776290718496279, 'bagging_fraction': 0.4592333530070333, 'bagging_freq': 3, 'min_child_samples': 92, 'lambda_l1': 0.0025867235130088585, 'lambda_l2': 1.8603727910933218e-05}. Best is trial 0 with value: 0.2548812353150762.\u001b[0m\n"
     ]
    },
    {
     "name": "stdout",
     "output_type": "stream",
     "text": [
      "RMSE = 0.2600188815311495\n",
      "Training until validation scores don't improve for 50 rounds\n",
      "[100]\tvalid_0's rmse: 8937.76\n"
     ]
    },
    {
     "name": "stderr",
     "output_type": "stream",
     "text": [
      "D:\\anaconda\\lib\\site-packages\\lightgbm\\engine.py:153: UserWarning: Found `early_stopping_rounds` in params. Will use it instead of argument\n",
      "  warnings.warn(\"Found `{}` in params. Will use it instead of argument\".format(alias))\n"
     ]
    },
    {
     "name": "stdout",
     "output_type": "stream",
     "text": [
      "[200]\tvalid_0's rmse: 8324.75\n",
      "[300]\tvalid_0's rmse: 8046.33\n",
      "[400]\tvalid_0's rmse: 7885.38\n",
      "[500]\tvalid_0's rmse: 7780.98\n",
      "[600]\tvalid_0's rmse: 7701.49\n",
      "[700]\tvalid_0's rmse: 7653.06\n"
     ]
    },
    {
     "name": "stderr",
     "output_type": "stream",
     "text": [
      "\u001b[32m[I 2021-04-07 20:21:48,115]\u001b[0m Trial 7 finished with value: 0.3177349920041835 and parameters: {'num_leaves': 319, 'max_bin': 1014, 'learning_rate': 0.04299394540826225, 'max_depth': 21, 'min_child_weight': 7, 'feature_fraction': 0.14499248325756617, 'bagging_fraction': 0.11444842176433269, 'bagging_freq': 13, 'min_child_samples': 94, 'lambda_l1': 0.00012688705727065207, 'lambda_l2': 0.0006326657451382476}. Best is trial 0 with value: 0.2548812353150762.\u001b[0m\n"
     ]
    },
    {
     "name": "stdout",
     "output_type": "stream",
     "text": [
      "[800]\tvalid_0's rmse: 7609.7\n",
      "Did not meet early stopping. Best iteration is:\n",
      "[787]\tvalid_0's rmse: 7606.58\n",
      "RMSE = 0.3177349920041835\n",
      "Training until validation scores don't improve for 50 rounds\n"
     ]
    },
    {
     "name": "stderr",
     "output_type": "stream",
     "text": [
      "D:\\anaconda\\lib\\site-packages\\lightgbm\\engine.py:153: UserWarning: Found `early_stopping_rounds` in params. Will use it instead of argument\n",
      "  warnings.warn(\"Found `{}` in params. Will use it instead of argument\".format(alias))\n"
     ]
    },
    {
     "name": "stdout",
     "output_type": "stream",
     "text": [
      "[100]\tvalid_0's rmse: 8923.2\n",
      "[200]\tvalid_0's rmse: 7955.12\n",
      "[300]\tvalid_0's rmse: 7556.9\n",
      "[400]\tvalid_0's rmse: 7341.54\n",
      "[500]\tvalid_0's rmse: 7186.75\n",
      "[600]\tvalid_0's rmse: 7072.64\n",
      "[700]\tvalid_0's rmse: 6996.08\n",
      "[800]\tvalid_0's rmse: 6931.78\n",
      "Did not meet early stopping. Best iteration is:\n",
      "[800]\tvalid_0's rmse: 6931.78\n"
     ]
    },
    {
     "name": "stderr",
     "output_type": "stream",
     "text": [
      "\u001b[32m[I 2021-04-07 20:21:50,582]\u001b[0m Trial 8 finished with value: 0.28844600590349445 and parameters: {'num_leaves': 145, 'max_bin': 1139, 'learning_rate': 0.011289631408498944, 'max_depth': 8, 'min_child_weight': 20, 'feature_fraction': 0.5695380109493138, 'bagging_fraction': 0.8611692285682024, 'bagging_freq': 18, 'min_child_samples': 135, 'lambda_l1': 7.541050005663256e-07, 'lambda_l2': 9.803936208642592e-07}. Best is trial 0 with value: 0.2548812353150762.\u001b[0m\n"
     ]
    },
    {
     "name": "stdout",
     "output_type": "stream",
     "text": [
      "RMSE = 0.28844600590349445\n",
      "Training until validation scores don't improve for 50 rounds\n"
     ]
    },
    {
     "name": "stderr",
     "output_type": "stream",
     "text": [
      "D:\\anaconda\\lib\\site-packages\\lightgbm\\engine.py:153: UserWarning: Found `early_stopping_rounds` in params. Will use it instead of argument\n",
      "  warnings.warn(\"Found `{}` in params. Will use it instead of argument\".format(alias))\n"
     ]
    },
    {
     "name": "stdout",
     "output_type": "stream",
     "text": [
      "[100]\tvalid_0's rmse: 6344.67\n",
      "[200]\tvalid_0's rmse: 6177.94\n",
      "[300]\tvalid_0's rmse: 6059.77\n",
      "[400]\tvalid_0's rmse: 6017.34\n",
      "[500]\tvalid_0's rmse: 5983.06\n",
      "[600]\tvalid_0's rmse: 5934.19\n",
      "Early stopping, best iteration is:\n",
      "[590]\tvalid_0's rmse: 5927.9\n"
     ]
    },
    {
     "name": "stderr",
     "output_type": "stream",
     "text": [
      "\u001b[32m[I 2021-04-07 20:21:55,823]\u001b[0m Trial 9 finished with value: 0.2524073640030911 and parameters: {'num_leaves': 552, 'max_bin': 733, 'learning_rate': 0.09577255656540028, 'max_depth': 17, 'min_child_weight': 26, 'feature_fraction': 0.6916901845044849, 'bagging_fraction': 0.46311243800233715, 'bagging_freq': 12, 'min_child_samples': 11, 'lambda_l1': 0.00011268655677926226, 'lambda_l2': 0.0005505849245936809}. Best is trial 9 with value: 0.2524073640030911.\u001b[0m\n"
     ]
    },
    {
     "name": "stdout",
     "output_type": "stream",
     "text": [
      "RMSE = 0.2524073640030911\n"
     ]
    },
    {
     "name": "stderr",
     "output_type": "stream",
     "text": [
      "D:\\anaconda\\lib\\site-packages\\lightgbm\\engine.py:153: UserWarning: Found `early_stopping_rounds` in params. Will use it instead of argument\n",
      "  warnings.warn(\"Found `{}` in params. Will use it instead of argument\".format(alias))\n"
     ]
    },
    {
     "name": "stdout",
     "output_type": "stream",
     "text": [
      "Training until validation scores don't improve for 50 rounds\n",
      "[100]\tvalid_0's rmse: 8197.01\n",
      "[200]\tvalid_0's rmse: 7844.98\n",
      "[300]\tvalid_0's rmse: 7637\n",
      "[400]\tvalid_0's rmse: 7500.41\n",
      "[500]\tvalid_0's rmse: 7371.44\n",
      "[600]\tvalid_0's rmse: 7268.73\n",
      "[700]\tvalid_0's rmse: 7199.39\n",
      "[800]\tvalid_0's rmse: 7139.02\n",
      "Did not meet early stopping. Best iteration is:\n",
      "[793]\tvalid_0's rmse: 7135.31\n",
      "RMSE = 0.3006428142644676"
     ]
    },
    {
     "name": "stderr",
     "output_type": "stream",
     "text": [
      "\u001b[32m[I 2021-04-07 20:21:57,639]\u001b[0m Trial 10 finished with value: 0.3006428142644676 and parameters: {'num_leaves': 828, 'max_bin': 383, 'learning_rate': 0.06681941293648164, 'max_depth': 15, 'min_child_weight': 38, 'feature_fraction': 0.9812709120556167, 'bagging_fraction': 0.18891669535106476, 'bagging_freq': 9, 'min_child_samples': 200, 'lambda_l1': 0.7706220758935156, 'lambda_l2': 0.004936298643155717}. Best is trial 9 with value: 0.2524073640030911.\u001b[0m\n"
     ]
    },
    {
     "name": "stdout",
     "output_type": "stream",
     "text": [
      "\n",
      "Training until validation scores don't improve for 50 rounds\n"
     ]
    },
    {
     "name": "stderr",
     "output_type": "stream",
     "text": [
      "D:\\anaconda\\lib\\site-packages\\lightgbm\\engine.py:153: UserWarning: Found `early_stopping_rounds` in params. Will use it instead of argument\n",
      "  warnings.warn(\"Found `{}` in params. Will use it instead of argument\".format(alias))\n"
     ]
    },
    {
     "name": "stdout",
     "output_type": "stream",
     "text": [
      "[100]\tvalid_0's rmse: 6332.51\n",
      "[200]\tvalid_0's rmse: 6129.14\n",
      "[300]\tvalid_0's rmse: 6034.24\n",
      "[400]\tvalid_0's rmse: 6013.13\n",
      "[500]\tvalid_0's rmse: 5960.28\n",
      "[600]\tvalid_0's rmse: 5905.26\n",
      "Early stopping, best iteration is:\n",
      "[611]\tvalid_0's rmse: 5896.9\n"
     ]
    },
    {
     "name": "stderr",
     "output_type": "stream",
     "text": [
      "\u001b[32m[I 2021-04-07 20:22:02,215]\u001b[0m Trial 11 finished with value: 0.2510275879283649 and parameters: {'num_leaves': 528, 'max_bin': 864, 'learning_rate': 0.13982502436873653, 'max_depth': 15, 'min_child_weight': 49, 'feature_fraction': 0.7311209933739562, 'bagging_fraction': 0.7438375386528665, 'bagging_freq': 13, 'min_child_samples': 7, 'lambda_l1': 8.713704715241356e-06, 'lambda_l2': 0.0004462362994023261}. Best is trial 11 with value: 0.2510275879283649.\u001b[0m\n"
     ]
    },
    {
     "name": "stdout",
     "output_type": "stream",
     "text": [
      "RMSE = 0.2510275879283649\n",
      "Training until validation scores don't improve for 50 rounds\n"
     ]
    },
    {
     "name": "stderr",
     "output_type": "stream",
     "text": [
      "D:\\anaconda\\lib\\site-packages\\lightgbm\\engine.py:153: UserWarning: Found `early_stopping_rounds` in params. Will use it instead of argument\n",
      "  warnings.warn(\"Found `{}` in params. Will use it instead of argument\".format(alias))\n"
     ]
    },
    {
     "name": "stdout",
     "output_type": "stream",
     "text": [
      "[100]\tvalid_0's rmse: 6042.7\n",
      "[200]\tvalid_0's rmse: 5976.42\n",
      "Early stopping, best iteration is:\n",
      "[202]\tvalid_0's rmse: 5972.85\n"
     ]
    },
    {
     "name": "stderr",
     "output_type": "stream",
     "text": [
      "\u001b[32m[I 2021-04-07 20:22:04,903]\u001b[0m Trial 12 finished with value: 0.25171790471161104 and parameters: {'num_leaves': 540, 'max_bin': 902, 'learning_rate': 0.1423251298148587, 'max_depth': 15, 'min_child_weight': 17, 'feature_fraction': 0.776162076630196, 'bagging_fraction': 0.7076536844790142, 'bagging_freq': 11, 'min_child_samples': 7, 'lambda_l1': 2.0020123334659768e-05, 'lambda_l2': 0.004713127944105085}. Best is trial 11 with value: 0.2510275879283649.\u001b[0m\n"
     ]
    },
    {
     "name": "stdout",
     "output_type": "stream",
     "text": [
      "RMSE = 0.25171790471161104\n",
      "Training until validation scores don't improve for 50 rounds\n"
     ]
    },
    {
     "name": "stderr",
     "output_type": "stream",
     "text": [
      "D:\\anaconda\\lib\\site-packages\\lightgbm\\engine.py:153: UserWarning: Found `early_stopping_rounds` in params. Will use it instead of argument\n",
      "  warnings.warn(\"Found `{}` in params. Will use it instead of argument\".format(alias))\n"
     ]
    },
    {
     "name": "stdout",
     "output_type": "stream",
     "text": [
      "[100]\tvalid_0's rmse: 6381.39\n",
      "[200]\tvalid_0's rmse: 6145.54\n",
      "[300]\tvalid_0's rmse: 6006.6\n",
      "Early stopping, best iteration is:\n",
      "[311]\tvalid_0's rmse: 5992.86\n"
     ]
    },
    {
     "name": "stderr",
     "output_type": "stream",
     "text": [
      "\u001b[32m[I 2021-04-07 20:22:07,027]\u001b[0m Trial 13 finished with value: 0.25542697622811533 and parameters: {'num_leaves': 701, 'max_bin': 971, 'learning_rate': 0.15043028190433408, 'max_depth': 14, 'min_child_weight': 15, 'feature_fraction': 0.8627659494346249, 'bagging_fraction': 0.7154168024169256, 'bagging_freq': 9, 'min_child_samples': 54, 'lambda_l1': 1.8394709660557895e-06, 'lambda_l2': 0.016344276592968884}. Best is trial 11 with value: 0.2510275879283649.\u001b[0m\n"
     ]
    },
    {
     "name": "stdout",
     "output_type": "stream",
     "text": [
      "RMSE = 0.25542697622811533\n",
      "Training until validation scores don't improve for 50 rounds\n"
     ]
    },
    {
     "name": "stderr",
     "output_type": "stream",
     "text": [
      "D:\\anaconda\\lib\\site-packages\\lightgbm\\engine.py:153: UserWarning: Found `early_stopping_rounds` in params. Will use it instead of argument\n",
      "  warnings.warn(\"Found `{}` in params. Will use it instead of argument\".format(alias))\n"
     ]
    },
    {
     "name": "stdout",
     "output_type": "stream",
     "text": [
      "[100]\tvalid_0's rmse: 6388.78\n",
      "[200]\tvalid_0's rmse: 6202.66\n",
      "[300]\tvalid_0's rmse: 6088.46\n",
      "[400]\tvalid_0's rmse: 6030.66\n",
      "[500]\tvalid_0's rmse: 5985.82\n",
      "Early stopping, best iteration is:\n",
      "[541]\tvalid_0's rmse: 5958.16\n"
     ]
    },
    {
     "name": "stderr",
     "output_type": "stream",
     "text": [
      "\u001b[32m[I 2021-04-07 20:22:09,816]\u001b[0m Trial 14 finished with value: 0.2549818444172956 and parameters: {'num_leaves': 339, 'max_bin': 944, 'learning_rate': 0.1962659128121597, 'max_depth': 12, 'min_child_weight': 51, 'feature_fraction': 0.8106200219374893, 'bagging_fraction': 0.7475325340224869, 'bagging_freq': 20, 'min_child_samples': 26, 'lambda_l1': 2.536016037589863e-06, 'lambda_l2': 0.004457683069083916}. Best is trial 11 with value: 0.2510275879283649.\u001b[0m\n"
     ]
    },
    {
     "name": "stdout",
     "output_type": "stream",
     "text": [
      "RMSE = 0.2549818444172956\n",
      "Training until validation scores don't improve for 50 rounds\n"
     ]
    },
    {
     "name": "stderr",
     "output_type": "stream",
     "text": [
      "D:\\anaconda\\lib\\site-packages\\lightgbm\\engine.py:153: UserWarning: Found `early_stopping_rounds` in params. Will use it instead of argument\n",
      "  warnings.warn(\"Found `{}` in params. Will use it instead of argument\".format(alias))\n"
     ]
    },
    {
     "name": "stdout",
     "output_type": "stream",
     "text": [
      "[100]\tvalid_0's rmse: 6695.48\n",
      "[200]\tvalid_0's rmse: 6431.24\n",
      "[300]\tvalid_0's rmse: 6270.18\n",
      "[400]\tvalid_0's rmse: 6190.12\n",
      "[500]\tvalid_0's rmse: 6122.13\n",
      "[600]\tvalid_0's rmse: 6064.89\n",
      "[700]\tvalid_0's rmse: 6022.73\n",
      "[800]\tvalid_0's rmse: 5995.14\n",
      "Did not meet early stopping. Best iteration is:\n",
      "[796]\tvalid_0's rmse: 5995.12\n"
     ]
    },
    {
     "name": "stderr",
     "output_type": "stream",
     "text": [
      "\u001b[32m[I 2021-04-07 20:22:13,363]\u001b[0m Trial 15 finished with value: 0.25431186119707455 and parameters: {'num_leaves': 461, 'max_bin': 865, 'learning_rate': 0.14913488746135697, 'max_depth': 17, 'min_child_weight': 35, 'feature_fraction': 0.787514466630058, 'bagging_fraction': 0.963290184886493, 'bagging_freq': 16, 'min_child_samples': 179, 'lambda_l1': 1.915994917642755e-05, 'lambda_l2': 0.9056375539521121}. Best is trial 11 with value: 0.2510275879283649.\u001b[0m\n"
     ]
    },
    {
     "name": "stdout",
     "output_type": "stream",
     "text": [
      "RMSE = 0.25431186119707455\n",
      "Training until validation scores don't improve for 50 rounds\n"
     ]
    },
    {
     "name": "stderr",
     "output_type": "stream",
     "text": [
      "D:\\anaconda\\lib\\site-packages\\lightgbm\\engine.py:153: UserWarning: Found `early_stopping_rounds` in params. Will use it instead of argument\n",
      "  warnings.warn(\"Found `{}` in params. Will use it instead of argument\".format(alias))\n"
     ]
    },
    {
     "name": "stdout",
     "output_type": "stream",
     "text": [
      "[100]\tvalid_0's rmse: 6401.22\n",
      "[200]\tvalid_0's rmse: 6168.24\n",
      "[300]\tvalid_0's rmse: 6058.13\n",
      "[400]\tvalid_0's rmse: 5984.55\n",
      "[500]\tvalid_0's rmse: 5941.03\n",
      "[600]\tvalid_0's rmse: 5941.63\n",
      "Early stopping, best iteration is:\n",
      "[580]\tvalid_0's rmse: 5923.74\n"
     ]
    },
    {
     "name": "stderr",
     "output_type": "stream",
     "text": [
      "\u001b[32m[I 2021-04-07 20:22:17,472]\u001b[0m Trial 16 finished with value: 0.2503333083134786 and parameters: {'num_leaves': 671, 'max_bin': 860, 'learning_rate': 0.125570642993311, 'max_depth': 17, 'min_child_weight': 17, 'feature_fraction': 0.9362285626099851, 'bagging_fraction': 0.80010263793204, 'bagging_freq': 10, 'min_child_samples': 62, 'lambda_l1': 1.8055933827947514e-07, 'lambda_l2': 0.0005496799088760377}. Best is trial 16 with value: 0.2503333083134786.\u001b[0m\n"
     ]
    },
    {
     "name": "stdout",
     "output_type": "stream",
     "text": [
      "RMSE = 0.2503333083134786\n",
      "Training until validation scores don't improve for 50 rounds\n"
     ]
    },
    {
     "name": "stderr",
     "output_type": "stream",
     "text": [
      "D:\\anaconda\\lib\\site-packages\\lightgbm\\engine.py:153: UserWarning: Found `early_stopping_rounds` in params. Will use it instead of argument\n",
      "  warnings.warn(\"Found `{}` in params. Will use it instead of argument\".format(alias))\n"
     ]
    },
    {
     "name": "stdout",
     "output_type": "stream",
     "text": [
      "[100]\tvalid_0's rmse: 6440.97\n",
      "[200]\tvalid_0's rmse: 6203.47\n",
      "[300]\tvalid_0's rmse: 6048.2\n",
      "[400]\tvalid_0's rmse: 6004.92\n",
      "[500]\tvalid_0's rmse: 5948.64\n",
      "[600]\tvalid_0's rmse: 5913.83\n",
      "[700]\tvalid_0's rmse: 5900.41\n",
      "Early stopping, best iteration is:\n",
      "[728]\tvalid_0's rmse: 5887.13\n"
     ]
    },
    {
     "name": "stderr",
     "output_type": "stream",
     "text": [
      "\u001b[32m[I 2021-04-07 20:22:23,042]\u001b[0m Trial 17 finished with value: 0.24911537134289494 and parameters: {'num_leaves': 899, 'max_bin': 586, 'learning_rate': 0.1145272011611564, 'max_depth': 18, 'min_child_weight': 44, 'feature_fraction': 0.9628205783401327, 'bagging_fraction': 0.8226996696078221, 'bagging_freq': 8, 'min_child_samples': 71, 'lambda_l1': 1.376455862499273e-07, 'lambda_l2': 2.5854756615837147e-06}. Best is trial 17 with value: 0.24911537134289494.\u001b[0m\n"
     ]
    },
    {
     "name": "stdout",
     "output_type": "stream",
     "text": [
      "RMSE = 0.24911537134289494\n",
      "Training until validation scores don't improve for 50 rounds\n"
     ]
    },
    {
     "name": "stderr",
     "output_type": "stream",
     "text": [
      "D:\\anaconda\\lib\\site-packages\\lightgbm\\engine.py:153: UserWarning: Found `early_stopping_rounds` in params. Will use it instead of argument\n",
      "  warnings.warn(\"Found `{}` in params. Will use it instead of argument\".format(alias))\n"
     ]
    },
    {
     "name": "stdout",
     "output_type": "stream",
     "text": [
      "[100]\tvalid_0's rmse: 6479.76\n",
      "[200]\tvalid_0's rmse: 6193.66\n",
      "[300]\tvalid_0's rmse: 6064.91\n",
      "[400]\tvalid_0's rmse: 5994.5\n",
      "[500]\tvalid_0's rmse: 5930.42\n",
      "[600]\tvalid_0's rmse: 5905.44\n",
      "[700]\tvalid_0's rmse: 5880.73\n",
      "[800]\tvalid_0's rmse: 5865.63\n",
      "Did not meet early stopping. Best iteration is:\n",
      "[798]\tvalid_0's rmse: 5865.38\n"
     ]
    },
    {
     "name": "stderr",
     "output_type": "stream",
     "text": [
      "\u001b[32m[I 2021-04-07 20:22:28,649]\u001b[0m Trial 18 finished with value: 0.24957997471972104 and parameters: {'num_leaves': 1012, 'max_bin': 402, 'learning_rate': 0.1125936943956089, 'max_depth': 18, 'min_child_weight': 43, 'feature_fraction': 0.9793339756231113, 'bagging_fraction': 0.8321842439505558, 'bagging_freq': 6, 'min_child_samples': 78, 'lambda_l1': 2.1542858603321073e-07, 'lambda_l2': 2.082596856194021e-06}. Best is trial 17 with value: 0.24911537134289494.\u001b[0m\n"
     ]
    },
    {
     "name": "stdout",
     "output_type": "stream",
     "text": [
      "RMSE = 0.24957997471972104\n",
      "Training until validation scores don't improve for 50 rounds\n"
     ]
    },
    {
     "name": "stderr",
     "output_type": "stream",
     "text": [
      "D:\\anaconda\\lib\\site-packages\\lightgbm\\engine.py:153: UserWarning: Found `early_stopping_rounds` in params. Will use it instead of argument\n",
      "  warnings.warn(\"Found `{}` in params. Will use it instead of argument\".format(alias))\n"
     ]
    },
    {
     "name": "stdout",
     "output_type": "stream",
     "text": [
      "[100]\tvalid_0's rmse: 6578.27\n",
      "[200]\tvalid_0's rmse: 6328.51\n",
      "[300]\tvalid_0's rmse: 6203.35\n",
      "[400]\tvalid_0's rmse: 6117.72\n",
      "[500]\tvalid_0's rmse: 6072.27\n",
      "[600]\tvalid_0's rmse: 6032.79\n",
      "[700]\tvalid_0's rmse: 6001.71\n",
      "[800]\tvalid_0's rmse: 5978.44\n",
      "Did not meet early stopping. Best iteration is:\n",
      "[800]\tvalid_0's rmse: 5978.44\n"
     ]
    },
    {
     "name": "stderr",
     "output_type": "stream",
     "text": [
      "\u001b[32m[I 2021-04-07 20:22:34,236]\u001b[0m Trial 19 finished with value: 0.25156225396009124 and parameters: {'num_leaves': 993, 'max_bin': 302, 'learning_rate': 0.0746738990909918, 'max_depth': 19, 'min_child_weight': 43, 'feature_fraction': 0.9153416408975374, 'bagging_fraction': 0.979674853885441, 'bagging_freq': 6, 'min_child_samples': 79, 'lambda_l1': 1.3222686476320426e-07, 'lambda_l2': 2.3567495936125184e-06}. Best is trial 17 with value: 0.24911537134289494.\u001b[0m\n"
     ]
    },
    {
     "name": "stdout",
     "output_type": "stream",
     "text": [
      "RMSE = 0.25156225396009124\n",
      "Training until validation scores don't improve for 50 rounds\n"
     ]
    },
    {
     "name": "stderr",
     "output_type": "stream",
     "text": [
      "D:\\anaconda\\lib\\site-packages\\lightgbm\\engine.py:153: UserWarning: Found `early_stopping_rounds` in params. Will use it instead of argument\n",
      "  warnings.warn(\"Found `{}` in params. Will use it instead of argument\".format(alias))\n"
     ]
    },
    {
     "name": "stdout",
     "output_type": "stream",
     "text": [
      "[100]\tvalid_0's rmse: 6950.61\n",
      "[200]\tvalid_0's rmse: 6653.78\n",
      "[300]\tvalid_0's rmse: 6487.18\n",
      "[400]\tvalid_0's rmse: 6374.45\n",
      "[500]\tvalid_0's rmse: 6299.52\n",
      "[600]\tvalid_0's rmse: 6234.98\n",
      "[700]\tvalid_0's rmse: 6187.24\n",
      "[800]\tvalid_0's rmse: 6143.63\n",
      "Did not meet early stopping. Best iteration is:\n",
      "[798]\tvalid_0's rmse: 6142.41\n"
     ]
    },
    {
     "name": "stderr",
     "output_type": "stream",
     "text": [
      "\u001b[32m[I 2021-04-07 20:22:36,894]\u001b[0m Trial 20 finished with value: 0.25980839533085615 and parameters: {'num_leaves': 894, 'max_bin': 449, 'learning_rate': 0.11777298475641154, 'max_depth': 12, 'min_child_weight': 44, 'feature_fraction': 0.978487452359265, 'bagging_fraction': 0.5960320350120872, 'bagging_freq': 6, 'min_child_samples': 155, 'lambda_l1': 1.4070661822577667e-07, 'lambda_l2': 6.48337258939633e-07}. Best is trial 17 with value: 0.24911537134289494.\u001b[0m\n"
     ]
    },
    {
     "name": "stdout",
     "output_type": "stream",
     "text": [
      "RMSE = 0.25980839533085615\n",
      "Training until validation scores don't improve for 50 rounds\n"
     ]
    },
    {
     "name": "stderr",
     "output_type": "stream",
     "text": [
      "D:\\anaconda\\lib\\site-packages\\lightgbm\\engine.py:153: UserWarning: Found `early_stopping_rounds` in params. Will use it instead of argument\n",
      "  warnings.warn(\"Found `{}` in params. Will use it instead of argument\".format(alias))\n"
     ]
    },
    {
     "name": "stdout",
     "output_type": "stream",
     "text": [
      "[100]\tvalid_0's rmse: 6513.96\n",
      "[200]\tvalid_0's rmse: 6275.19\n",
      "[300]\tvalid_0's rmse: 6110.89\n",
      "[400]\tvalid_0's rmse: 6054.22\n",
      "[500]\tvalid_0's rmse: 6000.8\n",
      "[600]\tvalid_0's rmse: 5951.2\n",
      "Early stopping, best iteration is:\n",
      "[608]\tvalid_0's rmse: 5949.55\n"
     ]
    },
    {
     "name": "stderr",
     "output_type": "stream",
     "text": [
      "\u001b[32m[I 2021-04-07 20:22:41,255]\u001b[0m Trial 21 finished with value: 0.25170136892232353 and parameters: {'num_leaves': 861, 'max_bin': 566, 'learning_rate': 0.11116592606460585, 'max_depth': 18, 'min_child_weight': 32, 'feature_fraction': 0.995704165760067, 'bagging_fraction': 0.8507004209367639, 'bagging_freq': 9, 'min_child_samples': 74, 'lambda_l1': 1.289501430863917e-07, 'lambda_l2': 6.368624098592898e-06}. Best is trial 17 with value: 0.24911537134289494.\u001b[0m\n"
     ]
    },
    {
     "name": "stdout",
     "output_type": "stream",
     "text": [
      "RMSE = 0.25170136892232353\n",
      "Training until validation scores don't improve for 50 rounds\n"
     ]
    },
    {
     "name": "stderr",
     "output_type": "stream",
     "text": [
      "D:\\anaconda\\lib\\site-packages\\lightgbm\\engine.py:153: UserWarning: Found `early_stopping_rounds` in params. Will use it instead of argument\n",
      "  warnings.warn(\"Found `{}` in params. Will use it instead of argument\".format(alias))\n"
     ]
    },
    {
     "name": "stdout",
     "output_type": "stream",
     "text": [
      "[100]\tvalid_0's rmse: 6636.04\n",
      "[200]\tvalid_0's rmse: 6358.5\n",
      "[300]\tvalid_0's rmse: 6237.09\n",
      "[400]\tvalid_0's rmse: 6129.71\n",
      "[500]\tvalid_0's rmse: 6063.2\n",
      "[600]\tvalid_0's rmse: 6011.28\n",
      "[700]\tvalid_0's rmse: 5992.03\n",
      "[800]\tvalid_0's rmse: 5970.46\n",
      "Did not meet early stopping. Best iteration is:\n",
      "[773]\tvalid_0's rmse: 5969.32\n"
     ]
    },
    {
     "name": "stderr",
     "output_type": "stream",
     "text": [
      "\u001b[32m[I 2021-04-07 20:22:46,097]\u001b[0m Trial 22 finished with value: 0.252510976448351 and parameters: {'num_leaves': 715, 'max_bin': 451, 'learning_rate': 0.074652435575886, 'max_depth': 17, 'min_child_weight': 39, 'feature_fraction': 0.9004281674465429, 'bagging_fraction': 0.8489937588698335, 'bagging_freq': 7, 'min_child_samples': 77, 'lambda_l1': 3.2913067918785995e-07, 'lambda_l2': 4.861914826203142e-07}. Best is trial 17 with value: 0.24911537134289494.\u001b[0m\n"
     ]
    },
    {
     "name": "stdout",
     "output_type": "stream",
     "text": [
      "RMSE = 0.252510976448351\n",
      "Training until validation scores don't improve for 50 rounds\n"
     ]
    },
    {
     "name": "stderr",
     "output_type": "stream",
     "text": [
      "D:\\anaconda\\lib\\site-packages\\lightgbm\\engine.py:153: UserWarning: Found `early_stopping_rounds` in params. Will use it instead of argument\n",
      "  warnings.warn(\"Found `{}` in params. Will use it instead of argument\".format(alias))\n"
     ]
    },
    {
     "name": "stdout",
     "output_type": "stream",
     "text": [
      "[100]\tvalid_0's rmse: 6214.81\n",
      "[200]\tvalid_0's rmse: 6033.82\n",
      "[300]\tvalid_0's rmse: 5943.72\n",
      "[400]\tvalid_0's rmse: 5910.66\n",
      "[500]\tvalid_0's rmse: 5887.13\n",
      "Early stopping, best iteration is:\n",
      "[515]\tvalid_0's rmse: 5876.4\n"
     ]
    },
    {
     "name": "stderr",
     "output_type": "stream",
     "text": [
      "\u001b[32m[I 2021-04-07 20:22:52,023]\u001b[0m Trial 23 finished with value: 0.24756277377167135 and parameters: {'num_leaves': 940, 'max_bin': 637, 'learning_rate': 0.1256941623992159, 'max_depth': 22, 'min_child_weight': 20, 'feature_fraction': 0.914639553915852, 'bagging_fraction': 0.9106656449549365, 'bagging_freq': 10, 'min_child_samples': 43, 'lambda_l1': 1.3886693796460875e-08, 'lambda_l2': 9.525809139809877e-05}. Best is trial 23 with value: 0.24756277377167135.\u001b[0m\n"
     ]
    },
    {
     "name": "stdout",
     "output_type": "stream",
     "text": [
      "RMSE = 0.24756277377167135\n",
      "Training until validation scores don't improve for 50 rounds\n"
     ]
    },
    {
     "name": "stderr",
     "output_type": "stream",
     "text": [
      "D:\\anaconda\\lib\\site-packages\\lightgbm\\engine.py:153: UserWarning: Found `early_stopping_rounds` in params. Will use it instead of argument\n",
      "  warnings.warn(\"Found `{}` in params. Will use it instead of argument\".format(alias))\n"
     ]
    },
    {
     "name": "stdout",
     "output_type": "stream",
     "text": [
      "[100]\tvalid_0's rmse: 6097.5\n",
      "[200]\tvalid_0's rmse: 5968.74\n",
      "[300]\tvalid_0's rmse: 5935.28\n",
      "[400]\tvalid_0's rmse: 5915.07\n",
      "[500]\tvalid_0's rmse: 5898.87\n",
      "[600]\tvalid_0's rmse: 5890.98\n",
      "Early stopping, best iteration is:\n",
      "[647]\tvalid_0's rmse: 5888.6\n"
     ]
    },
    {
     "name": "stderr",
     "output_type": "stream",
     "text": [
      "\u001b[32m[I 2021-04-07 20:22:59,456]\u001b[0m Trial 24 finished with value: 0.24801048666917247 and parameters: {'num_leaves': 935, 'max_bin': 637, 'learning_rate': 0.1596334257346477, 'max_depth': 22, 'min_child_weight': 30, 'feature_fraction': 0.8470612354586702, 'bagging_fraction': 0.9980815350782851, 'bagging_freq': 4, 'min_child_samples': 39, 'lambda_l1': 1.2383199284169647e-08, 'lambda_l2': 2.2220658304637984e-07}. Best is trial 23 with value: 0.24756277377167135.\u001b[0m\n"
     ]
    },
    {
     "name": "stdout",
     "output_type": "stream",
     "text": [
      "RMSE = 0.24801048666917247\n",
      "Training until validation scores don't improve for 50 rounds\n"
     ]
    },
    {
     "name": "stderr",
     "output_type": "stream",
     "text": [
      "D:\\anaconda\\lib\\site-packages\\lightgbm\\engine.py:153: UserWarning: Found `early_stopping_rounds` in params. Will use it instead of argument\n",
      "  warnings.warn(\"Found `{}` in params. Will use it instead of argument\".format(alias))\n"
     ]
    },
    {
     "name": "stdout",
     "output_type": "stream",
     "text": [
      "[100]\tvalid_0's rmse: 6090.67\n",
      "[200]\tvalid_0's rmse: 5965.18\n",
      "[300]\tvalid_0's rmse: 5923.03\n",
      "[400]\tvalid_0's rmse: 5912.97\n",
      "Early stopping, best iteration is:\n",
      "[427]\tvalid_0's rmse: 5906.43\n"
     ]
    },
    {
     "name": "stderr",
     "output_type": "stream",
     "text": [
      "\u001b[32m[I 2021-04-07 20:23:04,726]\u001b[0m Trial 25 finished with value: 0.24825437978132175 and parameters: {'num_leaves': 928, 'max_bin': 634, 'learning_rate': 0.17237476305317914, 'max_depth': 22, 'min_child_weight': 30, 'feature_fraction': 0.8510372380839157, 'bagging_fraction': 0.9982271344512558, 'bagging_freq': 3, 'min_child_samples': 35, 'lambda_l1': 1.1779987663443381e-08, 'lambda_l2': 1.5620634388291045e-07}. Best is trial 23 with value: 0.24756277377167135.\u001b[0m\n"
     ]
    },
    {
     "name": "stdout",
     "output_type": "stream",
     "text": [
      "RMSE = 0.24825437978132175\n",
      "Training until validation scores don't improve for 50 rounds\n"
     ]
    },
    {
     "name": "stderr",
     "output_type": "stream",
     "text": [
      "D:\\anaconda\\lib\\site-packages\\lightgbm\\engine.py:153: UserWarning: Found `early_stopping_rounds` in params. Will use it instead of argument\n",
      "  warnings.warn(\"Found `{}` in params. Will use it instead of argument\".format(alias))\n"
     ]
    },
    {
     "name": "stdout",
     "output_type": "stream",
     "text": [
      "[100]\tvalid_0's rmse: 6052.08\n",
      "[200]\tvalid_0's rmse: 5945.85\n",
      "[300]\tvalid_0's rmse: 5908.46\n",
      "[400]\tvalid_0's rmse: 5897.95\n",
      "Early stopping, best iteration is:\n",
      "[442]\tvalid_0's rmse: 5886.14\n"
     ]
    },
    {
     "name": "stderr",
     "output_type": "stream",
     "text": [
      "\u001b[32m[I 2021-04-07 20:23:10,314]\u001b[0m Trial 26 finished with value: 0.2489480786830051 and parameters: {'num_leaves': 796, 'max_bin': 645, 'learning_rate': 0.1915268735603207, 'max_depth': 22, 'min_child_weight': 22, 'feature_fraction': 0.8360345534908217, 'bagging_fraction': 0.9930216248882987, 'bagging_freq': 1, 'min_child_samples': 38, 'lambda_l1': 1.3169469108108255e-08, 'lambda_l2': 1.9337282047478423e-07}. Best is trial 23 with value: 0.24756277377167135.\u001b[0m\n"
     ]
    },
    {
     "name": "stdout",
     "output_type": "stream",
     "text": [
      "RMSE = 0.2489480786830051\n",
      "Training until validation scores don't improve for 50 rounds\n"
     ]
    },
    {
     "name": "stderr",
     "output_type": "stream",
     "text": [
      "D:\\anaconda\\lib\\site-packages\\lightgbm\\engine.py:153: UserWarning: Found `early_stopping_rounds` in params. Will use it instead of argument\n",
      "  warnings.warn(\"Found `{}` in params. Will use it instead of argument\".format(alias))\n"
     ]
    },
    {
     "name": "stdout",
     "output_type": "stream",
     "text": [
      "[100]\tvalid_0's rmse: 6074.61\n",
      "[200]\tvalid_0's rmse: 5958.49\n",
      "[300]\tvalid_0's rmse: 5899.89\n",
      "[400]\tvalid_0's rmse: 5882.31\n",
      "[500]\tvalid_0's rmse: 5863.53\n",
      "Early stopping, best iteration is:\n",
      "[475]\tvalid_0's rmse: 5857.03\n"
     ]
    },
    {
     "name": "stderr",
     "output_type": "stream",
     "text": [
      "\u001b[32m[I 2021-04-07 20:23:16,711]\u001b[0m Trial 27 finished with value: 0.2471738897271489 and parameters: {'num_leaves': 925, 'max_bin': 500, 'learning_rate': 0.16611574765118073, 'max_depth': 22, 'min_child_weight': 29, 'feature_fraction': 0.6502756967984282, 'bagging_fraction': 0.9186499452866973, 'bagging_freq': 4, 'min_child_samples': 36, 'lambda_l1': 4.600564203538192e-08, 'lambda_l2': 1.4456981855525806e-08}. Best is trial 27 with value: 0.2471738897271489.\u001b[0m\n"
     ]
    },
    {
     "name": "stdout",
     "output_type": "stream",
     "text": [
      "RMSE = 0.2471738897271489\n",
      "Training until validation scores don't improve for 50 rounds\n"
     ]
    },
    {
     "name": "stderr",
     "output_type": "stream",
     "text": [
      "D:\\anaconda\\lib\\site-packages\\lightgbm\\engine.py:153: UserWarning: Found `early_stopping_rounds` in params. Will use it instead of argument\n",
      "  warnings.warn(\"Found `{}` in params. Will use it instead of argument\".format(alias))\n"
     ]
    },
    {
     "name": "stdout",
     "output_type": "stream",
     "text": [
      "[100]\tvalid_0's rmse: 6106.53\n",
      "[200]\tvalid_0's rmse: 5950.15\n",
      "[300]\tvalid_0's rmse: 5892.91\n",
      "[400]\tvalid_0's rmse: 5856.66\n",
      "[500]\tvalid_0's rmse: 5837.66\n",
      "[600]\tvalid_0's rmse: 5826.93\n",
      "Early stopping, best iteration is:\n",
      "[636]\tvalid_0's rmse: 5810.53\n"
     ]
    },
    {
     "name": "stderr",
     "output_type": "stream",
     "text": [
      "\u001b[32m[I 2021-04-07 20:23:23,420]\u001b[0m Trial 28 finished with value: 0.24645019109436 and parameters: {'num_leaves': 785, 'max_bin': 500, 'learning_rate': 0.1554548331354835, 'max_depth': 21, 'min_child_weight': 29, 'feature_fraction': 0.5940045683266111, 'bagging_fraction': 0.9216206914189919, 'bagging_freq': 4, 'min_child_samples': 46, 'lambda_l1': 3.571209645294287e-08, 'lambda_l2': 2.829998497896674e-08}. Best is trial 28 with value: 0.24645019109436.\u001b[0m\n"
     ]
    },
    {
     "name": "stdout",
     "output_type": "stream",
     "text": [
      "RMSE = 0.24645019109436\n",
      "Training until validation scores don't improve for 50 rounds\n"
     ]
    },
    {
     "name": "stderr",
     "output_type": "stream",
     "text": [
      "D:\\anaconda\\lib\\site-packages\\lightgbm\\engine.py:153: UserWarning: Found `early_stopping_rounds` in params. Will use it instead of argument\n",
      "  warnings.warn(\"Found `{}` in params. Will use it instead of argument\".format(alias))\n"
     ]
    },
    {
     "name": "stdout",
     "output_type": "stream",
     "text": [
      "[100]\tvalid_0's rmse: 6149.36\n",
      "[200]\tvalid_0's rmse: 6008.62\n",
      "[300]\tvalid_0's rmse: 5945.81\n",
      "[400]\tvalid_0's rmse: 5927.47\n",
      "Early stopping, best iteration is:\n",
      "[357]\tvalid_0's rmse: 5922.34\n"
     ]
    },
    {
     "name": "stderr",
     "output_type": "stream",
     "text": [
      "\u001b[32m[I 2021-04-07 20:23:26,976]\u001b[0m Trial 29 finished with value: 0.24890852865980181 and parameters: {'num_leaves': 648, 'max_bin': 501, 'learning_rate': 0.1880364457916364, 'max_depth': 20, 'min_child_weight': 22, 'feature_fraction': 0.6124302644948982, 'bagging_fraction': 0.921211163053304, 'bagging_freq': 2, 'min_child_samples': 51, 'lambda_l1': 4.195158414140111e-08, 'lambda_l2': 1.0985441443622353e-08}. Best is trial 28 with value: 0.24645019109436.\u001b[0m\n"
     ]
    },
    {
     "name": "stdout",
     "output_type": "stream",
     "text": [
      "RMSE = 0.24890852865980181\n",
      "Training until validation scores don't improve for 50 rounds\n"
     ]
    },
    {
     "name": "stderr",
     "output_type": "stream",
     "text": [
      "D:\\anaconda\\lib\\site-packages\\lightgbm\\engine.py:153: UserWarning: Found `early_stopping_rounds` in params. Will use it instead of argument\n",
      "  warnings.warn(\"Found `{}` in params. Will use it instead of argument\".format(alias))\n"
     ]
    },
    {
     "name": "stdout",
     "output_type": "stream",
     "text": [
      "[100]\tvalid_0's rmse: 5965.49\n",
      "[200]\tvalid_0's rmse: 5859.69\n",
      "[300]\tvalid_0's rmse: 5825.05\n",
      "[400]\tvalid_0's rmse: 5828.98\n",
      "Early stopping, best iteration is:\n",
      "[351]\tvalid_0's rmse: 5822.47\n"
     ]
    },
    {
     "name": "stderr",
     "output_type": "stream",
     "text": [
      "\u001b[32m[I 2021-04-07 20:23:32,376]\u001b[0m Trial 30 finished with value: 0.2467079397571762 and parameters: {'num_leaves': 824, 'max_bin': 506, 'learning_rate': 0.1603628498909454, 'max_depth': 21, 'min_child_weight': 29, 'feature_fraction': 0.6544151729818619, 'bagging_fraction': 0.9076140152945914, 'bagging_freq': 15, 'min_child_samples': 20, 'lambda_l1': 4.2577560096695036e-08, 'lambda_l2': 2.3352142968481595e-08}. Best is trial 28 with value: 0.24645019109436.\u001b[0m\n"
     ]
    },
    {
     "name": "stdout",
     "output_type": "stream",
     "text": [
      "RMSE = 0.2467079397571762\n",
      "Training until validation scores don't improve for 50 rounds\n"
     ]
    },
    {
     "name": "stderr",
     "output_type": "stream",
     "text": [
      "D:\\anaconda\\lib\\site-packages\\lightgbm\\engine.py:153: UserWarning: Found `early_stopping_rounds` in params. Will use it instead of argument\n",
      "  warnings.warn(\"Found `{}` in params. Will use it instead of argument\".format(alias))\n"
     ]
    },
    {
     "name": "stdout",
     "output_type": "stream",
     "text": [
      "[100]\tvalid_0's rmse: 6070.6\n",
      "[200]\tvalid_0's rmse: 5960.56\n",
      "[300]\tvalid_0's rmse: 5903.08\n",
      "[400]\tvalid_0's rmse: 5875.82\n",
      "[500]\tvalid_0's rmse: 5874.62\n",
      "Early stopping, best iteration is:\n",
      "[457]\tvalid_0's rmse: 5860.18\n"
     ]
    },
    {
     "name": "stderr",
     "output_type": "stream",
     "text": [
      "\u001b[32m[I 2021-04-07 20:23:38,756]\u001b[0m Trial 31 finished with value: 0.24721525553736026 and parameters: {'num_leaves': 781, 'max_bin': 301, 'learning_rate': 0.1606855003872694, 'max_depth': 21, 'min_child_weight': 29, 'feature_fraction': 0.6601042411236744, 'bagging_fraction': 0.8980422128361341, 'bagging_freq': 16, 'min_child_samples': 22, 'lambda_l1': 5.0064015686861425e-08, 'lambda_l2': 1.513575680989137e-08}. Best is trial 28 with value: 0.24645019109436.\u001b[0m\n"
     ]
    },
    {
     "name": "stdout",
     "output_type": "stream",
     "text": [
      "RMSE = 0.24721525553736026\n",
      "Training until validation scores don't improve for 50 rounds\n"
     ]
    },
    {
     "name": "stderr",
     "output_type": "stream",
     "text": [
      "D:\\anaconda\\lib\\site-packages\\lightgbm\\engine.py:153: UserWarning: Found `early_stopping_rounds` in params. Will use it instead of argument\n",
      "  warnings.warn(\"Found `{}` in params. Will use it instead of argument\".format(alias))\n"
     ]
    },
    {
     "name": "stdout",
     "output_type": "stream",
     "text": [
      "[100]\tvalid_0's rmse: 6034.92\n",
      "[200]\tvalid_0's rmse: 5912.68\n",
      "[300]\tvalid_0's rmse: 5872.14\n",
      "Early stopping, best iteration is:\n",
      "[336]\tvalid_0's rmse: 5854.14\n"
     ]
    },
    {
     "name": "stderr",
     "output_type": "stream",
     "text": [
      "\u001b[32m[I 2021-04-07 20:23:43,478]\u001b[0m Trial 32 finished with value: 0.2475512180440106 and parameters: {'num_leaves': 802, 'max_bin': 303, 'learning_rate': 0.16159004052301593, 'max_depth': 20, 'min_child_weight': 29, 'feature_fraction': 0.6388577685889819, 'bagging_fraction': 0.9033658935932414, 'bagging_freq': 16, 'min_child_samples': 20, 'lambda_l1': 4.177463448239783e-08, 'lambda_l2': 1.0200211108552377e-08}. Best is trial 28 with value: 0.24645019109436.\u001b[0m\n"
     ]
    },
    {
     "name": "stdout",
     "output_type": "stream",
     "text": [
      "RMSE = 0.2475512180440106\n",
      "Training until validation scores don't improve for 50 rounds\n"
     ]
    },
    {
     "name": "stderr",
     "output_type": "stream",
     "text": [
      "D:\\anaconda\\lib\\site-packages\\lightgbm\\engine.py:153: UserWarning: Found `early_stopping_rounds` in params. Will use it instead of argument\n",
      "  warnings.warn(\"Found `{}` in params. Will use it instead of argument\".format(alias))\n"
     ]
    },
    {
     "name": "stdout",
     "output_type": "stream",
     "text": [
      "[100]\tvalid_0's rmse: 6029.83\n",
      "[200]\tvalid_0's rmse: 5907.47\n",
      "[300]\tvalid_0's rmse: 5857.58\n",
      "[400]\tvalid_0's rmse: 5857.34\n",
      "Early stopping, best iteration is:\n",
      "[422]\tvalid_0's rmse: 5834.87\n"
     ]
    },
    {
     "name": "stderr",
     "output_type": "stream",
     "text": [
      "\u001b[32m[I 2021-04-07 20:23:48,537]\u001b[0m Trial 33 finished with value: 0.2474259054895362 and parameters: {'num_leaves': 758, 'max_bin': 364, 'learning_rate': 0.18337906511958968, 'max_depth': 21, 'min_child_weight': 37, 'feature_fraction': 0.518617736351886, 'bagging_fraction': 0.9016674188573228, 'bagging_freq': 15, 'min_child_samples': 24, 'lambda_l1': 8.766627976877299e-07, 'lambda_l2': 2.955903770628303e-08}. Best is trial 28 with value: 0.24645019109436.\u001b[0m\n"
     ]
    },
    {
     "name": "stdout",
     "output_type": "stream",
     "text": [
      "RMSE = 0.2474259054895362\n",
      "Training until validation scores don't improve for 50 rounds\n"
     ]
    },
    {
     "name": "stderr",
     "output_type": "stream",
     "text": [
      "D:\\anaconda\\lib\\site-packages\\lightgbm\\engine.py:153: UserWarning: Found `early_stopping_rounds` in params. Will use it instead of argument\n",
      "  warnings.warn(\"Found `{}` in params. Will use it instead of argument\".format(alias))\n"
     ]
    },
    {
     "name": "stdout",
     "output_type": "stream",
     "text": [
      "[100]\tvalid_0's rmse: 6108.71\n",
      "[200]\tvalid_0's rmse: 5958.81\n",
      "[300]\tvalid_0's rmse: 5907.34\n",
      "Early stopping, best iteration is:\n",
      "[318]\tvalid_0's rmse: 5899.69\n"
     ]
    },
    {
     "name": "stderr",
     "output_type": "stream",
     "text": [
      "\u001b[32m[I 2021-04-07 20:23:52,520]\u001b[0m Trial 34 finished with value: 0.2495629097716496 and parameters: {'num_leaves': 770, 'max_bin': 477, 'learning_rate': 0.15974144206877028, 'max_depth': 19, 'min_child_weight': 28, 'feature_fraction': 0.7028119029247707, 'bagging_fraction': 0.7834903370295965, 'bagging_freq': 18, 'min_child_samples': 3, 'lambda_l1': 3.610895770764702e-08, 'lambda_l2': 3.065929965559664e-08}. Best is trial 28 with value: 0.24645019109436.\u001b[0m\n"
     ]
    },
    {
     "name": "stdout",
     "output_type": "stream",
     "text": [
      "RMSE = 0.2495629097716496\n",
      "Training until validation scores don't improve for 50 rounds\n"
     ]
    },
    {
     "name": "stderr",
     "output_type": "stream",
     "text": [
      "D:\\anaconda\\lib\\site-packages\\lightgbm\\engine.py:153: UserWarning: Found `early_stopping_rounds` in params. Will use it instead of argument\n",
      "  warnings.warn(\"Found `{}` in params. Will use it instead of argument\".format(alias))\n"
     ]
    },
    {
     "name": "stdout",
     "output_type": "stream",
     "text": [
      "[100]\tvalid_0's rmse: 5897.54\n",
      "[200]\tvalid_0's rmse: 5843.32\n",
      "[300]\tvalid_0's rmse: 5821.81\n",
      "Early stopping, best iteration is:\n",
      "[305]\tvalid_0's rmse: 5820.28\n"
     ]
    },
    {
     "name": "stderr",
     "output_type": "stream",
     "text": [
      "\u001b[32m[I 2021-04-07 20:23:56,993]\u001b[0m Trial 35 finished with value: 0.24815861255114058 and parameters: {'num_leaves': 633, 'max_bin': 343, 'learning_rate': 0.19927577142131786, 'max_depth': 21, 'min_child_weight': 25, 'feature_fraction': 0.5664546266705137, 'bagging_fraction': 0.9477572942113881, 'bagging_freq': 18, 'min_child_samples': 19, 'lambda_l1': 4.9722077263663425e-08, 'lambda_l2': 1.044760211855033e-08}. Best is trial 28 with value: 0.24645019109436.\u001b[0m\n"
     ]
    },
    {
     "name": "stdout",
     "output_type": "stream",
     "text": [
      "RMSE = 0.24815861255114058\n",
      "Training until validation scores don't improve for 50 rounds\n"
     ]
    },
    {
     "name": "stderr",
     "output_type": "stream",
     "text": [
      "D:\\anaconda\\lib\\site-packages\\lightgbm\\engine.py:153: UserWarning: Found `early_stopping_rounds` in params. Will use it instead of argument\n",
      "  warnings.warn(\"Found `{}` in params. Will use it instead of argument\".format(alias))\n"
     ]
    },
    {
     "name": "stdout",
     "output_type": "stream",
     "text": [
      "[100]\tvalid_0's rmse: 6121.4\n",
      "[200]\tvalid_0's rmse: 6013.18\n",
      "Early stopping, best iteration is:\n",
      "[225]\tvalid_0's rmse: 5974.17\n"
     ]
    },
    {
     "name": "stderr",
     "output_type": "stream",
     "text": [
      "\u001b[32m[I 2021-04-07 20:23:59,193]\u001b[0m Trial 36 finished with value: 0.25229354146385846 and parameters: {'num_leaves': 602, 'max_bin': 486, 'learning_rate': 0.17696868003600172, 'max_depth': 19, 'min_child_weight': 34, 'feature_fraction': 0.5003088232490613, 'bagging_fraction': 0.6611533755117585, 'bagging_freq': 20, 'min_child_samples': 32, 'lambda_l1': 5.392191627762168e-07, 'lambda_l2': 6.349320510677016e-08}. Best is trial 28 with value: 0.24645019109436.\u001b[0m\n"
     ]
    },
    {
     "name": "stdout",
     "output_type": "stream",
     "text": [
      "RMSE = 0.25229354146385846\n",
      "Training until validation scores don't improve for 50 rounds\n",
      "[100]\tvalid_0's rmse: 7733.85\n"
     ]
    },
    {
     "name": "stderr",
     "output_type": "stream",
     "text": [
      "D:\\anaconda\\lib\\site-packages\\lightgbm\\engine.py:153: UserWarning: Found `early_stopping_rounds` in params. Will use it instead of argument\n",
      "  warnings.warn(\"Found `{}` in params. Will use it instead of argument\".format(alias))\n"
     ]
    },
    {
     "name": "stdout",
     "output_type": "stream",
     "text": [
      "[200]\tvalid_0's rmse: 7327.07\n",
      "[300]\tvalid_0's rmse: 7160.98\n",
      "[400]\tvalid_0's rmse: 7088.97\n",
      "[500]\tvalid_0's rmse: 7014.38\n",
      "[600]\tvalid_0's rmse: 6953.43\n",
      "[700]\tvalid_0's rmse: 6886.23\n",
      "[800]\tvalid_0's rmse: 6839.88\n",
      "Did not meet early stopping. Best iteration is:\n",
      "[797]\tvalid_0's rmse: 6836.55\n"
     ]
    },
    {
     "name": "stderr",
     "output_type": "stream",
     "text": [
      "\u001b[32m[I 2021-04-07 20:23:59,846]\u001b[0m Trial 37 finished with value: 0.30002160354938917 and parameters: {'num_leaves': 740, 'max_bin': 530, 'learning_rate': 0.13084779763483023, 'max_depth': 2, 'min_child_weight': 26, 'feature_fraction': 0.6129101358173192, 'bagging_fraction': 0.882628052594419, 'bagging_freq': 15, 'min_child_samples': 14, 'lambda_l1': 0.0007238809727817737, 'lambda_l2': 2.0631056292270987e-08}. Best is trial 28 with value: 0.24645019109436.\u001b[0m\n"
     ]
    },
    {
     "name": "stdout",
     "output_type": "stream",
     "text": [
      "RMSE = 0.30002160354938917\n",
      "Training until validation scores don't improve for 50 rounds\n"
     ]
    },
    {
     "name": "stderr",
     "output_type": "stream",
     "text": [
      "D:\\anaconda\\lib\\site-packages\\lightgbm\\engine.py:153: UserWarning: Found `early_stopping_rounds` in params. Will use it instead of argument\n",
      "  warnings.warn(\"Found `{}` in params. Will use it instead of argument\".format(alias))\n"
     ]
    },
    {
     "name": "stdout",
     "output_type": "stream",
     "text": [
      "[100]\tvalid_0's rmse: 7090.33\n",
      "[200]\tvalid_0's rmse: 6758.22\n",
      "[300]\tvalid_0's rmse: 6622.43\n",
      "[400]\tvalid_0's rmse: 6521.95\n",
      "[500]\tvalid_0's rmse: 6425.2\n",
      "[600]\tvalid_0's rmse: 6339.81\n",
      "Early stopping, best iteration is:\n",
      "[600]\tvalid_0's rmse: 6339.81\n"
     ]
    },
    {
     "name": "stderr",
     "output_type": "stream",
     "text": [
      "\u001b[32m[I 2021-04-07 20:24:01,549]\u001b[0m Trial 38 finished with value: 0.2700077288163324 and parameters: {'num_leaves': 862, 'max_bin': 704, 'learning_rate': 0.167329980440826, 'max_depth': 21, 'min_child_weight': 32, 'feature_fraction': 0.42199028218162626, 'bagging_fraction': 0.29228732228083976, 'bagging_freq': 17, 'min_child_samples': 108, 'lambda_l1': 1.776048015337666e-06, 'lambda_l2': 8.283804316991396e-08}. Best is trial 28 with value: 0.24645019109436.\u001b[0m\n"
     ]
    },
    {
     "name": "stdout",
     "output_type": "stream",
     "text": [
      "RMSE = 0.2700077288163324\n",
      "Training until validation scores don't improve for 50 rounds\n"
     ]
    },
    {
     "name": "stderr",
     "output_type": "stream",
     "text": [
      "D:\\anaconda\\lib\\site-packages\\lightgbm\\engine.py:153: UserWarning: Found `early_stopping_rounds` in params. Will use it instead of argument\n",
      "  warnings.warn(\"Found `{}` in params. Will use it instead of argument\".format(alias))\n"
     ]
    },
    {
     "name": "stdout",
     "output_type": "stream",
     "text": [
      "[100]\tvalid_0's rmse: 6757.37\n",
      "[200]\tvalid_0's rmse: 6526.03\n",
      "[300]\tvalid_0's rmse: 6403.54\n",
      "[400]\tvalid_0's rmse: 6305.39\n",
      "[500]\tvalid_0's rmse: 6248.61\n",
      "[600]\tvalid_0's rmse: 6204.94\n",
      "[700]\tvalid_0's rmse: 6177.68\n",
      "[800]\tvalid_0's rmse: 6123.87\n",
      "Did not meet early stopping. Best iteration is:\n",
      "[800]\tvalid_0's rmse: 6123.87\n"
     ]
    },
    {
     "name": "stderr",
     "output_type": "stream",
     "text": [
      "\u001b[32m[I 2021-04-07 20:24:03,003]\u001b[0m Trial 39 finished with value: 0.26518778015574956 and parameters: {'num_leaves': 459, 'max_bin': 404, 'learning_rate': 0.1525380453066161, 'max_depth': 5, 'min_child_weight': 24, 'feature_fraction': 0.675362246739055, 'bagging_fraction': 0.9520226532601079, 'bagging_freq': 4, 'min_child_samples': 50, 'lambda_l1': 4.854216314551336e-06, 'lambda_l2': 1.2057620663549149e-08}. Best is trial 28 with value: 0.24645019109436.\u001b[0m\n"
     ]
    },
    {
     "name": "stdout",
     "output_type": "stream",
     "text": [
      "RMSE = 0.26518778015574956\n",
      "Training until validation scores don't improve for 50 rounds\n"
     ]
    },
    {
     "name": "stderr",
     "output_type": "stream",
     "text": [
      "D:\\anaconda\\lib\\site-packages\\lightgbm\\engine.py:153: UserWarning: Found `early_stopping_rounds` in params. Will use it instead of argument\n",
      "  warnings.warn(\"Found `{}` in params. Will use it instead of argument\".format(alias))\n"
     ]
    },
    {
     "name": "stdout",
     "output_type": "stream",
     "text": [
      "[100]\tvalid_0's rmse: 6410.39\n",
      "[200]\tvalid_0's rmse: 6196.78\n",
      "[300]\tvalid_0's rmse: 6082.99\n",
      "[400]\tvalid_0's rmse: 6026.52\n",
      "[500]\tvalid_0's rmse: 5991.99\n",
      "[600]\tvalid_0's rmse: 5961.44\n",
      "[700]\tvalid_0's rmse: 5931.36\n",
      "[800]\tvalid_0's rmse: 5905.61\n",
      "Did not meet early stopping. Best iteration is:\n",
      "[798]\tvalid_0's rmse: 5905.58\n"
     ]
    },
    {
     "name": "stderr",
     "output_type": "stream",
     "text": [
      "\u001b[32m[I 2021-04-07 20:24:06,093]\u001b[0m Trial 40 finished with value: 0.2533248881527728 and parameters: {'num_leaves': 845, 'max_bin': 301, 'learning_rate': 0.1804783519061156, 'max_depth': 10, 'min_child_weight': 40, 'feature_fraction': 0.7481911882770739, 'bagging_fraction': 0.7823781417151148, 'bagging_freq': 5, 'min_child_samples': 60, 'lambda_l1': 7.453762882579998e-08, 'lambda_l2': 3.5599943568670896e-07}. Best is trial 28 with value: 0.24645019109436.\u001b[0m\n"
     ]
    },
    {
     "name": "stdout",
     "output_type": "stream",
     "text": [
      "RMSE = 0.2533248881527728\n",
      "Training until validation scores don't improve for 50 rounds\n"
     ]
    },
    {
     "name": "stderr",
     "output_type": "stream",
     "text": [
      "D:\\anaconda\\lib\\site-packages\\lightgbm\\engine.py:153: UserWarning: Found `early_stopping_rounds` in params. Will use it instead of argument\n",
      "  warnings.warn(\"Found `{}` in params. Will use it instead of argument\".format(alias))\n"
     ]
    },
    {
     "name": "stdout",
     "output_type": "stream",
     "text": [
      "[100]\tvalid_0's rmse: 6019.77\n",
      "[200]\tvalid_0's rmse: 5931.77\n",
      "[300]\tvalid_0's rmse: 5878.22\n",
      "Early stopping, best iteration is:\n",
      "[329]\tvalid_0's rmse: 5870.74\n"
     ]
    },
    {
     "name": "stderr",
     "output_type": "stream",
     "text": [
      "\u001b[32m[I 2021-04-07 20:24:10,211]\u001b[0m Trial 41 finished with value: 0.24899404804061265 and parameters: {'num_leaves': 759, 'max_bin': 348, 'learning_rate': 0.17962421557351016, 'max_depth': 21, 'min_child_weight': 36, 'feature_fraction': 0.521644255366195, 'bagging_fraction': 0.8945343116319702, 'bagging_freq': 15, 'min_child_samples': 27, 'lambda_l1': 7.174009695155755e-07, 'lambda_l2': 3.392641722197223e-08}. Best is trial 28 with value: 0.24645019109436.\u001b[0m\n"
     ]
    },
    {
     "name": "stdout",
     "output_type": "stream",
     "text": [
      "RMSE = 0.24899404804061265\n",
      "Training until validation scores don't improve for 50 rounds\n"
     ]
    },
    {
     "name": "stderr",
     "output_type": "stream",
     "text": [
      "D:\\anaconda\\lib\\site-packages\\lightgbm\\engine.py:153: UserWarning: Found `early_stopping_rounds` in params. Will use it instead of argument\n",
      "  warnings.warn(\"Found `{}` in params. Will use it instead of argument\".format(alias))\n"
     ]
    },
    {
     "name": "stdout",
     "output_type": "stream",
     "text": [
      "[100]\tvalid_0's rmse: 6016.57\n",
      "[200]\tvalid_0's rmse: 5930.54\n",
      "[300]\tvalid_0's rmse: 5884.83\n",
      "[400]\tvalid_0's rmse: 5855.66\n",
      "[500]\tvalid_0's rmse: 5842.14\n",
      "[600]\tvalid_0's rmse: 5833.66\n",
      "Early stopping, best iteration is:\n",
      "[571]\tvalid_0's rmse: 5824.37\n"
     ]
    },
    {
     "name": "stderr",
     "output_type": "stream",
     "text": [
      "\u001b[32m[I 2021-04-07 20:24:17,344]\u001b[0m Trial 42 finished with value: 0.24707157634691054 and parameters: {'num_leaves': 962, 'max_bin': 435, 'learning_rate': 0.1886678494252375, 'max_depth': 21, 'min_child_weight': 36, 'feature_fraction': 0.4668583326082053, 'bagging_fraction': 0.933482526896731, 'bagging_freq': 14, 'min_child_samples': 26, 'lambda_l1': 3.1599485950229026e-08, 'lambda_l2': 8.14208527817919e-08}. Best is trial 28 with value: 0.24645019109436.\u001b[0m\n"
     ]
    },
    {
     "name": "stdout",
     "output_type": "stream",
     "text": [
      "RMSE = 0.24707157634691054\n",
      "Training until validation scores don't improve for 50 rounds\n"
     ]
    },
    {
     "name": "stderr",
     "output_type": "stream",
     "text": [
      "D:\\anaconda\\lib\\site-packages\\lightgbm\\engine.py:153: UserWarning: Found `early_stopping_rounds` in params. Will use it instead of argument\n",
      "  warnings.warn(\"Found `{}` in params. Will use it instead of argument\".format(alias))\n"
     ]
    },
    {
     "name": "stdout",
     "output_type": "stream",
     "text": [
      "[100]\tvalid_0's rmse: 5959.18\n",
      "[200]\tvalid_0's rmse: 5886.63\n",
      "[300]\tvalid_0's rmse: 5861.19\n",
      "[400]\tvalid_0's rmse: 5837.16\n",
      "Early stopping, best iteration is:\n",
      "[380]\tvalid_0's rmse: 5835.3\n"
     ]
    },
    {
     "name": "stderr",
     "output_type": "stream",
     "text": [
      "\u001b[32m[I 2021-04-07 20:24:22,456]\u001b[0m Trial 43 finished with value: 0.2479279217504183 and parameters: {'num_leaves': 980, 'max_bin': 537, 'learning_rate': 0.19990666568189003, 'max_depth': 22, 'min_child_weight': 32, 'feature_fraction': 0.32901266216102126, 'bagging_fraction': 0.9387070082013308, 'bagging_freq': 14, 'min_child_samples': 4, 'lambda_l1': 2.324784178746242e-08, 'lambda_l2': 8.808224975949724e-08}. Best is trial 28 with value: 0.24645019109436.\u001b[0m\n"
     ]
    },
    {
     "name": "stdout",
     "output_type": "stream",
     "text": [
      "RMSE = 0.2479279217504183\n",
      "Training until validation scores don't improve for 50 rounds\n"
     ]
    },
    {
     "name": "stderr",
     "output_type": "stream",
     "text": [
      "D:\\anaconda\\lib\\site-packages\\lightgbm\\engine.py:153: UserWarning: Found `early_stopping_rounds` in params. Will use it instead of argument\n",
      "  warnings.warn(\"Found `{}` in params. Will use it instead of argument\".format(alias))\n"
     ]
    },
    {
     "name": "stdout",
     "output_type": "stream",
     "text": [
      "[100]\tvalid_0's rmse: 5958.98\n",
      "[200]\tvalid_0's rmse: 5902.82\n",
      "[300]\tvalid_0's rmse: 5841.5\n",
      "[400]\tvalid_0's rmse: 5824.44\n",
      "Early stopping, best iteration is:\n",
      "[399]\tvalid_0's rmse: 5823.97\n"
     ]
    },
    {
     "name": "stderr",
     "output_type": "stream",
     "text": [
      "\u001b[32m[I 2021-04-07 20:24:28,257]\u001b[0m Trial 44 finished with value: 0.2467379248563961 and parameters: {'num_leaves': 948, 'max_bin': 404, 'learning_rate': 0.16863460729079063, 'max_depth': 20, 'min_child_weight': 29, 'feature_fraction': 0.586117906480367, 'bagging_fraction': 0.8670810163728875, 'bagging_freq': 12, 'min_child_samples': 15, 'lambda_l1': 7.821749473953642e-08, 'lambda_l2': 1.784393641293553e-08}. Best is trial 28 with value: 0.24645019109436.\u001b[0m\n"
     ]
    },
    {
     "name": "stdout",
     "output_type": "stream",
     "text": [
      "RMSE = 0.2467379248563961\n",
      "Training until validation scores don't improve for 50 rounds\n"
     ]
    },
    {
     "name": "stderr",
     "output_type": "stream",
     "text": [
      "D:\\anaconda\\lib\\site-packages\\lightgbm\\engine.py:153: UserWarning: Found `early_stopping_rounds` in params. Will use it instead of argument\n",
      "  warnings.warn(\"Found `{}` in params. Will use it instead of argument\".format(alias))\n"
     ]
    },
    {
     "name": "stdout",
     "output_type": "stream",
     "text": [
      "[100]\tvalid_0's rmse: 5954.2\n",
      "[200]\tvalid_0's rmse: 5886.86\n",
      "[300]\tvalid_0's rmse: 5848.16\n",
      "[400]\tvalid_0's rmse: 5819.6\n",
      "[500]\tvalid_0's rmse: 5810.38\n",
      "[600]\tvalid_0's rmse: 5800.2\n",
      "[700]\tvalid_0's rmse: 5794.39\n",
      "[800]\tvalid_0's rmse: 5789.79\n",
      "Did not meet early stopping. Best iteration is:\n",
      "[767]\tvalid_0's rmse: 5789.4\n"
     ]
    },
    {
     "name": "stderr",
     "output_type": "stream",
     "text": [
      "\u001b[32m[I 2021-04-07 20:24:37,923]\u001b[0m Trial 45 finished with value: 0.24758412404507416 and parameters: {'num_leaves': 970, 'max_bin': 437, 'learning_rate': 0.16976737923480023, 'max_depth': 20, 'min_child_weight': 28, 'feature_fraction': 0.45297632570067203, 'bagging_fraction': 0.9988742619894339, 'bagging_freq': 12, 'min_child_samples': 14, 'lambda_l1': 1.0758586819649561e-08, 'lambda_l2': 1.038967338409294e-07}. Best is trial 28 with value: 0.24645019109436.\u001b[0m\n"
     ]
    },
    {
     "name": "stdout",
     "output_type": "stream",
     "text": [
      "RMSE = 0.24758412404507416\n",
      "Training until validation scores don't improve for 50 rounds\n"
     ]
    },
    {
     "name": "stderr",
     "output_type": "stream",
     "text": [
      "D:\\anaconda\\lib\\site-packages\\lightgbm\\engine.py:153: UserWarning: Found `early_stopping_rounds` in params. Will use it instead of argument\n",
      "  warnings.warn(\"Found `{}` in params. Will use it instead of argument\".format(alias))\n"
     ]
    },
    {
     "name": "stdout",
     "output_type": "stream",
     "text": [
      "[100]\tvalid_0's rmse: 6145.42\n",
      "[200]\tvalid_0's rmse: 5983.39\n",
      "[300]\tvalid_0's rmse: 5889.78\n",
      "[400]\tvalid_0's rmse: 5866.42\n",
      "[500]\tvalid_0's rmse: 5852.45\n",
      "[600]\tvalid_0's rmse: 5824.16\n",
      "[700]\tvalid_0's rmse: 5809.39\n",
      "Early stopping, best iteration is:\n",
      "[708]\tvalid_0's rmse: 5803.98\n"
     ]
    },
    {
     "name": "stderr",
     "output_type": "stream",
     "text": [
      "\u001b[32m[I 2021-04-07 20:24:44,664]\u001b[0m Trial 46 finished with value: 0.24702016467829715 and parameters: {'num_leaves': 1009, 'max_bin': 535, 'learning_rate': 0.14638752063525787, 'max_depth': 19, 'min_child_weight': 41, 'feature_fraction': 0.5898651827866009, 'bagging_fraction': 0.8669184336599209, 'bagging_freq': 12, 'min_child_samples': 45, 'lambda_l1': 0.2619496528265484, 'lambda_l2': 4.6019743871817355e-08}. Best is trial 28 with value: 0.24645019109436.\u001b[0m\n"
     ]
    },
    {
     "name": "stdout",
     "output_type": "stream",
     "text": [
      "RMSE = 0.24702016467829715\n",
      "Training until validation scores don't improve for 50 rounds\n"
     ]
    },
    {
     "name": "stderr",
     "output_type": "stream",
     "text": [
      "D:\\anaconda\\lib\\site-packages\\lightgbm\\engine.py:153: UserWarning: Found `early_stopping_rounds` in params. Will use it instead of argument\n",
      "  warnings.warn(\"Found `{}` in params. Will use it instead of argument\".format(alias))\n"
     ]
    },
    {
     "name": "stdout",
     "output_type": "stream",
     "text": [
      "[100]\tvalid_0's rmse: 6320.7\n",
      "[200]\tvalid_0's rmse: 6110.46\n",
      "[300]\tvalid_0's rmse: 5996.07\n",
      "[400]\tvalid_0's rmse: 5972.84\n",
      "[500]\tvalid_0's rmse: 5955.12\n",
      "[600]\tvalid_0's rmse: 5911.49\n",
      "[700]\tvalid_0's rmse: 5884.87\n",
      "Early stopping, best iteration is:\n",
      "[705]\tvalid_0's rmse: 5882.13\n"
     ]
    },
    {
     "name": "stderr",
     "output_type": "stream",
     "text": [
      "\u001b[32m[I 2021-04-07 20:24:49,679]\u001b[0m Trial 47 finished with value: 0.2491746838297737 and parameters: {'num_leaves': 880, 'max_bin': 775, 'learning_rate': 0.14329663743219634, 'max_depth': 16, 'min_child_weight': 48, 'feature_fraction': 0.5803714707858095, 'bagging_fraction': 0.7492501987321231, 'bagging_freq': 12, 'min_child_samples': 45, 'lambda_l1': 0.007670203546535033, 'lambda_l2': 4.397752375229531e-08}. Best is trial 28 with value: 0.24645019109436.\u001b[0m\n"
     ]
    },
    {
     "name": "stdout",
     "output_type": "stream",
     "text": [
      "RMSE = 0.2491746838297737\n",
      "Training until validation scores don't improve for 50 rounds\n"
     ]
    },
    {
     "name": "stderr",
     "output_type": "stream",
     "text": [
      "D:\\anaconda\\lib\\site-packages\\lightgbm\\engine.py:153: UserWarning: Found `early_stopping_rounds` in params. Will use it instead of argument\n",
      "  warnings.warn(\"Found `{}` in params. Will use it instead of argument\".format(alias))\n"
     ]
    },
    {
     "name": "stdout",
     "output_type": "stream",
     "text": [
      "[100]\tvalid_0's rmse: 6594.76\n",
      "[200]\tvalid_0's rmse: 6311.85\n",
      "[300]\tvalid_0's rmse: 6176.35\n",
      "[400]\tvalid_0's rmse: 6088.54\n",
      "[500]\tvalid_0's rmse: 6035.23\n",
      "[600]\tvalid_0's rmse: 6012.64\n",
      "[700]\tvalid_0's rmse: 5966.42\n",
      "[800]\tvalid_0's rmse: 5960.24\n",
      "Did not meet early stopping. Best iteration is:\n",
      "[757]\tvalid_0's rmse: 5951.54\n"
     ]
    },
    {
     "name": "stderr",
     "output_type": "stream",
     "text": [
      "\u001b[32m[I 2021-04-07 20:24:53,321]\u001b[0m Trial 48 finished with value: 0.2559969995196423 and parameters: {'num_leaves': 827, 'max_bin': 418, 'learning_rate': 0.13423935795610747, 'max_depth': 19, 'min_child_weight': 40, 'feature_fraction': 0.3836051106233339, 'bagging_fraction': 0.6618722215233991, 'bagging_freq': 14, 'min_child_samples': 93, 'lambda_l1': 0.0034864358396368236, 'lambda_l2': 2.8992586155384845e-07}. Best is trial 28 with value: 0.24645019109436.\u001b[0m\n"
     ]
    },
    {
     "name": "stdout",
     "output_type": "stream",
     "text": [
      "RMSE = 0.2559969995196423\n",
      "Training until validation scores don't improve for 50 rounds\n"
     ]
    },
    {
     "name": "stderr",
     "output_type": "stream",
     "text": [
      "D:\\anaconda\\lib\\site-packages\\lightgbm\\engine.py:153: UserWarning: Found `early_stopping_rounds` in params. Will use it instead of argument\n",
      "  warnings.warn(\"Found `{}` in params. Will use it instead of argument\".format(alias))\n"
     ]
    },
    {
     "name": "stdout",
     "output_type": "stream",
     "text": [
      "[100]\tvalid_0's rmse: 6348.14\n",
      "[200]\tvalid_0's rmse: 6106.07\n",
      "[300]\tvalid_0's rmse: 6002.38\n",
      "[400]\tvalid_0's rmse: 5934.84\n",
      "Early stopping, best iteration is:\n",
      "[449]\tvalid_0's rmse: 5916.02\n"
     ]
    },
    {
     "name": "stderr",
     "output_type": "stream",
     "text": [
      "\u001b[32m[I 2021-04-07 20:24:56,415]\u001b[0m Trial 49 finished with value: 0.2529305235652356 and parameters: {'num_leaves': 963, 'max_bin': 692, 'learning_rate': 0.15031029426866993, 'max_depth': 20, 'min_child_weight': 34, 'feature_fraction': 0.2894223667295487, 'bagging_fraction': 0.8609227033873658, 'bagging_freq': 11, 'min_child_samples': 67, 'lambda_l1': 0.00039584713129844977, 'lambda_l2': 2.2404102449328898e-05}. Best is trial 28 with value: 0.24645019109436.\u001b[0m\n"
     ]
    },
    {
     "name": "stdout",
     "output_type": "stream",
     "text": [
      "RMSE = 0.2529305235652356\n"
     ]
    }
   ],
   "source": [
    "study = optuna.create_study(direction = 'minimize')\n",
    "study.optimize(objective, n_trials = 50)"
   ]
  },
  {
   "cell_type": "code",
   "execution_count": 26,
   "metadata": {},
   "outputs": [
    {
     "name": "stdout",
     "output_type": "stream",
     "text": [
      "Trials : 50\n",
      "Best Trial : FrozenTrial(number=28, values=[0.24645019109436], datetime_start=datetime.datetime(2021, 4, 7, 20, 23, 16, 713628), datetime_complete=datetime.datetime(2021, 4, 7, 20, 23, 23, 418979), params={'num_leaves': 785, 'max_bin': 500, 'learning_rate': 0.1554548331354835, 'max_depth': 21, 'min_child_weight': 29, 'feature_fraction': 0.5940045683266111, 'bagging_fraction': 0.9216206914189919, 'bagging_freq': 4, 'min_child_samples': 46, 'lambda_l1': 3.571209645294287e-08, 'lambda_l2': 2.829998497896674e-08}, distributions={'num_leaves': IntUniformDistribution(high=1012, low=22, step=1), 'max_bin': IntUniformDistribution(high=1300, low=300, step=1), 'learning_rate': UniformDistribution(high=0.2, low=0.001), 'max_depth': IntUniformDistribution(high=22, low=2, step=1), 'min_child_weight': IntUniformDistribution(high=52, low=1, step=1), 'feature_fraction': UniformDistribution(high=1.0, low=0.1), 'bagging_fraction': UniformDistribution(high=1.0, low=0.1), 'bagging_freq': IntUniformDistribution(high=20, low=1, step=1), 'min_child_samples': IntUniformDistribution(high=200, low=3, step=1), 'lambda_l1': LogUniformDistribution(high=1.0, low=1e-08), 'lambda_l2': LogUniformDistribution(high=1.0, low=1e-08)}, user_attrs={}, system_attrs={}, intermediate_values={}, trial_id=28, state=TrialState.COMPLETE, value=None)\n",
      "num_leaves : 785\n",
      "max_bin : 500\n",
      "learning_rate : 0.1554548331354835\n",
      "max_depth : 21\n",
      "min_child_weight : 29\n",
      "feature_fraction : 0.5940045683266111\n",
      "bagging_fraction : 0.9216206914189919\n",
      "bagging_freq : 4\n",
      "min_child_samples : 46\n",
      "lambda_l1 : 3.571209645294287e-08\n",
      "lambda_l2 : 2.829998497896674e-08\n",
      "0.24645019109436\n"
     ]
    }
   ],
   "source": [
    "print(f\"Trials : {len(study.trials)}\")\n",
    "print(f\"Best Trial : {study.best_trial}\")\n",
    "best = study.best_trial\n",
    "for i, j in best.params.items():\n",
    "    print(f\"{i} : {j}\")\n",
    "print(f\"{best.value}\")"
   ]
  },
  {
   "cell_type": "code",
   "execution_count": 288,
   "metadata": {},
   "outputs": [
    {
     "data": {
      "text/plain": [
       "LGBMRegressor(learning_rate=0.42, max_depth=9, num_leaves=102)"
      ]
     },
     "execution_count": 288,
     "metadata": {},
     "output_type": "execute_result"
    }
   ],
   "source": [
    "import lightgbm as lgb\n",
    "clf = lgb.LGBMRegressor(learning_rate=0.42, num_leaves=102, max_depth=9)\n",
    "clf.fit(X_train, y_train)"
   ]
  },
  {
   "cell_type": "code",
   "execution_count": 289,
   "metadata": {},
   "outputs": [
    {
     "name": "stdout",
     "output_type": "stream",
     "text": [
      "0.7327677296964832\n"
     ]
    }
   ],
   "source": [
    "pred = clf.predict(X_test)\n",
    "\n",
    "from sklearn.metrics import r2_score\n",
    "print(r2_score(y_test, pred))"
   ]
  },
  {
   "cell_type": "code",
   "execution_count": 290,
   "metadata": {},
   "outputs": [
    {
     "data": {
      "text/plain": [
       "0.2625996127730414"
      ]
     },
     "execution_count": 290,
     "metadata": {},
     "output_type": "execute_result"
    }
   ],
   "source": [
    "from sklearn.metrics import mean_squared_log_error\n",
    "np.sqrt(mean_squared_log_error(y_test, pred))"
   ]
  },
  {
   "cell_type": "code",
   "execution_count": null,
   "metadata": {},
   "outputs": [],
   "source": []
  }
 ],
 "metadata": {
  "kernelspec": {
   "display_name": "Python 3",
   "language": "python",
   "name": "python3"
  },
  "language_info": {
   "codemirror_mode": {
    "name": "ipython",
    "version": 3
   },
   "file_extension": ".py",
   "mimetype": "text/x-python",
   "name": "python",
   "nbconvert_exporter": "python",
   "pygments_lexer": "ipython3",
   "version": "3.7.6"
  }
 },
 "nbformat": 4,
 "nbformat_minor": 4
}
