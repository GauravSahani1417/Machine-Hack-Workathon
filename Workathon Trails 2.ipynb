{
 "cells": [
  {
   "cell_type": "code",
   "execution_count": 2,
   "metadata": {},
   "outputs": [],
   "source": [
    "import pandas as pd\n",
    "import numpy as np\n",
    "import seaborn as sns\n",
    "import matplotlib.pyplot as plt\n",
    "import scipy.stats as stats\n",
    "%matplotlib inline"
   ]
  },
  {
   "cell_type": "code",
   "execution_count": 3,
   "metadata": {},
   "outputs": [],
   "source": [
    "df_Train=pd.read_csv('Train_New.csv')\n",
    "df_Test=pd.read_csv('Test_New.csv')"
   ]
  },
  {
   "cell_type": "code",
   "execution_count": 4,
   "metadata": {},
   "outputs": [],
   "source": [
    "df_Train.drop('PC1', axis=1, inplace=True)\n",
    "df_Train.drop('PC2', axis=1, inplace=True)\n",
    "df_Train.drop('PC3', axis=1, inplace=True)\n",
    "df_Train.drop('PC4', axis=1, inplace=True)\n",
    "df_Train.drop('PC5', axis=1, inplace=True)\n",
    "df_Train.drop('Meals', axis=1, inplace=True)"
   ]
  },
  {
   "cell_type": "code",
   "execution_count": 5,
   "metadata": {},
   "outputs": [],
   "source": [
    "df_Test.drop('PC1', axis=1, inplace=True)\n",
    "df_Test.drop('PC2', axis=1, inplace=True)\n",
    "df_Test.drop('PC3', axis=1, inplace=True)\n",
    "df_Test.drop('PC4', axis=1, inplace=True)\n",
    "df_Test.drop('PC5', axis=1, inplace=True)\n",
    "df_Test.drop('Meals', axis=1, inplace=True)"
   ]
  },
  {
   "cell_type": "code",
   "execution_count": 6,
   "metadata": {},
   "outputs": [],
   "source": [
    "X=df_Train.drop(['Per Person Price'],axis=1)\n",
    "y=df_Train[['Per Person Price']]"
   ]
  },
  {
   "cell_type": "code",
   "execution_count": 9,
   "metadata": {},
   "outputs": [],
   "source": [
    "from sklearn.model_selection import train_test_split\n",
    "X_train,X_test,y_train,y_test=train_test_split(X,y,test_size=0.18,random_state=33)"
   ]
  },
  {
   "cell_type": "code",
   "execution_count": 10,
   "metadata": {},
   "outputs": [],
   "source": [
    "import optuna\n",
    "from math import sqrt\n",
    "import lightgbm as lgb"
   ]
  },
  {
   "cell_type": "code",
   "execution_count": 11,
   "metadata": {},
   "outputs": [],
   "source": [
    "lgb_train = lgb.Dataset(X_train, y_train)\n",
    "lgb_valid = lgb.Dataset(X_test, y_test, reference=lgb_train)"
   ]
  },
  {
   "cell_type": "code",
   "execution_count": 12,
   "metadata": {},
   "outputs": [],
   "source": [
    "from sklearn.metrics import mean_squared_log_error"
   ]
  },
  {
   "cell_type": "code",
   "execution_count": 13,
   "metadata": {},
   "outputs": [],
   "source": [
    "def objective(trial):    \n",
    "    params = {\n",
    "            'num_leaves': trial.suggest_int('num_leaves', 32, 612),\n",
    "            'max_bin': trial.suggest_int('max_bin', 400, 1000),\n",
    "            'objective': 'regression',\n",
    "            'metric': 'RMSE',\n",
    "            'learning_rate': trial.suggest_float('learning_rate',0.0155,0.1),\n",
    "            'random_state' : 33,\n",
    "            'max_depth': trial.suggest_int('max_depth', 4, 16),\n",
    "            'min_child_weight': trial.suggest_int('min_child_weight', 1, 21),\n",
    "            'feature_fraction': trial.suggest_uniform('feature_fraction', 0.4, 1.0),\n",
    "            'bagging_fraction': trial.suggest_uniform('bagging_fraction', 0.4, 1.0),\n",
    "            'bagging_freq': trial.suggest_int('bagging_freq', 1, 9),\n",
    "            'min_child_samples': trial.suggest_int('min_child_samples', 3, 100),\n",
    "            'lambda_l1': trial.suggest_loguniform('lambda_l1', 1e-8, 1.0),\n",
    "            'lambda_l2': trial.suggest_loguniform('lambda_l2', 1e-8, 1.0),\n",
    "            'early_stopping_rounds': 10\n",
    "            }\n",
    "    \n",
    "    model = lgb.train(params, lgb_train, valid_sets=[lgb_valid], verbose_eval=100, num_boost_round=800)\n",
    "    y_pred  = model.predict(X_test)\n",
    "    score = np.sqrt(mean_squared_log_error(y_test, y_pred))\n",
    "    print(f\"RMSE = {score}\")\n",
    "    return score"
   ]
  },
  {
   "cell_type": "code",
   "execution_count": 14,
   "metadata": {},
   "outputs": [
    {
     "name": "stderr",
     "output_type": "stream",
     "text": [
      "\u001b[32m[I 2021-04-03 18:19:07,876]\u001b[0m A new study created in memory with name: no-name-951ae4c8-7c4c-436c-8007-47777c3b7c16\u001b[0m\n",
      "D:\\anaconda\\lib\\site-packages\\lightgbm\\engine.py:153: UserWarning: Found `early_stopping_rounds` in params. Will use it instead of argument\n",
      "  warnings.warn(\"Found `{}` in params. Will use it instead of argument\".format(alias))\n"
     ]
    },
    {
     "name": "stdout",
     "output_type": "stream",
     "text": [
      "Training until validation scores don't improve for 10 rounds\n",
      "[100]\tvalid_0's rmse: 7958.92\n",
      "[200]\tvalid_0's rmse: 7127.13\n",
      "[300]\tvalid_0's rmse: 6788.44\n",
      "[400]\tvalid_0's rmse: 6577.91\n",
      "[500]\tvalid_0's rmse: 6436.57\n",
      "[600]\tvalid_0's rmse: 6340.82\n",
      "[700]\tvalid_0's rmse: 6255.2\n",
      "[800]\tvalid_0's rmse: 6200.04\n",
      "Did not meet early stopping. Best iteration is:\n",
      "[800]\tvalid_0's rmse: 6200.04\n"
     ]
    },
    {
     "name": "stderr",
     "output_type": "stream",
     "text": [
      "\u001b[32m[I 2021-04-03 18:19:10,462]\u001b[0m Trial 0 finished with value: 0.24222580151246184 and parameters: {'num_leaves': 446, 'max_bin': 783, 'learning_rate': 0.022994612098661667, 'max_depth': 5, 'min_child_weight': 2, 'feature_fraction': 0.7581941306350666, 'bagging_fraction': 0.5749628008883861, 'bagging_freq': 9, 'min_child_samples': 76, 'lambda_l1': 5.234048452818184e-08, 'lambda_l2': 0.00020400398965834046}. Best is trial 0 with value: 0.24222580151246184.\u001b[0m\n"
     ]
    },
    {
     "name": "stdout",
     "output_type": "stream",
     "text": [
      "RMSE = 0.24222580151246184\n",
      "Training until validation scores don't improve for 10 rounds\n"
     ]
    },
    {
     "name": "stderr",
     "output_type": "stream",
     "text": [
      "D:\\anaconda\\lib\\site-packages\\lightgbm\\engine.py:153: UserWarning: Found `early_stopping_rounds` in params. Will use it instead of argument\n",
      "  warnings.warn(\"Found `{}` in params. Will use it instead of argument\".format(alias))\n"
     ]
    },
    {
     "name": "stdout",
     "output_type": "stream",
     "text": [
      "[100]\tvalid_0's rmse: 5985.69\n",
      "[200]\tvalid_0's rmse: 5673.66\n",
      "[300]\tvalid_0's rmse: 5507.03\n"
     ]
    },
    {
     "name": "stderr",
     "output_type": "stream",
     "text": [
      "\u001b[32m[I 2021-04-03 18:19:12,419]\u001b[0m Trial 1 finished with value: 0.21071033372292503 and parameters: {'num_leaves': 86, 'max_bin': 619, 'learning_rate': 0.09997130074624534, 'max_depth': 11, 'min_child_weight': 3, 'feature_fraction': 0.4725649649191788, 'bagging_fraction': 0.43966865645951436, 'bagging_freq': 6, 'min_child_samples': 45, 'lambda_l1': 0.0007259982213441204, 'lambda_l2': 0.000959948803248788}. Best is trial 1 with value: 0.21071033372292503.\u001b[0m\n"
     ]
    },
    {
     "name": "stdout",
     "output_type": "stream",
     "text": [
      "Early stopping, best iteration is:\n",
      "[346]\tvalid_0's rmse: 5459.56\n",
      "RMSE = 0.21071033372292503\n",
      "Training until validation scores don't improve for 10 rounds\n"
     ]
    },
    {
     "name": "stderr",
     "output_type": "stream",
     "text": [
      "D:\\anaconda\\lib\\site-packages\\lightgbm\\engine.py:153: UserWarning: Found `early_stopping_rounds` in params. Will use it instead of argument\n",
      "  warnings.warn(\"Found `{}` in params. Will use it instead of argument\".format(alias))\n"
     ]
    },
    {
     "name": "stdout",
     "output_type": "stream",
     "text": [
      "[100]\tvalid_0's rmse: 6576.5\n",
      "[200]\tvalid_0's rmse: 6161.72\n",
      "Early stopping, best iteration is:\n",
      "[280]\tvalid_0's rmse: 5954.19"
     ]
    },
    {
     "name": "stderr",
     "output_type": "stream",
     "text": [
      "\u001b[32m[I 2021-04-03 18:19:13,112]\u001b[0m Trial 2 finished with value: 0.23992085309331165 and parameters: {'num_leaves': 51, 'max_bin': 691, 'learning_rate': 0.0936588821016879, 'max_depth': 4, 'min_child_weight': 17, 'feature_fraction': 0.6689185803769637, 'bagging_fraction': 0.696660104719897, 'bagging_freq': 8, 'min_child_samples': 15, 'lambda_l1': 0.003668969294565012, 'lambda_l2': 0.0032406465474855736}. Best is trial 1 with value: 0.21071033372292503.\u001b[0m\n"
     ]
    },
    {
     "name": "stdout",
     "output_type": "stream",
     "text": [
      "\n",
      "RMSE = 0.23992085309331165\n",
      "Training until validation scores don't improve for 10 rounds\n"
     ]
    },
    {
     "name": "stderr",
     "output_type": "stream",
     "text": [
      "D:\\anaconda\\lib\\site-packages\\lightgbm\\engine.py:153: UserWarning: Found `early_stopping_rounds` in params. Will use it instead of argument\n",
      "  warnings.warn(\"Found `{}` in params. Will use it instead of argument\".format(alias))\n"
     ]
    },
    {
     "name": "stdout",
     "output_type": "stream",
     "text": [
      "[100]\tvalid_0's rmse: 6470.69\n",
      "[200]\tvalid_0's rmse: 6057.22\n",
      "[300]\tvalid_0's rmse: 5887.21\n",
      "[400]\tvalid_0's rmse: 5749.82\n"
     ]
    },
    {
     "name": "stderr",
     "output_type": "stream",
     "text": [
      "\u001b[32m[I 2021-04-03 18:19:14,930]\u001b[0m Trial 3 finished with value: 0.2263179433941218 and parameters: {'num_leaves': 308, 'max_bin': 775, 'learning_rate': 0.05437680979571374, 'max_depth': 7, 'min_child_weight': 2, 'feature_fraction': 0.9006983154248297, 'bagging_fraction': 0.49187501685386503, 'bagging_freq': 9, 'min_child_samples': 40, 'lambda_l1': 0.010657870991419915, 'lambda_l2': 7.870979339715872e-07}. Best is trial 1 with value: 0.21071033372292503.\u001b[0m\n"
     ]
    },
    {
     "name": "stdout",
     "output_type": "stream",
     "text": [
      "Early stopping, best iteration is:\n",
      "[454]\tvalid_0's rmse: 5705.36\n",
      "RMSE = 0.2263179433941218\n",
      "Training until validation scores don't improve for 10 rounds\n"
     ]
    },
    {
     "name": "stderr",
     "output_type": "stream",
     "text": [
      "D:\\anaconda\\lib\\site-packages\\lightgbm\\engine.py:153: UserWarning: Found `early_stopping_rounds` in params. Will use it instead of argument\n",
      "  warnings.warn(\"Found `{}` in params. Will use it instead of argument\".format(alias))\n"
     ]
    },
    {
     "name": "stdout",
     "output_type": "stream",
     "text": [
      "[100]\tvalid_0's rmse: 6078.2\n",
      "[200]\tvalid_0's rmse: 5732.85\n",
      "[300]\tvalid_0's rmse: 5567.54\n",
      "Early stopping, best iteration is:\n",
      "[305]\tvalid_0's rmse: 5565.56\n"
     ]
    },
    {
     "name": "stderr",
     "output_type": "stream",
     "text": [
      "\u001b[32m[I 2021-04-03 18:19:17,399]\u001b[0m Trial 4 finished with value: 0.2143565681955574 and parameters: {'num_leaves': 536, 'max_bin': 769, 'learning_rate': 0.09800661014424508, 'max_depth': 16, 'min_child_weight': 13, 'feature_fraction': 0.7007645308160655, 'bagging_fraction': 0.4501801859063373, 'bagging_freq': 5, 'min_child_samples': 67, 'lambda_l1': 0.006385140135843967, 'lambda_l2': 0.019388569576072743}. Best is trial 1 with value: 0.21071033372292503.\u001b[0m\n"
     ]
    },
    {
     "name": "stdout",
     "output_type": "stream",
     "text": [
      "RMSE = 0.2143565681955574\n",
      "Training until validation scores don't improve for 10 rounds\n"
     ]
    },
    {
     "name": "stderr",
     "output_type": "stream",
     "text": [
      "D:\\anaconda\\lib\\site-packages\\lightgbm\\engine.py:153: UserWarning: Found `early_stopping_rounds` in params. Will use it instead of argument\n",
      "  warnings.warn(\"Found `{}` in params. Will use it instead of argument\".format(alias))\n"
     ]
    },
    {
     "name": "stdout",
     "output_type": "stream",
     "text": [
      "[100]\tvalid_0's rmse: 5900.11\n",
      "[200]\tvalid_0's rmse: 5567.51\n",
      "[300]\tvalid_0's rmse: 5414.01\n",
      "[400]\tvalid_0's rmse: 5322.87\n",
      "[500]\tvalid_0's rmse: 5285.03\n",
      "Early stopping, best iteration is:\n",
      "[508]\tvalid_0's rmse: 5276.92\n"
     ]
    },
    {
     "name": "stderr",
     "output_type": "stream",
     "text": [
      "\u001b[32m[I 2021-04-03 18:19:20,187]\u001b[0m Trial 5 finished with value: 0.20445455933698747 and parameters: {'num_leaves': 119, 'max_bin': 401, 'learning_rate': 0.06840856641355786, 'max_depth': 8, 'min_child_weight': 12, 'feature_fraction': 0.44451491266401605, 'bagging_fraction': 0.8832260051968726, 'bagging_freq': 1, 'min_child_samples': 35, 'lambda_l1': 0.018304197347031655, 'lambda_l2': 0.16913766922998252}. Best is trial 5 with value: 0.20445455933698747.\u001b[0m\n"
     ]
    },
    {
     "name": "stdout",
     "output_type": "stream",
     "text": [
      "RMSE = 0.20445455933698747\n",
      "Training until validation scores don't improve for 10 rounds\n"
     ]
    },
    {
     "name": "stderr",
     "output_type": "stream",
     "text": [
      "D:\\anaconda\\lib\\site-packages\\lightgbm\\engine.py:153: UserWarning: Found `early_stopping_rounds` in params. Will use it instead of argument\n",
      "  warnings.warn(\"Found `{}` in params. Will use it instead of argument\".format(alias))\n"
     ]
    },
    {
     "name": "stdout",
     "output_type": "stream",
     "text": [
      "[100]\tvalid_0's rmse: 6622.4\n",
      "[200]\tvalid_0's rmse: 6214.98\n",
      "[300]\tvalid_0's rmse: 6018.39\n",
      "[400]\tvalid_0's rmse: 5882.94\n",
      "[500]\tvalid_0's rmse: 5808.55\n",
      "[600]\tvalid_0's rmse: 5748.46\n",
      "[700]\tvalid_0's rmse: 5688.73\n",
      "Early stopping, best iteration is:\n",
      "[769]\tvalid_0's rmse: 5656.58\n"
     ]
    },
    {
     "name": "stderr",
     "output_type": "stream",
     "text": [
      "\u001b[32m[I 2021-04-03 18:19:23,146]\u001b[0m Trial 6 finished with value: 0.21746549417992472 and parameters: {'num_leaves': 268, 'max_bin': 896, 'learning_rate': 0.052972362706177056, 'max_depth': 8, 'min_child_weight': 7, 'feature_fraction': 0.4738986884344989, 'bagging_fraction': 0.6905375106598335, 'bagging_freq': 3, 'min_child_samples': 99, 'lambda_l1': 1.7878923827610184e-07, 'lambda_l2': 3.6602923890589134e-05}. Best is trial 5 with value: 0.20445455933698747.\u001b[0m\n"
     ]
    },
    {
     "name": "stdout",
     "output_type": "stream",
     "text": [
      "RMSE = 0.21746549417992472\n",
      "Training until validation scores don't improve for 10 rounds\n"
     ]
    },
    {
     "name": "stderr",
     "output_type": "stream",
     "text": [
      "D:\\anaconda\\lib\\site-packages\\lightgbm\\engine.py:153: UserWarning: Found `early_stopping_rounds` in params. Will use it instead of argument\n",
      "  warnings.warn(\"Found `{}` in params. Will use it instead of argument\".format(alias))\n"
     ]
    },
    {
     "name": "stdout",
     "output_type": "stream",
     "text": [
      "[100]\tvalid_0's rmse: 6610.95\n",
      "[200]\tvalid_0's rmse: 6090.96\n",
      "[300]\tvalid_0's rmse: 5851.24\n",
      "[400]\tvalid_0's rmse: 5724.61\n",
      "[500]\tvalid_0's rmse: 5620.81\n",
      "Early stopping, best iteration is:\n",
      "[588]\tvalid_0's rmse: 5552.26\n"
     ]
    },
    {
     "name": "stderr",
     "output_type": "stream",
     "text": [
      "\u001b[32m[I 2021-04-03 18:19:26,329]\u001b[0m Trial 7 finished with value: 0.21171394021471404 and parameters: {'num_leaves': 292, 'max_bin': 830, 'learning_rate': 0.03757343575587192, 'max_depth': 10, 'min_child_weight': 3, 'feature_fraction': 0.4874983083050525, 'bagging_fraction': 0.46463972240564905, 'bagging_freq': 7, 'min_child_samples': 46, 'lambda_l1': 2.1954273191858122e-06, 'lambda_l2': 0.3302562250913759}. Best is trial 5 with value: 0.20445455933698747.\u001b[0m\n"
     ]
    },
    {
     "name": "stdout",
     "output_type": "stream",
     "text": [
      "RMSE = 0.21171394021471404\n",
      "Training until validation scores don't improve for 10 rounds\n"
     ]
    },
    {
     "name": "stderr",
     "output_type": "stream",
     "text": [
      "D:\\anaconda\\lib\\site-packages\\lightgbm\\engine.py:153: UserWarning: Found `early_stopping_rounds` in params. Will use it instead of argument\n",
      "  warnings.warn(\"Found `{}` in params. Will use it instead of argument\".format(alias))\n"
     ]
    },
    {
     "name": "stdout",
     "output_type": "stream",
     "text": [
      "[100]\tvalid_0's rmse: 5916.22\n"
     ]
    },
    {
     "name": "stderr",
     "output_type": "stream",
     "text": [
      "\u001b[32m[I 2021-04-03 18:19:27,528]\u001b[0m Trial 8 finished with value: 0.22125905775238291 and parameters: {'num_leaves': 439, 'max_bin': 498, 'learning_rate': 0.08267495224218946, 'max_depth': 7, 'min_child_weight': 8, 'feature_fraction': 0.9613183573326785, 'bagging_fraction': 0.46631092022205656, 'bagging_freq': 8, 'min_child_samples': 5, 'lambda_l1': 8.021155315995248e-08, 'lambda_l2': 0.0338999648345332}. Best is trial 5 with value: 0.20445455933698747.\u001b[0m\n"
     ]
    },
    {
     "name": "stdout",
     "output_type": "stream",
     "text": [
      "Early stopping, best iteration is:\n",
      "[184]\tvalid_0's rmse: 5594.51\n",
      "RMSE = 0.22125905775238291\n",
      "Training until validation scores don't improve for 10 rounds\n"
     ]
    },
    {
     "name": "stderr",
     "output_type": "stream",
     "text": [
      "D:\\anaconda\\lib\\site-packages\\lightgbm\\engine.py:153: UserWarning: Found `early_stopping_rounds` in params. Will use it instead of argument\n",
      "  warnings.warn(\"Found `{}` in params. Will use it instead of argument\".format(alias))\n"
     ]
    },
    {
     "name": "stdout",
     "output_type": "stream",
     "text": [
      "[100]\tvalid_0's rmse: 6582.04\n",
      "[200]\tvalid_0's rmse: 5955.68\n",
      "[300]\tvalid_0's rmse: 5714.78\n",
      "[400]\tvalid_0's rmse: 5597.81\n",
      "Early stopping, best iteration is:\n",
      "[473]\tvalid_0's rmse: 5501.12\n"
     ]
    },
    {
     "name": "stderr",
     "output_type": "stream",
     "text": [
      "\u001b[32m[I 2021-04-03 18:19:31,167]\u001b[0m Trial 9 finished with value: 0.21096178883244612 and parameters: {'num_leaves': 473, 'max_bin': 464, 'learning_rate': 0.02607494311805411, 'max_depth': 9, 'min_child_weight': 11, 'feature_fraction': 0.6137406439754562, 'bagging_fraction': 0.47718159796655124, 'bagging_freq': 7, 'min_child_samples': 17, 'lambda_l1': 5.118671385550606e-05, 'lambda_l2': 5.098520148446166e-06}. Best is trial 5 with value: 0.20445455933698747.\u001b[0m\n"
     ]
    },
    {
     "name": "stdout",
     "output_type": "stream",
     "text": [
      "RMSE = 0.21096178883244612\n"
     ]
    },
    {
     "name": "stderr",
     "output_type": "stream",
     "text": [
      "D:\\anaconda\\lib\\site-packages\\lightgbm\\engine.py:153: UserWarning: Found `early_stopping_rounds` in params. Will use it instead of argument\n",
      "  warnings.warn(\"Found `{}` in params. Will use it instead of argument\".format(alias))\n"
     ]
    },
    {
     "name": "stdout",
     "output_type": "stream",
     "text": [
      "Training until validation scores don't improve for 10 rounds\n",
      "[100]\tvalid_0's rmse: 5430.36\n",
      "[200]\tvalid_0's rmse: 5236.33\n",
      "[300]\tvalid_0's rmse: 5151.07\n",
      "[400]\tvalid_0's rmse: 5114.9\n",
      "Early stopping, best iteration is:\n",
      "[401]\tvalid_0's rmse: 5114.67\n"
     ]
    },
    {
     "name": "stderr",
     "output_type": "stream",
     "text": [
      "\u001b[32m[I 2021-04-03 18:19:35,463]\u001b[0m Trial 10 finished with value: 0.19729690258702381 and parameters: {'num_leaves': 160, 'max_bin': 408, 'learning_rate': 0.07570516238315551, 'max_depth': 13, 'min_child_weight': 20, 'feature_fraction': 0.4060198516854478, 'bagging_fraction': 0.9987816029869039, 'bagging_freq': 1, 'min_child_samples': 27, 'lambda_l1': 0.9883428756475702, 'lambda_l2': 5.7887649529934006e-08}. Best is trial 10 with value: 0.19729690258702381.\u001b[0m\n"
     ]
    },
    {
     "name": "stdout",
     "output_type": "stream",
     "text": [
      "RMSE = 0.19729690258702381\n",
      "Training until validation scores don't improve for 10 rounds\n"
     ]
    },
    {
     "name": "stderr",
     "output_type": "stream",
     "text": [
      "D:\\anaconda\\lib\\site-packages\\lightgbm\\engine.py:153: UserWarning: Found `early_stopping_rounds` in params. Will use it instead of argument\n",
      "  warnings.warn(\"Found `{}` in params. Will use it instead of argument\".format(alias))\n"
     ]
    },
    {
     "name": "stdout",
     "output_type": "stream",
     "text": [
      "[100]\tvalid_0's rmse: 5432.91\n",
      "[200]\tvalid_0's rmse: 5244.57\n",
      "[300]\tvalid_0's rmse: 5188.28\n",
      "Early stopping, best iteration is:\n",
      "[293]\tvalid_0's rmse: 5186.31\n"
     ]
    },
    {
     "name": "stderr",
     "output_type": "stream",
     "text": [
      "\u001b[32m[I 2021-04-03 18:19:38,596]\u001b[0m Trial 11 finished with value: 0.19745492870242606 and parameters: {'num_leaves': 161, 'max_bin': 407, 'learning_rate': 0.07367755156278107, 'max_depth': 13, 'min_child_weight': 21, 'feature_fraction': 0.4061188791424416, 'bagging_fraction': 0.9974442419570368, 'bagging_freq': 1, 'min_child_samples': 27, 'lambda_l1': 0.7228707761744217, 'lambda_l2': 1.2545256340378433e-08}. Best is trial 10 with value: 0.19729690258702381.\u001b[0m\n"
     ]
    },
    {
     "name": "stdout",
     "output_type": "stream",
     "text": [
      "RMSE = 0.19745492870242606\n",
      "Training until validation scores don't improve for 10 rounds\n"
     ]
    },
    {
     "name": "stderr",
     "output_type": "stream",
     "text": [
      "D:\\anaconda\\lib\\site-packages\\lightgbm\\engine.py:153: UserWarning: Found `early_stopping_rounds` in params. Will use it instead of argument\n",
      "  warnings.warn(\"Found `{}` in params. Will use it instead of argument\".format(alias))\n"
     ]
    },
    {
     "name": "stdout",
     "output_type": "stream",
     "text": [
      "[100]\tvalid_0's rmse: 5442.34\n",
      "[200]\tvalid_0's rmse: 5253.41\n",
      "Early stopping, best iteration is:\n",
      "[275]\tvalid_0's rmse: 5215.87\n"
     ]
    },
    {
     "name": "stderr",
     "output_type": "stream",
     "text": [
      "\u001b[32m[I 2021-04-03 18:19:42,114]\u001b[0m Trial 12 finished with value: 0.1976191422460872 and parameters: {'num_leaves': 181, 'max_bin': 553, 'learning_rate': 0.07370492197919948, 'max_depth': 14, 'min_child_weight': 21, 'feature_fraction': 0.5716084573839525, 'bagging_fraction': 0.9910219632347488, 'bagging_freq': 1, 'min_child_samples': 26, 'lambda_l1': 0.7907483200071244, 'lambda_l2': 1.2372339261801301e-08}. Best is trial 10 with value: 0.19729690258702381.\u001b[0m\n"
     ]
    },
    {
     "name": "stdout",
     "output_type": "stream",
     "text": [
      "RMSE = 0.1976191422460872\n",
      "Training until validation scores don't improve for 10 rounds\n"
     ]
    },
    {
     "name": "stderr",
     "output_type": "stream",
     "text": [
      "D:\\anaconda\\lib\\site-packages\\lightgbm\\engine.py:153: UserWarning: Found `early_stopping_rounds` in params. Will use it instead of argument\n",
      "  warnings.warn(\"Found `{}` in params. Will use it instead of argument\".format(alias))\n"
     ]
    },
    {
     "name": "stdout",
     "output_type": "stream",
     "text": [
      "[100]\tvalid_0's rmse: 5355.17\n",
      "[200]\tvalid_0's rmse: 5208.6\n",
      "Early stopping, best iteration is:\n",
      "[234]\tvalid_0's rmse: 5191.75\n"
     ]
    },
    {
     "name": "stderr",
     "output_type": "stream",
     "text": [
      "\u001b[32m[I 2021-04-03 18:19:45,049]\u001b[0m Trial 13 finished with value: 0.1975286261481526 and parameters: {'num_leaves': 187, 'max_bin': 400, 'learning_rate': 0.07980962097317996, 'max_depth': 13, 'min_child_weight': 21, 'feature_fraction': 0.4216885339409975, 'bagging_fraction': 0.9867696763884474, 'bagging_freq': 2, 'min_child_samples': 4, 'lambda_l1': 0.8046197141302102, 'lambda_l2': 1.1865087726106476e-08}. Best is trial 10 with value: 0.19729690258702381.\u001b[0m\n"
     ]
    },
    {
     "name": "stdout",
     "output_type": "stream",
     "text": [
      "RMSE = 0.1975286261481526\n",
      "Training until validation scores don't improve for 10 rounds\n"
     ]
    },
    {
     "name": "stderr",
     "output_type": "stream",
     "text": [
      "D:\\anaconda\\lib\\site-packages\\lightgbm\\engine.py:153: UserWarning: Found `early_stopping_rounds` in params. Will use it instead of argument\n",
      "  warnings.warn(\"Found `{}` in params. Will use it instead of argument\".format(alias))\n"
     ]
    },
    {
     "name": "stdout",
     "output_type": "stream",
     "text": [
      "[100]\tvalid_0's rmse: 5896.97\n",
      "[200]\tvalid_0's rmse: 5564.04\n",
      "[300]\tvalid_0's rmse: 5417.81\n",
      "[400]\tvalid_0's rmse: 5341.91\n",
      "Early stopping, best iteration is:\n",
      "[404]\tvalid_0's rmse: 5338.66\n"
     ]
    },
    {
     "name": "stderr",
     "output_type": "stream",
     "text": [
      "\u001b[32m[I 2021-04-03 18:19:48,324]\u001b[0m Trial 14 finished with value: 0.20286059704112153 and parameters: {'num_leaves': 169, 'max_bin': 982, 'learning_rate': 0.06157228704394192, 'max_depth': 13, 'min_child_weight': 17, 'feature_fraction': 0.401137969786275, 'bagging_fraction': 0.8792817107239486, 'bagging_freq': 3, 'min_child_samples': 61, 'lambda_l1': 0.12024416133378026, 'lambda_l2': 1.7115178627588394e-07}. Best is trial 10 with value: 0.19729690258702381.\u001b[0m\n"
     ]
    },
    {
     "name": "stdout",
     "output_type": "stream",
     "text": [
      "RMSE = 0.20286059704112153\n",
      "Training until validation scores don't improve for 10 rounds\n"
     ]
    },
    {
     "name": "stderr",
     "output_type": "stream",
     "text": [
      "D:\\anaconda\\lib\\site-packages\\lightgbm\\engine.py:153: UserWarning: Found `early_stopping_rounds` in params. Will use it instead of argument\n",
      "  warnings.warn(\"Found `{}` in params. Will use it instead of argument\".format(alias))\n"
     ]
    },
    {
     "name": "stdout",
     "output_type": "stream",
     "text": [
      "[100]\tvalid_0's rmse: 5420.7\n",
      "[200]\tvalid_0's rmse: 5257.56\n",
      "[300]\tvalid_0's rmse: 5208.4\n",
      "Early stopping, best iteration is:\n",
      "[293]\tvalid_0's rmse: 5205.31\n"
     ]
    },
    {
     "name": "stderr",
     "output_type": "stream",
     "text": [
      "\u001b[32m[I 2021-04-03 18:19:52,647]\u001b[0m Trial 15 finished with value: 0.19736341263829635 and parameters: {'num_leaves': 232, 'max_bin': 409, 'learning_rate': 0.08463564929398484, 'max_depth': 16, 'min_child_weight': 18, 'feature_fraction': 0.5504754324169991, 'bagging_fraction': 0.8887098473724576, 'bagging_freq': 3, 'min_child_samples': 27, 'lambda_l1': 0.9172909792508528, 'lambda_l2': 9.825463765171266e-08}. Best is trial 10 with value: 0.19729690258702381.\u001b[0m\n"
     ]
    },
    {
     "name": "stdout",
     "output_type": "stream",
     "text": [
      "RMSE = 0.19736341263829635\n",
      "Training until validation scores don't improve for 10 rounds\n"
     ]
    },
    {
     "name": "stderr",
     "output_type": "stream",
     "text": [
      "D:\\anaconda\\lib\\site-packages\\lightgbm\\engine.py:153: UserWarning: Found `early_stopping_rounds` in params. Will use it instead of argument\n",
      "  warnings.warn(\"Found `{}` in params. Will use it instead of argument\".format(alias))\n"
     ]
    },
    {
     "name": "stdout",
     "output_type": "stream",
     "text": [
      "[100]\tvalid_0's rmse: 5320.87\n",
      "[200]\tvalid_0's rmse: 5242.24\n",
      "Early stopping, best iteration is:\n",
      "[209]\tvalid_0's rmse: 5237.43\n"
     ]
    },
    {
     "name": "stderr",
     "output_type": "stream",
     "text": [
      "\u001b[32m[I 2021-04-03 18:19:56,927]\u001b[0m Trial 16 finished with value: 0.19811315999433474 and parameters: {'num_leaves': 383, 'max_bin': 529, 'learning_rate': 0.08632685446752758, 'max_depth': 16, 'min_child_weight': 17, 'feature_fraction': 0.5639307289914351, 'bagging_fraction': 0.883082500390233, 'bagging_freq': 3, 'min_child_samples': 18, 'lambda_l1': 0.08193945966500622, 'lambda_l2': 1.6149174825974838e-07}. Best is trial 10 with value: 0.19729690258702381.\u001b[0m\n"
     ]
    },
    {
     "name": "stdout",
     "output_type": "stream",
     "text": [
      "RMSE = 0.19811315999433474\n",
      "Training until validation scores don't improve for 10 rounds\n"
     ]
    },
    {
     "name": "stderr",
     "output_type": "stream",
     "text": [
      "D:\\anaconda\\lib\\site-packages\\lightgbm\\engine.py:153: UserWarning: Found `early_stopping_rounds` in params. Will use it instead of argument\n",
      "  warnings.warn(\"Found `{}` in params. Will use it instead of argument\".format(alias))\n"
     ]
    },
    {
     "name": "stdout",
     "output_type": "stream",
     "text": [
      "[100]\tvalid_0's rmse: 5674.23\n",
      "[200]\tvalid_0's rmse: 5391.56\n",
      "[300]\tvalid_0's rmse: 5280.32\n",
      "Early stopping, best iteration is:\n",
      "[346]\tvalid_0's rmse: 5262.37\n"
     ]
    },
    {
     "name": "stderr",
     "output_type": "stream",
     "text": [
      "\u001b[32m[I 2021-04-03 18:20:00,498]\u001b[0m Trial 17 finished with value: 0.2030759064377799 and parameters: {'num_leaves': 230, 'max_bin': 595, 'learning_rate': 0.08805493491861806, 'max_depth': 15, 'min_child_weight': 15, 'feature_fraction': 0.5370681064725598, 'bagging_fraction': 0.8002603726343391, 'bagging_freq': 4, 'min_child_samples': 55, 'lambda_l1': 7.022609455905075e-05, 'lambda_l2': 4.750463461115208e-06}. Best is trial 10 with value: 0.19729690258702381.\u001b[0m\n"
     ]
    },
    {
     "name": "stdout",
     "output_type": "stream",
     "text": [
      "RMSE = 0.2030759064377799\n",
      "Training until validation scores don't improve for 10 rounds\n"
     ]
    },
    {
     "name": "stderr",
     "output_type": "stream",
     "text": [
      "D:\\anaconda\\lib\\site-packages\\lightgbm\\engine.py:153: UserWarning: Found `early_stopping_rounds` in params. Will use it instead of argument\n",
      "  warnings.warn(\"Found `{}` in params. Will use it instead of argument\".format(alias))\n"
     ]
    },
    {
     "name": "stdout",
     "output_type": "stream",
     "text": [
      "[100]\tvalid_0's rmse: 5974.49\n",
      "[200]\tvalid_0's rmse: 5597.85\n",
      "[300]\tvalid_0's rmse: 5437.02\n",
      "[400]\tvalid_0's rmse: 5343.87\n",
      "[500]\tvalid_0's rmse: 5273.1\n",
      "Early stopping, best iteration is:\n",
      "[496]\tvalid_0's rmse: 5271.36\n"
     ]
    },
    {
     "name": "stderr",
     "output_type": "stream",
     "text": [
      "\u001b[32m[I 2021-04-03 18:20:05,414]\u001b[0m Trial 18 finished with value: 0.20058988894640503 and parameters: {'num_leaves': 366, 'max_bin': 451, 'learning_rate': 0.0439696813070808, 'max_depth': 11, 'min_child_weight': 19, 'feature_fraction': 0.7970887474729632, 'bagging_fraction': 0.7950829424912199, 'bagging_freq': 2, 'min_child_samples': 31, 'lambda_l1': 0.13324054172264257, 'lambda_l2': 1.1985084514271293e-07}. Best is trial 10 with value: 0.19729690258702381.\u001b[0m\n"
     ]
    },
    {
     "name": "stdout",
     "output_type": "stream",
     "text": [
      "RMSE = 0.20058988894640503\n",
      "Training until validation scores don't improve for 10 rounds\n"
     ]
    },
    {
     "name": "stderr",
     "output_type": "stream",
     "text": [
      "D:\\anaconda\\lib\\site-packages\\lightgbm\\engine.py:153: UserWarning: Found `early_stopping_rounds` in params. Will use it instead of argument\n",
      "  warnings.warn(\"Found `{}` in params. Will use it instead of argument\".format(alias))\n"
     ]
    },
    {
     "name": "stdout",
     "output_type": "stream",
     "text": [
      "[100]\tvalid_0's rmse: 5347.04\n",
      "Early stopping, best iteration is:\n",
      "[165]\tvalid_0's rmse: 5232.46\n",
      "RMSE = 0.19761932964900025"
     ]
    },
    {
     "name": "stderr",
     "output_type": "stream",
     "text": [
      "\u001b[32m[I 2021-04-03 18:20:08,613]\u001b[0m Trial 19 finished with value: 0.19761932964900025 and parameters: {'num_leaves': 232, 'max_bin': 659, 'learning_rate': 0.06344487695051253, 'max_depth': 15, 'min_child_weight': 19, 'feature_fraction': 0.6189093996772534, 'bagging_fraction': 0.9418700874857036, 'bagging_freq': 4, 'min_child_samples': 9, 'lambda_l1': 0.000437322038355399, 'lambda_l2': 1.9050370840111004e-06}. Best is trial 10 with value: 0.19729690258702381.\u001b[0m\n"
     ]
    },
    {
     "name": "stdout",
     "output_type": "stream",
     "text": [
      "\n",
      "Training until validation scores don't improve for 10 rounds\n"
     ]
    },
    {
     "name": "stderr",
     "output_type": "stream",
     "text": [
      "D:\\anaconda\\lib\\site-packages\\lightgbm\\engine.py:153: UserWarning: Found `early_stopping_rounds` in params. Will use it instead of argument\n",
      "  warnings.warn(\"Found `{}` in params. Will use it instead of argument\".format(alias))\n"
     ]
    },
    {
     "name": "stdout",
     "output_type": "stream",
     "text": [
      "[100]\tvalid_0's rmse: 5785.8\n",
      "[200]\tvalid_0's rmse: 5390.13\n",
      "[300]\tvalid_0's rmse: 5248.84\n"
     ]
    },
    {
     "name": "stderr",
     "output_type": "stream",
     "text": [
      "\u001b[32m[I 2021-04-03 18:20:10,393]\u001b[0m Trial 20 finished with value: 0.20312196370541993 and parameters: {'num_leaves': 40, 'max_bin': 454, 'learning_rate': 0.07646058739016584, 'max_depth': 12, 'min_child_weight': 14, 'feature_fraction': 0.5185758067955959, 'bagging_fraction': 0.7976789577077734, 'bagging_freq': 2, 'min_child_samples': 24, 'lambda_l1': 8.82363787813747e-06, 'lambda_l2': 3.198567724228773e-05}. Best is trial 10 with value: 0.19729690258702381.\u001b[0m\n"
     ]
    },
    {
     "name": "stdout",
     "output_type": "stream",
     "text": [
      "Early stopping, best iteration is:\n",
      "[362]\tvalid_0's rmse: 5195.16\n",
      "RMSE = 0.20312196370541993\n"
     ]
    },
    {
     "name": "stderr",
     "output_type": "stream",
     "text": [
      "D:\\anaconda\\lib\\site-packages\\lightgbm\\engine.py:153: UserWarning: Found `early_stopping_rounds` in params. Will use it instead of argument\n",
      "  warnings.warn(\"Found `{}` in params. Will use it instead of argument\".format(alias))\n"
     ]
    },
    {
     "name": "stdout",
     "output_type": "stream",
     "text": [
      "Training until validation scores don't improve for 10 rounds\n",
      "[100]\tvalid_0's rmse: 5595.67\n",
      "[200]\tvalid_0's rmse: 5327.61\n",
      "[300]\tvalid_0's rmse: 5222.21\n",
      "Early stopping, best iteration is:\n",
      "[355]\tvalid_0's rmse: 5193.99\n"
     ]
    },
    {
     "name": "stderr",
     "output_type": "stream",
     "text": [
      "\u001b[32m[I 2021-04-03 18:20:13,679]\u001b[0m Trial 21 finished with value: 0.19888989254405956 and parameters: {'num_leaves': 110, 'max_bin': 421, 'learning_rate': 0.07057633491429552, 'max_depth': 14, 'min_child_weight': 21, 'feature_fraction': 0.42665334436227276, 'bagging_fraction': 0.9444716316557703, 'bagging_freq': 1, 'min_child_samples': 35, 'lambda_l1': 0.9749110844613713, 'lambda_l2': 1.5127039847645074e-08}. Best is trial 10 with value: 0.19729690258702381.\u001b[0m\n"
     ]
    },
    {
     "name": "stdout",
     "output_type": "stream",
     "text": [
      "RMSE = 0.19888989254405956\n",
      "Training until validation scores don't improve for 10 rounds\n"
     ]
    },
    {
     "name": "stderr",
     "output_type": "stream",
     "text": [
      "D:\\anaconda\\lib\\site-packages\\lightgbm\\engine.py:153: UserWarning: Found `early_stopping_rounds` in params. Will use it instead of argument\n",
      "  warnings.warn(\"Found `{}` in params. Will use it instead of argument\".format(alias))\n"
     ]
    },
    {
     "name": "stdout",
     "output_type": "stream",
     "text": [
      "[100]\tvalid_0's rmse: 5344.2\n",
      "[200]\tvalid_0's rmse: 5187.44\n",
      "[300]\tvalid_0's rmse: 5145.32\n",
      "Early stopping, best iteration is:\n",
      "[290]\tvalid_0's rmse: 5141.63\n"
     ]
    },
    {
     "name": "stderr",
     "output_type": "stream",
     "text": [
      "\u001b[32m[I 2021-04-03 18:20:16,564]\u001b[0m Trial 22 finished with value: 0.19782851823082553 and parameters: {'num_leaves': 165, 'max_bin': 400, 'learning_rate': 0.08973223315145143, 'max_depth': 12, 'min_child_weight': 19, 'feature_fraction': 0.4060704439738729, 'bagging_fraction': 0.9982428560937826, 'bagging_freq': 1, 'min_child_samples': 24, 'lambda_l1': 0.9497075381467478, 'lambda_l2': 5.2004200455822275e-08}. Best is trial 10 with value: 0.19729690258702381.\u001b[0m\n"
     ]
    },
    {
     "name": "stdout",
     "output_type": "stream",
     "text": [
      "RMSE = 0.19782851823082553\n",
      "Training until validation scores don't improve for 10 rounds\n"
     ]
    },
    {
     "name": "stderr",
     "output_type": "stream",
     "text": [
      "D:\\anaconda\\lib\\site-packages\\lightgbm\\engine.py:153: UserWarning: Found `early_stopping_rounds` in params. Will use it instead of argument\n",
      "  warnings.warn(\"Found `{}` in params. Will use it instead of argument\".format(alias))\n"
     ]
    },
    {
     "name": "stdout",
     "output_type": "stream",
     "text": [
      "[100]\tvalid_0's rmse: 5344.71\n",
      "[200]\tvalid_0's rmse: 5222.42\n",
      "Early stopping, best iteration is:\n",
      "[233]\tvalid_0's rmse: 5203.86\n"
     ]
    },
    {
     "name": "stderr",
     "output_type": "stream",
     "text": [
      "\u001b[32m[I 2021-04-03 18:20:20,361]\u001b[0m Trial 23 finished with value: 0.19599781699068267 and parameters: {'num_leaves': 237, 'max_bin': 499, 'learning_rate': 0.07939427056009336, 'max_depth': 15, 'min_child_weight': 21, 'feature_fraction': 0.4955681417611654, 'bagging_fraction': 0.9298248951671945, 'bagging_freq': 2, 'min_child_samples': 12, 'lambda_l1': 0.10010285067900054, 'lambda_l2': 5.058207674246163e-07}. Best is trial 23 with value: 0.19599781699068267.\u001b[0m\n"
     ]
    },
    {
     "name": "stdout",
     "output_type": "stream",
     "text": [
      "RMSE = 0.19599781699068267\n",
      "Training until validation scores don't improve for 10 rounds\n"
     ]
    },
    {
     "name": "stderr",
     "output_type": "stream",
     "text": [
      "D:\\anaconda\\lib\\site-packages\\lightgbm\\engine.py:153: UserWarning: Found `early_stopping_rounds` in params. Will use it instead of argument\n",
      "  warnings.warn(\"Found `{}` in params. Will use it instead of argument\".format(alias))\n"
     ]
    },
    {
     "name": "stdout",
     "output_type": "stream",
     "text": [
      "[100]\tvalid_0's rmse: 5273.48\n",
      "Early stopping, best iteration is:\n",
      "[171]\tvalid_0's rmse: 5176.73\n"
     ]
    },
    {
     "name": "stderr",
     "output_type": "stream",
     "text": [
      "\u001b[32m[I 2021-04-03 18:20:23,772]\u001b[0m Trial 24 finished with value: 0.19656168201193414 and parameters: {'num_leaves': 244, 'max_bin': 501, 'learning_rate': 0.0812742229538187, 'max_depth': 16, 'min_child_weight': 16, 'feature_fraction': 0.5139659315133581, 'bagging_fraction': 0.9270613595509769, 'bagging_freq': 4, 'min_child_samples': 11, 'lambda_l1': 0.053106253362410746, 'lambda_l2': 6.363777438267194e-07}. Best is trial 23 with value: 0.19599781699068267.\u001b[0m\n"
     ]
    },
    {
     "name": "stdout",
     "output_type": "stream",
     "text": [
      "RMSE = 0.19656168201193414\n",
      "Training until validation scores don't improve for 10 rounds\n"
     ]
    },
    {
     "name": "stderr",
     "output_type": "stream",
     "text": [
      "D:\\anaconda\\lib\\site-packages\\lightgbm\\engine.py:153: UserWarning: Found `early_stopping_rounds` in params. Will use it instead of argument\n",
      "  warnings.warn(\"Found `{}` in params. Will use it instead of argument\".format(alias))\n"
     ]
    },
    {
     "name": "stdout",
     "output_type": "stream",
     "text": [
      "[100]\tvalid_0's rmse: 5335.91\n",
      "Early stopping, best iteration is:\n",
      "[184]\tvalid_0's rmse: 5209.24\n"
     ]
    },
    {
     "name": "stderr",
     "output_type": "stream",
     "text": [
      "\u001b[32m[I 2021-04-03 18:20:27,396]\u001b[0m Trial 25 finished with value: 0.19589783259803617 and parameters: {'num_leaves': 262, 'max_bin': 546, 'learning_rate': 0.06608006673100592, 'max_depth': 15, 'min_child_weight': 15, 'feature_fraction': 0.49988669456355017, 'bagging_fraction': 0.9379518766160975, 'bagging_freq': 4, 'min_child_samples': 11, 'lambda_l1': 0.06561302872704422, 'lambda_l2': 2.245814638563716e-06}. Best is trial 25 with value: 0.19589783259803617.\u001b[0m\n"
     ]
    },
    {
     "name": "stdout",
     "output_type": "stream",
     "text": [
      "RMSE = 0.19589783259803617\n",
      "Training until validation scores don't improve for 10 rounds\n"
     ]
    },
    {
     "name": "stderr",
     "output_type": "stream",
     "text": [
      "D:\\anaconda\\lib\\site-packages\\lightgbm\\engine.py:153: UserWarning: Found `early_stopping_rounds` in params. Will use it instead of argument\n",
      "  warnings.warn(\"Found `{}` in params. Will use it instead of argument\".format(alias))\n"
     ]
    },
    {
     "name": "stdout",
     "output_type": "stream",
     "text": [
      "[100]\tvalid_0's rmse: 5239.44\n",
      "Early stopping, best iteration is:\n",
      "[130]\tvalid_0's rmse: 5203.31\n"
     ]
    },
    {
     "name": "stderr",
     "output_type": "stream",
     "text": [
      "\u001b[32m[I 2021-04-03 18:20:31,068]\u001b[0m Trial 26 finished with value: 0.19631981231955412 and parameters: {'num_leaves': 325, 'max_bin': 574, 'learning_rate': 0.0648068256291311, 'max_depth': 15, 'min_child_weight': 9, 'feature_fraction': 0.6076076813851109, 'bagging_fraction': 0.9350251402072706, 'bagging_freq': 5, 'min_child_samples': 11, 'lambda_l1': 0.044733856959321514, 'lambda_l2': 7.09605406558275e-07}. Best is trial 25 with value: 0.19589783259803617.\u001b[0m\n"
     ]
    },
    {
     "name": "stdout",
     "output_type": "stream",
     "text": [
      "RMSE = 0.19631981231955412\n",
      "Training until validation scores don't improve for 10 rounds\n"
     ]
    },
    {
     "name": "stderr",
     "output_type": "stream",
     "text": [
      "D:\\anaconda\\lib\\site-packages\\lightgbm\\engine.py:153: UserWarning: Found `early_stopping_rounds` in params. Will use it instead of argument\n",
      "  warnings.warn(\"Found `{}` in params. Will use it instead of argument\".format(alias))\n"
     ]
    },
    {
     "name": "stdout",
     "output_type": "stream",
     "text": [
      "[100]\tvalid_0's rmse: 5301.67\n",
      "[200]\tvalid_0's rmse: 5184.04\n",
      "Early stopping, best iteration is:\n",
      "[224]\tvalid_0's rmse: 5178.41\n"
     ]
    },
    {
     "name": "stderr",
     "output_type": "stream",
     "text": [
      "\u001b[32m[I 2021-04-03 18:20:38,093]\u001b[0m Trial 27 finished with value: 0.19421889657484082 and parameters: {'num_leaves': 368, 'max_bin': 578, 'learning_rate': 0.04688595632748718, 'max_depth': 15, 'min_child_weight': 8, 'feature_fraction': 0.6368001224796281, 'bagging_fraction': 0.8310023260578184, 'bagging_freq': 5, 'min_child_samples': 3, 'lambda_l1': 0.0016139795957196147, 'lambda_l2': 1.7446231560049546e-05}. Best is trial 27 with value: 0.19421889657484082.\u001b[0m\n"
     ]
    },
    {
     "name": "stdout",
     "output_type": "stream",
     "text": [
      "RMSE = 0.19421889657484082\n",
      "Training until validation scores don't improve for 10 rounds\n"
     ]
    },
    {
     "name": "stderr",
     "output_type": "stream",
     "text": [
      "D:\\anaconda\\lib\\site-packages\\lightgbm\\engine.py:153: UserWarning: Found `early_stopping_rounds` in params. Will use it instead of argument\n",
      "  warnings.warn(\"Found `{}` in params. Will use it instead of argument\".format(alias))\n"
     ]
    },
    {
     "name": "stdout",
     "output_type": "stream",
     "text": [
      "[100]\tvalid_0's rmse: 5288.15\n",
      "[200]\tvalid_0's rmse: 5177.35\n",
      "Early stopping, best iteration is:\n",
      "[195]\tvalid_0's rmse: 5175.83\n"
     ]
    },
    {
     "name": "stderr",
     "output_type": "stream",
     "text": [
      "\u001b[32m[I 2021-04-03 18:20:44,522]\u001b[0m Trial 28 finished with value: 0.19456959843767033 and parameters: {'num_leaves': 369, 'max_bin': 632, 'learning_rate': 0.04752241659911629, 'max_depth': 14, 'min_child_weight': 7, 'feature_fraction': 0.6728919039832991, 'bagging_fraction': 0.8370667710112292, 'bagging_freq': 6, 'min_child_samples': 4, 'lambda_l1': 0.0016440874083639848, 'lambda_l2': 3.037489937287054e-05}. Best is trial 27 with value: 0.19421889657484082.\u001b[0m\n"
     ]
    },
    {
     "name": "stdout",
     "output_type": "stream",
     "text": [
      "RMSE = 0.19456959843767033\n",
      "Training until validation scores don't improve for 10 rounds\n"
     ]
    },
    {
     "name": "stderr",
     "output_type": "stream",
     "text": [
      "D:\\anaconda\\lib\\site-packages\\lightgbm\\engine.py:153: UserWarning: Found `early_stopping_rounds` in params. Will use it instead of argument\n",
      "  warnings.warn(\"Found `{}` in params. Will use it instead of argument\".format(alias))\n"
     ]
    },
    {
     "name": "stdout",
     "output_type": "stream",
     "text": [
      "[100]\tvalid_0's rmse: 6457.51\n",
      "[200]\tvalid_0's rmse: 6035.88\n",
      "[300]\tvalid_0's rmse: 5837.75\n",
      "[400]\tvalid_0's rmse: 5708.96\n",
      "Early stopping, best iteration is:\n",
      "[438]\tvalid_0's rmse: 5671.55\n"
     ]
    },
    {
     "name": "stderr",
     "output_type": "stream",
     "text": [
      "\u001b[32m[I 2021-04-03 18:20:48,123]\u001b[0m Trial 29 finished with value: 0.21112908229476948 and parameters: {'num_leaves': 382, 'max_bin': 637, 'learning_rate': 0.0471977897353731, 'max_depth': 14, 'min_child_weight': 6, 'feature_fraction': 0.7619887305796186, 'bagging_fraction': 0.7559402405355609, 'bagging_freq': 6, 'min_child_samples': 95, 'lambda_l1': 0.001390369173721597, 'lambda_l2': 0.00021032266661569655}. Best is trial 27 with value: 0.19421889657484082.\u001b[0m\n"
     ]
    },
    {
     "name": "stdout",
     "output_type": "stream",
     "text": [
      "RMSE = 0.21112908229476948\n",
      "Training until validation scores don't improve for 10 rounds\n"
     ]
    },
    {
     "name": "stderr",
     "output_type": "stream",
     "text": [
      "D:\\anaconda\\lib\\site-packages\\lightgbm\\engine.py:153: UserWarning: Found `early_stopping_rounds` in params. Will use it instead of argument\n",
      "  warnings.warn(\"Found `{}` in params. Will use it instead of argument\".format(alias))\n"
     ]
    },
    {
     "name": "stdout",
     "output_type": "stream",
     "text": [
      "[100]\tvalid_0's rmse: 5638.57\n",
      "[200]\tvalid_0's rmse: 5334.08\n",
      "Early stopping, best iteration is:\n",
      "[234]\tvalid_0's rmse: 5292.99\n"
     ]
    },
    {
     "name": "stderr",
     "output_type": "stream",
     "text": [
      "\u001b[32m[I 2021-04-03 18:20:54,454]\u001b[0m Trial 30 finished with value: 0.19947398573961833 and parameters: {'num_leaves': 436, 'max_bin': 725, 'learning_rate': 0.032721294860527876, 'max_depth': 14, 'min_child_weight': 10, 'feature_fraction': 0.6949203711731805, 'bagging_fraction': 0.6193734513561069, 'bagging_freq': 6, 'min_child_samples': 3, 'lambda_l1': 0.0019743947533271003, 'lambda_l2': 0.0001382983100377185}. Best is trial 27 with value: 0.19421889657484082.\u001b[0m\n"
     ]
    },
    {
     "name": "stdout",
     "output_type": "stream",
     "text": [
      "RMSE = 0.19947398573961833\n",
      "Training until validation scores don't improve for 10 rounds\n"
     ]
    },
    {
     "name": "stderr",
     "output_type": "stream",
     "text": [
      "D:\\anaconda\\lib\\site-packages\\lightgbm\\engine.py:153: UserWarning: Found `early_stopping_rounds` in params. Will use it instead of argument\n",
      "  warnings.warn(\"Found `{}` in params. Will use it instead of argument\".format(alias))\n"
     ]
    },
    {
     "name": "stdout",
     "output_type": "stream",
     "text": [
      "[100]\tvalid_0's rmse: 5211.64\n",
      "Early stopping, best iteration is:\n",
      "[139]\tvalid_0's rmse: 5147.6\n"
     ]
    },
    {
     "name": "stderr",
     "output_type": "stream",
     "text": [
      "\u001b[32m[I 2021-04-03 18:20:59,393]\u001b[0m Trial 31 finished with value: 0.1956443433600774 and parameters: {'num_leaves': 341, 'max_bin': 534, 'learning_rate': 0.04908850892043557, 'max_depth': 15, 'min_child_weight': 6, 'feature_fraction': 0.6507878852361053, 'bagging_fraction': 0.8484294198717262, 'bagging_freq': 5, 'min_child_samples': 4, 'lambda_l1': 0.00021875749996099435, 'lambda_l2': 1.560206846853113e-05}. Best is trial 27 with value: 0.19421889657484082.\u001b[0m\n"
     ]
    },
    {
     "name": "stdout",
     "output_type": "stream",
     "text": [
      "RMSE = 0.1956443433600774\n",
      "Training until validation scores don't improve for 10 rounds\n"
     ]
    },
    {
     "name": "stderr",
     "output_type": "stream",
     "text": [
      "D:\\anaconda\\lib\\site-packages\\lightgbm\\engine.py:153: UserWarning: Found `early_stopping_rounds` in params. Will use it instead of argument\n",
      "  warnings.warn(\"Found `{}` in params. Will use it instead of argument\".format(alias))\n"
     ]
    },
    {
     "name": "stdout",
     "output_type": "stream",
     "text": [
      "[100]\tvalid_0's rmse: 5269.29\n",
      "[200]\tvalid_0's rmse: 5190.94\n",
      "Early stopping, best iteration is:\n",
      "[209]\tvalid_0's rmse: 5188.42\n"
     ]
    },
    {
     "name": "stderr",
     "output_type": "stream",
     "text": [
      "\u001b[32m[I 2021-04-03 18:21:06,785]\u001b[0m Trial 32 finished with value: 0.19353207092479338 and parameters: {'num_leaves': 348, 'max_bin': 617, 'learning_rate': 0.04611514228609913, 'max_depth': 15, 'min_child_weight': 5, 'feature_fraction': 0.6573572112800595, 'bagging_fraction': 0.8274438256193789, 'bagging_freq': 5, 'min_child_samples': 3, 'lambda_l1': 0.00028253226619165807, 'lambda_l2': 1.854341459205825e-05}. Best is trial 32 with value: 0.19353207092479338.\u001b[0m\n"
     ]
    },
    {
     "name": "stdout",
     "output_type": "stream",
     "text": [
      "RMSE = 0.19353207092479338\n",
      "Training until validation scores don't improve for 10 rounds\n"
     ]
    },
    {
     "name": "stderr",
     "output_type": "stream",
     "text": [
      "D:\\anaconda\\lib\\site-packages\\lightgbm\\engine.py:153: UserWarning: Found `early_stopping_rounds` in params. Will use it instead of argument\n",
      "  warnings.warn(\"Found `{}` in params. Will use it instead of argument\".format(alias))\n"
     ]
    },
    {
     "name": "stdout",
     "output_type": "stream",
     "text": [
      "[100]\tvalid_0's rmse: 5296.44\n",
      "Early stopping, best iteration is:\n",
      "[132]\tvalid_0's rmse: 5226.25\n"
     ]
    },
    {
     "name": "stderr",
     "output_type": "stream",
     "text": [
      "\u001b[32m[I 2021-04-03 18:21:11,961]\u001b[0m Trial 33 finished with value: 0.19781798196863043 and parameters: {'num_leaves': 347, 'max_bin': 604, 'learning_rate': 0.04507080707940359, 'max_depth': 16, 'min_child_weight': 5, 'feature_fraction': 0.6517655815532245, 'bagging_fraction': 0.8359165578043553, 'bagging_freq': 6, 'min_child_samples': 3, 'lambda_l1': 0.0002475707492311072, 'lambda_l2': 2.736745149340784e-05}. Best is trial 32 with value: 0.19353207092479338.\u001b[0m\n"
     ]
    },
    {
     "name": "stdout",
     "output_type": "stream",
     "text": [
      "RMSE = 0.19781798196863043\n",
      "Training until validation scores don't improve for 10 rounds\n"
     ]
    },
    {
     "name": "stderr",
     "output_type": "stream",
     "text": [
      "D:\\anaconda\\lib\\site-packages\\lightgbm\\engine.py:153: UserWarning: Found `early_stopping_rounds` in params. Will use it instead of argument\n",
      "  warnings.warn(\"Found `{}` in params. Will use it instead of argument\".format(alias))\n"
     ]
    },
    {
     "name": "stdout",
     "output_type": "stream",
     "text": [
      "[100]\tvalid_0's rmse: 6602.12\n",
      "[200]\tvalid_0's rmse: 6139.36\n",
      "[300]\tvalid_0's rmse: 5937.26\n",
      "[400]\tvalid_0's rmse: 5811.24\n",
      "[500]\tvalid_0's rmse: 5727.48\n",
      "[600]\tvalid_0's rmse: 5650.48\n",
      "[700]\tvalid_0's rmse: 5595.67\n",
      "[800]\tvalid_0's rmse: 5560.92\n",
      "Did not meet early stopping. Best iteration is:\n",
      "[795]\tvalid_0's rmse: 5558.26\n"
     ]
    },
    {
     "name": "stderr",
     "output_type": "stream",
     "text": [
      "\u001b[32m[I 2021-04-03 18:21:17,218]\u001b[0m Trial 34 finished with value: 0.20903058894517235 and parameters: {'num_leaves': 413, 'max_bin': 685, 'learning_rate': 0.038032081741960044, 'max_depth': 12, 'min_child_weight': 4, 'feature_fraction': 0.7353330222096124, 'bagging_fraction': 0.7407935888446776, 'bagging_freq': 5, 'min_child_samples': 88, 'lambda_l1': 1.3253373061138949e-05, 'lambda_l2': 0.0006792090658166477}. Best is trial 32 with value: 0.19353207092479338.\u001b[0m\n"
     ]
    },
    {
     "name": "stdout",
     "output_type": "stream",
     "text": [
      "RMSE = 0.20903058894517235\n",
      "Training until validation scores don't improve for 10 rounds\n"
     ]
    },
    {
     "name": "stderr",
     "output_type": "stream",
     "text": [
      "D:\\anaconda\\lib\\site-packages\\lightgbm\\engine.py:153: UserWarning: Found `early_stopping_rounds` in params. Will use it instead of argument\n",
      "  warnings.warn(\"Found `{}` in params. Will use it instead of argument\".format(alias))\n"
     ]
    },
    {
     "name": "stdout",
     "output_type": "stream",
     "text": [
      "[100]\tvalid_0's rmse: 5336.98\n",
      "Early stopping, best iteration is:\n",
      "[121]\tvalid_0's rmse: 5295.16\n"
     ]
    },
    {
     "name": "stderr",
     "output_type": "stream",
     "text": [
      "\u001b[32m[I 2021-04-03 18:21:22,152]\u001b[0m Trial 35 finished with value: 0.2003329674670105 and parameters: {'num_leaves': 481, 'max_bin': 722, 'learning_rate': 0.05512557739723676, 'max_depth': 14, 'min_child_weight': 7, 'feature_fraction': 0.8285224948106968, 'bagging_fraction': 0.8435525880774761, 'bagging_freq': 7, 'min_child_samples': 3, 'lambda_l1': 0.00018013626888607268, 'lambda_l2': 8.543078190454873e-06}. Best is trial 32 with value: 0.19353207092479338.\u001b[0m\n"
     ]
    },
    {
     "name": "stdout",
     "output_type": "stream",
     "text": [
      "RMSE = 0.2003329674670105\n",
      "Training until validation scores don't improve for 10 rounds\n"
     ]
    },
    {
     "name": "stderr",
     "output_type": "stream",
     "text": [
      "D:\\anaconda\\lib\\site-packages\\lightgbm\\engine.py:153: UserWarning: Found `early_stopping_rounds` in params. Will use it instead of argument\n",
      "  warnings.warn(\"Found `{}` in params. Will use it instead of argument\".format(alias))\n"
     ]
    },
    {
     "name": "stdout",
     "output_type": "stream",
     "text": [
      "[100]\tvalid_0's rmse: 5463.08\n",
      "[200]\tvalid_0's rmse: 5266.94\n",
      "Early stopping, best iteration is:\n",
      "[255]\tvalid_0's rmse: 5222.9\n"
     ]
    },
    {
     "name": "stderr",
     "output_type": "stream",
     "text": [
      "\u001b[32m[I 2021-04-03 18:21:26,983]\u001b[0m Trial 36 finished with value: 0.1972782941248998 and parameters: {'num_leaves': 542, 'max_bin': 630, 'learning_rate': 0.05045027467243266, 'max_depth': 15, 'min_child_weight': 1, 'feature_fraction': 0.6589606360786845, 'bagging_fraction': 0.7311055522450793, 'bagging_freq': 5, 'min_child_samples': 19, 'lambda_l1': 0.000641443167812063, 'lambda_l2': 0.0005682776641167793}. Best is trial 32 with value: 0.19353207092479338.\u001b[0m\n"
     ]
    },
    {
     "name": "stdout",
     "output_type": "stream",
     "text": [
      "RMSE = 0.1972782941248998\n",
      "Training until validation scores don't improve for 10 rounds\n"
     ]
    },
    {
     "name": "stderr",
     "output_type": "stream",
     "text": [
      "D:\\anaconda\\lib\\site-packages\\lightgbm\\engine.py:153: UserWarning: Found `early_stopping_rounds` in params. Will use it instead of argument\n",
      "  warnings.warn(\"Found `{}` in params. Will use it instead of argument\".format(alias))\n"
     ]
    },
    {
     "name": "stdout",
     "output_type": "stream",
     "text": [
      "[100]\tvalid_0's rmse: 6729.31\n",
      "[200]\tvalid_0's rmse: 6050.24\n",
      "[300]\tvalid_0's rmse: 5817.67\n",
      "[400]\tvalid_0's rmse: 5659.92\n",
      "[500]\tvalid_0's rmse: 5544.38\n",
      "[600]\tvalid_0's rmse: 5452.74\n"
     ]
    },
    {
     "name": "stderr",
     "output_type": "stream",
     "text": [
      "\u001b[32m[I 2021-04-03 18:21:29,350]\u001b[0m Trial 37 finished with value: 0.21568648567842086 and parameters: {'num_leaves': 331, 'max_bin': 660, 'learning_rate': 0.040081709337635135, 'max_depth': 5, 'min_child_weight': 5, 'feature_fraction': 0.7070370469325052, 'bagging_fraction': 0.8454258216174955, 'bagging_freq': 6, 'min_child_samples': 7, 'lambda_l1': 0.003185428148094473, 'lambda_l2': 0.0027213733730413357}. Best is trial 32 with value: 0.19353207092479338.\u001b[0m\n"
     ]
    },
    {
     "name": "stdout",
     "output_type": "stream",
     "text": [
      "Early stopping, best iteration is:\n",
      "[686]\tvalid_0's rmse: 5397.11\n",
      "RMSE = 0.21568648567842086\n"
     ]
    },
    {
     "name": "stderr",
     "output_type": "stream",
     "text": [
      "D:\\anaconda\\lib\\site-packages\\lightgbm\\engine.py:153: UserWarning: Found `early_stopping_rounds` in params. Will use it instead of argument\n",
      "  warnings.warn(\"Found `{}` in params. Will use it instead of argument\".format(alias))\n"
     ]
    },
    {
     "name": "stdout",
     "output_type": "stream",
     "text": [
      "Training until validation scores don't improve for 10 rounds\n",
      "[100]\tvalid_0's rmse: 6913.14\n",
      "[200]\tvalid_0's rmse: 6327.72\n",
      "[300]\tvalid_0's rmse: 6080.77\n",
      "[400]\tvalid_0's rmse: 5936.01\n",
      "[500]\tvalid_0's rmse: 5836.69\n",
      "[600]\tvalid_0's rmse: 5759.68\n",
      "[700]\tvalid_0's rmse: 5684.38\n",
      "[800]\tvalid_0's rmse: 5626.91\n",
      "Did not meet early stopping. Best iteration is:\n",
      "[795]\tvalid_0's rmse: 5624.77\n"
     ]
    },
    {
     "name": "stderr",
     "output_type": "stream",
     "text": [
      "\u001b[32m[I 2021-04-03 18:21:33,865]\u001b[0m Trial 38 finished with value: 0.2120177508256094 and parameters: {'num_leaves': 298, 'max_bin': 596, 'learning_rate': 0.028991657810205476, 'max_depth': 11, 'min_child_weight': 8, 'feature_fraction': 0.6412557557240874, 'bagging_fraction': 0.6418978208771765, 'bagging_freq': 5, 'min_child_samples': 74, 'lambda_l1': 2.0784360805652553e-05, 'lambda_l2': 1.4036155301989267e-05}. Best is trial 32 with value: 0.19353207092479338.\u001b[0m\n"
     ]
    },
    {
     "name": "stdout",
     "output_type": "stream",
     "text": [
      "RMSE = 0.2120177508256094\n",
      "Training until validation scores don't improve for 10 rounds\n"
     ]
    },
    {
     "name": "stderr",
     "output_type": "stream",
     "text": [
      "D:\\anaconda\\lib\\site-packages\\lightgbm\\engine.py:153: UserWarning: Found `early_stopping_rounds` in params. Will use it instead of argument\n",
      "  warnings.warn(\"Found `{}` in params. Will use it instead of argument\".format(alias))\n"
     ]
    },
    {
     "name": "stdout",
     "output_type": "stream",
     "text": [
      "[100]\tvalid_0's rmse: 5371.43\n",
      "[200]\tvalid_0's rmse: 5232.04\n",
      "Early stopping, best iteration is:\n",
      "[198]\tvalid_0's rmse: 5227.18\n"
     ]
    },
    {
     "name": "stderr",
     "output_type": "stream",
     "text": [
      "\u001b[32m[I 2021-04-03 18:21:38,362]\u001b[0m Trial 39 finished with value: 0.1953893598814937 and parameters: {'num_leaves': 404, 'max_bin': 570, 'learning_rate': 0.057814403020878785, 'max_depth': 16, 'min_child_weight': 6, 'feature_fraction': 0.5864142285818825, 'bagging_fraction': 0.8196200319979412, 'bagging_freq': 6, 'min_child_samples': 16, 'lambda_l1': 0.011183541773277688, 'lambda_l2': 6.963138567719135e-05}. Best is trial 32 with value: 0.19353207092479338.\u001b[0m\n"
     ]
    },
    {
     "name": "stdout",
     "output_type": "stream",
     "text": [
      "RMSE = 0.1953893598814937\n",
      "Training until validation scores don't improve for 10 rounds\n"
     ]
    },
    {
     "name": "stderr",
     "output_type": "stream",
     "text": [
      "D:\\anaconda\\lib\\site-packages\\lightgbm\\engine.py:153: UserWarning: Found `early_stopping_rounds` in params. Will use it instead of argument\n",
      "  warnings.warn(\"Found `{}` in params. Will use it instead of argument\".format(alias))\n"
     ]
    },
    {
     "name": "stdout",
     "output_type": "stream",
     "text": [
      "[100]\tvalid_0's rmse: 6543.68\n",
      "[200]\tvalid_0's rmse: 5650.27\n",
      "[300]\tvalid_0's rmse: 5419.33\n",
      "[400]\tvalid_0's rmse: 5308.05\n",
      "[500]\tvalid_0's rmse: 5252.09\n",
      "Early stopping, best iteration is:\n",
      "[528]\tvalid_0's rmse: 5232.54\n"
     ]
    },
    {
     "name": "stderr",
     "output_type": "stream",
     "text": [
      "\u001b[32m[I 2021-04-03 18:21:50,397]\u001b[0m Trial 40 finished with value: 0.19540560165211468 and parameters: {'num_leaves': 414, 'max_bin': 567, 'learning_rate': 0.016124237015208667, 'max_depth': 16, 'min_child_weight': 3, 'feature_fraction': 0.584871660221554, 'bagging_fraction': 0.7617598691679597, 'bagging_freq': 8, 'min_child_samples': 16, 'lambda_l1': 0.013112528743754364, 'lambda_l2': 7.567410749480358e-05}. Best is trial 32 with value: 0.19353207092479338.\u001b[0m\n"
     ]
    },
    {
     "name": "stdout",
     "output_type": "stream",
     "text": [
      "RMSE = 0.19540560165211468\n",
      "Training until validation scores don't improve for 10 rounds\n"
     ]
    },
    {
     "name": "stderr",
     "output_type": "stream",
     "text": [
      "D:\\anaconda\\lib\\site-packages\\lightgbm\\engine.py:153: UserWarning: Found `early_stopping_rounds` in params. Will use it instead of argument\n",
      "  warnings.warn(\"Found `{}` in params. Will use it instead of argument\".format(alias))\n"
     ]
    },
    {
     "name": "stdout",
     "output_type": "stream",
     "text": [
      "[100]\tvalid_0's rmse: 6328.94\n",
      "[200]\tvalid_0's rmse: 5546.78\n",
      "[300]\tvalid_0's rmse: 5347.16\n",
      "[400]\tvalid_0's rmse: 5271.32\n",
      "Early stopping, best iteration is:\n",
      "[450]\tvalid_0's rmse: 5248.26\n"
     ]
    },
    {
     "name": "stderr",
     "output_type": "stream",
     "text": [
      "\u001b[32m[I 2021-04-03 18:22:01,107]\u001b[0m Trial 41 finished with value: 0.19568409074535362 and parameters: {'num_leaves': 408, 'max_bin': 570, 'learning_rate': 0.018084951132811375, 'max_depth': 16, 'min_child_weight': 3, 'feature_fraction': 0.6012869902257072, 'bagging_fraction': 0.7667510325995246, 'bagging_freq': 9, 'min_child_samples': 15, 'lambda_l1': 0.010328120453115595, 'lambda_l2': 6.0956453446827616e-05}. Best is trial 32 with value: 0.19353207092479338.\u001b[0m\n"
     ]
    },
    {
     "name": "stdout",
     "output_type": "stream",
     "text": [
      "RMSE = 0.19568409074535362\n",
      "Training until validation scores don't improve for 10 rounds\n"
     ]
    },
    {
     "name": "stderr",
     "output_type": "stream",
     "text": [
      "D:\\anaconda\\lib\\site-packages\\lightgbm\\engine.py:153: UserWarning: Found `early_stopping_rounds` in params. Will use it instead of argument\n",
      "  warnings.warn(\"Found `{}` in params. Will use it instead of argument\".format(alias))\n"
     ]
    },
    {
     "name": "stdout",
     "output_type": "stream",
     "text": [
      "[100]\tvalid_0's rmse: 5386.71\n",
      "Early stopping, best iteration is:\n",
      "[176]\tvalid_0's rmse: 5262.92\n"
     ]
    },
    {
     "name": "stderr",
     "output_type": "stream",
     "text": [
      "\u001b[32m[I 2021-04-03 18:22:05,200]\u001b[0m Trial 42 finished with value: 0.1973192505827463 and parameters: {'num_leaves': 499, 'max_bin': 651, 'learning_rate': 0.058869255196262606, 'max_depth': 16, 'min_child_weight': 2, 'feature_fraction': 0.5841724340180035, 'bagging_fraction': 0.7148389451843837, 'bagging_freq': 7, 'min_child_samples': 17, 'lambda_l1': 0.022323760245171603, 'lambda_l2': 9.988809876472511e-05}. Best is trial 32 with value: 0.19353207092479338.\u001b[0m\n"
     ]
    },
    {
     "name": "stdout",
     "output_type": "stream",
     "text": [
      "RMSE = 0.1973192505827463\n",
      "Training until validation scores don't improve for 10 rounds\n"
     ]
    },
    {
     "name": "stderr",
     "output_type": "stream",
     "text": [
      "D:\\anaconda\\lib\\site-packages\\lightgbm\\engine.py:153: UserWarning: Found `early_stopping_rounds` in params. Will use it instead of argument\n",
      "  warnings.warn(\"Found `{}` in params. Will use it instead of argument\".format(alias))\n"
     ]
    },
    {
     "name": "stdout",
     "output_type": "stream",
     "text": [
      "[100]\tvalid_0's rmse: 6641.42\n",
      "[200]\tvalid_0's rmse: 5838.96\n",
      "[300]\tvalid_0's rmse: 5585.22\n",
      "[400]\tvalid_0's rmse: 5479.14\n",
      "[500]\tvalid_0's rmse: 5380.72\n",
      "[600]\tvalid_0's rmse: 5335.44\n",
      "[700]\tvalid_0's rmse: 5299.43\n",
      "Early stopping, best iteration is:\n",
      "[716]\tvalid_0's rmse: 5292.27\n"
     ]
    },
    {
     "name": "stderr",
     "output_type": "stream",
     "text": [
      "\u001b[32m[I 2021-04-03 18:22:15,868]\u001b[0m Trial 43 finished with value: 0.1978785127877168 and parameters: {'num_leaves': 578, 'max_bin': 699, 'learning_rate': 0.01807007768586704, 'max_depth': 14, 'min_child_weight': 4, 'feature_fraction': 0.6861711166796335, 'bagging_fraction': 0.6752863949814975, 'bagging_freq': 7, 'min_child_samples': 21, 'lambda_l1': 0.004434798774012299, 'lambda_l2': 0.00045322913937174156}. Best is trial 32 with value: 0.19353207092479338.\u001b[0m\n"
     ]
    },
    {
     "name": "stdout",
     "output_type": "stream",
     "text": [
      "RMSE = 0.1978785127877168\n",
      "Training until validation scores don't improve for 10 rounds\n"
     ]
    },
    {
     "name": "stderr",
     "output_type": "stream",
     "text": [
      "D:\\anaconda\\lib\\site-packages\\lightgbm\\engine.py:153: UserWarning: Found `early_stopping_rounds` in params. Will use it instead of argument\n",
      "  warnings.warn(\"Found `{}` in params. Will use it instead of argument\".format(alias))\n"
     ]
    },
    {
     "name": "stdout",
     "output_type": "stream",
     "text": [
      "[100]\tvalid_0's rmse: 5852.59\n",
      "[200]\tvalid_0's rmse: 5518.21\n",
      "[300]\tvalid_0's rmse: 5413.28\n",
      "[400]\tvalid_0's rmse: 5354.54\n",
      "Early stopping, best iteration is:\n",
      "[424]\tvalid_0's rmse: 5335.08\n"
     ]
    },
    {
     "name": "stderr",
     "output_type": "stream",
     "text": [
      "\u001b[32m[I 2021-04-03 18:22:21,067]\u001b[0m Trial 44 finished with value: 0.20046371392269965 and parameters: {'num_leaves': 421, 'max_bin': 582, 'learning_rate': 0.05698502387052347, 'max_depth': 16, 'min_child_weight': 8, 'feature_fraction': 0.7239716280079536, 'bagging_fraction': 0.7790697775947623, 'bagging_freq': 8, 'min_child_samples': 43, 'lambda_l1': 0.0010990622690377368, 'lambda_l2': 0.0026205719664795847}. Best is trial 32 with value: 0.19353207092479338.\u001b[0m\n"
     ]
    },
    {
     "name": "stdout",
     "output_type": "stream",
     "text": [
      "RMSE = 0.20046371392269965\n",
      "Training until validation scores don't improve for 10 rounds\n"
     ]
    },
    {
     "name": "stderr",
     "output_type": "stream",
     "text": [
      "D:\\anaconda\\lib\\site-packages\\lightgbm\\engine.py:153: UserWarning: Found `early_stopping_rounds` in params. Will use it instead of argument\n",
      "  warnings.warn(\"Found `{}` in params. Will use it instead of argument\".format(alias))\n"
     ]
    },
    {
     "name": "stdout",
     "output_type": "stream",
     "text": [
      "[100]\tvalid_0's rmse: 5397.84\n",
      "[200]\tvalid_0's rmse: 5248.64\n",
      "Early stopping, best iteration is:\n",
      "[227]\tvalid_0's rmse: 5228.81\n"
     ]
    },
    {
     "name": "stderr",
     "output_type": "stream",
     "text": [
      "\u001b[32m[I 2021-04-03 18:22:26,946]\u001b[0m Trial 45 finished with value: 0.19514322927540306 and parameters: {'num_leaves': 466, 'max_bin': 610, 'learning_rate': 0.0419541199875182, 'max_depth': 13, 'min_child_weight': 10, 'feature_fraction': 0.629937294794167, 'bagging_fraction': 0.830005657078904, 'bagging_freq': 8, 'min_child_samples': 7, 'lambda_l1': 0.007851636222757375, 'lambda_l2': 0.00022007119521904293}. Best is trial 32 with value: 0.19353207092479338.\u001b[0m\n"
     ]
    },
    {
     "name": "stdout",
     "output_type": "stream",
     "text": [
      "RMSE = 0.19514322927540306\n",
      "Training until validation scores don't improve for 10 rounds\n"
     ]
    },
    {
     "name": "stderr",
     "output_type": "stream",
     "text": [
      "D:\\anaconda\\lib\\site-packages\\lightgbm\\engine.py:153: UserWarning: Found `early_stopping_rounds` in params. Will use it instead of argument\n",
      "  warnings.warn(\"Found `{}` in params. Will use it instead of argument\".format(alias))\n"
     ]
    },
    {
     "name": "stdout",
     "output_type": "stream",
     "text": [
      "[100]\tvalid_0's rmse: 5390.06\n",
      "[200]\tvalid_0's rmse: 5197.1\n",
      "Early stopping, best iteration is:\n",
      "[197]\tvalid_0's rmse: 5196.65\n"
     ]
    },
    {
     "name": "stderr",
     "output_type": "stream",
     "text": [
      "\u001b[32m[I 2021-04-03 18:22:31,859]\u001b[0m Trial 46 finished with value: 0.1960450522727139 and parameters: {'num_leaves': 465, 'max_bin': 616, 'learning_rate': 0.042499028781128906, 'max_depth': 13, 'min_child_weight': 11, 'feature_fraction': 0.622210552434588, 'bagging_fraction': 0.8218019530795544, 'bagging_freq': 6, 'min_child_samples': 8, 'lambda_l1': 0.0029001711908350075, 'lambda_l2': 0.000269996772761614}. Best is trial 32 with value: 0.19353207092479338.\u001b[0m\n"
     ]
    },
    {
     "name": "stdout",
     "output_type": "stream",
     "text": [
      "RMSE = 0.1960450522727139\n",
      "Training until validation scores don't improve for 10 rounds\n"
     ]
    },
    {
     "name": "stderr",
     "output_type": "stream",
     "text": [
      "D:\\anaconda\\lib\\site-packages\\lightgbm\\engine.py:153: UserWarning: Found `early_stopping_rounds` in params. Will use it instead of argument\n",
      "  warnings.warn(\"Found `{}` in params. Will use it instead of argument\".format(alias))\n"
     ]
    },
    {
     "name": "stdout",
     "output_type": "stream",
     "text": [
      "[100]\tvalid_0's rmse: 5514.27\n",
      "[200]\tvalid_0's rmse: 5269.04\n",
      "Early stopping, best iteration is:\n",
      "[289]\tvalid_0's rmse: 5222.27\n"
     ]
    },
    {
     "name": "stderr",
     "output_type": "stream",
     "text": [
      "\u001b[32m[I 2021-04-03 18:22:39,588]\u001b[0m Trial 47 finished with value: 0.1952454176889893 and parameters: {'num_leaves': 510, 'max_bin': 759, 'learning_rate': 0.033179838245786644, 'max_depth': 13, 'min_child_weight': 10, 'feature_fraction': 0.6830910136341751, 'bagging_fraction': 0.8610340708397861, 'bagging_freq': 8, 'min_child_samples': 6, 'lambda_l1': 0.005337840632700677, 'lambda_l2': 0.0012770396230088203}. Best is trial 32 with value: 0.19353207092479338.\u001b[0m\n"
     ]
    },
    {
     "name": "stdout",
     "output_type": "stream",
     "text": [
      "RMSE = 0.1952454176889893\n",
      "Training until validation scores don't improve for 10 rounds\n"
     ]
    },
    {
     "name": "stderr",
     "output_type": "stream",
     "text": [
      "D:\\anaconda\\lib\\site-packages\\lightgbm\\engine.py:153: UserWarning: Found `early_stopping_rounds` in params. Will use it instead of argument\n",
      "  warnings.warn(\"Found `{}` in params. Will use it instead of argument\".format(alias))\n"
     ]
    },
    {
     "name": "stdout",
     "output_type": "stream",
     "text": [
      "[100]\tvalid_0's rmse: 5991.36\n",
      "[200]\tvalid_0's rmse: 5554.67\n",
      "[300]\tvalid_0's rmse: 5412.71\n",
      "Early stopping, best iteration is:\n",
      "[362]\tvalid_0's rmse: 5367.47\n"
     ]
    },
    {
     "name": "stderr",
     "output_type": "stream",
     "text": [
      "\u001b[32m[I 2021-04-03 18:22:43,649]\u001b[0m Trial 48 finished with value: 0.2074612890683057 and parameters: {'num_leaves': 605, 'max_bin': 815, 'learning_rate': 0.03420991652386713, 'max_depth': 10, 'min_child_weight': 12, 'feature_fraction': 0.768030880708294, 'bagging_fraction': 0.5205135950525779, 'bagging_freq': 8, 'min_child_samples': 7, 'lambda_l1': 0.0006137799288910479, 'lambda_l2': 0.02074717223459468}. Best is trial 32 with value: 0.19353207092479338.\u001b[0m\n"
     ]
    },
    {
     "name": "stdout",
     "output_type": "stream",
     "text": [
      "RMSE = 0.2074612890683057\n",
      "Training until validation scores don't improve for 10 rounds\n"
     ]
    },
    {
     "name": "stderr",
     "output_type": "stream",
     "text": [
      "D:\\anaconda\\lib\\site-packages\\lightgbm\\engine.py:153: UserWarning: Found `early_stopping_rounds` in params. Will use it instead of argument\n",
      "  warnings.warn(\"Found `{}` in params. Will use it instead of argument\".format(alias))\n"
     ]
    },
    {
     "name": "stdout",
     "output_type": "stream",
     "text": [
      "[100]\tvalid_0's rmse: 5538.43\n",
      "[200]\tvalid_0's rmse: 5268.61\n",
      "Early stopping, best iteration is:\n",
      "[234]\tvalid_0's rmse: 5232.02\n"
     ]
    },
    {
     "name": "stderr",
     "output_type": "stream",
     "text": [
      "\u001b[32m[I 2021-04-03 18:22:49,775]\u001b[0m Trial 49 finished with value: 0.19679933819128076 and parameters: {'num_leaves': 516, 'max_bin': 748, 'learning_rate': 0.033347200309025216, 'max_depth': 12, 'min_child_weight': 10, 'feature_fraction': 0.669439278344041, 'bagging_fraction': 0.8657135349871047, 'bagging_freq': 9, 'min_child_samples': 3, 'lambda_l1': 0.0052941295772233965, 'lambda_l2': 0.007927337055989832}. Best is trial 32 with value: 0.19353207092479338.\u001b[0m\n"
     ]
    },
    {
     "name": "stdout",
     "output_type": "stream",
     "text": [
      "RMSE = 0.19679933819128076\n"
     ]
    }
   ],
   "source": [
    "study = optuna.create_study(direction = 'minimize')\n",
    "study.optimize(objective, n_trials = 50)"
   ]
  },
  {
   "cell_type": "code",
   "execution_count": 15,
   "metadata": {},
   "outputs": [
    {
     "name": "stdout",
     "output_type": "stream",
     "text": [
      "Trials : 50\n",
      "Best Trial : FrozenTrial(number=32, values=[0.19353207092479338], datetime_start=datetime.datetime(2021, 4, 3, 18, 20, 59, 401252), datetime_complete=datetime.datetime(2021, 4, 3, 18, 21, 6, 769964), params={'num_leaves': 348, 'max_bin': 617, 'learning_rate': 0.04611514228609913, 'max_depth': 15, 'min_child_weight': 5, 'feature_fraction': 0.6573572112800595, 'bagging_fraction': 0.8274438256193789, 'bagging_freq': 5, 'min_child_samples': 3, 'lambda_l1': 0.00028253226619165807, 'lambda_l2': 1.854341459205825e-05}, distributions={'num_leaves': IntUniformDistribution(high=612, low=32, step=1), 'max_bin': IntUniformDistribution(high=1000, low=400, step=1), 'learning_rate': UniformDistribution(high=0.1, low=0.0155), 'max_depth': IntUniformDistribution(high=16, low=4, step=1), 'min_child_weight': IntUniformDistribution(high=21, low=1, step=1), 'feature_fraction': UniformDistribution(high=1.0, low=0.4), 'bagging_fraction': UniformDistribution(high=1.0, low=0.4), 'bagging_freq': IntUniformDistribution(high=9, low=1, step=1), 'min_child_samples': IntUniformDistribution(high=100, low=3, step=1), 'lambda_l1': LogUniformDistribution(high=1.0, low=1e-08), 'lambda_l2': LogUniformDistribution(high=1.0, low=1e-08)}, user_attrs={}, system_attrs={}, intermediate_values={}, trial_id=32, state=TrialState.COMPLETE, value=None)\n",
      "num_leaves : 348\n",
      "max_bin : 617\n",
      "learning_rate : 0.04611514228609913\n",
      "max_depth : 15\n",
      "min_child_weight : 5\n",
      "feature_fraction : 0.6573572112800595\n",
      "bagging_fraction : 0.8274438256193789\n",
      "bagging_freq : 5\n",
      "min_child_samples : 3\n",
      "lambda_l1 : 0.00028253226619165807\n",
      "lambda_l2 : 1.854341459205825e-05\n",
      "0.19353207092479338\n"
     ]
    }
   ],
   "source": [
    "print(f\"Trials : {len(study.trials)}\")\n",
    "print(f\"Best Trial : {study.best_trial}\")\n",
    "best = study.best_trial\n",
    "for i, j in best.params.items():\n",
    "    print(f\"{i} : {j}\")\n",
    "print(f\"{best.value}\")"
   ]
  },
  {
   "cell_type": "code",
   "execution_count": 152,
   "metadata": {},
   "outputs": [
    {
     "data": {
      "text/plain": [
       "LGBMRegressor(bagging_fraction=0.8274438256193789, bagging_freq=5,\n",
       "              feature_fraction=0.6573572112800595,\n",
       "              lambda_l1=0.00028253226619165807, lambda_l2=1.854341459205825e-05,\n",
       "              learning_rate=0.09411514228609913, max_bin=617, max_depth=15,\n",
       "              min_child_samples=3, min_child_weight=5, num_leaves=348)"
      ]
     },
     "execution_count": 152,
     "metadata": {},
     "output_type": "execute_result"
    }
   ],
   "source": [
    "import lightgbm as lgb\n",
    "clf = lgb.LGBMRegressor(num_leaves=348, max_bin=617, learning_rate=0.09411514228609913, max_depth=15,\n",
    "min_child_weight=5, feature_fraction=0.6573572112800595, bagging_fraction=0.8274438256193789, bagging_freq=5,\n",
    "min_child_samples=3, lambda_l1=0.00028253226619165807, lambda_l2=1.854341459205825e-05)\n",
    "clf.fit(X_train, y_train)"
   ]
  },
  {
   "cell_type": "code",
   "execution_count": 153,
   "metadata": {},
   "outputs": [
    {
     "name": "stdout",
     "output_type": "stream",
     "text": [
      "0.8055185774683529\n"
     ]
    }
   ],
   "source": [
    "pred = clf.predict(X_test)\n",
    "\n",
    "from sklearn.metrics import r2_score\n",
    "print(r2_score(y_test, pred))"
   ]
  },
  {
   "cell_type": "code",
   "execution_count": 154,
   "metadata": {},
   "outputs": [
    {
     "data": {
      "text/plain": [
       "0.19601039271733378"
      ]
     },
     "execution_count": 154,
     "metadata": {},
     "output_type": "execute_result"
    }
   ],
   "source": [
    "from sklearn.metrics import mean_squared_log_error\n",
    "np.sqrt(mean_squared_log_error(y_test, pred))"
   ]
  },
  {
   "cell_type": "code",
   "execution_count": 150,
   "metadata": {},
   "outputs": [
    {
     "data": {
      "text/plain": [
       "array([19394.14771293, 11602.57166886,  5000.37499447, ...,\n",
       "       19853.97568822, 21825.99013654, 11606.93019233])"
      ]
     },
     "execution_count": 150,
     "metadata": {},
     "output_type": "execute_result"
    }
   ],
   "source": [
    "prediction = clf.predict(df_Test)\n",
    "prediction"
   ]
  },
  {
   "cell_type": "code",
   "execution_count": 151,
   "metadata": {},
   "outputs": [],
   "source": [
    "output = pd.DataFrame({'Per Person Price': prediction})\n",
    "output.to_csv('WorkathonStarterSubmission_04_04_2.csv', index=False)"
   ]
  },
  {
   "cell_type": "code",
   "execution_count": null,
   "metadata": {},
   "outputs": [],
   "source": []
  }
 ],
 "metadata": {
  "kernelspec": {
   "display_name": "Python 3",
   "language": "python",
   "name": "python3"
  },
  "language_info": {
   "codemirror_mode": {
    "name": "ipython",
    "version": 3
   },
   "file_extension": ".py",
   "mimetype": "text/x-python",
   "name": "python",
   "nbconvert_exporter": "python",
   "pygments_lexer": "ipython3",
   "version": "3.7.6"
  }
 },
 "nbformat": 4,
 "nbformat_minor": 4
}
