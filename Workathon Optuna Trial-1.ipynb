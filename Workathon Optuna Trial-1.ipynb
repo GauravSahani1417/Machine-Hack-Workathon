{
 "cells": [
  {
   "cell_type": "code",
   "execution_count": 1,
   "metadata": {},
   "outputs": [],
   "source": [
    "import pandas as pd\n",
    "import numpy as np\n",
    "import seaborn as sns\n",
    "import matplotlib.pyplot as plt\n",
    "import scipy.stats as stats\n",
    "%matplotlib inline"
   ]
  },
  {
   "cell_type": "code",
   "execution_count": 2,
   "metadata": {},
   "outputs": [],
   "source": [
    "df_Train=pd.read_csv('Train_New.csv')\n",
    "df_Test=pd.read_csv('Test_New.csv')"
   ]
  },
  {
   "cell_type": "code",
   "execution_count": 3,
   "metadata": {},
   "outputs": [
    {
     "data": {
      "text/html": [
       "<div>\n",
       "<style scoped>\n",
       "    .dataframe tbody tr th:only-of-type {\n",
       "        vertical-align: middle;\n",
       "    }\n",
       "\n",
       "    .dataframe tbody tr th {\n",
       "        vertical-align: top;\n",
       "    }\n",
       "\n",
       "    .dataframe thead th {\n",
       "        text-align: right;\n",
       "    }\n",
       "</style>\n",
       "<table border=\"1\" class=\"dataframe\">\n",
       "  <thead>\n",
       "    <tr style=\"text-align: right;\">\n",
       "      <th></th>\n",
       "      <th>Package Name</th>\n",
       "      <th>Package Type</th>\n",
       "      <th>D1</th>\n",
       "      <th>D2</th>\n",
       "      <th>D3</th>\n",
       "      <th>D4</th>\n",
       "      <th>D5</th>\n",
       "      <th>N1</th>\n",
       "      <th>N2</th>\n",
       "      <th>N3</th>\n",
       "      <th>...</th>\n",
       "      <th>SP12</th>\n",
       "      <th>SP13</th>\n",
       "      <th>SP14</th>\n",
       "      <th>SP15</th>\n",
       "      <th>SP16</th>\n",
       "      <th>SP17</th>\n",
       "      <th>SP18</th>\n",
       "      <th>SP19</th>\n",
       "      <th>Cancellation Rules</th>\n",
       "      <th>Per Person Price</th>\n",
       "    </tr>\n",
       "  </thead>\n",
       "  <tbody>\n",
       "    <tr>\n",
       "      <th>0</th>\n",
       "      <td>422</td>\n",
       "      <td>4</td>\n",
       "      <td>79</td>\n",
       "      <td>118</td>\n",
       "      <td>54</td>\n",
       "      <td>9</td>\n",
       "      <td>30</td>\n",
       "      <td>1</td>\n",
       "      <td>2</td>\n",
       "      <td>2</td>\n",
       "      <td>...</td>\n",
       "      <td>166</td>\n",
       "      <td>136</td>\n",
       "      <td>108</td>\n",
       "      <td>93</td>\n",
       "      <td>65</td>\n",
       "      <td>46</td>\n",
       "      <td>27</td>\n",
       "      <td>18</td>\n",
       "      <td>5</td>\n",
       "      <td>11509.0</td>\n",
       "    </tr>\n",
       "    <tr>\n",
       "      <th>1</th>\n",
       "      <td>1152</td>\n",
       "      <td>3</td>\n",
       "      <td>107</td>\n",
       "      <td>95</td>\n",
       "      <td>90</td>\n",
       "      <td>49</td>\n",
       "      <td>30</td>\n",
       "      <td>1</td>\n",
       "      <td>2</td>\n",
       "      <td>1</td>\n",
       "      <td>...</td>\n",
       "      <td>166</td>\n",
       "      <td>136</td>\n",
       "      <td>108</td>\n",
       "      <td>93</td>\n",
       "      <td>65</td>\n",
       "      <td>46</td>\n",
       "      <td>27</td>\n",
       "      <td>18</td>\n",
       "      <td>0</td>\n",
       "      <td>22485.5</td>\n",
       "    </tr>\n",
       "    <tr>\n",
       "      <th>2</th>\n",
       "      <td>1437</td>\n",
       "      <td>2</td>\n",
       "      <td>113</td>\n",
       "      <td>24</td>\n",
       "      <td>69</td>\n",
       "      <td>49</td>\n",
       "      <td>30</td>\n",
       "      <td>2</td>\n",
       "      <td>1</td>\n",
       "      <td>0</td>\n",
       "      <td>...</td>\n",
       "      <td>166</td>\n",
       "      <td>136</td>\n",
       "      <td>108</td>\n",
       "      <td>93</td>\n",
       "      <td>65</td>\n",
       "      <td>46</td>\n",
       "      <td>27</td>\n",
       "      <td>18</td>\n",
       "      <td>0</td>\n",
       "      <td>12421.5</td>\n",
       "    </tr>\n",
       "    <tr>\n",
       "      <th>3</th>\n",
       "      <td>487</td>\n",
       "      <td>3</td>\n",
       "      <td>71</td>\n",
       "      <td>68</td>\n",
       "      <td>0</td>\n",
       "      <td>33</td>\n",
       "      <td>30</td>\n",
       "      <td>2</td>\n",
       "      <td>1</td>\n",
       "      <td>1</td>\n",
       "      <td>...</td>\n",
       "      <td>166</td>\n",
       "      <td>136</td>\n",
       "      <td>108</td>\n",
       "      <td>93</td>\n",
       "      <td>65</td>\n",
       "      <td>46</td>\n",
       "      <td>27</td>\n",
       "      <td>18</td>\n",
       "      <td>0</td>\n",
       "      <td>35967.0</td>\n",
       "    </tr>\n",
       "    <tr>\n",
       "      <th>4</th>\n",
       "      <td>196</td>\n",
       "      <td>3</td>\n",
       "      <td>86</td>\n",
       "      <td>13</td>\n",
       "      <td>69</td>\n",
       "      <td>49</td>\n",
       "      <td>30</td>\n",
       "      <td>4</td>\n",
       "      <td>3</td>\n",
       "      <td>0</td>\n",
       "      <td>...</td>\n",
       "      <td>166</td>\n",
       "      <td>136</td>\n",
       "      <td>108</td>\n",
       "      <td>93</td>\n",
       "      <td>65</td>\n",
       "      <td>46</td>\n",
       "      <td>27</td>\n",
       "      <td>18</td>\n",
       "      <td>0</td>\n",
       "      <td>25584.0</td>\n",
       "    </tr>\n",
       "  </tbody>\n",
       "</table>\n",
       "<p>5 rows × 49 columns</p>\n",
       "</div>"
      ],
      "text/plain": [
       "   Package Name  Package Type   D1   D2  D3  D4  D5  N1  N2  N3  ...  SP12  \\\n",
       "0           422             4   79  118  54   9  30   1   2   2  ...   166   \n",
       "1          1152             3  107   95  90  49  30   1   2   1  ...   166   \n",
       "2          1437             2  113   24  69  49  30   2   1   0  ...   166   \n",
       "3           487             3   71   68   0  33  30   2   1   1  ...   166   \n",
       "4           196             3   86   13  69  49  30   4   3   0  ...   166   \n",
       "\n",
       "   SP13  SP14  SP15  SP16  SP17  SP18  SP19  Cancellation Rules  \\\n",
       "0   136   108    93    65    46    27    18                   5   \n",
       "1   136   108    93    65    46    27    18                   0   \n",
       "2   136   108    93    65    46    27    18                   0   \n",
       "3   136   108    93    65    46    27    18                   0   \n",
       "4   136   108    93    65    46    27    18                   0   \n",
       "\n",
       "   Per Person Price  \n",
       "0           11509.0  \n",
       "1           22485.5  \n",
       "2           12421.5  \n",
       "3           35967.0  \n",
       "4           25584.0  \n",
       "\n",
       "[5 rows x 49 columns]"
      ]
     },
     "execution_count": 3,
     "metadata": {},
     "output_type": "execute_result"
    }
   ],
   "source": [
    "df_Train.head()"
   ]
  },
  {
   "cell_type": "code",
   "execution_count": 4,
   "metadata": {},
   "outputs": [
    {
     "data": {
      "text/plain": [
       "Package Name          0\n",
       "Package Type          0\n",
       "D1                    0\n",
       "D2                    0\n",
       "D3                    0\n",
       "D4                    0\n",
       "D5                    0\n",
       "N1                    0\n",
       "N2                    0\n",
       "N3                    0\n",
       "N4                    0\n",
       "N5                    0\n",
       "PC1                   0\n",
       "PC2                   0\n",
       "PC3                   0\n",
       "PC4                   0\n",
       "PC5                   0\n",
       "Month                 0\n",
       "Year                  0\n",
       "Hotel Details         0\n",
       "Start City            0\n",
       "A1                    0\n",
       "A2                    0\n",
       "A3                    0\n",
       "A4                    0\n",
       "A5                    0\n",
       "Flight Stops          0\n",
       "Meals                 0\n",
       "SP1                   0\n",
       "SP2                   0\n",
       "SP3                   0\n",
       "SP4                   0\n",
       "SP5                   0\n",
       "SP6                   0\n",
       "SP7                   0\n",
       "SP8                   0\n",
       "SP9                   0\n",
       "SP10                  0\n",
       "SP11                  0\n",
       "SP12                  0\n",
       "SP13                  0\n",
       "SP14                  0\n",
       "SP15                  0\n",
       "SP16                  0\n",
       "SP17                  0\n",
       "SP18                  0\n",
       "SP19                  0\n",
       "Cancellation Rules    0\n",
       "Per Person Price      0\n",
       "dtype: int64"
      ]
     },
     "execution_count": 4,
     "metadata": {},
     "output_type": "execute_result"
    }
   ],
   "source": [
    "df_Train.isnull().sum()"
   ]
  },
  {
   "cell_type": "code",
   "execution_count": 5,
   "metadata": {},
   "outputs": [
    {
     "data": {
      "text/html": [
       "<div>\n",
       "<style scoped>\n",
       "    .dataframe tbody tr th:only-of-type {\n",
       "        vertical-align: middle;\n",
       "    }\n",
       "\n",
       "    .dataframe tbody tr th {\n",
       "        vertical-align: top;\n",
       "    }\n",
       "\n",
       "    .dataframe thead th {\n",
       "        text-align: right;\n",
       "    }\n",
       "</style>\n",
       "<table border=\"1\" class=\"dataframe\">\n",
       "  <thead>\n",
       "    <tr style=\"text-align: right;\">\n",
       "      <th></th>\n",
       "      <th>Package Name</th>\n",
       "      <th>Package Type</th>\n",
       "      <th>D1</th>\n",
       "      <th>D2</th>\n",
       "      <th>D3</th>\n",
       "      <th>D4</th>\n",
       "      <th>D5</th>\n",
       "      <th>N1</th>\n",
       "      <th>N2</th>\n",
       "      <th>N3</th>\n",
       "      <th>...</th>\n",
       "      <th>SP11</th>\n",
       "      <th>SP12</th>\n",
       "      <th>SP13</th>\n",
       "      <th>SP14</th>\n",
       "      <th>SP15</th>\n",
       "      <th>SP16</th>\n",
       "      <th>SP17</th>\n",
       "      <th>SP18</th>\n",
       "      <th>SP19</th>\n",
       "      <th>Cancellation Rules</th>\n",
       "    </tr>\n",
       "  </thead>\n",
       "  <tbody>\n",
       "    <tr>\n",
       "      <th>0</th>\n",
       "      <td>841</td>\n",
       "      <td>2</td>\n",
       "      <td>35</td>\n",
       "      <td>94</td>\n",
       "      <td>69</td>\n",
       "      <td>49</td>\n",
       "      <td>30</td>\n",
       "      <td>5</td>\n",
       "      <td>0</td>\n",
       "      <td>0</td>\n",
       "      <td>...</td>\n",
       "      <td>194</td>\n",
       "      <td>166</td>\n",
       "      <td>136</td>\n",
       "      <td>108</td>\n",
       "      <td>93</td>\n",
       "      <td>65</td>\n",
       "      <td>46</td>\n",
       "      <td>27</td>\n",
       "      <td>18</td>\n",
       "      <td>0</td>\n",
       "    </tr>\n",
       "    <tr>\n",
       "      <th>1</th>\n",
       "      <td>1061</td>\n",
       "      <td>2</td>\n",
       "      <td>10</td>\n",
       "      <td>94</td>\n",
       "      <td>69</td>\n",
       "      <td>49</td>\n",
       "      <td>30</td>\n",
       "      <td>2</td>\n",
       "      <td>0</td>\n",
       "      <td>0</td>\n",
       "      <td>...</td>\n",
       "      <td>194</td>\n",
       "      <td>166</td>\n",
       "      <td>136</td>\n",
       "      <td>108</td>\n",
       "      <td>93</td>\n",
       "      <td>65</td>\n",
       "      <td>46</td>\n",
       "      <td>27</td>\n",
       "      <td>18</td>\n",
       "      <td>9</td>\n",
       "    </tr>\n",
       "    <tr>\n",
       "      <th>2</th>\n",
       "      <td>2127</td>\n",
       "      <td>4</td>\n",
       "      <td>71</td>\n",
       "      <td>94</td>\n",
       "      <td>69</td>\n",
       "      <td>49</td>\n",
       "      <td>30</td>\n",
       "      <td>3</td>\n",
       "      <td>0</td>\n",
       "      <td>0</td>\n",
       "      <td>...</td>\n",
       "      <td>194</td>\n",
       "      <td>166</td>\n",
       "      <td>136</td>\n",
       "      <td>108</td>\n",
       "      <td>93</td>\n",
       "      <td>65</td>\n",
       "      <td>46</td>\n",
       "      <td>27</td>\n",
       "      <td>18</td>\n",
       "      <td>9</td>\n",
       "    </tr>\n",
       "    <tr>\n",
       "      <th>3</th>\n",
       "      <td>1471</td>\n",
       "      <td>1</td>\n",
       "      <td>71</td>\n",
       "      <td>94</td>\n",
       "      <td>69</td>\n",
       "      <td>49</td>\n",
       "      <td>30</td>\n",
       "      <td>3</td>\n",
       "      <td>0</td>\n",
       "      <td>0</td>\n",
       "      <td>...</td>\n",
       "      <td>194</td>\n",
       "      <td>166</td>\n",
       "      <td>136</td>\n",
       "      <td>108</td>\n",
       "      <td>93</td>\n",
       "      <td>65</td>\n",
       "      <td>46</td>\n",
       "      <td>27</td>\n",
       "      <td>18</td>\n",
       "      <td>9</td>\n",
       "    </tr>\n",
       "    <tr>\n",
       "      <th>4</th>\n",
       "      <td>1938</td>\n",
       "      <td>2</td>\n",
       "      <td>21</td>\n",
       "      <td>83</td>\n",
       "      <td>92</td>\n",
       "      <td>1</td>\n",
       "      <td>30</td>\n",
       "      <td>1</td>\n",
       "      <td>2</td>\n",
       "      <td>1</td>\n",
       "      <td>...</td>\n",
       "      <td>194</td>\n",
       "      <td>166</td>\n",
       "      <td>136</td>\n",
       "      <td>108</td>\n",
       "      <td>93</td>\n",
       "      <td>65</td>\n",
       "      <td>46</td>\n",
       "      <td>27</td>\n",
       "      <td>18</td>\n",
       "      <td>0</td>\n",
       "    </tr>\n",
       "  </tbody>\n",
       "</table>\n",
       "<p>5 rows × 48 columns</p>\n",
       "</div>"
      ],
      "text/plain": [
       "   Package Name  Package Type  D1  D2  D3  D4  D5  N1  N2  N3  ...  SP11  \\\n",
       "0           841             2  35  94  69  49  30   5   0   0  ...   194   \n",
       "1          1061             2  10  94  69  49  30   2   0   0  ...   194   \n",
       "2          2127             4  71  94  69  49  30   3   0   0  ...   194   \n",
       "3          1471             1  71  94  69  49  30   3   0   0  ...   194   \n",
       "4          1938             2  21  83  92   1  30   1   2   1  ...   194   \n",
       "\n",
       "   SP12  SP13  SP14  SP15  SP16  SP17  SP18  SP19  Cancellation Rules  \n",
       "0   166   136   108    93    65    46    27    18                   0  \n",
       "1   166   136   108    93    65    46    27    18                   9  \n",
       "2   166   136   108    93    65    46    27    18                   9  \n",
       "3   166   136   108    93    65    46    27    18                   9  \n",
       "4   166   136   108    93    65    46    27    18                   0  \n",
       "\n",
       "[5 rows x 48 columns]"
      ]
     },
     "execution_count": 5,
     "metadata": {},
     "output_type": "execute_result"
    }
   ],
   "source": [
    "df_Test.head()"
   ]
  },
  {
   "cell_type": "code",
   "execution_count": 6,
   "metadata": {},
   "outputs": [
    {
     "name": "stdout",
     "output_type": "stream",
     "text": [
      "(21000, 49)\n",
      "(9000, 48)\n"
     ]
    }
   ],
   "source": [
    "print(df_Train.shape)\n",
    "print(df_Test.shape)"
   ]
  },
  {
   "cell_type": "code",
   "execution_count": 7,
   "metadata": {},
   "outputs": [],
   "source": [
    "df_Train.drop('D1', axis=1, inplace=True)\n",
    "df_Train.drop('PC1', axis=1, inplace=True)\n",
    "# df_Train.drop('Year', axis=1, inplace=True)\n",
    "# df_Train.drop('Month', axis=1, inplace=True)\n",
    "# df_Train.drop('SP5', axis=1, inplace=True)\n",
    "# df_Train.drop('Package Type', axis=1, inplace=True)"
   ]
  },
  {
   "cell_type": "code",
   "execution_count": 8,
   "metadata": {},
   "outputs": [],
   "source": [
    "df_Test.drop('D1', axis=1, inplace=True)\n",
    "df_Test.drop('PC1', axis=1, inplace=True)\n",
    "# df_Test.drop('Year', axis=1, inplace=True)\n",
    "# df_Test.drop('Month', axis=1, inplace=True)\n",
    "# df_Test.drop('SP5', axis=1, inplace=True)\n",
    "# df_Test.drop('Package Type', axis=1, inplace=True)"
   ]
  },
  {
   "cell_type": "code",
   "execution_count": 9,
   "metadata": {},
   "outputs": [
    {
     "data": {
      "text/plain": [
       "<matplotlib.axes._subplots.AxesSubplot at 0x1f1a2d71cc8>"
      ]
     },
     "execution_count": 9,
     "metadata": {},
     "output_type": "execute_result"
    },
    {
     "data": {
      "image/png": "[encoded data removed]",
      "text/plain": [
       "<Figure size 1152x1152 with 2 Axes>"
      ]
     },
     "metadata": {
      "needs_background": "light"
     },
     "output_type": "display_data"
    }
   ],
   "source": [
    "plt.figure(figsize=(16, 16))\n",
    "sns.heatmap(df_Train.corr())"
   ]
  },
  {
   "cell_type": "code",
   "execution_count": 10,
   "metadata": {},
   "outputs": [],
   "source": [
    "df_Train.drop('PC2', axis=1, inplace=True)\n",
    "df_Train.drop('PC3', axis=1, inplace=True)\n",
    "df_Train.drop('PC4', axis=1, inplace=True)\n",
    "df_Train.drop('PC5', axis=1, inplace=True)\n",
    "df_Train.drop('Meals', axis=1, inplace=True)"
   ]
  },
  {
   "cell_type": "code",
   "execution_count": 11,
   "metadata": {},
   "outputs": [],
   "source": [
    "df_Test.drop('PC2', axis=1, inplace=True)\n",
    "df_Test.drop('PC3', axis=1, inplace=True)\n",
    "df_Test.drop('PC4', axis=1, inplace=True)\n",
    "df_Test.drop('PC5', axis=1, inplace=True)\n",
    "df_Test.drop('Meals', axis=1, inplace=True)"
   ]
  },
  {
   "cell_type": "code",
   "execution_count": 12,
   "metadata": {},
   "outputs": [
    {
     "data": {
      "text/plain": [
       "<matplotlib.axes._subplots.AxesSubplot at 0x1f1a2e9b748>"
      ]
     },
     "execution_count": 12,
     "metadata": {},
     "output_type": "execute_result"
    },
    {
     "data": {
      "image/png": "[encoded data removed]",
      "text/plain": [
       "<Figure size 1152x1152 with 2 Axes>"
      ]
     },
     "metadata": {
      "needs_background": "light"
     },
     "output_type": "display_data"
    }
   ],
   "source": [
    "plt.figure(figsize=(16, 16))\n",
    "sns.heatmap(df_Train.corr())"
   ]
  },
  {
   "cell_type": "code",
   "execution_count": 13,
   "metadata": {},
   "outputs": [],
   "source": [
    "df_Train.drop('N5', axis=1, inplace=True)\n",
    "df_Test.drop('N5', axis=1, inplace=True)"
   ]
  },
  {
   "cell_type": "code",
   "execution_count": 14,
   "metadata": {},
   "outputs": [],
   "source": [
    "df_Train.drop('A5', axis=1, inplace=True)\n",
    "df_Test.drop('A5', axis=1, inplace=True)\n",
    "\n",
    "df_Train.drop('Month', axis=1, inplace=True)\n",
    "df_Test.drop('Month', axis=1, inplace=True)"
   ]
  },
  {
   "cell_type": "code",
   "execution_count": 15,
   "metadata": {},
   "outputs": [
    {
     "data": {
      "text/plain": [
       "<matplotlib.axes._subplots.AxesSubplot at 0x1f1a3781f08>"
      ]
     },
     "execution_count": 15,
     "metadata": {},
     "output_type": "execute_result"
    },
    {
     "data": {
      "image/png": "[encoded data removed]",
      "text/plain": [
       "<Figure size 1152x1152 with 2 Axes>"
      ]
     },
     "metadata": {
      "needs_background": "light"
     },
     "output_type": "display_data"
    }
   ],
   "source": [
    "plt.figure(figsize=(16, 16))\n",
    "sns.heatmap(df_Train.corr())"
   ]
  },
  {
   "cell_type": "code",
   "execution_count": 16,
   "metadata": {},
   "outputs": [
    {
     "data": {
      "text/html": [
       "<div>\n",
       "<style scoped>\n",
       "    .dataframe tbody tr th:only-of-type {\n",
       "        vertical-align: middle;\n",
       "    }\n",
       "\n",
       "    .dataframe tbody tr th {\n",
       "        vertical-align: top;\n",
       "    }\n",
       "\n",
       "    .dataframe thead th {\n",
       "        text-align: right;\n",
       "    }\n",
       "</style>\n",
       "<table border=\"1\" class=\"dataframe\">\n",
       "  <thead>\n",
       "    <tr style=\"text-align: right;\">\n",
       "      <th></th>\n",
       "      <th>Package Name</th>\n",
       "      <th>Package Type</th>\n",
       "      <th>D2</th>\n",
       "      <th>D3</th>\n",
       "      <th>D4</th>\n",
       "      <th>D5</th>\n",
       "      <th>N1</th>\n",
       "      <th>N2</th>\n",
       "      <th>N3</th>\n",
       "      <th>N4</th>\n",
       "      <th>...</th>\n",
       "      <th>SP12</th>\n",
       "      <th>SP13</th>\n",
       "      <th>SP14</th>\n",
       "      <th>SP15</th>\n",
       "      <th>SP16</th>\n",
       "      <th>SP17</th>\n",
       "      <th>SP18</th>\n",
       "      <th>SP19</th>\n",
       "      <th>Cancellation Rules</th>\n",
       "      <th>Per Person Price</th>\n",
       "    </tr>\n",
       "  </thead>\n",
       "  <tbody>\n",
       "    <tr>\n",
       "      <th>Package Name</th>\n",
       "      <td>1.000000</td>\n",
       "      <td>-0.011703</td>\n",
       "      <td>0.042857</td>\n",
       "      <td>0.075756</td>\n",
       "      <td>-0.009267</td>\n",
       "      <td>0.025082</td>\n",
       "      <td>-0.021486</td>\n",
       "      <td>-0.094357</td>\n",
       "      <td>-0.099504</td>\n",
       "      <td>-0.048550</td>\n",
       "      <td>...</td>\n",
       "      <td>0.074190</td>\n",
       "      <td>0.037023</td>\n",
       "      <td>0.019639</td>\n",
       "      <td>0.030578</td>\n",
       "      <td>0.022351</td>\n",
       "      <td>-0.021826</td>\n",
       "      <td>0.009337</td>\n",
       "      <td>0.042957</td>\n",
       "      <td>0.164479</td>\n",
       "      <td>-0.049182</td>\n",
       "    </tr>\n",
       "    <tr>\n",
       "      <th>Package Type</th>\n",
       "      <td>-0.011703</td>\n",
       "      <td>1.000000</td>\n",
       "      <td>-0.006065</td>\n",
       "      <td>-0.014939</td>\n",
       "      <td>-0.027343</td>\n",
       "      <td>-0.028222</td>\n",
       "      <td>-0.009949</td>\n",
       "      <td>0.010939</td>\n",
       "      <td>0.027797</td>\n",
       "      <td>0.025963</td>\n",
       "      <td>...</td>\n",
       "      <td>0.004066</td>\n",
       "      <td>0.002780</td>\n",
       "      <td>-0.009503</td>\n",
       "      <td>-0.004484</td>\n",
       "      <td>-0.005238</td>\n",
       "      <td>-0.001252</td>\n",
       "      <td>-0.001818</td>\n",
       "      <td>-0.004844</td>\n",
       "      <td>-0.026267</td>\n",
       "      <td>-0.016043</td>\n",
       "    </tr>\n",
       "    <tr>\n",
       "      <th>D2</th>\n",
       "      <td>0.042857</td>\n",
       "      <td>-0.006065</td>\n",
       "      <td>1.000000</td>\n",
       "      <td>-0.085245</td>\n",
       "      <td>-0.097042</td>\n",
       "      <td>-0.027974</td>\n",
       "      <td>0.109044</td>\n",
       "      <td>-0.225015</td>\n",
       "      <td>-0.093592</td>\n",
       "      <td>-0.003841</td>\n",
       "      <td>...</td>\n",
       "      <td>0.175529</td>\n",
       "      <td>0.150281</td>\n",
       "      <td>0.153480</td>\n",
       "      <td>0.124662</td>\n",
       "      <td>0.097638</td>\n",
       "      <td>0.058565</td>\n",
       "      <td>0.056443</td>\n",
       "      <td>0.019979</td>\n",
       "      <td>0.156732</td>\n",
       "      <td>-0.116081</td>\n",
       "    </tr>\n",
       "    <tr>\n",
       "      <th>D3</th>\n",
       "      <td>0.075756</td>\n",
       "      <td>-0.014939</td>\n",
       "      <td>-0.085245</td>\n",
       "      <td>1.000000</td>\n",
       "      <td>0.059658</td>\n",
       "      <td>0.086444</td>\n",
       "      <td>0.116597</td>\n",
       "      <td>-0.233686</td>\n",
       "      <td>-0.419672</td>\n",
       "      <td>-0.257069</td>\n",
       "      <td>...</td>\n",
       "      <td>0.082230</td>\n",
       "      <td>0.044297</td>\n",
       "      <td>0.030587</td>\n",
       "      <td>0.019288</td>\n",
       "      <td>-0.022636</td>\n",
       "      <td>-0.023599</td>\n",
       "      <td>0.030483</td>\n",
       "      <td>0.055045</td>\n",
       "      <td>0.173843</td>\n",
       "      <td>-0.129723</td>\n",
       "    </tr>\n",
       "    <tr>\n",
       "      <th>D4</th>\n",
       "      <td>-0.009267</td>\n",
       "      <td>-0.027343</td>\n",
       "      <td>-0.097042</td>\n",
       "      <td>0.059658</td>\n",
       "      <td>1.000000</td>\n",
       "      <td>0.245672</td>\n",
       "      <td>0.198120</td>\n",
       "      <td>-0.179799</td>\n",
       "      <td>-0.306813</td>\n",
       "      <td>-0.419244</td>\n",
       "      <td>...</td>\n",
       "      <td>0.071538</td>\n",
       "      <td>0.085515</td>\n",
       "      <td>0.037153</td>\n",
       "      <td>0.032837</td>\n",
       "      <td>0.015043</td>\n",
       "      <td>0.027812</td>\n",
       "      <td>0.019203</td>\n",
       "      <td>0.033471</td>\n",
       "      <td>0.110939</td>\n",
       "      <td>-0.092898</td>\n",
       "    </tr>\n",
       "    <tr>\n",
       "      <th>D5</th>\n",
       "      <td>0.025082</td>\n",
       "      <td>-0.028222</td>\n",
       "      <td>-0.027974</td>\n",
       "      <td>0.086444</td>\n",
       "      <td>0.245672</td>\n",
       "      <td>1.000000</td>\n",
       "      <td>0.150428</td>\n",
       "      <td>-0.086082</td>\n",
       "      <td>-0.168609</td>\n",
       "      <td>-0.391532</td>\n",
       "      <td>...</td>\n",
       "      <td>0.022224</td>\n",
       "      <td>0.069023</td>\n",
       "      <td>0.052132</td>\n",
       "      <td>0.022209</td>\n",
       "      <td>0.002062</td>\n",
       "      <td>-0.024407</td>\n",
       "      <td>-0.017956</td>\n",
       "      <td>0.033316</td>\n",
       "      <td>0.077190</td>\n",
       "      <td>-0.153845</td>\n",
       "    </tr>\n",
       "    <tr>\n",
       "      <th>N1</th>\n",
       "      <td>-0.021486</td>\n",
       "      <td>-0.009949</td>\n",
       "      <td>0.109044</td>\n",
       "      <td>0.116597</td>\n",
       "      <td>0.198120</td>\n",
       "      <td>0.150428</td>\n",
       "      <td>1.000000</td>\n",
       "      <td>-0.402293</td>\n",
       "      <td>-0.400065</td>\n",
       "      <td>-0.311066</td>\n",
       "      <td>...</td>\n",
       "      <td>0.107147</td>\n",
       "      <td>0.106400</td>\n",
       "      <td>0.072086</td>\n",
       "      <td>0.054821</td>\n",
       "      <td>0.031253</td>\n",
       "      <td>0.003259</td>\n",
       "      <td>0.020684</td>\n",
       "      <td>0.019924</td>\n",
       "      <td>0.061920</td>\n",
       "      <td>0.124502</td>\n",
       "    </tr>\n",
       "    <tr>\n",
       "      <th>N2</th>\n",
       "      <td>-0.094357</td>\n",
       "      <td>0.010939</td>\n",
       "      <td>-0.225015</td>\n",
       "      <td>-0.233686</td>\n",
       "      <td>-0.179799</td>\n",
       "      <td>-0.086082</td>\n",
       "      <td>-0.402293</td>\n",
       "      <td>1.000000</td>\n",
       "      <td>0.317806</td>\n",
       "      <td>0.132431</td>\n",
       "      <td>...</td>\n",
       "      <td>-0.225412</td>\n",
       "      <td>-0.193290</td>\n",
       "      <td>-0.139209</td>\n",
       "      <td>-0.131319</td>\n",
       "      <td>-0.126655</td>\n",
       "      <td>-0.103127</td>\n",
       "      <td>-0.082933</td>\n",
       "      <td>-0.062154</td>\n",
       "      <td>-0.374077</td>\n",
       "      <td>0.245148</td>\n",
       "    </tr>\n",
       "    <tr>\n",
       "      <th>N3</th>\n",
       "      <td>-0.099504</td>\n",
       "      <td>0.027797</td>\n",
       "      <td>-0.093592</td>\n",
       "      <td>-0.419672</td>\n",
       "      <td>-0.306813</td>\n",
       "      <td>-0.168609</td>\n",
       "      <td>-0.400065</td>\n",
       "      <td>0.317806</td>\n",
       "      <td>1.000000</td>\n",
       "      <td>0.420612</td>\n",
       "      <td>...</td>\n",
       "      <td>-0.190612</td>\n",
       "      <td>-0.176392</td>\n",
       "      <td>-0.148539</td>\n",
       "      <td>-0.125098</td>\n",
       "      <td>-0.064412</td>\n",
       "      <td>-0.053700</td>\n",
       "      <td>-0.073259</td>\n",
       "      <td>-0.136190</td>\n",
       "      <td>-0.307000</td>\n",
       "      <td>0.286312</td>\n",
       "    </tr>\n",
       "    <tr>\n",
       "      <th>N4</th>\n",
       "      <td>-0.048550</td>\n",
       "      <td>0.025963</td>\n",
       "      <td>-0.003841</td>\n",
       "      <td>-0.257069</td>\n",
       "      <td>-0.419244</td>\n",
       "      <td>-0.391532</td>\n",
       "      <td>-0.311066</td>\n",
       "      <td>0.132431</td>\n",
       "      <td>0.420612</td>\n",
       "      <td>1.000000</td>\n",
       "      <td>...</td>\n",
       "      <td>-0.075393</td>\n",
       "      <td>-0.099471</td>\n",
       "      <td>-0.081430</td>\n",
       "      <td>-0.042400</td>\n",
       "      <td>-0.003675</td>\n",
       "      <td>-0.022684</td>\n",
       "      <td>-0.034825</td>\n",
       "      <td>-0.058567</td>\n",
       "      <td>-0.183995</td>\n",
       "      <td>0.243316</td>\n",
       "    </tr>\n",
       "    <tr>\n",
       "      <th>PC4</th>\n",
       "      <td>-0.009267</td>\n",
       "      <td>-0.027343</td>\n",
       "      <td>-0.097042</td>\n",
       "      <td>0.059658</td>\n",
       "      <td>1.000000</td>\n",
       "      <td>0.245672</td>\n",
       "      <td>0.198120</td>\n",
       "      <td>-0.179799</td>\n",
       "      <td>-0.306813</td>\n",
       "      <td>-0.419244</td>\n",
       "      <td>...</td>\n",
       "      <td>0.071538</td>\n",
       "      <td>0.085515</td>\n",
       "      <td>0.037153</td>\n",
       "      <td>0.032837</td>\n",
       "      <td>0.015043</td>\n",
       "      <td>0.027812</td>\n",
       "      <td>0.019203</td>\n",
       "      <td>0.033471</td>\n",
       "      <td>0.110939</td>\n",
       "      <td>-0.092898</td>\n",
       "    </tr>\n",
       "    <tr>\n",
       "      <th>PC5</th>\n",
       "      <td>0.025082</td>\n",
       "      <td>-0.028222</td>\n",
       "      <td>-0.027974</td>\n",
       "      <td>0.086444</td>\n",
       "      <td>0.245672</td>\n",
       "      <td>1.000000</td>\n",
       "      <td>0.150428</td>\n",
       "      <td>-0.086082</td>\n",
       "      <td>-0.168609</td>\n",
       "      <td>-0.391532</td>\n",
       "      <td>...</td>\n",
       "      <td>0.022224</td>\n",
       "      <td>0.069023</td>\n",
       "      <td>0.052132</td>\n",
       "      <td>0.022209</td>\n",
       "      <td>0.002062</td>\n",
       "      <td>-0.024407</td>\n",
       "      <td>-0.017956</td>\n",
       "      <td>0.033316</td>\n",
       "      <td>0.077190</td>\n",
       "      <td>-0.153845</td>\n",
       "    </tr>\n",
       "    <tr>\n",
       "      <th>Hotel Details</th>\n",
       "      <td>0.026975</td>\n",
       "      <td>-0.015121</td>\n",
       "      <td>0.010245</td>\n",
       "      <td>-0.028232</td>\n",
       "      <td>0.059850</td>\n",
       "      <td>0.017788</td>\n",
       "      <td>0.005596</td>\n",
       "      <td>-0.024314</td>\n",
       "      <td>0.041304</td>\n",
       "      <td>0.020711</td>\n",
       "      <td>...</td>\n",
       "      <td>-0.009627</td>\n",
       "      <td>-0.042867</td>\n",
       "      <td>-0.048912</td>\n",
       "      <td>-0.047517</td>\n",
       "      <td>-0.058329</td>\n",
       "      <td>-0.050100</td>\n",
       "      <td>-0.037553</td>\n",
       "      <td>-0.042388</td>\n",
       "      <td>-0.027258</td>\n",
       "      <td>0.068165</td>\n",
       "    </tr>\n",
       "    <tr>\n",
       "      <th>Start City</th>\n",
       "      <td>0.020184</td>\n",
       "      <td>-0.002792</td>\n",
       "      <td>0.020560</td>\n",
       "      <td>0.020382</td>\n",
       "      <td>0.022786</td>\n",
       "      <td>0.021089</td>\n",
       "      <td>-0.010329</td>\n",
       "      <td>-0.041886</td>\n",
       "      <td>-0.052873</td>\n",
       "      <td>-0.041612</td>\n",
       "      <td>...</td>\n",
       "      <td>0.038210</td>\n",
       "      <td>0.033003</td>\n",
       "      <td>0.024994</td>\n",
       "      <td>0.016559</td>\n",
       "      <td>0.018818</td>\n",
       "      <td>0.019018</td>\n",
       "      <td>0.010311</td>\n",
       "      <td>0.027659</td>\n",
       "      <td>0.026966</td>\n",
       "      <td>-0.047014</td>\n",
       "    </tr>\n",
       "    <tr>\n",
       "      <th>A1</th>\n",
       "      <td>-0.004896</td>\n",
       "      <td>-0.002398</td>\n",
       "      <td>-0.015334</td>\n",
       "      <td>0.017049</td>\n",
       "      <td>-0.010549</td>\n",
       "      <td>0.008008</td>\n",
       "      <td>-0.024554</td>\n",
       "      <td>0.017408</td>\n",
       "      <td>0.004918</td>\n",
       "      <td>0.002127</td>\n",
       "      <td>...</td>\n",
       "      <td>-0.016384</td>\n",
       "      <td>-0.010868</td>\n",
       "      <td>-0.003487</td>\n",
       "      <td>0.007624</td>\n",
       "      <td>-0.015902</td>\n",
       "      <td>-0.014433</td>\n",
       "      <td>0.001871</td>\n",
       "      <td>-0.013062</td>\n",
       "      <td>0.011036</td>\n",
       "      <td>-0.069849</td>\n",
       "    </tr>\n",
       "    <tr>\n",
       "      <th>A2</th>\n",
       "      <td>-0.016626</td>\n",
       "      <td>0.000185</td>\n",
       "      <td>0.051565</td>\n",
       "      <td>0.006125</td>\n",
       "      <td>0.004810</td>\n",
       "      <td>0.021051</td>\n",
       "      <td>-0.082542</td>\n",
       "      <td>0.003199</td>\n",
       "      <td>0.017249</td>\n",
       "      <td>0.006113</td>\n",
       "      <td>...</td>\n",
       "      <td>-0.001083</td>\n",
       "      <td>0.002332</td>\n",
       "      <td>0.020186</td>\n",
       "      <td>0.007315</td>\n",
       "      <td>-0.008324</td>\n",
       "      <td>-0.015078</td>\n",
       "      <td>0.001621</td>\n",
       "      <td>-0.006253</td>\n",
       "      <td>0.019062</td>\n",
       "      <td>-0.150575</td>\n",
       "    </tr>\n",
       "    <tr>\n",
       "      <th>A3</th>\n",
       "      <td>-0.043160</td>\n",
       "      <td>-0.000445</td>\n",
       "      <td>0.034091</td>\n",
       "      <td>0.019042</td>\n",
       "      <td>0.026821</td>\n",
       "      <td>0.031160</td>\n",
       "      <td>-0.043615</td>\n",
       "      <td>-0.024837</td>\n",
       "      <td>0.020356</td>\n",
       "      <td>-0.008211</td>\n",
       "      <td>...</td>\n",
       "      <td>-0.033937</td>\n",
       "      <td>-0.026098</td>\n",
       "      <td>-0.016933</td>\n",
       "      <td>-0.015725</td>\n",
       "      <td>-0.023623</td>\n",
       "      <td>-0.026652</td>\n",
       "      <td>-0.020638</td>\n",
       "      <td>-0.017696</td>\n",
       "      <td>0.044185</td>\n",
       "      <td>-0.175949</td>\n",
       "    </tr>\n",
       "    <tr>\n",
       "      <th>A4</th>\n",
       "      <td>-0.048200</td>\n",
       "      <td>0.000912</td>\n",
       "      <td>0.050227</td>\n",
       "      <td>0.028051</td>\n",
       "      <td>0.018179</td>\n",
       "      <td>0.048209</td>\n",
       "      <td>-0.038234</td>\n",
       "      <td>-0.010775</td>\n",
       "      <td>0.015644</td>\n",
       "      <td>-0.010030</td>\n",
       "      <td>...</td>\n",
       "      <td>-0.031971</td>\n",
       "      <td>-0.023306</td>\n",
       "      <td>-0.009974</td>\n",
       "      <td>-0.013591</td>\n",
       "      <td>-0.025071</td>\n",
       "      <td>-0.023906</td>\n",
       "      <td>-0.018808</td>\n",
       "      <td>-0.016197</td>\n",
       "      <td>0.046085</td>\n",
       "      <td>-0.170081</td>\n",
       "    </tr>\n",
       "    <tr>\n",
       "      <th>Flight Stops</th>\n",
       "      <td>-0.009328</td>\n",
       "      <td>0.285496</td>\n",
       "      <td>0.004030</td>\n",
       "      <td>-0.009809</td>\n",
       "      <td>-0.007153</td>\n",
       "      <td>-0.008393</td>\n",
       "      <td>-0.000439</td>\n",
       "      <td>-0.005067</td>\n",
       "      <td>-0.021273</td>\n",
       "      <td>-0.001943</td>\n",
       "      <td>...</td>\n",
       "      <td>0.002207</td>\n",
       "      <td>0.005735</td>\n",
       "      <td>0.005274</td>\n",
       "      <td>0.003335</td>\n",
       "      <td>0.006885</td>\n",
       "      <td>0.005120</td>\n",
       "      <td>0.001463</td>\n",
       "      <td>0.008939</td>\n",
       "      <td>-0.008949</td>\n",
       "      <td>-0.281276</td>\n",
       "    </tr>\n",
       "    <tr>\n",
       "      <th>SP1</th>\n",
       "      <td>0.049905</td>\n",
       "      <td>-0.021751</td>\n",
       "      <td>0.066584</td>\n",
       "      <td>-0.102792</td>\n",
       "      <td>-0.021116</td>\n",
       "      <td>0.002499</td>\n",
       "      <td>0.093261</td>\n",
       "      <td>-0.041688</td>\n",
       "      <td>-0.071234</td>\n",
       "      <td>-0.049235</td>\n",
       "      <td>...</td>\n",
       "      <td>0.079273</td>\n",
       "      <td>0.035387</td>\n",
       "      <td>0.009208</td>\n",
       "      <td>-0.006535</td>\n",
       "      <td>-0.028439</td>\n",
       "      <td>0.011034</td>\n",
       "      <td>-0.007963</td>\n",
       "      <td>-0.064555</td>\n",
       "      <td>0.039167</td>\n",
       "      <td>-0.050087</td>\n",
       "    </tr>\n",
       "    <tr>\n",
       "      <th>SP2</th>\n",
       "      <td>0.053344</td>\n",
       "      <td>-0.024994</td>\n",
       "      <td>0.097099</td>\n",
       "      <td>0.001411</td>\n",
       "      <td>0.016237</td>\n",
       "      <td>-0.003123</td>\n",
       "      <td>0.150965</td>\n",
       "      <td>-0.126151</td>\n",
       "      <td>-0.163269</td>\n",
       "      <td>-0.085778</td>\n",
       "      <td>...</td>\n",
       "      <td>0.220585</td>\n",
       "      <td>0.125898</td>\n",
       "      <td>0.129632</td>\n",
       "      <td>0.114182</td>\n",
       "      <td>0.078611</td>\n",
       "      <td>0.067579</td>\n",
       "      <td>0.067876</td>\n",
       "      <td>0.059836</td>\n",
       "      <td>0.061049</td>\n",
       "      <td>-0.087354</td>\n",
       "    </tr>\n",
       "    <tr>\n",
       "      <th>SP3</th>\n",
       "      <td>0.021223</td>\n",
       "      <td>-0.009702</td>\n",
       "      <td>0.065517</td>\n",
       "      <td>-0.007448</td>\n",
       "      <td>0.085127</td>\n",
       "      <td>0.022494</td>\n",
       "      <td>0.187220</td>\n",
       "      <td>-0.168957</td>\n",
       "      <td>-0.174964</td>\n",
       "      <td>-0.127611</td>\n",
       "      <td>...</td>\n",
       "      <td>0.151158</td>\n",
       "      <td>0.121951</td>\n",
       "      <td>0.109713</td>\n",
       "      <td>0.138067</td>\n",
       "      <td>0.105757</td>\n",
       "      <td>0.060763</td>\n",
       "      <td>0.071385</td>\n",
       "      <td>0.081113</td>\n",
       "      <td>0.083701</td>\n",
       "      <td>-0.025421</td>\n",
       "    </tr>\n",
       "    <tr>\n",
       "      <th>SP4</th>\n",
       "      <td>0.039814</td>\n",
       "      <td>-0.007094</td>\n",
       "      <td>0.021065</td>\n",
       "      <td>0.104820</td>\n",
       "      <td>0.042632</td>\n",
       "      <td>0.016570</td>\n",
       "      <td>0.183102</td>\n",
       "      <td>-0.135615</td>\n",
       "      <td>-0.228430</td>\n",
       "      <td>-0.136268</td>\n",
       "      <td>...</td>\n",
       "      <td>0.120132</td>\n",
       "      <td>0.085946</td>\n",
       "      <td>0.087325</td>\n",
       "      <td>0.060490</td>\n",
       "      <td>0.049483</td>\n",
       "      <td>0.071859</td>\n",
       "      <td>0.027001</td>\n",
       "      <td>0.032814</td>\n",
       "      <td>0.096696</td>\n",
       "      <td>-0.050862</td>\n",
       "    </tr>\n",
       "    <tr>\n",
       "      <th>SP5</th>\n",
       "      <td>0.051860</td>\n",
       "      <td>-0.007787</td>\n",
       "      <td>0.116592</td>\n",
       "      <td>0.041502</td>\n",
       "      <td>0.100788</td>\n",
       "      <td>0.019835</td>\n",
       "      <td>0.250958</td>\n",
       "      <td>-0.209620</td>\n",
       "      <td>-0.213741</td>\n",
       "      <td>-0.155934</td>\n",
       "      <td>...</td>\n",
       "      <td>0.213100</td>\n",
       "      <td>0.158768</td>\n",
       "      <td>0.134397</td>\n",
       "      <td>0.097694</td>\n",
       "      <td>0.072378</td>\n",
       "      <td>0.063977</td>\n",
       "      <td>0.046321</td>\n",
       "      <td>0.035459</td>\n",
       "      <td>0.133578</td>\n",
       "      <td>-0.005381</td>\n",
       "    </tr>\n",
       "    <tr>\n",
       "      <th>SP6</th>\n",
       "      <td>0.029667</td>\n",
       "      <td>-0.011682</td>\n",
       "      <td>0.154831</td>\n",
       "      <td>0.158114</td>\n",
       "      <td>0.130772</td>\n",
       "      <td>0.035797</td>\n",
       "      <td>0.212169</td>\n",
       "      <td>-0.238610</td>\n",
       "      <td>-0.262903</td>\n",
       "      <td>-0.172207</td>\n",
       "      <td>...</td>\n",
       "      <td>0.285608</td>\n",
       "      <td>0.231022</td>\n",
       "      <td>0.200687</td>\n",
       "      <td>0.139360</td>\n",
       "      <td>0.104674</td>\n",
       "      <td>0.092523</td>\n",
       "      <td>0.055183</td>\n",
       "      <td>0.054414</td>\n",
       "      <td>0.198904</td>\n",
       "      <td>-0.060124</td>\n",
       "    </tr>\n",
       "    <tr>\n",
       "      <th>SP7</th>\n",
       "      <td>0.021504</td>\n",
       "      <td>-0.026290</td>\n",
       "      <td>0.089686</td>\n",
       "      <td>0.135698</td>\n",
       "      <td>0.126983</td>\n",
       "      <td>0.070640</td>\n",
       "      <td>0.204892</td>\n",
       "      <td>-0.215763</td>\n",
       "      <td>-0.274815</td>\n",
       "      <td>-0.188629</td>\n",
       "      <td>...</td>\n",
       "      <td>0.301538</td>\n",
       "      <td>0.262582</td>\n",
       "      <td>0.215389</td>\n",
       "      <td>0.197954</td>\n",
       "      <td>0.189707</td>\n",
       "      <td>0.145332</td>\n",
       "      <td>0.087369</td>\n",
       "      <td>0.079831</td>\n",
       "      <td>0.232705</td>\n",
       "      <td>-0.113212</td>\n",
       "    </tr>\n",
       "    <tr>\n",
       "      <th>SP8</th>\n",
       "      <td>0.032390</td>\n",
       "      <td>-0.008659</td>\n",
       "      <td>0.135790</td>\n",
       "      <td>0.111846</td>\n",
       "      <td>0.081606</td>\n",
       "      <td>0.010949</td>\n",
       "      <td>0.167919</td>\n",
       "      <td>-0.189000</td>\n",
       "      <td>-0.244576</td>\n",
       "      <td>-0.131213</td>\n",
       "      <td>...</td>\n",
       "      <td>0.336329</td>\n",
       "      <td>0.284140</td>\n",
       "      <td>0.281219</td>\n",
       "      <td>0.223089</td>\n",
       "      <td>0.176392</td>\n",
       "      <td>0.203124</td>\n",
       "      <td>0.164566</td>\n",
       "      <td>0.130155</td>\n",
       "      <td>0.196841</td>\n",
       "      <td>-0.075516</td>\n",
       "    </tr>\n",
       "    <tr>\n",
       "      <th>SP9</th>\n",
       "      <td>0.041891</td>\n",
       "      <td>-0.007317</td>\n",
       "      <td>0.094379</td>\n",
       "      <td>0.103615</td>\n",
       "      <td>0.094870</td>\n",
       "      <td>0.080127</td>\n",
       "      <td>0.193982</td>\n",
       "      <td>-0.246697</td>\n",
       "      <td>-0.222009</td>\n",
       "      <td>-0.167847</td>\n",
       "      <td>...</td>\n",
       "      <td>0.471780</td>\n",
       "      <td>0.391787</td>\n",
       "      <td>0.322509</td>\n",
       "      <td>0.329007</td>\n",
       "      <td>0.227890</td>\n",
       "      <td>0.173109</td>\n",
       "      <td>0.129827</td>\n",
       "      <td>0.108702</td>\n",
       "      <td>0.198674</td>\n",
       "      <td>-0.102413</td>\n",
       "    </tr>\n",
       "    <tr>\n",
       "      <th>SP10</th>\n",
       "      <td>0.057614</td>\n",
       "      <td>-0.004056</td>\n",
       "      <td>0.105910</td>\n",
       "      <td>0.107468</td>\n",
       "      <td>0.062317</td>\n",
       "      <td>0.030242</td>\n",
       "      <td>0.141704</td>\n",
       "      <td>-0.182659</td>\n",
       "      <td>-0.158077</td>\n",
       "      <td>-0.106769</td>\n",
       "      <td>...</td>\n",
       "      <td>0.443105</td>\n",
       "      <td>0.375486</td>\n",
       "      <td>0.357725</td>\n",
       "      <td>0.308256</td>\n",
       "      <td>0.262261</td>\n",
       "      <td>0.224734</td>\n",
       "      <td>0.155861</td>\n",
       "      <td>0.098531</td>\n",
       "      <td>0.166119</td>\n",
       "      <td>-0.097780</td>\n",
       "    </tr>\n",
       "    <tr>\n",
       "      <th>SP11</th>\n",
       "      <td>0.081286</td>\n",
       "      <td>-0.000959</td>\n",
       "      <td>0.159287</td>\n",
       "      <td>0.126938</td>\n",
       "      <td>0.019804</td>\n",
       "      <td>0.040743</td>\n",
       "      <td>0.131799</td>\n",
       "      <td>-0.203424</td>\n",
       "      <td>-0.175962</td>\n",
       "      <td>-0.111199</td>\n",
       "      <td>...</td>\n",
       "      <td>0.573697</td>\n",
       "      <td>0.487615</td>\n",
       "      <td>0.433213</td>\n",
       "      <td>0.336668</td>\n",
       "      <td>0.335406</td>\n",
       "      <td>0.252523</td>\n",
       "      <td>0.207788</td>\n",
       "      <td>0.196263</td>\n",
       "      <td>0.170960</td>\n",
       "      <td>-0.102915</td>\n",
       "    </tr>\n",
       "    <tr>\n",
       "      <th>SP12</th>\n",
       "      <td>0.074190</td>\n",
       "      <td>0.004066</td>\n",
       "      <td>0.175529</td>\n",
       "      <td>0.082230</td>\n",
       "      <td>0.071538</td>\n",
       "      <td>0.022224</td>\n",
       "      <td>0.107147</td>\n",
       "      <td>-0.225412</td>\n",
       "      <td>-0.190612</td>\n",
       "      <td>-0.075393</td>\n",
       "      <td>...</td>\n",
       "      <td>1.000000</td>\n",
       "      <td>0.665254</td>\n",
       "      <td>0.543525</td>\n",
       "      <td>0.479540</td>\n",
       "      <td>0.426105</td>\n",
       "      <td>0.372400</td>\n",
       "      <td>0.274156</td>\n",
       "      <td>0.229178</td>\n",
       "      <td>0.156734</td>\n",
       "      <td>-0.138614</td>\n",
       "    </tr>\n",
       "    <tr>\n",
       "      <th>SP13</th>\n",
       "      <td>0.037023</td>\n",
       "      <td>0.002780</td>\n",
       "      <td>0.150281</td>\n",
       "      <td>0.044297</td>\n",
       "      <td>0.085515</td>\n",
       "      <td>0.069023</td>\n",
       "      <td>0.106400</td>\n",
       "      <td>-0.193290</td>\n",
       "      <td>-0.176392</td>\n",
       "      <td>-0.099471</td>\n",
       "      <td>...</td>\n",
       "      <td>0.665254</td>\n",
       "      <td>1.000000</td>\n",
       "      <td>0.650679</td>\n",
       "      <td>0.578944</td>\n",
       "      <td>0.542622</td>\n",
       "      <td>0.400389</td>\n",
       "      <td>0.305402</td>\n",
       "      <td>0.258663</td>\n",
       "      <td>0.127066</td>\n",
       "      <td>-0.122495</td>\n",
       "    </tr>\n",
       "    <tr>\n",
       "      <th>SP14</th>\n",
       "      <td>0.019639</td>\n",
       "      <td>-0.009503</td>\n",
       "      <td>0.153480</td>\n",
       "      <td>0.030587</td>\n",
       "      <td>0.037153</td>\n",
       "      <td>0.052132</td>\n",
       "      <td>0.072086</td>\n",
       "      <td>-0.139209</td>\n",
       "      <td>-0.148539</td>\n",
       "      <td>-0.081430</td>\n",
       "      <td>...</td>\n",
       "      <td>0.543525</td>\n",
       "      <td>0.650679</td>\n",
       "      <td>1.000000</td>\n",
       "      <td>0.701571</td>\n",
       "      <td>0.601992</td>\n",
       "      <td>0.503033</td>\n",
       "      <td>0.354055</td>\n",
       "      <td>0.278565</td>\n",
       "      <td>0.114575</td>\n",
       "      <td>-0.132634</td>\n",
       "    </tr>\n",
       "    <tr>\n",
       "      <th>SP15</th>\n",
       "      <td>0.030578</td>\n",
       "      <td>-0.004484</td>\n",
       "      <td>0.124662</td>\n",
       "      <td>0.019288</td>\n",
       "      <td>0.032837</td>\n",
       "      <td>0.022209</td>\n",
       "      <td>0.054821</td>\n",
       "      <td>-0.131319</td>\n",
       "      <td>-0.125098</td>\n",
       "      <td>-0.042400</td>\n",
       "      <td>...</td>\n",
       "      <td>0.479540</td>\n",
       "      <td>0.578944</td>\n",
       "      <td>0.701571</td>\n",
       "      <td>1.000000</td>\n",
       "      <td>0.627978</td>\n",
       "      <td>0.427923</td>\n",
       "      <td>0.349956</td>\n",
       "      <td>0.308019</td>\n",
       "      <td>0.096788</td>\n",
       "      <td>-0.118323</td>\n",
       "    </tr>\n",
       "    <tr>\n",
       "      <th>SP16</th>\n",
       "      <td>0.022351</td>\n",
       "      <td>-0.005238</td>\n",
       "      <td>0.097638</td>\n",
       "      <td>-0.022636</td>\n",
       "      <td>0.015043</td>\n",
       "      <td>0.002062</td>\n",
       "      <td>0.031253</td>\n",
       "      <td>-0.126655</td>\n",
       "      <td>-0.064412</td>\n",
       "      <td>-0.003675</td>\n",
       "      <td>...</td>\n",
       "      <td>0.426105</td>\n",
       "      <td>0.542622</td>\n",
       "      <td>0.601992</td>\n",
       "      <td>0.627978</td>\n",
       "      <td>1.000000</td>\n",
       "      <td>0.622616</td>\n",
       "      <td>0.498252</td>\n",
       "      <td>0.418494</td>\n",
       "      <td>0.079199</td>\n",
       "      <td>-0.106912</td>\n",
       "    </tr>\n",
       "    <tr>\n",
       "      <th>SP17</th>\n",
       "      <td>-0.021826</td>\n",
       "      <td>-0.001252</td>\n",
       "      <td>0.058565</td>\n",
       "      <td>-0.023599</td>\n",
       "      <td>0.027812</td>\n",
       "      <td>-0.024407</td>\n",
       "      <td>0.003259</td>\n",
       "      <td>-0.103127</td>\n",
       "      <td>-0.053700</td>\n",
       "      <td>-0.022684</td>\n",
       "      <td>...</td>\n",
       "      <td>0.372400</td>\n",
       "      <td>0.400389</td>\n",
       "      <td>0.503033</td>\n",
       "      <td>0.427923</td>\n",
       "      <td>0.622616</td>\n",
       "      <td>1.000000</td>\n",
       "      <td>0.597392</td>\n",
       "      <td>0.445926</td>\n",
       "      <td>0.065036</td>\n",
       "      <td>-0.097678</td>\n",
       "    </tr>\n",
       "    <tr>\n",
       "      <th>SP18</th>\n",
       "      <td>0.009337</td>\n",
       "      <td>-0.001818</td>\n",
       "      <td>0.056443</td>\n",
       "      <td>0.030483</td>\n",
       "      <td>0.019203</td>\n",
       "      <td>-0.017956</td>\n",
       "      <td>0.020684</td>\n",
       "      <td>-0.082933</td>\n",
       "      <td>-0.073259</td>\n",
       "      <td>-0.034825</td>\n",
       "      <td>...</td>\n",
       "      <td>0.274156</td>\n",
       "      <td>0.305402</td>\n",
       "      <td>0.354055</td>\n",
       "      <td>0.349956</td>\n",
       "      <td>0.498252</td>\n",
       "      <td>0.597392</td>\n",
       "      <td>1.000000</td>\n",
       "      <td>0.682711</td>\n",
       "      <td>0.050484</td>\n",
       "      <td>-0.108170</td>\n",
       "    </tr>\n",
       "    <tr>\n",
       "      <th>SP19</th>\n",
       "      <td>0.042957</td>\n",
       "      <td>-0.004844</td>\n",
       "      <td>0.019979</td>\n",
       "      <td>0.055045</td>\n",
       "      <td>0.033471</td>\n",
       "      <td>0.033316</td>\n",
       "      <td>0.019924</td>\n",
       "      <td>-0.062154</td>\n",
       "      <td>-0.136190</td>\n",
       "      <td>-0.058567</td>\n",
       "      <td>...</td>\n",
       "      <td>0.229178</td>\n",
       "      <td>0.258663</td>\n",
       "      <td>0.278565</td>\n",
       "      <td>0.308019</td>\n",
       "      <td>0.418494</td>\n",
       "      <td>0.445926</td>\n",
       "      <td>0.682711</td>\n",
       "      <td>1.000000</td>\n",
       "      <td>0.040873</td>\n",
       "      <td>-0.099984</td>\n",
       "    </tr>\n",
       "    <tr>\n",
       "      <th>Cancellation Rules</th>\n",
       "      <td>0.164479</td>\n",
       "      <td>-0.026267</td>\n",
       "      <td>0.156732</td>\n",
       "      <td>0.173843</td>\n",
       "      <td>0.110939</td>\n",
       "      <td>0.077190</td>\n",
       "      <td>0.061920</td>\n",
       "      <td>-0.374077</td>\n",
       "      <td>-0.307000</td>\n",
       "      <td>-0.183995</td>\n",
       "      <td>...</td>\n",
       "      <td>0.156734</td>\n",
       "      <td>0.127066</td>\n",
       "      <td>0.114575</td>\n",
       "      <td>0.096788</td>\n",
       "      <td>0.079199</td>\n",
       "      <td>0.065036</td>\n",
       "      <td>0.050484</td>\n",
       "      <td>0.040873</td>\n",
       "      <td>1.000000</td>\n",
       "      <td>-0.269586</td>\n",
       "    </tr>\n",
       "    <tr>\n",
       "      <th>Per Person Price</th>\n",
       "      <td>-0.049182</td>\n",
       "      <td>-0.016043</td>\n",
       "      <td>-0.116081</td>\n",
       "      <td>-0.129723</td>\n",
       "      <td>-0.092898</td>\n",
       "      <td>-0.153845</td>\n",
       "      <td>0.124502</td>\n",
       "      <td>0.245148</td>\n",
       "      <td>0.286312</td>\n",
       "      <td>0.243316</td>\n",
       "      <td>...</td>\n",
       "      <td>-0.138614</td>\n",
       "      <td>-0.122495</td>\n",
       "      <td>-0.132634</td>\n",
       "      <td>-0.118323</td>\n",
       "      <td>-0.106912</td>\n",
       "      <td>-0.097678</td>\n",
       "      <td>-0.108170</td>\n",
       "      <td>-0.099984</td>\n",
       "      <td>-0.269586</td>\n",
       "      <td>1.000000</td>\n",
       "    </tr>\n",
       "  </tbody>\n",
       "</table>\n",
       "<p>40 rows × 40 columns</p>\n",
       "</div>"
      ],
      "text/plain": [
       "                    Package Name  Package Type        D2        D3        D4  \\\n",
       "Package Name            1.000000     -0.011703  0.042857  0.075756 -0.009267   \n",
       "Package Type           -0.011703      1.000000 -0.006065 -0.014939 -0.027343   \n",
       "D2                      0.042857     -0.006065  1.000000 -0.085245 -0.097042   \n",
       "D3                      0.075756     -0.014939 -0.085245  1.000000  0.059658   \n",
       "D4                     -0.009267     -0.027343 -0.097042  0.059658  1.000000   \n",
       "D5                      0.025082     -0.028222 -0.027974  0.086444  0.245672   \n",
       "N1                     -0.021486     -0.009949  0.109044  0.116597  0.198120   \n",
       "N2                     -0.094357      0.010939 -0.225015 -0.233686 -0.179799   \n",
       "N3                     -0.099504      0.027797 -0.093592 -0.419672 -0.306813   \n",
       "N4                     -0.048550      0.025963 -0.003841 -0.257069 -0.419244   \n",
       "PC4                    -0.009267     -0.027343 -0.097042  0.059658  1.000000   \n",
       "PC5                     0.025082     -0.028222 -0.027974  0.086444  0.245672   \n",
       "Hotel Details           0.026975     -0.015121  0.010245 -0.028232  0.059850   \n",
       "Start City              0.020184     -0.002792  0.020560  0.020382  0.022786   \n",
       "A1                     -0.004896     -0.002398 -0.015334  0.017049 -0.010549   \n",
       "A2                     -0.016626      0.000185  0.051565  0.006125  0.004810   \n",
       "A3                     -0.043160     -0.000445  0.034091  0.019042  0.026821   \n",
       "A4                     -0.048200      0.000912  0.050227  0.028051  0.018179   \n",
       "Flight Stops           -0.009328      0.285496  0.004030 -0.009809 -0.007153   \n",
       "SP1                     0.049905     -0.021751  0.066584 -0.102792 -0.021116   \n",
       "SP2                     0.053344     -0.024994  0.097099  0.001411  0.016237   \n",
       "SP3                     0.021223     -0.009702  0.065517 -0.007448  0.085127   \n",
       "SP4                     0.039814     -0.007094  0.021065  0.104820  0.042632   \n",
       "SP5                     0.051860     -0.007787  0.116592  0.041502  0.100788   \n",
       "SP6                     0.029667     -0.011682  0.154831  0.158114  0.130772   \n",
       "SP7                     0.021504     -0.026290  0.089686  0.135698  0.126983   \n",
       "SP8                     0.032390     -0.008659  0.135790  0.111846  0.081606   \n",
       "SP9                     0.041891     -0.007317  0.094379  0.103615  0.094870   \n",
       "SP10                    0.057614     -0.004056  0.105910  0.107468  0.062317   \n",
       "SP11                    0.081286     -0.000959  0.159287  0.126938  0.019804   \n",
       "SP12                    0.074190      0.004066  0.175529  0.082230  0.071538   \n",
       "SP13                    0.037023      0.002780  0.150281  0.044297  0.085515   \n",
       "SP14                    0.019639     -0.009503  0.153480  0.030587  0.037153   \n",
       "SP15                    0.030578     -0.004484  0.124662  0.019288  0.032837   \n",
       "SP16                    0.022351     -0.005238  0.097638 -0.022636  0.015043   \n",
       "SP17                   -0.021826     -0.001252  0.058565 -0.023599  0.027812   \n",
       "SP18                    0.009337     -0.001818  0.056443  0.030483  0.019203   \n",
       "SP19                    0.042957     -0.004844  0.019979  0.055045  0.033471   \n",
       "Cancellation Rules      0.164479     -0.026267  0.156732  0.173843  0.110939   \n",
       "Per Person Price       -0.049182     -0.016043 -0.116081 -0.129723 -0.092898   \n",
       "\n",
       "                          D5        N1        N2        N3        N4  ...  \\\n",
       "Package Name        0.025082 -0.021486 -0.094357 -0.099504 -0.048550  ...   \n",
       "Package Type       -0.028222 -0.009949  0.010939  0.027797  0.025963  ...   \n",
       "D2                 -0.027974  0.109044 -0.225015 -0.093592 -0.003841  ...   \n",
       "D3                  0.086444  0.116597 -0.233686 -0.419672 -0.257069  ...   \n",
       "D4                  0.245672  0.198120 -0.179799 -0.306813 -0.419244  ...   \n",
       "D5                  1.000000  0.150428 -0.086082 -0.168609 -0.391532  ...   \n",
       "N1                  0.150428  1.000000 -0.402293 -0.400065 -0.311066  ...   \n",
       "N2                 -0.086082 -0.402293  1.000000  0.317806  0.132431  ...   \n",
       "N3                 -0.168609 -0.400065  0.317806  1.000000  0.420612  ...   \n",
       "N4                 -0.391532 -0.311066  0.132431  0.420612  1.000000  ...   \n",
       "PC4                 0.245672  0.198120 -0.179799 -0.306813 -0.419244  ...   \n",
       "PC5                 1.000000  0.150428 -0.086082 -0.168609 -0.391532  ...   \n",
       "Hotel Details       0.017788  0.005596 -0.024314  0.041304  0.020711  ...   \n",
       "Start City          0.021089 -0.010329 -0.041886 -0.052873 -0.041612  ...   \n",
       "A1                  0.008008 -0.024554  0.017408  0.004918  0.002127  ...   \n",
       "A2                  0.021051 -0.082542  0.003199  0.017249  0.006113  ...   \n",
       "A3                  0.031160 -0.043615 -0.024837  0.020356 -0.008211  ...   \n",
       "A4                  0.048209 -0.038234 -0.010775  0.015644 -0.010030  ...   \n",
       "Flight Stops       -0.008393 -0.000439 -0.005067 -0.021273 -0.001943  ...   \n",
       "SP1                 0.002499  0.093261 -0.041688 -0.071234 -0.049235  ...   \n",
       "SP2                -0.003123  0.150965 -0.126151 -0.163269 -0.085778  ...   \n",
       "SP3                 0.022494  0.187220 -0.168957 -0.174964 -0.127611  ...   \n",
       "SP4                 0.016570  0.183102 -0.135615 -0.228430 -0.136268  ...   \n",
       "SP5                 0.019835  0.250958 -0.209620 -0.213741 -0.155934  ...   \n",
       "SP6                 0.035797  0.212169 -0.238610 -0.262903 -0.172207  ...   \n",
       "SP7                 0.070640  0.204892 -0.215763 -0.274815 -0.188629  ...   \n",
       "SP8                 0.010949  0.167919 -0.189000 -0.244576 -0.131213  ...   \n",
       "SP9                 0.080127  0.193982 -0.246697 -0.222009 -0.167847  ...   \n",
       "SP10                0.030242  0.141704 -0.182659 -0.158077 -0.106769  ...   \n",
       "SP11                0.040743  0.131799 -0.203424 -0.175962 -0.111199  ...   \n",
       "SP12                0.022224  0.107147 -0.225412 -0.190612 -0.075393  ...   \n",
       "SP13                0.069023  0.106400 -0.193290 -0.176392 -0.099471  ...   \n",
       "SP14                0.052132  0.072086 -0.139209 -0.148539 -0.081430  ...   \n",
       "SP15                0.022209  0.054821 -0.131319 -0.125098 -0.042400  ...   \n",
       "SP16                0.002062  0.031253 -0.126655 -0.064412 -0.003675  ...   \n",
       "SP17               -0.024407  0.003259 -0.103127 -0.053700 -0.022684  ...   \n",
       "SP18               -0.017956  0.020684 -0.082933 -0.073259 -0.034825  ...   \n",
       "SP19                0.033316  0.019924 -0.062154 -0.136190 -0.058567  ...   \n",
       "Cancellation Rules  0.077190  0.061920 -0.374077 -0.307000 -0.183995  ...   \n",
       "Per Person Price   -0.153845  0.124502  0.245148  0.286312  0.243316  ...   \n",
       "\n",
       "                        SP12      SP13      SP14      SP15      SP16  \\\n",
       "Package Name        0.074190  0.037023  0.019639  0.030578  0.022351   \n",
       "Package Type        0.004066  0.002780 -0.009503 -0.004484 -0.005238   \n",
       "D2                  0.175529  0.150281  0.153480  0.124662  0.097638   \n",
       "D3                  0.082230  0.044297  0.030587  0.019288 -0.022636   \n",
       "D4                  0.071538  0.085515  0.037153  0.032837  0.015043   \n",
       "D5                  0.022224  0.069023  0.052132  0.022209  0.002062   \n",
       "N1                  0.107147  0.106400  0.072086  0.054821  0.031253   \n",
       "N2                 -0.225412 -0.193290 -0.139209 -0.131319 -0.126655   \n",
       "N3                 -0.190612 -0.176392 -0.148539 -0.125098 -0.064412   \n",
       "N4                 -0.075393 -0.099471 -0.081430 -0.042400 -0.003675   \n",
       "PC4                 0.071538  0.085515  0.037153  0.032837  0.015043   \n",
       "PC5                 0.022224  0.069023  0.052132  0.022209  0.002062   \n",
       "Hotel Details      -0.009627 -0.042867 -0.048912 -0.047517 -0.058329   \n",
       "Start City          0.038210  0.033003  0.024994  0.016559  0.018818   \n",
       "A1                 -0.016384 -0.010868 -0.003487  0.007624 -0.015902   \n",
       "A2                 -0.001083  0.002332  0.020186  0.007315 -0.008324   \n",
       "A3                 -0.033937 -0.026098 -0.016933 -0.015725 -0.023623   \n",
       "A4                 -0.031971 -0.023306 -0.009974 -0.013591 -0.025071   \n",
       "Flight Stops        0.002207  0.005735  0.005274  0.003335  0.006885   \n",
       "SP1                 0.079273  0.035387  0.009208 -0.006535 -0.028439   \n",
       "SP2                 0.220585  0.125898  0.129632  0.114182  0.078611   \n",
       "SP3                 0.151158  0.121951  0.109713  0.138067  0.105757   \n",
       "SP4                 0.120132  0.085946  0.087325  0.060490  0.049483   \n",
       "SP5                 0.213100  0.158768  0.134397  0.097694  0.072378   \n",
       "SP6                 0.285608  0.231022  0.200687  0.139360  0.104674   \n",
       "SP7                 0.301538  0.262582  0.215389  0.197954  0.189707   \n",
       "SP8                 0.336329  0.284140  0.281219  0.223089  0.176392   \n",
       "SP9                 0.471780  0.391787  0.322509  0.329007  0.227890   \n",
       "SP10                0.443105  0.375486  0.357725  0.308256  0.262261   \n",
       "SP11                0.573697  0.487615  0.433213  0.336668  0.335406   \n",
       "SP12                1.000000  0.665254  0.543525  0.479540  0.426105   \n",
       "SP13                0.665254  1.000000  0.650679  0.578944  0.542622   \n",
       "SP14                0.543525  0.650679  1.000000  0.701571  0.601992   \n",
       "SP15                0.479540  0.578944  0.701571  1.000000  0.627978   \n",
       "SP16                0.426105  0.542622  0.601992  0.627978  1.000000   \n",
       "SP17                0.372400  0.400389  0.503033  0.427923  0.622616   \n",
       "SP18                0.274156  0.305402  0.354055  0.349956  0.498252   \n",
       "SP19                0.229178  0.258663  0.278565  0.308019  0.418494   \n",
       "Cancellation Rules  0.156734  0.127066  0.114575  0.096788  0.079199   \n",
       "Per Person Price   -0.138614 -0.122495 -0.132634 -0.118323 -0.106912   \n",
       "\n",
       "                        SP17      SP18      SP19  Cancellation Rules  \\\n",
       "Package Name       -0.021826  0.009337  0.042957            0.164479   \n",
       "Package Type       -0.001252 -0.001818 -0.004844           -0.026267   \n",
       "D2                  0.058565  0.056443  0.019979            0.156732   \n",
       "D3                 -0.023599  0.030483  0.055045            0.173843   \n",
       "D4                  0.027812  0.019203  0.033471            0.110939   \n",
       "D5                 -0.024407 -0.017956  0.033316            0.077190   \n",
       "N1                  0.003259  0.020684  0.019924            0.061920   \n",
       "N2                 -0.103127 -0.082933 -0.062154           -0.374077   \n",
       "N3                 -0.053700 -0.073259 -0.136190           -0.307000   \n",
       "N4                 -0.022684 -0.034825 -0.058567           -0.183995   \n",
       "PC4                 0.027812  0.019203  0.033471            0.110939   \n",
       "PC5                -0.024407 -0.017956  0.033316            0.077190   \n",
       "Hotel Details      -0.050100 -0.037553 -0.042388           -0.027258   \n",
       "Start City          0.019018  0.010311  0.027659            0.026966   \n",
       "A1                 -0.014433  0.001871 -0.013062            0.011036   \n",
       "A2                 -0.015078  0.001621 -0.006253            0.019062   \n",
       "A3                 -0.026652 -0.020638 -0.017696            0.044185   \n",
       "A4                 -0.023906 -0.018808 -0.016197            0.046085   \n",
       "Flight Stops        0.005120  0.001463  0.008939           -0.008949   \n",
       "SP1                 0.011034 -0.007963 -0.064555            0.039167   \n",
       "SP2                 0.067579  0.067876  0.059836            0.061049   \n",
       "SP3                 0.060763  0.071385  0.081113            0.083701   \n",
       "SP4                 0.071859  0.027001  0.032814            0.096696   \n",
       "SP5                 0.063977  0.046321  0.035459            0.133578   \n",
       "SP6                 0.092523  0.055183  0.054414            0.198904   \n",
       "SP7                 0.145332  0.087369  0.079831            0.232705   \n",
       "SP8                 0.203124  0.164566  0.130155            0.196841   \n",
       "SP9                 0.173109  0.129827  0.108702            0.198674   \n",
       "SP10                0.224734  0.155861  0.098531            0.166119   \n",
       "SP11                0.252523  0.207788  0.196263            0.170960   \n",
       "SP12                0.372400  0.274156  0.229178            0.156734   \n",
       "SP13                0.400389  0.305402  0.258663            0.127066   \n",
       "SP14                0.503033  0.354055  0.278565            0.114575   \n",
       "SP15                0.427923  0.349956  0.308019            0.096788   \n",
       "SP16                0.622616  0.498252  0.418494            0.079199   \n",
       "SP17                1.000000  0.597392  0.445926            0.065036   \n",
       "SP18                0.597392  1.000000  0.682711            0.050484   \n",
       "SP19                0.445926  0.682711  1.000000            0.040873   \n",
       "Cancellation Rules  0.065036  0.050484  0.040873            1.000000   \n",
       "Per Person Price   -0.097678 -0.108170 -0.099984           -0.269586   \n",
       "\n",
       "                    Per Person Price  \n",
       "Package Name               -0.049182  \n",
       "Package Type               -0.016043  \n",
       "D2                         -0.116081  \n",
       "D3                         -0.129723  \n",
       "D4                         -0.092898  \n",
       "D5                         -0.153845  \n",
       "N1                          0.124502  \n",
       "N2                          0.245148  \n",
       "N3                          0.286312  \n",
       "N4                          0.243316  \n",
       "PC4                        -0.092898  \n",
       "PC5                        -0.153845  \n",
       "Hotel Details               0.068165  \n",
       "Start City                 -0.047014  \n",
       "A1                         -0.069849  \n",
       "A2                         -0.150575  \n",
       "A3                         -0.175949  \n",
       "A4                         -0.170081  \n",
       "Flight Stops               -0.281276  \n",
       "SP1                        -0.050087  \n",
       "SP2                        -0.087354  \n",
       "SP3                        -0.025421  \n",
       "SP4                        -0.050862  \n",
       "SP5                        -0.005381  \n",
       "SP6                        -0.060124  \n",
       "SP7                        -0.113212  \n",
       "SP8                        -0.075516  \n",
       "SP9                        -0.102413  \n",
       "SP10                       -0.097780  \n",
       "SP11                       -0.102915  \n",
       "SP12                       -0.138614  \n",
       "SP13                       -0.122495  \n",
       "SP14                       -0.132634  \n",
       "SP15                       -0.118323  \n",
       "SP16                       -0.106912  \n",
       "SP17                       -0.097678  \n",
       "SP18                       -0.108170  \n",
       "SP19                       -0.099984  \n",
       "Cancellation Rules         -0.269586  \n",
       "Per Person Price            1.000000  \n",
       "\n",
       "[40 rows x 40 columns]"
      ]
     },
     "execution_count": 16,
     "metadata": {},
     "output_type": "execute_result"
    }
   ],
   "source": [
    "df_Train.corr()"
   ]
  },
  {
   "cell_type": "code",
   "execution_count": 17,
   "metadata": {},
   "outputs": [],
   "source": [
    "# df_Train.drop('N2', axis=1, inplace=True)\n",
    "# df_Train.drop('N5', axis=1, inplace=True)\n",
    "# df_Train.drop('N3', axis=1, inplace=True)\n",
    "# df_Train.drop('N4', axis=1, inplace=True)\n",
    "# df_Train.drop('A4', axis=1, inplace=True)\n",
    "# df_Train.drop('SP19', axis=1, inplace=True)"
   ]
  },
  {
   "cell_type": "code",
   "execution_count": 18,
   "metadata": {},
   "outputs": [],
   "source": [
    "# df_Test.drop('N2', axis=1, inplace=True)\n",
    "# df_Test.drop('N5', axis=1, inplace=True)\n",
    "# df_Test.drop('N3', axis=1, inplace=True)\n",
    "# df_Test.drop('N4', axis=1, inplace=True)\n",
    "# df_Test.drop('A4', axis=1, inplace=True)\n",
    "# df_Test.drop('SP19', axis=1, inplace=True)"
   ]
  },
  {
   "cell_type": "code",
   "execution_count": 19,
   "metadata": {},
   "outputs": [],
   "source": [
    "# plt.figure(figsize=(16, 16))\n",
    "# sns.heatmap(df_Train.corr())"
   ]
  },
  {
   "cell_type": "code",
   "execution_count": 20,
   "metadata": {},
   "outputs": [
    {
     "name": "stdout",
     "output_type": "stream",
     "text": [
      "(21000, 40)\n",
      "(9000, 39)\n"
     ]
    }
   ],
   "source": [
    "print(df_Train.shape)\n",
    "print(df_Test.shape)"
   ]
  },
  {
   "cell_type": "code",
   "execution_count": 21,
   "metadata": {},
   "outputs": [],
   "source": [
    "X=df_Train.drop(['Per Person Price'],axis=1)\n",
    "y=df_Train[['Per Person Price']]"
   ]
  },
  {
   "cell_type": "code",
   "execution_count": 22,
   "metadata": {},
   "outputs": [],
   "source": [
    "from sklearn.model_selection import train_test_split\n",
    "X_train,X_test,y_train,y_test=train_test_split(X, y, test_size=0.176,random_state=33)"
   ]
  },
  {
   "cell_type": "code",
   "execution_count": 23,
   "metadata": {},
   "outputs": [],
   "source": [
    "import optuna\n",
    "from math import sqrt\n",
    "import lightgbm as lgb"
   ]
  },
  {
   "cell_type": "code",
   "execution_count": 24,
   "metadata": {},
   "outputs": [],
   "source": [
    "lgb_train = lgb.Dataset(X_train, y_train)\n",
    "lgb_valid = lgb.Dataset(X_test, y_test, reference=lgb_train)"
   ]
  },
  {
   "cell_type": "code",
   "execution_count": 25,
   "metadata": {},
   "outputs": [
    {
     "data": {
      "text/plain": [
       "<lightgbm.basic.Dataset at 0x1f1a9311348>"
      ]
     },
     "execution_count": 25,
     "metadata": {},
     "output_type": "execute_result"
    }
   ],
   "source": [
    "lgb_train"
   ]
  },
  {
   "cell_type": "code",
   "execution_count": 26,
   "metadata": {},
   "outputs": [],
   "source": [
    "from sklearn.metrics import mean_squared_log_error"
   ]
  },
  {
   "cell_type": "code",
   "execution_count": 27,
   "metadata": {},
   "outputs": [],
   "source": [
    "def objective(trial):    \n",
    "    params = {\n",
    "            'num_leaves': trial.suggest_int('num_leaves', 22, 712),\n",
    "            'max_bin': trial.suggest_int('max_bin', 300, 1400),\n",
    "            'objective': 'regression',\n",
    "            'metric': 'RMSE',\n",
    "            'learning_rate': trial.suggest_float('learning_rate',0.005,0.2),\n",
    "            'random_state' : 33,\n",
    "            'max_depth': trial.suggest_int('max_depth', 4, 16),\n",
    "            'min_child_weight': trial.suggest_int('min_child_weight', 1, 21),\n",
    "            'feature_fraction': trial.suggest_uniform('feature_fraction', 0.4, 1.0),\n",
    "            'bagging_fraction': trial.suggest_uniform('bagging_fraction', 0.4, 1.0),\n",
    "            'bagging_freq': trial.suggest_int('bagging_freq', 1, 9),\n",
    "            'min_child_samples': trial.suggest_int('min_child_samples', 3, 100),\n",
    "            'lambda_l1': trial.suggest_loguniform('lambda_l1', 1e-8, 1.0),\n",
    "            'lambda_l2': trial.suggest_loguniform('lambda_l2', 1e-8, 1.0),\n",
    "            'early_stopping_rounds': 10\n",
    "            }\n",
    "    \n",
    "    model = lgb.train(params, lgb_train, valid_sets=[lgb_valid], verbose_eval=100, num_boost_round=800)\n",
    "    y_pred  = model.predict(X_test)\n",
    "    score = np.sqrt(mean_squared_log_error(y_test, y_pred))\n",
    "    print(f\"RMSE = {score}\")\n",
    "    return score"
   ]
  },
  {
   "cell_type": "code",
   "execution_count": 28,
   "metadata": {},
   "outputs": [
    {
     "name": "stderr",
     "output_type": "stream",
     "text": [
      "\u001b[32m[I 2021-04-07 21:09:43,474]\u001b[0m A new study created in memory with name: no-name-3e1f92b0-1f67-423d-a476-22ea87c850cf\u001b[0m\n",
      "D:\\anaconda\\lib\\site-packages\\lightgbm\\engine.py:153: UserWarning: Found `early_stopping_rounds` in params. Will use it instead of argument\n",
      "  warnings.warn(\"Found `{}` in params. Will use it instead of argument\".format(alias))\n"
     ]
    },
    {
     "name": "stdout",
     "output_type": "stream",
     "text": [
      "Training until validation scores don't improve for 10 rounds\n",
      "[100]\tvalid_0's rmse: 6322.74\n",
      "[200]\tvalid_0's rmse: 5954.53\n",
      "[300]\tvalid_0's rmse: 5758.45\n",
      "[400]\tvalid_0's rmse: 5658.22\n",
      "[500]\tvalid_0's rmse: 5557.51\n",
      "Early stopping, best iteration is:\n",
      "[499]\tvalid_0's rmse: 5556.07\n"
     ]
    },
    {
     "name": "stderr",
     "output_type": "stream",
     "text": [
      "\u001b[32m[I 2021-04-07 21:09:45,740]\u001b[0m Trial 0 finished with value: 0.2178799568742822 and parameters: {'num_leaves': 628, 'max_bin': 620, 'learning_rate': 0.11421490648964426, 'max_depth': 11, 'min_child_weight': 1, 'feature_fraction': 0.6673604093504855, 'bagging_fraction': 0.4386015395494773, 'bagging_freq': 5, 'min_child_samples': 72, 'lambda_l1': 2.065505278803438e-06, 'lambda_l2': 0.3573911732498372}. Best is trial 0 with value: 0.2178799568742822.\u001b[0m\n"
     ]
    },
    {
     "name": "stdout",
     "output_type": "stream",
     "text": [
      "RMSE = 0.2178799568742822\n",
      "Training until validation scores don't improve for 10 rounds\n"
     ]
    },
    {
     "name": "stderr",
     "output_type": "stream",
     "text": [
      "D:\\anaconda\\lib\\site-packages\\lightgbm\\engine.py:153: UserWarning: Found `early_stopping_rounds` in params. Will use it instead of argument\n",
      "  warnings.warn(\"Found `{}` in params. Will use it instead of argument\".format(alias))\n"
     ]
    },
    {
     "name": "stdout",
     "output_type": "stream",
     "text": [
      "[100]\tvalid_0's rmse: 6086.02\n",
      "[200]\tvalid_0's rmse: 5771.25\n",
      "Early stopping, best iteration is:\n",
      "[235]\tvalid_0's rmse: 5708.32"
     ]
    },
    {
     "name": "stderr",
     "output_type": "stream",
     "text": [
      "\u001b[32m[I 2021-04-07 21:09:46,872]\u001b[0m Trial 1 finished with value: 0.22361845588277035 and parameters: {'num_leaves': 262, 'max_bin': 1279, 'learning_rate': 0.18524187777551798, 'max_depth': 15, 'min_child_weight': 1, 'feature_fraction': 0.5151535426455918, 'bagging_fraction': 0.44480325199513454, 'bagging_freq': 9, 'min_child_samples': 92, 'lambda_l1': 1.3536217706679898e-07, 'lambda_l2': 0.0003958125770379281}. Best is trial 0 with value: 0.2178799568742822.\u001b[0m\n"
     ]
    },
    {
     "name": "stdout",
     "output_type": "stream",
     "text": [
      "\n",
      "RMSE = 0.22361845588277035\n",
      "Training until validation scores don't improve for 10 rounds\n"
     ]
    },
    {
     "name": "stderr",
     "output_type": "stream",
     "text": [
      "D:\\anaconda\\lib\\site-packages\\lightgbm\\engine.py:153: UserWarning: Found `early_stopping_rounds` in params. Will use it instead of argument\n",
      "  warnings.warn(\"Found `{}` in params. Will use it instead of argument\".format(alias))\n"
     ]
    },
    {
     "name": "stdout",
     "output_type": "stream",
     "text": [
      "[100]\tvalid_0's rmse: 7008.01\n",
      "[200]\tvalid_0's rmse: 6448.98\n",
      "[300]\tvalid_0's rmse: 6224.22\n",
      "[400]\tvalid_0's rmse: 6098.23\n",
      "[500]\tvalid_0's rmse: 5987.25\n",
      "[600]\tvalid_0's rmse: 5888.07\n",
      "[700]\tvalid_0's rmse: 5824.46\n"
     ]
    },
    {
     "name": "stderr",
     "output_type": "stream",
     "text": [
      "\u001b[32m[I 2021-04-07 21:09:48,521]\u001b[0m Trial 2 finished with value: 0.2281703859181626 and parameters: {'num_leaves': 376, 'max_bin': 1096, 'learning_rate': 0.048323643381795366, 'max_depth': 5, 'min_child_weight': 9, 'feature_fraction': 0.41463397999346563, 'bagging_fraction': 0.9540341067547881, 'bagging_freq': 2, 'min_child_samples': 66, 'lambda_l1': 6.604333597201335e-07, 'lambda_l2': 5.1541016066708334e-05}. Best is trial 0 with value: 0.2178799568742822.\u001b[0m\n"
     ]
    },
    {
     "name": "stdout",
     "output_type": "stream",
     "text": [
      "[800]\tvalid_0's rmse: 5773.23\n",
      "Did not meet early stopping. Best iteration is:\n",
      "[800]\tvalid_0's rmse: 5773.23\n",
      "RMSE = 0.2281703859181626\n",
      "Training until validation scores don't improve for 10 rounds"
     ]
    },
    {
     "name": "stderr",
     "output_type": "stream",
     "text": [
      "D:\\anaconda\\lib\\site-packages\\lightgbm\\engine.py:153: UserWarning: Found `early_stopping_rounds` in params. Will use it instead of argument\n",
      "  warnings.warn(\"Found `{}` in params. Will use it instead of argument\".format(alias))\n"
     ]
    },
    {
     "name": "stdout",
     "output_type": "stream",
     "text": [
      "\n",
      "[100]\tvalid_0's rmse: 6627.58\n",
      "[200]\tvalid_0's rmse: 6153.74\n",
      "[300]\tvalid_0's rmse: 5945.87\n",
      "[400]\tvalid_0's rmse: 5807.8\n",
      "[500]\tvalid_0's rmse: 5732.7\n",
      "[600]\tvalid_0's rmse: 5658.08\n",
      "Early stopping, best iteration is:\n",
      "[597]\tvalid_0's rmse: 5657.85\n"
     ]
    },
    {
     "name": "stderr",
     "output_type": "stream",
     "text": [
      "\u001b[32m[I 2021-04-07 21:09:51,655]\u001b[0m Trial 3 finished with value: 0.2123755819722716 and parameters: {'num_leaves': 441, 'max_bin': 909, 'learning_rate': 0.04542294572740488, 'max_depth': 12, 'min_child_weight': 15, 'feature_fraction': 0.6752129564209721, 'bagging_fraction': 0.6843598386151388, 'bagging_freq': 8, 'min_child_samples': 82, 'lambda_l1': 0.06525917427497627, 'lambda_l2': 9.886720162178716e-08}. Best is trial 3 with value: 0.2123755819722716.\u001b[0m\n"
     ]
    },
    {
     "name": "stdout",
     "output_type": "stream",
     "text": [
      "RMSE = 0.2123755819722716\n",
      "Training until validation scores don't improve for 10 rounds\n"
     ]
    },
    {
     "name": "stderr",
     "output_type": "stream",
     "text": [
      "D:\\anaconda\\lib\\site-packages\\lightgbm\\engine.py:153: UserWarning: Found `early_stopping_rounds` in params. Will use it instead of argument\n",
      "  warnings.warn(\"Found `{}` in params. Will use it instead of argument\".format(alias))\n"
     ]
    },
    {
     "name": "stdout",
     "output_type": "stream",
     "text": [
      "[100]\tvalid_0's rmse: 6168.96\n",
      "[200]\tvalid_0's rmse: 5897.77\n",
      "Early stopping, best iteration is:\n",
      "[264]\tvalid_0's rmse: 5791.31\n"
     ]
    },
    {
     "name": "stderr",
     "output_type": "stream",
     "text": [
      "\u001b[32m[I 2021-04-07 21:09:52,497]\u001b[0m Trial 4 finished with value: 0.22863829327645274 and parameters: {'num_leaves': 404, 'max_bin': 818, 'learning_rate': 0.1609413025453744, 'max_depth': 7, 'min_child_weight': 4, 'feature_fraction': 0.8998587739292936, 'bagging_fraction': 0.8251958254094143, 'bagging_freq': 6, 'min_child_samples': 94, 'lambda_l1': 0.00041624862526278044, 'lambda_l2': 0.0009155661116166841}. Best is trial 3 with value: 0.2123755819722716.\u001b[0m\n"
     ]
    },
    {
     "name": "stdout",
     "output_type": "stream",
     "text": [
      "RMSE = 0.22863829327645274\n",
      "Training until validation scores don't improve for 10 rounds\n"
     ]
    },
    {
     "name": "stderr",
     "output_type": "stream",
     "text": [
      "D:\\anaconda\\lib\\site-packages\\lightgbm\\engine.py:153: UserWarning: Found `early_stopping_rounds` in params. Will use it instead of argument\n",
      "  warnings.warn(\"Found `{}` in params. Will use it instead of argument\".format(alias))\n"
     ]
    },
    {
     "name": "stdout",
     "output_type": "stream",
     "text": [
      "[100]\tvalid_0's rmse: 6995.25\n",
      "[200]\tvalid_0's rmse: 6476.31\n",
      "[300]\tvalid_0's rmse: 6232\n",
      "[400]\tvalid_0's rmse: 6090.57\n",
      "[500]\tvalid_0's rmse: 5982.96\n",
      "[600]\tvalid_0's rmse: 5897.04\n",
      "[700]\tvalid_0's rmse: 5833.57\n",
      "[800]\tvalid_0's rmse: 5778.02\n",
      "Did not meet early stopping. Best iteration is:\n",
      "[800]\tvalid_0's rmse: 5778.02\n"
     ]
    },
    {
     "name": "stderr",
     "output_type": "stream",
     "text": [
      "\u001b[32m[I 2021-04-07 21:09:55,237]\u001b[0m Trial 5 finished with value: 0.22138742808349482 and parameters: {'num_leaves': 474, 'max_bin': 656, 'learning_rate': 0.03714988600340668, 'max_depth': 8, 'min_child_weight': 10, 'feature_fraction': 0.5381160156181788, 'bagging_fraction': 0.7792072513568516, 'bagging_freq': 1, 'min_child_samples': 88, 'lambda_l1': 0.0018898012288114847, 'lambda_l2': 0.006804127076371378}. Best is trial 3 with value: 0.2123755819722716.\u001b[0m\n"
     ]
    },
    {
     "name": "stdout",
     "output_type": "stream",
     "text": [
      "RMSE = 0.22138742808349482\n",
      "Training until validation scores don't improve for 10 rounds\n"
     ]
    },
    {
     "name": "stderr",
     "output_type": "stream",
     "text": [
      "D:\\anaconda\\lib\\site-packages\\lightgbm\\engine.py:153: UserWarning: Found `early_stopping_rounds` in params. Will use it instead of argument\n",
      "  warnings.warn(\"Found `{}` in params. Will use it instead of argument\".format(alias))\n"
     ]
    },
    {
     "name": "stdout",
     "output_type": "stream",
     "text": [
      "[100]\tvalid_0's rmse: 5748.73\n",
      "[200]\tvalid_0's rmse: 5484.11\n"
     ]
    },
    {
     "name": "stderr",
     "output_type": "stream",
     "text": [
      "\u001b[32m[I 2021-04-07 21:09:56,959]\u001b[0m Trial 6 finished with value: 0.2145136107464025 and parameters: {'num_leaves': 497, 'max_bin': 812, 'learning_rate': 0.171978057852222, 'max_depth': 13, 'min_child_weight': 7, 'feature_fraction': 0.8977876558915006, 'bagging_fraction': 0.6472691656534862, 'bagging_freq': 5, 'min_child_samples': 49, 'lambda_l1': 0.006127247961901738, 'lambda_l2': 1.4386044811474601e-08}. Best is trial 3 with value: 0.2123755819722716.\u001b[0m\n"
     ]
    },
    {
     "name": "stdout",
     "output_type": "stream",
     "text": [
      "Early stopping, best iteration is:\n",
      "[219]\tvalid_0's rmse: 5450.9\n",
      "RMSE = 0.2145136107464025\n"
     ]
    },
    {
     "name": "stderr",
     "output_type": "stream",
     "text": [
      "D:\\anaconda\\lib\\site-packages\\lightgbm\\engine.py:153: UserWarning: Found `early_stopping_rounds` in params. Will use it instead of argument\n",
      "  warnings.warn(\"Found `{}` in params. Will use it instead of argument\".format(alias))\n"
     ]
    },
    {
     "name": "stdout",
     "output_type": "stream",
     "text": [
      "Training until validation scores don't improve for 10 rounds\n",
      "[100]\tvalid_0's rmse: 5879.63\n",
      "[200]\tvalid_0's rmse: 5595.59\n",
      "Early stopping, best iteration is:\n",
      "[233]\tvalid_0's rmse: 5524.32"
     ]
    },
    {
     "name": "stderr",
     "output_type": "stream",
     "text": [
      "\u001b[32m[I 2021-04-07 21:09:58,260]\u001b[0m Trial 7 finished with value: 0.2147567661211692 and parameters: {'num_leaves': 66, 'max_bin': 977, 'learning_rate': 0.1488497509105879, 'max_depth': 14, 'min_child_weight': 16, 'feature_fraction': 0.5816749078161947, 'bagging_fraction': 0.6952291165348539, 'bagging_freq': 9, 'min_child_samples': 76, 'lambda_l1': 0.07327336839334318, 'lambda_l2': 2.982557903470073e-08}. Best is trial 3 with value: 0.2123755819722716.\u001b[0m\n"
     ]
    },
    {
     "name": "stdout",
     "output_type": "stream",
     "text": [
      "\n",
      "RMSE = 0.2147567661211692\n",
      "Training until validation scores don't improve for 10 rounds\n"
     ]
    },
    {
     "name": "stderr",
     "output_type": "stream",
     "text": [
      "D:\\anaconda\\lib\\site-packages\\lightgbm\\engine.py:153: UserWarning: Found `early_stopping_rounds` in params. Will use it instead of argument\n",
      "  warnings.warn(\"Found `{}` in params. Will use it instead of argument\".format(alias))\n"
     ]
    },
    {
     "name": "stdout",
     "output_type": "stream",
     "text": [
      "[100]\tvalid_0's rmse: 5640.35\n",
      "Early stopping, best iteration is:\n",
      "[189]\tvalid_0's rmse: 5392.03\n"
     ]
    },
    {
     "name": "stderr",
     "output_type": "stream",
     "text": [
      "\u001b[32m[I 2021-04-07 21:10:01,257]\u001b[0m Trial 8 finished with value: 0.2099934137617716 and parameters: {'num_leaves': 474, 'max_bin': 727, 'learning_rate': 0.09292379080567921, 'max_depth': 16, 'min_child_weight': 18, 'feature_fraction': 0.8103658981901265, 'bagging_fraction': 0.4662370167303298, 'bagging_freq': 4, 'min_child_samples': 7, 'lambda_l1': 2.199571148050057e-05, 'lambda_l2': 0.05685889829097515}. Best is trial 8 with value: 0.2099934137617716.\u001b[0m\n"
     ]
    },
    {
     "name": "stdout",
     "output_type": "stream",
     "text": [
      "RMSE = 0.2099934137617716\n",
      "Training until validation scores don't improve for 10 rounds\n"
     ]
    },
    {
     "name": "stderr",
     "output_type": "stream",
     "text": [
      "D:\\anaconda\\lib\\site-packages\\lightgbm\\engine.py:153: UserWarning: Found `early_stopping_rounds` in params. Will use it instead of argument\n",
      "  warnings.warn(\"Found `{}` in params. Will use it instead of argument\".format(alias))\n"
     ]
    },
    {
     "name": "stdout",
     "output_type": "stream",
     "text": [
      "[100]\tvalid_0's rmse: 5521.14\n",
      "[200]\tvalid_0's rmse: 5345.15\n",
      "[300]\tvalid_0's rmse: 5268.45\n",
      "Early stopping, best iteration is:\n",
      "[291]\tvalid_0's rmse: 5266.49\n"
     ]
    },
    {
     "name": "stderr",
     "output_type": "stream",
     "text": [
      "\u001b[32m[I 2021-04-07 21:10:03,295]\u001b[0m Trial 9 finished with value: 0.20522222060201373 and parameters: {'num_leaves': 478, 'max_bin': 1016, 'learning_rate': 0.1957993948461572, 'max_depth': 13, 'min_child_weight': 18, 'feature_fraction': 0.4059347085653594, 'bagging_fraction': 0.9846787716164885, 'bagging_freq': 1, 'min_child_samples': 56, 'lambda_l1': 2.0530095321962874e-07, 'lambda_l2': 1.551505330386842e-05}. Best is trial 9 with value: 0.20522222060201373.\u001b[0m\n"
     ]
    },
    {
     "name": "stdout",
     "output_type": "stream",
     "text": [
      "RMSE = 0.20522222060201373\n",
      "Training until validation scores don't improve for 10 rounds\n"
     ]
    },
    {
     "name": "stderr",
     "output_type": "stream",
     "text": [
      "D:\\anaconda\\lib\\site-packages\\lightgbm\\engine.py:153: UserWarning: Found `early_stopping_rounds` in params. Will use it instead of argument\n",
      "  warnings.warn(\"Found `{}` in params. Will use it instead of argument\".format(alias))\n"
     ]
    },
    {
     "name": "stdout",
     "output_type": "stream",
     "text": [
      "[100]\tvalid_0's rmse: 5603.35\n",
      "Early stopping, best iteration is:\n",
      "[188]\tvalid_0's rmse: 5398.34\n",
      "RMSE = 0.20711509648364765"
     ]
    },
    {
     "name": "stderr",
     "output_type": "stream",
     "text": [
      "\u001b[32m[I 2021-04-07 21:10:04,686]\u001b[0m Trial 10 finished with value: 0.20711509648364765 and parameters: {'num_leaves': 694, 'max_bin': 1368, 'learning_rate': 0.1139206080594283, 'max_depth': 10, 'min_child_weight': 21, 'feature_fraction': 0.4262304664722218, 'bagging_fraction': 0.9794523621270768, 'bagging_freq': 2, 'min_child_samples': 38, 'lambda_l1': 1.139428891629393e-08, 'lambda_l2': 1.938640929857785e-06}. Best is trial 9 with value: 0.20522222060201373.\u001b[0m\n"
     ]
    },
    {
     "name": "stdout",
     "output_type": "stream",
     "text": [
      "\n",
      "Training until validation scores don't improve for 10 rounds\n"
     ]
    },
    {
     "name": "stderr",
     "output_type": "stream",
     "text": [
      "D:\\anaconda\\lib\\site-packages\\lightgbm\\engine.py:153: UserWarning: Found `early_stopping_rounds` in params. Will use it instead of argument\n",
      "  warnings.warn(\"Found `{}` in params. Will use it instead of argument\".format(alias))\n"
     ]
    },
    {
     "name": "stdout",
     "output_type": "stream",
     "text": [
      "[100]\tvalid_0's rmse: 5559.67\n",
      "[200]\tvalid_0's rmse: 5353.11\n",
      "[300]\tvalid_0's rmse: 5306.58\n",
      "[400]\tvalid_0's rmse: 5256.59\n",
      "Early stopping, best iteration is:\n",
      "[434]\tvalid_0's rmse: 5245.06\n"
     ]
    },
    {
     "name": "stderr",
     "output_type": "stream",
     "text": [
      "\u001b[32m[I 2021-04-07 21:10:07,433]\u001b[0m Trial 11 finished with value: 0.20293922931608052 and parameters: {'num_leaves': 707, 'max_bin': 1353, 'learning_rate': 0.11805277025317053, 'max_depth': 10, 'min_child_weight': 21, 'feature_fraction': 0.40389403091733295, 'bagging_fraction': 0.9968926735157405, 'bagging_freq': 2, 'min_child_samples': 33, 'lambda_l1': 1.3510126384339423e-08, 'lambda_l2': 4.480160970079085e-06}. Best is trial 11 with value: 0.20293922931608052.\u001b[0m\n"
     ]
    },
    {
     "name": "stdout",
     "output_type": "stream",
     "text": [
      "RMSE = 0.20293922931608052\n",
      "Training until validation scores don't improve for 10 rounds\n"
     ]
    },
    {
     "name": "stderr",
     "output_type": "stream",
     "text": [
      "D:\\anaconda\\lib\\site-packages\\lightgbm\\engine.py:153: UserWarning: Found `early_stopping_rounds` in params. Will use it instead of argument\n",
      "  warnings.warn(\"Found `{}` in params. Will use it instead of argument\".format(alias))\n"
     ]
    },
    {
     "name": "stdout",
     "output_type": "stream",
     "text": [
      "[100]\tvalid_0's rmse: 9740.4\n",
      "[200]\tvalid_0's rmse: 8469.36\n",
      "[300]\tvalid_0's rmse: 7676.59\n",
      "[400]\tvalid_0's rmse: 7149.6\n",
      "[500]\tvalid_0's rmse: 6792.58\n",
      "[600]\tvalid_0's rmse: 6551.29\n",
      "[700]\tvalid_0's rmse: 6379.1\n",
      "[800]\tvalid_0's rmse: 6248.13\n",
      "Did not meet early stopping. Best iteration is:\n",
      "[800]\tvalid_0's rmse: 6248.13\n"
     ]
    },
    {
     "name": "stderr",
     "output_type": "stream",
     "text": [
      "\u001b[32m[I 2021-04-07 21:10:13,104]\u001b[0m Trial 12 finished with value: 0.24622627534081334 and parameters: {'num_leaves': 642, 'max_bin': 1209, 'learning_rate': 0.005176368311084575, 'max_depth': 8, 'min_child_weight': 21, 'feature_fraction': 0.415895793223237, 'bagging_fraction': 0.8992803732871608, 'bagging_freq': 1, 'min_child_samples': 27, 'lambda_l1': 2.4116335745708232e-08, 'lambda_l2': 4.836798495105543e-06}. Best is trial 11 with value: 0.20293922931608052.\u001b[0m\n"
     ]
    },
    {
     "name": "stdout",
     "output_type": "stream",
     "text": [
      "RMSE = 0.24622627534081334\n",
      "Training until validation scores don't improve for 10 rounds\n"
     ]
    },
    {
     "name": "stderr",
     "output_type": "stream",
     "text": [
      "D:\\anaconda\\lib\\site-packages\\lightgbm\\engine.py:153: UserWarning: Found `early_stopping_rounds` in params. Will use it instead of argument\n",
      "  warnings.warn(\"Found `{}` in params. Will use it instead of argument\".format(alias))\n"
     ]
    },
    {
     "name": "stdout",
     "output_type": "stream",
     "text": [
      "[100]\tvalid_0's rmse: 5430.18\n",
      "[200]\tvalid_0's rmse: 5306.99\n",
      "Early stopping, best iteration is:\n",
      "[223]\tvalid_0's rmse: 5287.02\n",
      "RMSE = 0.20544981365542628"
     ]
    },
    {
     "name": "stderr",
     "output_type": "stream",
     "text": [
      "\u001b[32m[I 2021-04-07 21:10:14,763]\u001b[0m Trial 13 finished with value: 0.20544981365542628 and parameters: {'num_leaves': 217, 'max_bin': 421, 'learning_rate': 0.19636017664784192, 'max_depth': 10, 'min_child_weight': 14, 'feature_fraction': 0.483860785965288, 'bagging_fraction': 0.8826206942214767, 'bagging_freq': 3, 'min_child_samples': 22, 'lambda_l1': 1.050697567415414e-05, 'lambda_l2': 2.325981559602822e-06}. Best is trial 11 with value: 0.20293922931608052.\u001b[0m\n"
     ]
    },
    {
     "name": "stdout",
     "output_type": "stream",
     "text": [
      "\n",
      "Training until validation scores don't improve for 10 rounds\n"
     ]
    },
    {
     "name": "stderr",
     "output_type": "stream",
     "text": [
      "D:\\anaconda\\lib\\site-packages\\lightgbm\\engine.py:153: UserWarning: Found `early_stopping_rounds` in params. Will use it instead of argument\n",
      "  warnings.warn(\"Found `{}` in params. Will use it instead of argument\".format(alias))\n"
     ]
    },
    {
     "name": "stdout",
     "output_type": "stream",
     "text": [
      "[100]\tvalid_0's rmse: 5627.05\n",
      "[200]\tvalid_0's rmse: 5414.19\n",
      "[300]\tvalid_0's rmse: 5330.02\n",
      "[400]\tvalid_0's rmse: 5275.36\n",
      "Early stopping, best iteration is:\n",
      "[473]\tvalid_0's rmse: 5252.78\n"
     ]
    },
    {
     "name": "stderr",
     "output_type": "stream",
     "text": [
      "\u001b[32m[I 2021-04-07 21:10:18,000]\u001b[0m Trial 14 finished with value: 0.20371905610162544 and parameters: {'num_leaves': 590, 'max_bin': 1109, 'learning_rate': 0.1391802269949863, 'max_depth': 12, 'min_child_weight': 20, 'feature_fraction': 0.5990340697191805, 'bagging_fraction': 0.9866733606067932, 'bagging_freq': 1, 'min_child_samples': 53, 'lambda_l1': 1.6009234670767796e-08, 'lambda_l2': 3.471543724295182e-05}. Best is trial 11 with value: 0.20293922931608052.\u001b[0m\n"
     ]
    },
    {
     "name": "stdout",
     "output_type": "stream",
     "text": [
      "RMSE = 0.20371905610162544\n",
      "Training until validation scores don't improve for 10 rounds\n"
     ]
    },
    {
     "name": "stderr",
     "output_type": "stream",
     "text": [
      "D:\\anaconda\\lib\\site-packages\\lightgbm\\engine.py:153: UserWarning: Found `early_stopping_rounds` in params. Will use it instead of argument\n",
      "  warnings.warn(\"Found `{}` in params. Will use it instead of argument\".format(alias))\n"
     ]
    },
    {
     "name": "stdout",
     "output_type": "stream",
     "text": [
      "[100]\tvalid_0's rmse: 5932.47\n",
      "[200]\tvalid_0's rmse: 5664.84\n",
      "[300]\tvalid_0's rmse: 5548.65\n"
     ]
    },
    {
     "name": "stderr",
     "output_type": "stream",
     "text": [
      "\u001b[32m[I 2021-04-07 21:10:19,616]\u001b[0m Trial 15 finished with value: 0.2145641866635332 and parameters: {'num_leaves': 577, 'max_bin': 1379, 'learning_rate': 0.13797929322917143, 'max_depth': 9, 'min_child_weight': 21, 'feature_fraction': 0.6006267413437796, 'bagging_fraction': 0.5424958224070139, 'bagging_freq': 3, 'min_child_samples': 42, 'lambda_l1': 1.0746913678413293e-08, 'lambda_l2': 3.81113982916888e-07}. Best is trial 11 with value: 0.20293922931608052.\u001b[0m\n"
     ]
    },
    {
     "name": "stdout",
     "output_type": "stream",
     "text": [
      "Early stopping, best iteration is:\n",
      "[368]\tvalid_0's rmse: 5469.91\n",
      "RMSE = 0.2145641866635332\n"
     ]
    },
    {
     "name": "stderr",
     "output_type": "stream",
     "text": [
      "D:\\anaconda\\lib\\site-packages\\lightgbm\\engine.py:153: UserWarning: Found `early_stopping_rounds` in params. Will use it instead of argument\n",
      "  warnings.warn(\"Found `{}` in params. Will use it instead of argument\".format(alias))\n"
     ]
    },
    {
     "name": "stdout",
     "output_type": "stream",
     "text": [
      "Training until validation scores don't improve for 10 rounds\n",
      "[100]\tvalid_0's rmse: 6360.07\n",
      "[200]\tvalid_0's rmse: 5938.16\n",
      "[300]\tvalid_0's rmse: 5713.3\n",
      "[400]\tvalid_0's rmse: 5577.89\n"
     ]
    },
    {
     "name": "stderr",
     "output_type": "stream",
     "text": [
      "\u001b[32m[I 2021-04-07 21:10:21,016]\u001b[0m Trial 16 finished with value: 0.21942120433942836 and parameters: {'num_leaves': 711, 'max_bin': 1180, 'learning_rate': 0.08467098009844773, 'max_depth': 5, 'min_child_weight': 18, 'feature_fraction': 0.7550187877719612, 'bagging_fraction': 0.7712041372277355, 'bagging_freq': 2, 'min_child_samples': 10, 'lambda_l1': 0.9616429427473536, 'lambda_l2': 0.0001006621694931452}. Best is trial 11 with value: 0.20293922931608052.\u001b[0m\n"
     ]
    },
    {
     "name": "stdout",
     "output_type": "stream",
     "text": [
      "[500]\tvalid_0's rmse: 5501.11\n",
      "Early stopping, best iteration is:\n",
      "[498]\tvalid_0's rmse: 5496.83\n",
      "RMSE = 0.21942120433942836\n"
     ]
    },
    {
     "name": "stderr",
     "output_type": "stream",
     "text": [
      "D:\\anaconda\\lib\\site-packages\\lightgbm\\engine.py:153: UserWarning: Found `early_stopping_rounds` in params. Will use it instead of argument\n",
      "  warnings.warn(\"Found `{}` in params. Will use it instead of argument\".format(alias))\n"
     ]
    },
    {
     "name": "stdout",
     "output_type": "stream",
     "text": [
      "Training until validation scores don't improve for 10 rounds\n",
      "[100]\tvalid_0's rmse: 5525.64\n",
      "Early stopping, best iteration is:\n",
      "[172]\tvalid_0's rmse: 5357.17\n"
     ]
    },
    {
     "name": "stderr",
     "output_type": "stream",
     "text": [
      "\u001b[32m[I 2021-04-07 21:10:22,862]\u001b[0m Trial 17 finished with value: 0.20443778835761794 and parameters: {'num_leaves': 591, 'max_bin': 1311, 'learning_rate': 0.13169123392756513, 'max_depth': 12, 'min_child_weight': 13, 'feature_fraction': 0.6117945597723534, 'bagging_fraction': 0.9094883059001959, 'bagging_freq': 7, 'min_child_samples': 30, 'lambda_l1': 7.189502044812813e-08, 'lambda_l2': 0.002104179751338431}. Best is trial 11 with value: 0.20293922931608052.\u001b[0m\n"
     ]
    },
    {
     "name": "stdout",
     "output_type": "stream",
     "text": [
      "RMSE = 0.20443778835761794\n",
      "Training until validation scores don't improve for 10 rounds\n"
     ]
    },
    {
     "name": "stderr",
     "output_type": "stream",
     "text": [
      "D:\\anaconda\\lib\\site-packages\\lightgbm\\engine.py:153: UserWarning: Found `early_stopping_rounds` in params. Will use it instead of argument\n",
      "  warnings.warn(\"Found `{}` in params. Will use it instead of argument\".format(alias))\n"
     ]
    },
    {
     "name": "stdout",
     "output_type": "stream",
     "text": [
      "[100]\tvalid_0's rmse: 6071.16\n",
      "[200]\tvalid_0's rmse: 5812.5\n",
      "[300]\tvalid_0's rmse: 5701.74\n",
      "[400]\tvalid_0's rmse: 5639.9\n",
      "[500]\tvalid_0's rmse: 5561.08\n",
      "[600]\tvalid_0's rmse: 5508.72\n",
      "[700]\tvalid_0's rmse: 5458.12\n",
      "[800]\tvalid_0's rmse: 5413.88\n",
      "Did not meet early stopping. Best iteration is:\n",
      "[800]\tvalid_0's rmse: 5413.88\n"
     ]
    },
    {
     "name": "stderr",
     "output_type": "stream",
     "text": [
      "\u001b[32m[I 2021-04-07 21:10:27,212]\u001b[0m Trial 18 finished with value: 0.2065081466791511 and parameters: {'num_leaves': 705, 'max_bin': 1106, 'learning_rate': 0.07371722326114574, 'max_depth': 11, 'min_child_weight': 19, 'feature_fraction': 0.7706949005615146, 'bagging_fraction': 0.9943531864376756, 'bagging_freq': 3, 'min_child_samples': 62, 'lambda_l1': 1.8333605687516983e-06, 'lambda_l2': 4.383821873248947e-07}. Best is trial 11 with value: 0.20293922931608052.\u001b[0m\n"
     ]
    },
    {
     "name": "stdout",
     "output_type": "stream",
     "text": [
      "RMSE = 0.2065081466791511\n",
      "Training until validation scores don't improve for 10 rounds\n"
     ]
    },
    {
     "name": "stderr",
     "output_type": "stream",
     "text": [
      "D:\\anaconda\\lib\\site-packages\\lightgbm\\engine.py:153: UserWarning: Found `early_stopping_rounds` in params. Will use it instead of argument\n",
      "  warnings.warn(\"Found `{}` in params. Will use it instead of argument\".format(alias))\n"
     ]
    },
    {
     "name": "stdout",
     "output_type": "stream",
     "text": [
      "[100]\tvalid_0's rmse: 5702.06\n"
     ]
    },
    {
     "name": "stderr",
     "output_type": "stream",
     "text": [
      "\u001b[32m[I 2021-04-07 21:10:28,453]\u001b[0m Trial 19 finished with value: 0.21369832862583849 and parameters: {'num_leaves': 542, 'max_bin': 1195, 'learning_rate': 0.12071000720620471, 'max_depth': 7, 'min_child_weight': 12, 'feature_fraction': 0.9823256038485471, 'bagging_fraction': 0.8408580849463831, 'bagging_freq': 4, 'min_child_samples': 17, 'lambda_l1': 1.0107936748009702e-08, 'lambda_l2': 5.89998255919368e-05}. Best is trial 11 with value: 0.20293922931608052.\u001b[0m\n"
     ]
    },
    {
     "name": "stdout",
     "output_type": "stream",
     "text": [
      "[200]\tvalid_0's rmse: 5449.54\n",
      "Early stopping, best iteration is:\n",
      "[212]\tvalid_0's rmse: 5426.23\n",
      "RMSE = 0.21369832862583849\n"
     ]
    },
    {
     "name": "stderr",
     "output_type": "stream",
     "text": [
      "D:\\anaconda\\lib\\site-packages\\lightgbm\\engine.py:153: UserWarning: Found `early_stopping_rounds` in params. Will use it instead of argument\n",
      "  warnings.warn(\"Found `{}` in params. Will use it instead of argument\".format(alias))\n"
     ]
    },
    {
     "name": "stdout",
     "output_type": "stream",
     "text": [
      "Training until validation scores don't improve for 10 rounds\n",
      "[100]\tvalid_0's rmse: 5572.96\n",
      "[200]\tvalid_0's rmse: 5341.32\n",
      "Early stopping, best iteration is:\n",
      "[274]\tvalid_0's rmse: 5243.08\n"
     ]
    },
    {
     "name": "stderr",
     "output_type": "stream",
     "text": [
      "\u001b[32m[I 2021-04-07 21:10:30,708]\u001b[0m Trial 20 finished with value: 0.2034982336278787 and parameters: {'num_leaves': 311, 'max_bin': 1019, 'learning_rate': 0.15388692973231377, 'max_depth': 15, 'min_child_weight': 16, 'feature_fraction': 0.4592477656429862, 'bagging_fraction': 0.5552192088345446, 'bagging_freq': 1, 'min_child_samples': 38, 'lambda_l1': 4.9796565706904446e-05, 'lambda_l2': 0.021467967978788288}. Best is trial 11 with value: 0.20293922931608052.\u001b[0m\n"
     ]
    },
    {
     "name": "stdout",
     "output_type": "stream",
     "text": [
      "RMSE = 0.2034982336278787\n",
      "Training until validation scores don't improve for 10 rounds\n"
     ]
    },
    {
     "name": "stderr",
     "output_type": "stream",
     "text": [
      "D:\\anaconda\\lib\\site-packages\\lightgbm\\engine.py:153: UserWarning: Found `early_stopping_rounds` in params. Will use it instead of argument\n",
      "  warnings.warn(\"Found `{}` in params. Will use it instead of argument\".format(alias))\n"
     ]
    },
    {
     "name": "stdout",
     "output_type": "stream",
     "text": [
      "[100]\tvalid_0's rmse: 5605.93\n",
      "[200]\tvalid_0's rmse: 5344.06\n",
      "[300]\tvalid_0's rmse: 5238.7\n",
      "Early stopping, best iteration is:\n",
      "[313]\tvalid_0's rmse: 5233.35\n"
     ]
    },
    {
     "name": "stderr",
     "output_type": "stream",
     "text": [
      "\u001b[32m[I 2021-04-07 21:10:33,446]\u001b[0m Trial 21 finished with value: 0.2044954293812556 and parameters: {'num_leaves': 285, 'max_bin': 1033, 'learning_rate': 0.14187854719159027, 'max_depth': 16, 'min_child_weight': 16, 'feature_fraction': 0.48430101714118057, 'bagging_fraction': 0.5748924454905608, 'bagging_freq': 1, 'min_child_samples': 39, 'lambda_l1': 4.601569127129531e-05, 'lambda_l2': 0.08134183770590966}. Best is trial 11 with value: 0.20293922931608052.\u001b[0m\n"
     ]
    },
    {
     "name": "stdout",
     "output_type": "stream",
     "text": [
      "RMSE = 0.2044954293812556\n",
      "Training until validation scores don't improve for 10 rounds\n"
     ]
    },
    {
     "name": "stderr",
     "output_type": "stream",
     "text": [
      "D:\\anaconda\\lib\\site-packages\\lightgbm\\engine.py:153: UserWarning: Found `early_stopping_rounds` in params. Will use it instead of argument\n",
      "  warnings.warn(\"Found `{}` in params. Will use it instead of argument\".format(alias))\n"
     ]
    },
    {
     "name": "stdout",
     "output_type": "stream",
     "text": [
      "[100]\tvalid_0's rmse: 5706.35\n",
      "Early stopping, best iteration is:\n",
      "[122]\tvalid_0's rmse: 5607.71\n"
     ]
    },
    {
     "name": "stderr",
     "output_type": "stream",
     "text": [
      "\u001b[32m[I 2021-04-07 21:10:34,352]\u001b[0m Trial 22 finished with value: 0.21874365106873542 and parameters: {'num_leaves': 178, 'max_bin': 950, 'learning_rate': 0.16235422609368763, 'max_depth': 14, 'min_child_weight': 20, 'feature_fraction': 0.4746409022025767, 'bagging_fraction': 0.5086698298412566, 'bagging_freq': 2, 'min_child_samples': 50, 'lambda_l1': 0.00016442593498974478, 'lambda_l2': 0.006098911667619142}. Best is trial 11 with value: 0.20293922931608052.\u001b[0m\n"
     ]
    },
    {
     "name": "stdout",
     "output_type": "stream",
     "text": [
      "RMSE = 0.21874365106873542\n",
      "Training until validation scores don't improve for 10 rounds\n"
     ]
    },
    {
     "name": "stderr",
     "output_type": "stream",
     "text": [
      "D:\\anaconda\\lib\\site-packages\\lightgbm\\engine.py:153: UserWarning: Found `early_stopping_rounds` in params. Will use it instead of argument\n",
      "  warnings.warn(\"Found `{}` in params. Will use it instead of argument\".format(alias))\n"
     ]
    },
    {
     "name": "stdout",
     "output_type": "stream",
     "text": [
      "[100]\tvalid_0's rmse: 5625.89\n",
      "[200]\tvalid_0's rmse: 5364.76\n",
      "[300]\tvalid_0's rmse: 5295.17\n",
      "Early stopping, best iteration is:\n",
      "[349]\tvalid_0's rmse: 5242.3\n"
     ]
    },
    {
     "name": "stderr",
     "output_type": "stream",
     "text": [
      "\u001b[32m[I 2021-04-07 21:10:37,716]\u001b[0m Trial 23 finished with value: 0.2016594601610836 and parameters: {'num_leaves': 319, 'max_bin': 1114, 'learning_rate': 0.10215864431985823, 'max_depth': 15, 'min_child_weight': 17, 'feature_fraction': 0.5476664704166432, 'bagging_fraction': 0.621604812179521, 'bagging_freq': 1, 'min_child_samples': 33, 'lambda_l1': 5.2709878108501606e-08, 'lambda_l2': 7.139588532018096e-06}. Best is trial 23 with value: 0.2016594601610836.\u001b[0m\n"
     ]
    },
    {
     "name": "stdout",
     "output_type": "stream",
     "text": [
      "RMSE = 0.2016594601610836\n",
      "Training until validation scores don't improve for 10 rounds\n"
     ]
    },
    {
     "name": "stderr",
     "output_type": "stream",
     "text": [
      "D:\\anaconda\\lib\\site-packages\\lightgbm\\engine.py:153: UserWarning: Found `early_stopping_rounds` in params. Will use it instead of argument\n",
      "  warnings.warn(\"Found `{}` in params. Will use it instead of argument\".format(alias))\n"
     ]
    },
    {
     "name": "stdout",
     "output_type": "stream",
     "text": [
      "[100]\tvalid_0's rmse: 5609.96\n",
      "[200]\tvalid_0's rmse: 5337.28\n",
      "Early stopping, best iteration is:\n",
      "[281]\tvalid_0's rmse: 5246.55\n"
     ]
    },
    {
     "name": "stderr",
     "output_type": "stream",
     "text": [
      "\u001b[32m[I 2021-04-07 21:10:40,401]\u001b[0m Trial 24 finished with value: 0.2037317041003712 and parameters: {'num_leaves': 306, 'max_bin': 1267, 'learning_rate': 0.10130403672471845, 'max_depth': 15, 'min_child_weight': 16, 'feature_fraction': 0.45210684470565937, 'bagging_fraction': 0.6172260199497902, 'bagging_freq': 2, 'min_child_samples': 31, 'lambda_l1': 2.793096119792931e-06, 'lambda_l2': 4.79104779034874e-06}. Best is trial 23 with value: 0.2016594601610836.\u001b[0m\n"
     ]
    },
    {
     "name": "stdout",
     "output_type": "stream",
     "text": [
      "RMSE = 0.2037317041003712\n",
      "Training until validation scores don't improve for 10 rounds\n"
     ]
    },
    {
     "name": "stderr",
     "output_type": "stream",
     "text": [
      "D:\\anaconda\\lib\\site-packages\\lightgbm\\engine.py:153: UserWarning: Found `early_stopping_rounds` in params. Will use it instead of argument\n",
      "  warnings.warn(\"Found `{}` in params. Will use it instead of argument\".format(alias))\n"
     ]
    },
    {
     "name": "stdout",
     "output_type": "stream",
     "text": [
      "[100]\tvalid_0's rmse: 5629.71\n",
      "[200]\tvalid_0's rmse: 5358.17\n",
      "Early stopping, best iteration is:\n",
      "[232]\tvalid_0's rmse: 5311.4\n",
      "RMSE = 0.20386121809245764"
     ]
    },
    {
     "name": "stderr",
     "output_type": "stream",
     "text": [
      "\u001b[32m[I 2021-04-07 21:10:43,047]\u001b[0m Trial 25 finished with value: 0.20386121809245764 and parameters: {'num_leaves': 161, 'max_bin': 1367, 'learning_rate': 0.06788025922122821, 'max_depth': 16, 'min_child_weight': 17, 'feature_fraction': 0.5395119216892241, 'bagging_fraction': 0.597976561061192, 'bagging_freq': 4, 'min_child_samples': 21, 'lambda_l1': 4.7548467350889345e-07, 'lambda_l2': 0.0002062746517206838}. Best is trial 23 with value: 0.2016594601610836.\u001b[0m\n"
     ]
    },
    {
     "name": "stdout",
     "output_type": "stream",
     "text": [
      "\n",
      "Training until validation scores don't improve for 10 rounds\n"
     ]
    },
    {
     "name": "stderr",
     "output_type": "stream",
     "text": [
      "D:\\anaconda\\lib\\site-packages\\lightgbm\\engine.py:153: UserWarning: Found `early_stopping_rounds` in params. Will use it instead of argument\n",
      "  warnings.warn(\"Found `{}` in params. Will use it instead of argument\".format(alias))\n"
     ]
    },
    {
     "name": "stdout",
     "output_type": "stream",
     "text": [
      "[100]\tvalid_0's rmse: 6683.07\n",
      "[200]\tvalid_0's rmse: 6286.42\n"
     ]
    },
    {
     "name": "stderr",
     "output_type": "stream",
     "text": [
      "\u001b[32m[I 2021-04-07 21:10:43,692]\u001b[0m Trial 26 finished with value: 0.24159292853043868 and parameters: {'num_leaves': 343, 'max_bin': 1087, 'learning_rate': 0.12369778092605543, 'max_depth': 4, 'min_child_weight': 14, 'feature_fraction': 0.5503071501651329, 'bagging_fraction': 0.5031149472317309, 'bagging_freq': 3, 'min_child_samples': 43, 'lambda_l1': 8.766213483587921e-08, 'lambda_l2': 0.9465649404825115}. Best is trial 23 with value: 0.2016594601610836.\u001b[0m\n"
     ]
    },
    {
     "name": "stdout",
     "output_type": "stream",
     "text": [
      "[300]\tvalid_0's rmse: 6104.59\n",
      "[400]\tvalid_0's rmse: 6006.76\n",
      "Early stopping, best iteration is:\n",
      "[396]\tvalid_0's rmse: 5997.53\n",
      "RMSE = 0.24159292853043868\n"
     ]
    },
    {
     "name": "stderr",
     "output_type": "stream",
     "text": [
      "D:\\anaconda\\lib\\site-packages\\lightgbm\\engine.py:153: UserWarning: Found `early_stopping_rounds` in params. Will use it instead of argument\n",
      "  warnings.warn(\"Found `{}` in params. Will use it instead of argument\".format(alias))\n"
     ]
    },
    {
     "name": "stdout",
     "output_type": "stream",
     "text": [
      "Training until validation scores don't improve for 10 rounds\n",
      "[100]\tvalid_0's rmse: 5660.48\n",
      "[200]\tvalid_0's rmse: 5375.35\n",
      "[300]\tvalid_0's rmse: 5259.51\n",
      "Early stopping, best iteration is:\n",
      "[348]\tvalid_0's rmse: 5221.42\n",
      "RMSE = 0.20248146748573978"
     ]
    },
    {
     "name": "stderr",
     "output_type": "stream",
     "text": [
      "\u001b[32m[I 2021-04-07 21:10:46,273]\u001b[0m Trial 27 finished with value: 0.20248146748573978 and parameters: {'num_leaves': 91, 'max_bin': 882, 'learning_rate': 0.10368462940045742, 'max_depth': 15, 'min_child_weight': 19, 'feature_fraction': 0.4527555336649773, 'bagging_fraction': 0.746180333609876, 'bagging_freq': 1, 'min_child_samples': 34, 'lambda_l1': 0.000613170370435686, 'lambda_l2': 3.5911428655186073e-07}. Best is trial 23 with value: 0.2016594601610836.\u001b[0m\n"
     ]
    },
    {
     "name": "stdout",
     "output_type": "stream",
     "text": [
      "\n",
      "Training until validation scores don't improve for 10 rounds\n"
     ]
    },
    {
     "name": "stderr",
     "output_type": "stream",
     "text": [
      "D:\\anaconda\\lib\\site-packages\\lightgbm\\engine.py:153: UserWarning: Found `early_stopping_rounds` in params. Will use it instead of argument\n",
      "  warnings.warn(\"Found `{}` in params. Will use it instead of argument\".format(alias))\n"
     ]
    },
    {
     "name": "stdout",
     "output_type": "stream",
     "text": [
      "[100]\tvalid_0's rmse: 5526.01\n",
      "[200]\tvalid_0's rmse: 5294.02\n"
     ]
    },
    {
     "name": "stderr",
     "output_type": "stream",
     "text": [
      "\u001b[32m[I 2021-04-07 21:10:48,138]\u001b[0m Trial 28 finished with value: 0.20310196878797288 and parameters: {'num_leaves': 68, 'max_bin': 881, 'learning_rate': 0.10228389249068824, 'max_depth': 14, 'min_child_weight': 19, 'feature_fraction': 0.5028533459241138, 'bagging_fraction': 0.7412550803005263, 'bagging_freq': 2, 'min_child_samples': 14, 'lambda_l1': 0.0007747770578637805, 'lambda_l2': 2.958955211871241e-07}. Best is trial 23 with value: 0.2016594601610836.\u001b[0m\n"
     ]
    },
    {
     "name": "stdout",
     "output_type": "stream",
     "text": [
      "Early stopping, best iteration is:\n",
      "[259]\tvalid_0's rmse: 5248.18\n",
      "RMSE = 0.20310196878797288\n"
     ]
    },
    {
     "name": "stderr",
     "output_type": "stream",
     "text": [
      "D:\\anaconda\\lib\\site-packages\\lightgbm\\engine.py:153: UserWarning: Found `early_stopping_rounds` in params. Will use it instead of argument\n",
      "  warnings.warn(\"Found `{}` in params. Will use it instead of argument\".format(alias))\n"
     ]
    },
    {
     "name": "stdout",
     "output_type": "stream",
     "text": [
      "Training until validation scores don't improve for 10 rounds\n",
      "[100]\tvalid_0's rmse: 5923.63\n",
      "[200]\tvalid_0's rmse: 5623.25\n",
      "Early stopping, best iteration is:\n",
      "[283]\tvalid_0's rmse: 5465.47\n",
      "RMSE = 0.2089723560130909\n"
     ]
    },
    {
     "name": "stderr",
     "output_type": "stream",
     "text": [
      "\u001b[32m[I 2021-04-07 21:10:50,244]\u001b[0m Trial 29 finished with value: 0.2089723560130909 and parameters: {'num_leaves': 118, 'max_bin': 486, 'learning_rate': 0.06845509541849598, 'max_depth': 11, 'min_child_weight': 21, 'feature_fraction': 0.6582723789868532, 'bagging_fraction': 0.6485641104119128, 'bagging_freq': 6, 'min_child_samples': 30, 'lambda_l1': 0.0062090314127949695, 'lambda_l2': 1.1744608439264196e-05}. Best is trial 23 with value: 0.2016594601610836.\u001b[0m\n",
      "D:\\anaconda\\lib\\site-packages\\lightgbm\\engine.py:153: UserWarning: Found `early_stopping_rounds` in params. Will use it instead of argument\n",
      "  warnings.warn(\"Found `{}` in params. Will use it instead of argument\".format(alias))\n"
     ]
    },
    {
     "name": "stdout",
     "output_type": "stream",
     "text": [
      "Training until validation scores don't improve for 10 rounds\n",
      "[100]\tvalid_0's rmse: 5923.64\n",
      "[200]\tvalid_0's rmse: 5574.23\n",
      "[300]\tvalid_0's rmse: 5435.07\n"
     ]
    },
    {
     "name": "stderr",
     "output_type": "stream",
     "text": [
      "\u001b[32m[I 2021-04-07 21:10:51,833]\u001b[0m Trial 30 finished with value: 0.21254583727399953 and parameters: {'num_leaves': 35, 'max_bin': 764, 'learning_rate': 0.1120475175758419, 'max_depth': 13, 'min_child_weight': 19, 'feature_fraction': 0.4429772379037397, 'bagging_fraction': 0.4070656571504816, 'bagging_freq': 1, 'min_child_samples': 3, 'lambda_l1': 3.5385892699170858e-06, 'lambda_l2': 7.120122940273193e-08}. Best is trial 23 with value: 0.2016594601610836.\u001b[0m\n"
     ]
    },
    {
     "name": "stdout",
     "output_type": "stream",
     "text": [
      "Early stopping, best iteration is:\n",
      "[388]\tvalid_0's rmse: 5352.19\n",
      "RMSE = 0.21254583727399953\n"
     ]
    },
    {
     "name": "stderr",
     "output_type": "stream",
     "text": [
      "D:\\anaconda\\lib\\site-packages\\lightgbm\\engine.py:153: UserWarning: Found `early_stopping_rounds` in params. Will use it instead of argument\n",
      "  warnings.warn(\"Found `{}` in params. Will use it instead of argument\".format(alias))\n"
     ]
    },
    {
     "name": "stdout",
     "output_type": "stream",
     "text": [
      "Training until validation scores don't improve for 10 rounds\n",
      "[100]\tvalid_0's rmse: 5499.98\n",
      "[200]\tvalid_0's rmse: 5303.51\n"
     ]
    },
    {
     "name": "stderr",
     "output_type": "stream",
     "text": [
      "\u001b[32m[I 2021-04-07 21:10:53,974]\u001b[0m Trial 31 finished with value: 0.20302675060781983 and parameters: {'num_leaves': 99, 'max_bin': 604, 'learning_rate': 0.09376894669932952, 'max_depth': 14, 'min_child_weight': 19, 'feature_fraction': 0.5020610970471914, 'bagging_fraction': 0.7398552527466941, 'bagging_freq': 2, 'min_child_samples': 13, 'lambda_l1': 0.0007843608867914786, 'lambda_l2': 9.689438192116307e-07}. Best is trial 23 with value: 0.2016594601610836.\u001b[0m\n"
     ]
    },
    {
     "name": "stdout",
     "output_type": "stream",
     "text": [
      "Early stopping, best iteration is:\n",
      "[220]\tvalid_0's rmse: 5281.06\n",
      "RMSE = 0.20302675060781983\n"
     ]
    },
    {
     "name": "stderr",
     "output_type": "stream",
     "text": [
      "D:\\anaconda\\lib\\site-packages\\lightgbm\\engine.py:153: UserWarning: Found `early_stopping_rounds` in params. Will use it instead of argument\n",
      "  warnings.warn(\"Found `{}` in params. Will use it instead of argument\".format(alias))\n"
     ]
    },
    {
     "name": "stdout",
     "output_type": "stream",
     "text": [
      "Training until validation scores don't improve for 10 rounds\n",
      "[100]\tvalid_0's rmse: 5512.42\n",
      "[200]\tvalid_0's rmse: 5306.78\n",
      "[300]\tvalid_0's rmse: 5222.99\n",
      "Early stopping, best iteration is:\n",
      "[351]\tvalid_0's rmse: 5200.13\n"
     ]
    },
    {
     "name": "stderr",
     "output_type": "stream",
     "text": [
      "\u001b[32m[I 2021-04-07 21:10:57,194]\u001b[0m Trial 32 finished with value: 0.19773987216781708 and parameters: {'num_leaves': 121, 'max_bin': 555, 'learning_rate': 0.08643463570682336, 'max_depth': 15, 'min_child_weight': 20, 'feature_fraction': 0.4006941526065617, 'bagging_fraction': 0.7394214415024879, 'bagging_freq': 3, 'min_child_samples': 23, 'lambda_l1': 0.0033386194925449715, 'lambda_l2': 9.445888805596093e-07}. Best is trial 32 with value: 0.19773987216781708.\u001b[0m\n"
     ]
    },
    {
     "name": "stdout",
     "output_type": "stream",
     "text": [
      "RMSE = 0.19773987216781708\n",
      "Training until validation scores don't improve for 10 rounds\n"
     ]
    },
    {
     "name": "stderr",
     "output_type": "stream",
     "text": [
      "D:\\anaconda\\lib\\site-packages\\lightgbm\\engine.py:153: UserWarning: Found `early_stopping_rounds` in params. Will use it instead of argument\n",
      "  warnings.warn(\"Found `{}` in params. Will use it instead of argument\".format(alias))\n"
     ]
    },
    {
     "name": "stdout",
     "output_type": "stream",
     "text": [
      "[100]\tvalid_0's rmse: 5428.82\n",
      "[200]\tvalid_0's rmse: 5224.5\n",
      "[300]\tvalid_0's rmse: 5147.96\n",
      "Early stopping, best iteration is:\n",
      "[333]\tvalid_0's rmse: 5134.95\n"
     ]
    },
    {
     "name": "stderr",
     "output_type": "stream",
     "text": [
      "\u001b[32m[I 2021-04-07 21:11:01,398]\u001b[0m Trial 33 finished with value: 0.19618239091542128 and parameters: {'num_leaves': 240, 'max_bin': 303, 'learning_rate': 0.081069475496264, 'max_depth': 15, 'min_child_weight': 20, 'feature_fraction': 0.4106610275983901, 'bagging_fraction': 0.8146902938899083, 'bagging_freq': 3, 'min_child_samples': 24, 'lambda_l1': 0.027145451787990577, 'lambda_l2': 1.4823481386236423e-07}. Best is trial 33 with value: 0.19618239091542128.\u001b[0m\n"
     ]
    },
    {
     "name": "stdout",
     "output_type": "stream",
     "text": [
      "RMSE = 0.19618239091542128\n",
      "Training until validation scores don't improve for 10 rounds\n"
     ]
    },
    {
     "name": "stderr",
     "output_type": "stream",
     "text": [
      "D:\\anaconda\\lib\\site-packages\\lightgbm\\engine.py:153: UserWarning: Found `early_stopping_rounds` in params. Will use it instead of argument\n",
      "  warnings.warn(\"Found `{}` in params. Will use it instead of argument\".format(alias))\n"
     ]
    },
    {
     "name": "stdout",
     "output_type": "stream",
     "text": [
      "[100]\tvalid_0's rmse: 5431.88\n",
      "[200]\tvalid_0's rmse: 5230.61\n",
      "Early stopping, best iteration is:\n",
      "[280]\tvalid_0's rmse: 5166.8\n"
     ]
    },
    {
     "name": "stderr",
     "output_type": "stream",
     "text": [
      "\u001b[32m[I 2021-04-07 21:11:04,951]\u001b[0m Trial 34 finished with value: 0.19568094286982815 and parameters: {'num_leaves': 226, 'max_bin': 353, 'learning_rate': 0.07989899789890599, 'max_depth': 15, 'min_child_weight': 17, 'feature_fraction': 0.4382476336499678, 'bagging_fraction': 0.8076945699935824, 'bagging_freq': 4, 'min_child_samples': 23, 'lambda_l1': 0.057330078611118135, 'lambda_l2': 1.0782125782357092e-07}. Best is trial 34 with value: 0.19568094286982815.\u001b[0m\n"
     ]
    },
    {
     "name": "stdout",
     "output_type": "stream",
     "text": [
      "RMSE = 0.19568094286982815\n",
      "Training until validation scores don't improve for 10 rounds\n"
     ]
    },
    {
     "name": "stderr",
     "output_type": "stream",
     "text": [
      "D:\\anaconda\\lib\\site-packages\\lightgbm\\engine.py:153: UserWarning: Found `early_stopping_rounds` in params. Will use it instead of argument\n",
      "  warnings.warn(\"Found `{}` in params. Will use it instead of argument\".format(alias))\n"
     ]
    },
    {
     "name": "stdout",
     "output_type": "stream",
     "text": [
      "[100]\tvalid_0's rmse: 5516.42\n",
      "[200]\tvalid_0's rmse: 5267.32\n",
      "[300]\tvalid_0's rmse: 5174.97\n",
      "Early stopping, best iteration is:\n",
      "[376]\tvalid_0's rmse: 5131.73\n"
     ]
    },
    {
     "name": "stderr",
     "output_type": "stream",
     "text": [
      "\u001b[32m[I 2021-04-07 21:11:09,894]\u001b[0m Trial 35 finished with value: 0.19581916910710115 and parameters: {'num_leaves': 238, 'max_bin': 325, 'learning_rate': 0.05862067201606033, 'max_depth': 16, 'min_child_weight': 17, 'feature_fraction': 0.40476578586404516, 'bagging_fraction': 0.8190597316593781, 'bagging_freq': 4, 'min_child_samples': 22, 'lambda_l1': 0.10639341696639468, 'lambda_l2': 1.0744453334071724e-08}. Best is trial 34 with value: 0.19568094286982815.\u001b[0m\n"
     ]
    },
    {
     "name": "stdout",
     "output_type": "stream",
     "text": [
      "RMSE = 0.19581916910710115\n",
      "Training until validation scores don't improve for 10 rounds\n"
     ]
    },
    {
     "name": "stderr",
     "output_type": "stream",
     "text": [
      "D:\\anaconda\\lib\\site-packages\\lightgbm\\engine.py:153: UserWarning: Found `early_stopping_rounds` in params. Will use it instead of argument\n",
      "  warnings.warn(\"Found `{}` in params. Will use it instead of argument\".format(alias))\n"
     ]
    },
    {
     "name": "stdout",
     "output_type": "stream",
     "text": [
      "[100]\tvalid_0's rmse: 5610.91\n",
      "[200]\tvalid_0's rmse: 5311.78\n",
      "[300]\tvalid_0's rmse: 5208.82\n",
      "Early stopping, best iteration is:\n",
      "[374]\tvalid_0's rmse: 5162.28\n"
     ]
    },
    {
     "name": "stderr",
     "output_type": "stream",
     "text": [
      "\u001b[32m[I 2021-04-07 21:11:14,944]\u001b[0m Trial 36 finished with value: 0.19523684566477506 and parameters: {'num_leaves': 247, 'max_bin': 315, 'learning_rate': 0.05081511147306536, 'max_depth': 16, 'min_child_weight': 14, 'feature_fraction': 0.4056427208180806, 'bagging_fraction': 0.843714505232367, 'bagging_freq': 4, 'min_child_samples': 23, 'lambda_l1': 0.17515066737247353, 'lambda_l2': 1.5561254487479307e-08}. Best is trial 36 with value: 0.19523684566477506.\u001b[0m\n"
     ]
    },
    {
     "name": "stdout",
     "output_type": "stream",
     "text": [
      "RMSE = 0.19523684566477506\n",
      "Training until validation scores don't improve for 10 rounds\n"
     ]
    },
    {
     "name": "stderr",
     "output_type": "stream",
     "text": [
      "D:\\anaconda\\lib\\site-packages\\lightgbm\\engine.py:153: UserWarning: Found `early_stopping_rounds` in params. Will use it instead of argument\n",
      "  warnings.warn(\"Found `{}` in params. Will use it instead of argument\".format(alias))\n"
     ]
    },
    {
     "name": "stdout",
     "output_type": "stream",
     "text": [
      "[100]\tvalid_0's rmse: 5618.75\n",
      "[200]\tvalid_0's rmse: 5231.45\n",
      "[300]\tvalid_0's rmse: 5121.66\n",
      "Early stopping, best iteration is:\n",
      "[374]\tvalid_0's rmse: 5078.88\n"
     ]
    },
    {
     "name": "stderr",
     "output_type": "stream",
     "text": [
      "\u001b[32m[I 2021-04-07 21:11:21,455]\u001b[0m Trial 37 finished with value: 0.19288657318778557 and parameters: {'num_leaves': 242, 'max_bin': 318, 'learning_rate': 0.034732468139318504, 'max_depth': 16, 'min_child_weight': 11, 'feature_fraction': 0.4225577199214238, 'bagging_fraction': 0.8313980624773082, 'bagging_freq': 4, 'min_child_samples': 5, 'lambda_l1': 0.9004870201281167, 'lambda_l2': 1.3990007126514752e-08}. Best is trial 37 with value: 0.19288657318778557.\u001b[0m\n"
     ]
    },
    {
     "name": "stdout",
     "output_type": "stream",
     "text": [
      "RMSE = 0.19288657318778557\n",
      "Training until validation scores don't improve for 10 rounds\n"
     ]
    },
    {
     "name": "stderr",
     "output_type": "stream",
     "text": [
      "D:\\anaconda\\lib\\site-packages\\lightgbm\\engine.py:153: UserWarning: Found `early_stopping_rounds` in params. Will use it instead of argument\n",
      "  warnings.warn(\"Found `{}` in params. Will use it instead of argument\".format(alias))\n"
     ]
    },
    {
     "name": "stdout",
     "output_type": "stream",
     "text": [
      "[100]\tvalid_0's rmse: 5833.93\n",
      "[200]\tvalid_0's rmse: 5268.33\n",
      "[300]\tvalid_0's rmse: 5128.41\n",
      "[400]\tvalid_0's rmse: 5075.53\n",
      "Early stopping, best iteration is:\n",
      "[485]\tvalid_0's rmse: 5054.69\n"
     ]
    },
    {
     "name": "stderr",
     "output_type": "stream",
     "text": [
      "\u001b[32m[I 2021-04-07 21:11:29,546]\u001b[0m Trial 38 finished with value: 0.19233938573991183 and parameters: {'num_leaves': 202, 'max_bin': 304, 'learning_rate': 0.026130041139625897, 'max_depth': 16, 'min_child_weight': 8, 'feature_fraction': 0.437314262440174, 'bagging_fraction': 0.8718953355144112, 'bagging_freq': 5, 'min_child_samples': 3, 'lambda_l1': 0.9680158489449745, 'lambda_l2': 1.0640111238137194e-08}. Best is trial 38 with value: 0.19233938573991183.\u001b[0m\n"
     ]
    },
    {
     "name": "stdout",
     "output_type": "stream",
     "text": [
      "RMSE = 0.19233938573991183\n",
      "Training until validation scores don't improve for 10 rounds\n"
     ]
    },
    {
     "name": "stderr",
     "output_type": "stream",
     "text": [
      "D:\\anaconda\\lib\\site-packages\\lightgbm\\engine.py:153: UserWarning: Found `early_stopping_rounds` in params. Will use it instead of argument\n",
      "  warnings.warn(\"Found `{}` in params. Will use it instead of argument\".format(alias))\n"
     ]
    },
    {
     "name": "stdout",
     "output_type": "stream",
     "text": [
      "[100]\tvalid_0's rmse: 5918.03\n",
      "[200]\tvalid_0's rmse: 5290.84\n",
      "[300]\tvalid_0's rmse: 5137.77\n",
      "[400]\tvalid_0's rmse: 5076.95\n",
      "[500]\tvalid_0's rmse: 5045.68\n",
      "Early stopping, best iteration is:\n",
      "[505]\tvalid_0's rmse: 5044.82\n"
     ]
    },
    {
     "name": "stderr",
     "output_type": "stream",
     "text": [
      "\u001b[32m[I 2021-04-07 21:11:37,586]\u001b[0m Trial 39 finished with value: 0.19212143067287824 and parameters: {'num_leaves': 195, 'max_bin': 377, 'learning_rate': 0.024937797693503353, 'max_depth': 16, 'min_child_weight': 8, 'feature_fraction': 0.4387709824225153, 'bagging_fraction': 0.8606613631646807, 'bagging_freq': 5, 'min_child_samples': 5, 'lambda_l1': 0.8560062296916173, 'lambda_l2': 2.1238621948719955e-08}. Best is trial 39 with value: 0.19212143067287824.\u001b[0m\n"
     ]
    },
    {
     "name": "stdout",
     "output_type": "stream",
     "text": [
      "RMSE = 0.19212143067287824\n",
      "Training until validation scores don't improve for 10 rounds\n"
     ]
    },
    {
     "name": "stderr",
     "output_type": "stream",
     "text": [
      "D:\\anaconda\\lib\\site-packages\\lightgbm\\engine.py:153: UserWarning: Found `early_stopping_rounds` in params. Will use it instead of argument\n",
      "  warnings.warn(\"Found `{}` in params. Will use it instead of argument\".format(alias))\n"
     ]
    },
    {
     "name": "stdout",
     "output_type": "stream",
     "text": [
      "[100]\tvalid_0's rmse: 5825.63\n",
      "[200]\tvalid_0's rmse: 5271.28\n",
      "[300]\tvalid_0's rmse: 5156.69\n",
      "Early stopping, best iteration is:\n",
      "[352]\tvalid_0's rmse: 5122.57\n"
     ]
    },
    {
     "name": "stderr",
     "output_type": "stream",
     "text": [
      "\u001b[32m[I 2021-04-07 21:11:48,618]\u001b[0m Trial 40 finished with value: 0.1924283338781488 and parameters: {'num_leaves': 394, 'max_bin': 393, 'learning_rate': 0.021551783865221455, 'max_depth': 16, 'min_child_weight': 7, 'feature_fraction': 0.5231522541673101, 'bagging_fraction': 0.9397796903897234, 'bagging_freq': 5, 'min_child_samples': 5, 'lambda_l1': 0.6479291993872588, 'lambda_l2': 2.9587563446060808e-08}. Best is trial 39 with value: 0.19212143067287824.\u001b[0m\n"
     ]
    },
    {
     "name": "stdout",
     "output_type": "stream",
     "text": [
      "RMSE = 0.1924283338781488\n",
      "Training until validation scores don't improve for 10 rounds\n"
     ]
    },
    {
     "name": "stderr",
     "output_type": "stream",
     "text": [
      "D:\\anaconda\\lib\\site-packages\\lightgbm\\engine.py:153: UserWarning: Found `early_stopping_rounds` in params. Will use it instead of argument\n",
      "  warnings.warn(\"Found `{}` in params. Will use it instead of argument\".format(alias))\n"
     ]
    },
    {
     "name": "stdout",
     "output_type": "stream",
     "text": [
      "[100]\tvalid_0's rmse: 5748.48\n",
      "[200]\tvalid_0's rmse: 5246.42\n",
      "[300]\tvalid_0's rmse: 5139.37\n",
      "Early stopping, best iteration is:\n",
      "[344]\tvalid_0's rmse: 5115.14\n"
     ]
    },
    {
     "name": "stderr",
     "output_type": "stream",
     "text": [
      "\u001b[32m[I 2021-04-07 21:11:59,225]\u001b[0m Trial 41 finished with value: 0.19186365272029549 and parameters: {'num_leaves': 394, 'max_bin': 420, 'learning_rate': 0.023140626781196945, 'max_depth': 16, 'min_child_weight': 7, 'feature_fraction': 0.5147809057738723, 'bagging_fraction': 0.940336841268617, 'bagging_freq': 5, 'min_child_samples': 5, 'lambda_l1': 0.9352732619842081, 'lambda_l2': 3.6753832681080014e-08}. Best is trial 41 with value: 0.19186365272029549.\u001b[0m\n"
     ]
    },
    {
     "name": "stdout",
     "output_type": "stream",
     "text": [
      "RMSE = 0.19186365272029549\n",
      "Training until validation scores don't improve for 10 rounds\n"
     ]
    },
    {
     "name": "stderr",
     "output_type": "stream",
     "text": [
      "D:\\anaconda\\lib\\site-packages\\lightgbm\\engine.py:153: UserWarning: Found `early_stopping_rounds` in params. Will use it instead of argument\n",
      "  warnings.warn(\"Found `{}` in params. Will use it instead of argument\".format(alias))\n"
     ]
    },
    {
     "name": "stdout",
     "output_type": "stream",
     "text": [
      "[100]\tvalid_0's rmse: 5836.27\n",
      "[200]\tvalid_0's rmse: 5277.18\n",
      "[300]\tvalid_0's rmse: 5173.29\n",
      "[400]\tvalid_0's rmse: 5129.42\n",
      "Early stopping, best iteration is:\n",
      "[450]\tvalid_0's rmse: 5117.36\n"
     ]
    },
    {
     "name": "stderr",
     "output_type": "stream",
     "text": [
      "\u001b[32m[I 2021-04-07 21:12:13,568]\u001b[0m Trial 42 finished with value: 0.19161265701754285 and parameters: {'num_leaves': 401, 'max_bin': 408, 'learning_rate': 0.021318953126935786, 'max_depth': 16, 'min_child_weight': 7, 'feature_fraction': 0.5691457723146777, 'bagging_fraction': 0.9412229248601414, 'bagging_freq': 6, 'min_child_samples': 3, 'lambda_l1': 0.5532223029622888, 'lambda_l2': 3.085512432738453e-08}. Best is trial 42 with value: 0.19161265701754285.\u001b[0m\n"
     ]
    },
    {
     "name": "stdout",
     "output_type": "stream",
     "text": [
      "RMSE = 0.19161265701754285\n",
      "Training until validation scores don't improve for 10 rounds\n"
     ]
    },
    {
     "name": "stderr",
     "output_type": "stream",
     "text": [
      "D:\\anaconda\\lib\\site-packages\\lightgbm\\engine.py:153: UserWarning: Found `early_stopping_rounds` in params. Will use it instead of argument\n",
      "  warnings.warn(\"Found `{}` in params. Will use it instead of argument\".format(alias))\n"
     ]
    },
    {
     "name": "stdout",
     "output_type": "stream",
     "text": [
      "[100]\tvalid_0's rmse: 6628.58\n",
      "[200]\tvalid_0's rmse: 5575.87\n",
      "[300]\tvalid_0's rmse: 5324.38\n",
      "[400]\tvalid_0's rmse: 5242.96\n",
      "[500]\tvalid_0's rmse: 5197.74\n",
      "Early stopping, best iteration is:\n",
      "[517]\tvalid_0's rmse: 5192.81\n"
     ]
    },
    {
     "name": "stderr",
     "output_type": "stream",
     "text": [
      "\u001b[32m[I 2021-04-07 21:12:32,483]\u001b[0m Trial 43 finished with value: 0.19386917028782213 and parameters: {'num_leaves': 402, 'max_bin': 401, 'learning_rate': 0.013411846860332475, 'max_depth': 16, 'min_child_weight': 7, 'feature_fraction': 0.6463832065088974, 'bagging_fraction': 0.9339196653054923, 'bagging_freq': 6, 'min_child_samples': 3, 'lambda_l1': 0.37881726917416286, 'lambda_l2': 4.227757678630242e-08}. Best is trial 42 with value: 0.19161265701754285.\u001b[0m\n"
     ]
    },
    {
     "name": "stdout",
     "output_type": "stream",
     "text": [
      "RMSE = 0.19386917028782213\n",
      "Training until validation scores don't improve for 10 rounds\n"
     ]
    },
    {
     "name": "stderr",
     "output_type": "stream",
     "text": [
      "D:\\anaconda\\lib\\site-packages\\lightgbm\\engine.py:153: UserWarning: Found `early_stopping_rounds` in params. Will use it instead of argument\n",
      "  warnings.warn(\"Found `{}` in params. Will use it instead of argument\".format(alias))\n"
     ]
    },
    {
     "name": "stdout",
     "output_type": "stream",
     "text": [
      "[100]\tvalid_0's rmse: 5844.18\n",
      "[200]\tvalid_0's rmse: 5298.96\n",
      "[300]\tvalid_0's rmse: 5189.78\n",
      "[400]\tvalid_0's rmse: 5131.99\n",
      "Early stopping, best iteration is:\n",
      "[472]\tvalid_0's rmse: 5111.5\n"
     ]
    },
    {
     "name": "stderr",
     "output_type": "stream",
     "text": [
      "\u001b[32m[I 2021-04-07 21:12:43,337]\u001b[0m Trial 44 finished with value: 0.19173920731757477 and parameters: {'num_leaves': 372, 'max_bin': 483, 'learning_rate': 0.02370996668918351, 'max_depth': 14, 'min_child_weight': 4, 'feature_fraction': 0.5241824023596996, 'bagging_fraction': 0.9586789445600705, 'bagging_freq': 5, 'min_child_samples': 10, 'lambda_l1': 0.4049818621208878, 'lambda_l2': 3.403175184459814e-08}. Best is trial 42 with value: 0.19161265701754285.\u001b[0m\n"
     ]
    },
    {
     "name": "stdout",
     "output_type": "stream",
     "text": [
      "RMSE = 0.19173920731757477\n",
      "Training until validation scores don't improve for 10 rounds\n"
     ]
    },
    {
     "name": "stderr",
     "output_type": "stream",
     "text": [
      "D:\\anaconda\\lib\\site-packages\\lightgbm\\engine.py:153: UserWarning: Found `early_stopping_rounds` in params. Will use it instead of argument\n",
      "  warnings.warn(\"Found `{}` in params. Will use it instead of argument\".format(alias))\n"
     ]
    },
    {
     "name": "stdout",
     "output_type": "stream",
     "text": [
      "[100]\tvalid_0's rmse: 5655.19\n",
      "[200]\tvalid_0's rmse: 5249.46\n",
      "[300]\tvalid_0's rmse: 5159.18\n",
      "Early stopping, best iteration is:\n",
      "[294]\tvalid_0's rmse: 5157.07\n"
     ]
    },
    {
     "name": "stderr",
     "output_type": "stream",
     "text": [
      "\u001b[32m[I 2021-04-07 21:12:51,582]\u001b[0m Trial 45 finished with value: 0.19439031207890536 and parameters: {'num_leaves': 443, 'max_bin': 503, 'learning_rate': 0.02732034729941681, 'max_depth': 14, 'min_child_weight': 3, 'feature_fraction': 0.5582926288171798, 'bagging_fraction': 0.8752473953858887, 'bagging_freq': 7, 'min_child_samples': 9, 'lambda_l1': 0.33454398027121585, 'lambda_l2': 3.3666965795659504e-08}. Best is trial 42 with value: 0.19161265701754285.\u001b[0m\n"
     ]
    },
    {
     "name": "stdout",
     "output_type": "stream",
     "text": [
      "RMSE = 0.19439031207890536\n",
      "Training until validation scores don't improve for 10 rounds\n"
     ]
    },
    {
     "name": "stderr",
     "output_type": "stream",
     "text": [
      "D:\\anaconda\\lib\\site-packages\\lightgbm\\engine.py:153: UserWarning: Found `early_stopping_rounds` in params. Will use it instead of argument\n",
      "  warnings.warn(\"Found `{}` in params. Will use it instead of argument\".format(alias))\n"
     ]
    },
    {
     "name": "stdout",
     "output_type": "stream",
     "text": [
      "[100]\tvalid_0's rmse: 6798.79\n",
      "[200]\tvalid_0's rmse: 5781.68\n",
      "[300]\tvalid_0's rmse: 5475.47\n",
      "[400]\tvalid_0's rmse: 5347.7\n",
      "[500]\tvalid_0's rmse: 5270.41\n",
      "[600]\tvalid_0's rmse: 5223.58\n",
      "[700]\tvalid_0's rmse: 5193.74\n",
      "[800]\tvalid_0's rmse: 5173.29\n",
      "Did not meet early stopping. Best iteration is:\n",
      "[800]\tvalid_0's rmse: 5173.29\n"
     ]
    },
    {
     "name": "stderr",
     "output_type": "stream",
     "text": [
      "\u001b[32m[I 2021-04-07 21:13:06,026]\u001b[0m Trial 46 finished with value: 0.1945938073032861 and parameters: {'num_leaves': 356, 'max_bin': 467, 'learning_rate': 0.014378427169730873, 'max_depth': 13, 'min_child_weight': 5, 'feature_fraction': 0.7024332576366118, 'bagging_fraction': 0.9612332718873409, 'bagging_freq': 6, 'min_child_samples': 16, 'lambda_l1': 0.018038812934847145, 'lambda_l2': 1.13001859418805e-08}. Best is trial 42 with value: 0.19161265701754285.\u001b[0m\n"
     ]
    },
    {
     "name": "stdout",
     "output_type": "stream",
     "text": [
      "RMSE = 0.1945938073032861\n",
      "Training until validation scores don't improve for 10 rounds\n"
     ]
    },
    {
     "name": "stderr",
     "output_type": "stream",
     "text": [
      "D:\\anaconda\\lib\\site-packages\\lightgbm\\engine.py:153: UserWarning: Found `early_stopping_rounds` in params. Will use it instead of argument\n",
      "  warnings.warn(\"Found `{}` in params. Will use it instead of argument\".format(alias))\n"
     ]
    },
    {
     "name": "stdout",
     "output_type": "stream",
     "text": [
      "[100]\tvalid_0's rmse: 8931.96\n",
      "[200]\tvalid_0's rmse: 7329.52\n",
      "[300]\tvalid_0's rmse: 6463.06\n",
      "[400]\tvalid_0's rmse: 5976.59\n",
      "[500]\tvalid_0's rmse: 5687.65\n",
      "[600]\tvalid_0's rmse: 5514.22\n",
      "[700]\tvalid_0's rmse: 5406.73\n",
      "[800]\tvalid_0's rmse: 5335.27\n",
      "Did not meet early stopping. Best iteration is:\n",
      "[800]\tvalid_0's rmse: 5335.27\n"
     ]
    },
    {
     "name": "stderr",
     "output_type": "stream",
     "text": [
      "\u001b[32m[I 2021-04-07 21:13:32,511]\u001b[0m Trial 47 finished with value: 0.2039724955561421 and parameters: {'num_leaves': 423, 'max_bin': 546, 'learning_rate': 0.005113396663237926, 'max_depth': 14, 'min_child_weight': 8, 'feature_fraction': 0.5725428280245497, 'bagging_fraction': 0.9152917746461109, 'bagging_freq': 5, 'min_child_samples': 9, 'lambda_l1': 0.24986287987656233, 'lambda_l2': 5.7358631292495593e-08}. Best is trial 42 with value: 0.19161265701754285.\u001b[0m\n"
     ]
    },
    {
     "name": "stdout",
     "output_type": "stream",
     "text": [
      "RMSE = 0.2039724955561421\n",
      "Training until validation scores don't improve for 10 rounds\n"
     ]
    },
    {
     "name": "stderr",
     "output_type": "stream",
     "text": [
      "D:\\anaconda\\lib\\site-packages\\lightgbm\\engine.py:153: UserWarning: Found `early_stopping_rounds` in params. Will use it instead of argument\n",
      "  warnings.warn(\"Found `{}` in params. Will use it instead of argument\".format(alias))\n"
     ]
    },
    {
     "name": "stdout",
     "output_type": "stream",
     "text": [
      "[100]\tvalid_0's rmse: 5307.26\n",
      "Early stopping, best iteration is:\n",
      "[185]\tvalid_0's rmse: 5153.54\n"
     ]
    },
    {
     "name": "stderr",
     "output_type": "stream",
     "text": [
      "\u001b[32m[I 2021-04-07 21:13:39,309]\u001b[0m Trial 48 finished with value: 0.1944579787706642 and parameters: {'num_leaves': 376, 'max_bin': 445, 'learning_rate': 0.03854615041586967, 'max_depth': 16, 'min_child_weight': 5, 'feature_fraction': 0.6245773634909102, 'bagging_fraction': 0.8759648833831511, 'bagging_freq': 5, 'min_child_samples': 3, 'lambda_l1': 0.5868376936042576, 'lambda_l2': 1.6992738833748812e-07}. Best is trial 42 with value: 0.19161265701754285.\u001b[0m\n"
     ]
    },
    {
     "name": "stdout",
     "output_type": "stream",
     "text": [
      "RMSE = 0.1944579787706642\n",
      "Training until validation scores don't improve for 10 rounds\n"
     ]
    },
    {
     "name": "stderr",
     "output_type": "stream",
     "text": [
      "D:\\anaconda\\lib\\site-packages\\lightgbm\\engine.py:153: UserWarning: Found `early_stopping_rounds` in params. Will use it instead of argument\n",
      "  warnings.warn(\"Found `{}` in params. Will use it instead of argument\".format(alias))\n"
     ]
    },
    {
     "name": "stdout",
     "output_type": "stream",
     "text": [
      "[100]\tvalid_0's rmse: 6009.63\n",
      "[200]\tvalid_0's rmse: 5413.69\n",
      "[300]\tvalid_0's rmse: 5246.95\n",
      "[400]\tvalid_0's rmse: 5171.26\n",
      "[500]\tvalid_0's rmse: 5133.75\n",
      "Early stopping, best iteration is:\n",
      "[511]\tvalid_0's rmse: 5130.06\n"
     ]
    },
    {
     "name": "stderr",
     "output_type": "stream",
     "text": [
      "\u001b[32m[I 2021-04-07 21:13:46,618]\u001b[0m Trial 49 finished with value: 0.19432256215411145 and parameters: {'num_leaves': 191, 'max_bin': 665, 'learning_rate': 0.025873119677648965, 'max_depth': 13, 'min_child_weight': 9, 'feature_fraction': 0.5116860341407603, 'bagging_fraction': 0.9608145740667684, 'bagging_freq': 7, 'min_child_samples': 12, 'lambda_l1': 0.03429637804856488, 'lambda_l2': 2.3914556364529245e-08}. Best is trial 42 with value: 0.19161265701754285.\u001b[0m\n"
     ]
    },
    {
     "name": "stdout",
     "output_type": "stream",
     "text": [
      "RMSE = 0.19432256215411145\n"
     ]
    }
   ],
   "source": [
    "study = optuna.create_study(direction = 'minimize')\n",
    "study.optimize(objective, n_trials = 50)"
   ]
  },
  {
   "cell_type": "code",
   "execution_count": 29,
   "metadata": {},
   "outputs": [
    {
     "name": "stdout",
     "output_type": "stream",
     "text": [
      "Trials : 50\n",
      "Best Trial : FrozenTrial(number=42, values=[0.19161265701754285], datetime_start=datetime.datetime(2021, 4, 7, 21, 11, 59, 227638), datetime_complete=datetime.datetime(2021, 4, 7, 21, 12, 13, 567801), params={'num_leaves': 401, 'max_bin': 408, 'learning_rate': 0.021318953126935786, 'max_depth': 16, 'min_child_weight': 7, 'feature_fraction': 0.5691457723146777, 'bagging_fraction': 0.9412229248601414, 'bagging_freq': 6, 'min_child_samples': 3, 'lambda_l1': 0.5532223029622888, 'lambda_l2': 3.085512432738453e-08}, distributions={'num_leaves': IntUniformDistribution(high=712, low=22, step=1), 'max_bin': IntUniformDistribution(high=1400, low=300, step=1), 'learning_rate': UniformDistribution(high=0.2, low=0.005), 'max_depth': IntUniformDistribution(high=16, low=4, step=1), 'min_child_weight': IntUniformDistribution(high=21, low=1, step=1), 'feature_fraction': UniformDistribution(high=1.0, low=0.4), 'bagging_fraction': UniformDistribution(high=1.0, low=0.4), 'bagging_freq': IntUniformDistribution(high=9, low=1, step=1), 'min_child_samples': IntUniformDistribution(high=100, low=3, step=1), 'lambda_l1': LogUniformDistribution(high=1.0, low=1e-08), 'lambda_l2': LogUniformDistribution(high=1.0, low=1e-08)}, user_attrs={}, system_attrs={}, intermediate_values={}, trial_id=42, state=TrialState.COMPLETE, value=None)\n",
      "num_leaves : 401\n",
      "max_bin : 408\n",
      "learning_rate : 0.021318953126935786\n",
      "max_depth : 16\n",
      "min_child_weight : 7\n",
      "feature_fraction : 0.5691457723146777\n",
      "bagging_fraction : 0.9412229248601414\n",
      "bagging_freq : 6\n",
      "min_child_samples : 3\n",
      "lambda_l1 : 0.5532223029622888\n",
      "lambda_l2 : 3.085512432738453e-08\n",
      "0.19161265701754285\n"
     ]
    }
   ],
   "source": [
    "print(f\"Trials : {len(study.trials)}\")\n",
    "print(f\"Best Trial : {study.best_trial}\")\n",
    "best = study.best_trial\n",
    "for i, j in best.params.items():\n",
    "    print(f\"{i} : {j}\")\n",
    "print(f\"{best.value}\")"
   ]
  },
  {
   "cell_type": "code",
   "execution_count": 30,
   "metadata": {},
   "outputs": [],
   "source": [
    "best_params = best.params"
   ]
  },
  {
   "cell_type": "code",
   "execution_count": 31,
   "metadata": {},
   "outputs": [],
   "source": [
    "# import lightgbm as lgb\n",
    "# clf = lgb.LGBMRegressor(num_leaves=518, max_bin=977, learning_rate=0.09589516484557261, max_depth=16,\n",
    "# min_child_weight=19, feature_fraction=0.4732473309305756, bagging_fraction=0.8008306898471094, bagging_freq=2,\n",
    "# min_child_samples=10, lambda_l1=0.16826161916103674, lambda_l2=6.144181314245369e-05)\n",
    "# clf.fit(X_train, y_train)"
   ]
  },
  {
   "cell_type": "code",
   "execution_count": 32,
   "metadata": {},
   "outputs": [],
   "source": [
    "# pred = clf.predict(X_test)\n",
    "\n",
    "# from sklearn.metrics import r2_score\n",
    "# print(r2_score(y_test, pred))"
   ]
  },
  {
   "cell_type": "code",
   "execution_count": 33,
   "metadata": {},
   "outputs": [],
   "source": [
    "# from sklearn.metrics import mean_squared_log_error\n",
    "# np.sqrt(mean_squared_log_error(y_test, pred))"
   ]
  },
  {
   "cell_type": "code",
   "execution_count": 34,
   "metadata": {},
   "outputs": [],
   "source": [
    "# prediction = clf.predict(df_Test)\n",
    "# prediction"
   ]
  },
  {
   "cell_type": "code",
   "execution_count": 35,
   "metadata": {},
   "outputs": [],
   "source": [
    "# output = pd.DataFrame({'Per Person Price': prediction})\n",
    "# output.to_csv('WorkathonStarterSubmission_06_V2.csv', index=False)"
   ]
  },
  {
   "cell_type": "code",
   "execution_count": null,
   "metadata": {},
   "outputs": [],
   "source": []
  }
 ],
 "metadata": {
  "kernelspec": {
   "display_name": "Python 3",
   "language": "python",
   "name": "python3"
  },
  "language_info": {
   "codemirror_mode": {
    "name": "ipython",
    "version": 3
   },
   "file_extension": ".py",
   "mimetype": "text/x-python",
   "name": "python",
   "nbconvert_exporter": "python",
   "pygments_lexer": "ipython3",
   "version": "3.7.6"
  }
 },
 "nbformat": 4,
 "nbformat_minor": 4
}
